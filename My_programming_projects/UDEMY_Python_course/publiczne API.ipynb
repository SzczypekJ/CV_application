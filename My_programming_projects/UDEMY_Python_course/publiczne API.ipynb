{
 "cells": [
  {
   "cell_type": "markdown",
   "metadata": {},
   "source": [
    "## Interesują mnie pytania które: mają minimalnie 15 pkt, posegregowane malejąco, z ostatniego tygadnia, kategoria Python\n",
    "\n",
    "## Otwieranie stron"
   ]
  },
  {
   "cell_type": "code",
   "execution_count": 1,
   "metadata": {},
   "outputs": [],
   "source": [
    "import requests\n",
    "import json\n",
    "import pprint\n",
    "import webbrowser\n",
    "\n",
    "\n",
    "# Nie było żadnego pytania ze score większym od 12 więc ustawiłem sobie 10 zamiast 15\n",
    "params = {\n",
    "    \"site\" : \"stackoverflow\",\n",
    "    \"sort\" : \"votes\",\n",
    "    \"order\" : \"desc\",\n",
    "    \"fromdate\" : \"2023-10-24\",\n",
    "    \"tagged\" : \"python\",\n",
    "    \"min\" : 10\n",
    "}\n",
    "\n",
    "r = requests.get(\"https://api.stackexchange.com/2.3/questions/\", params)\n",
    "\n",
    "try:\n",
    "    questions = r.json()\n",
    "except json.decoder.JSONDecodeError:\n",
    "    print(\"Nie poprawny format\")\n",
    "else:\n",
    "    for question in questions[\"items\"]:\n",
    "        webbrowser.open_new_tab(question[\"link\"])"
   ]
  },
  {
   "cell_type": "markdown",
   "metadata": {},
   "source": [
    "## Ulepszenie powyższego kodu - automatyczna generacja czasu"
   ]
  },
  {
   "cell_type": "code",
   "execution_count": 13,
   "metadata": {},
   "outputs": [
    {
     "name": "stdout",
     "output_type": "stream",
     "text": [
      "{'answer_count': 5,\n",
      " 'content_license': 'CC BY-SA 4.0',\n",
      " 'creation_date': 1698724679,\n",
      " 'is_answered': True,\n",
      " 'last_activity_date': 1698741368,\n",
      " 'last_edit_date': 1698724733,\n",
      " 'link': 'https://stackoverflow.com/questions/77393107/python-telegram-bot-not-enough-rights-to-send-text-to-the-chat',\n",
      " 'owner': {'account_id': 19332696,\n",
      "           'display_name': 'Myke',\n",
      "           'link': 'https://stackoverflow.com/users/20988272/myke',\n",
      "           'profile_image': 'https://www.gravatar.com/avatar/c57f19ff8b0217933e98d63468ac7b2f?s=256&d=identicon&r=PG&f=y&so-version=2',\n",
      "           'reputation': 129,\n",
      "           'user_id': 20988272,\n",
      "           'user_type': 'registered'},\n",
      " 'protected_date': 1698726361,\n",
      " 'question_id': 77393107,\n",
      " 'score': 12,\n",
      " 'tags': ['python', 'telegram', 'python-telegram-bot', 'pytz'],\n",
      " 'title': 'python-telegram-bot Not enough rights to send text to the chat',\n",
      " 'view_count': 3377}\n"
     ]
    }
   ],
   "source": [
    "from datetime import datetime, timedelta\n",
    "\n",
    "time_before = timedelta(days=7)\n",
    "searchdate = datetime.today() - time_before\n",
    "\n",
    "# Nie było żadnego pytania ze score większym od 12 więc ustawiłem sobie 10 zamiast 15\n",
    "params = {\n",
    "    \"site\" : \"stackoverflow\",\n",
    "    \"sort\" : \"votes\",\n",
    "    \"order\" : \"desc\",\n",
    "    \"fromdate\" : int(searchdate.timestamp()),\n",
    "    \"tagged\" : \"python\",\n",
    "    \"min\" : 10\n",
    "}\n",
    "\n",
    "r = requests.get(\"https://api.stackexchange.com/2.3/questions/\", params)\n",
    "\n",
    "try:\n",
    "    questions = r.json()\n",
    "except json.decoder.JSONDecodeError:\n",
    "    print(\"Nie poprawny format\")\n",
    "else:\n",
    "    for question in questions[\"items\"]:\n",
    "        webbrowser.open_new_tab(question[\"link\"])"
   ]
  },
  {
   "cell_type": "markdown",
   "metadata": {},
   "source": [
    "## Połączenie się oraz praca z API - codzienne fakty o kotach\n",
    "Nie wiem czemu ale strona się nie włącza :("
   ]
  },
  {
   "cell_type": "code",
   "execution_count": 2,
   "metadata": {},
   "outputs": [
    {
     "name": "stdout",
     "output_type": "stream",
     "text": [
      "503\n",
      "<!DOCTYPE html>\n",
      "\t<html>\n",
      "\t  <head>\n",
      "\t\t<meta name=\"viewport\" content=\"width=device-width, initial-scale=1\">\n",
      "\t\t<meta charset=\"utf-8\">\n",
      "\t\t<title>Application Error</title>\n",
      "\t\t<style media=\"screen\">\n",
      "\t\t  html,body,iframe {\n",
      "\t\t\tmargin: 0;\n",
      "\t\t\tpadding: 0;\n",
      "\t\t  }\n",
      "\t\t  html,body {\n",
      "\t\t\theight: 100%;\n",
      "\t\t\toverflow: hidden;\n",
      "\t\t  }\n",
      "\t\t  iframe {\n",
      "\t\t\twidth: 100%;\n",
      "\t\t\theight: 100%;\n",
      "\t\t\tborder: 0;\n",
      "\t\t  }\n",
      "\t\t</style>\n",
      "\t  </head>\n",
      "\t  <body>\n",
      "\t\t<iframe src=\"//www.herokucdn.com/error-pages/application-error.html\"></iframe>\n",
      "\t  </body>\n",
      "\t</html>\n"
     ]
    },
    {
     "ename": "JSONDecodeError",
     "evalue": "Expecting value: line 1 column 1 (char 0)",
     "output_type": "error",
     "traceback": [
      "\u001b[1;31m---------------------------------------------------------------------------\u001b[0m",
      "\u001b[1;31mJSONDecodeError\u001b[0m                           Traceback (most recent call last)",
      "File \u001b[1;32mc:\\Users\\szczy\\anaconda3\\lib\\site-packages\\requests\\models.py:971\u001b[0m, in \u001b[0;36mResponse.json\u001b[1;34m(self, **kwargs)\u001b[0m\n\u001b[0;32m    970\u001b[0m \u001b[39mtry\u001b[39;00m:\n\u001b[1;32m--> 971\u001b[0m     \u001b[39mreturn\u001b[39;00m complexjson\u001b[39m.\u001b[39mloads(\u001b[39mself\u001b[39m\u001b[39m.\u001b[39mtext, \u001b[39m*\u001b[39m\u001b[39m*\u001b[39mkwargs)\n\u001b[0;32m    972\u001b[0m \u001b[39mexcept\u001b[39;00m JSONDecodeError \u001b[39mas\u001b[39;00m e:\n\u001b[0;32m    973\u001b[0m     \u001b[39m# Catch JSON-related errors and raise as requests.JSONDecodeError\u001b[39;00m\n\u001b[0;32m    974\u001b[0m     \u001b[39m# This aliases json.JSONDecodeError and simplejson.JSONDecodeError\u001b[39;00m\n",
      "File \u001b[1;32mc:\\Users\\szczy\\anaconda3\\lib\\site-packages\\simplejson\\__init__.py:514\u001b[0m, in \u001b[0;36mloads\u001b[1;34m(s, encoding, cls, object_hook, parse_float, parse_int, parse_constant, object_pairs_hook, use_decimal, allow_nan, **kw)\u001b[0m\n\u001b[0;32m    510\u001b[0m \u001b[39mif\u001b[39;00m (\u001b[39mcls\u001b[39m \u001b[39mis\u001b[39;00m \u001b[39mNone\u001b[39;00m \u001b[39mand\u001b[39;00m encoding \u001b[39mis\u001b[39;00m \u001b[39mNone\u001b[39;00m \u001b[39mand\u001b[39;00m object_hook \u001b[39mis\u001b[39;00m \u001b[39mNone\u001b[39;00m \u001b[39mand\u001b[39;00m\n\u001b[0;32m    511\u001b[0m         parse_int \u001b[39mis\u001b[39;00m \u001b[39mNone\u001b[39;00m \u001b[39mand\u001b[39;00m parse_float \u001b[39mis\u001b[39;00m \u001b[39mNone\u001b[39;00m \u001b[39mand\u001b[39;00m\n\u001b[0;32m    512\u001b[0m         parse_constant \u001b[39mis\u001b[39;00m \u001b[39mNone\u001b[39;00m \u001b[39mand\u001b[39;00m object_pairs_hook \u001b[39mis\u001b[39;00m \u001b[39mNone\u001b[39;00m\n\u001b[0;32m    513\u001b[0m         \u001b[39mand\u001b[39;00m \u001b[39mnot\u001b[39;00m use_decimal \u001b[39mand\u001b[39;00m \u001b[39mnot\u001b[39;00m allow_nan \u001b[39mand\u001b[39;00m \u001b[39mnot\u001b[39;00m kw):\n\u001b[1;32m--> 514\u001b[0m     \u001b[39mreturn\u001b[39;00m _default_decoder\u001b[39m.\u001b[39;49mdecode(s)\n\u001b[0;32m    515\u001b[0m \u001b[39mif\u001b[39;00m \u001b[39mcls\u001b[39m \u001b[39mis\u001b[39;00m \u001b[39mNone\u001b[39;00m:\n",
      "File \u001b[1;32mc:\\Users\\szczy\\anaconda3\\lib\\site-packages\\simplejson\\decoder.py:386\u001b[0m, in \u001b[0;36mJSONDecoder.decode\u001b[1;34m(self, s, _w, _PY3)\u001b[0m\n\u001b[0;32m    385\u001b[0m     s \u001b[39m=\u001b[39m \u001b[39mstr\u001b[39m(s, \u001b[39mself\u001b[39m\u001b[39m.\u001b[39mencoding)\n\u001b[1;32m--> 386\u001b[0m obj, end \u001b[39m=\u001b[39m \u001b[39mself\u001b[39;49m\u001b[39m.\u001b[39;49mraw_decode(s)\n\u001b[0;32m    387\u001b[0m end \u001b[39m=\u001b[39m _w(s, end)\u001b[39m.\u001b[39mend()\n",
      "File \u001b[1;32mc:\\Users\\szczy\\anaconda3\\lib\\site-packages\\simplejson\\decoder.py:416\u001b[0m, in \u001b[0;36mJSONDecoder.raw_decode\u001b[1;34m(self, s, idx, _w, _PY3)\u001b[0m\n\u001b[0;32m    415\u001b[0m         idx \u001b[39m+\u001b[39m\u001b[39m=\u001b[39m \u001b[39m3\u001b[39m\n\u001b[1;32m--> 416\u001b[0m \u001b[39mreturn\u001b[39;00m \u001b[39mself\u001b[39;49m\u001b[39m.\u001b[39;49mscan_once(s, idx\u001b[39m=\u001b[39;49m_w(s, idx)\u001b[39m.\u001b[39;49mend())\n",
      "\u001b[1;31mJSONDecodeError\u001b[0m: Expecting value: line 1 column 1 (char 0)",
      "\nDuring handling of the above exception, another exception occurred:\n",
      "\u001b[1;31mJSONDecodeError\u001b[0m                           Traceback (most recent call last)",
      "\u001b[1;32mc:\\Users\\szczy\\Desktop\\STUDIA\\dodat\\publiczne API.ipynb Cell 6\u001b[0m line \u001b[0;36m1\n\u001b[0;32m     <a href='vscode-notebook-cell:/c%3A/Users/szczy/Desktop/STUDIA/dodat/publiczne%20API.ipynb#W5sZmlsZQ%3D%3D?line=12'>13</a>\u001b[0m \u001b[39mprint\u001b[39m(r\u001b[39m.\u001b[39mtext)\n\u001b[0;32m     <a href='vscode-notebook-cell:/c%3A/Users/szczy/Desktop/STUDIA/dodat/publiczne%20API.ipynb#W5sZmlsZQ%3D%3D?line=14'>15</a>\u001b[0m \u001b[39mtry\u001b[39;00m:\n\u001b[1;32m---> <a href='vscode-notebook-cell:/c%3A/Users/szczy/Desktop/STUDIA/dodat/publiczne%20API.ipynb#W5sZmlsZQ%3D%3D?line=15'>16</a>\u001b[0m     content \u001b[39m=\u001b[39m r\u001b[39m.\u001b[39;49mjson()\n\u001b[0;32m     <a href='vscode-notebook-cell:/c%3A/Users/szczy/Desktop/STUDIA/dodat/publiczne%20API.ipynb#W5sZmlsZQ%3D%3D?line=16'>17</a>\u001b[0m \u001b[39mexcept\u001b[39;00m json\u001b[39m.\u001b[39mdecoder\u001b[39m.\u001b[39mJSONDecodeError:\n\u001b[0;32m     <a href='vscode-notebook-cell:/c%3A/Users/szczy/Desktop/STUDIA/dodat/publiczne%20API.ipynb#W5sZmlsZQ%3D%3D?line=17'>18</a>\u001b[0m     \u001b[39mprint\u001b[39m(\u001b[39m\"\u001b[39m\u001b[39mNie poprawny format\u001b[39m\u001b[39m\"\u001b[39m)\n",
      "File \u001b[1;32mc:\\Users\\szczy\\anaconda3\\lib\\site-packages\\requests\\models.py:975\u001b[0m, in \u001b[0;36mResponse.json\u001b[1;34m(self, **kwargs)\u001b[0m\n\u001b[0;32m    971\u001b[0m     \u001b[39mreturn\u001b[39;00m complexjson\u001b[39m.\u001b[39mloads(\u001b[39mself\u001b[39m\u001b[39m.\u001b[39mtext, \u001b[39m*\u001b[39m\u001b[39m*\u001b[39mkwargs)\n\u001b[0;32m    972\u001b[0m \u001b[39mexcept\u001b[39;00m JSONDecodeError \u001b[39mas\u001b[39;00m e:\n\u001b[0;32m    973\u001b[0m     \u001b[39m# Catch JSON-related errors and raise as requests.JSONDecodeError\u001b[39;00m\n\u001b[0;32m    974\u001b[0m     \u001b[39m# This aliases json.JSONDecodeError and simplejson.JSONDecodeError\u001b[39;00m\n\u001b[1;32m--> 975\u001b[0m     \u001b[39mraise\u001b[39;00m RequestsJSONDecodeError(e\u001b[39m.\u001b[39mmsg, e\u001b[39m.\u001b[39mdoc, e\u001b[39m.\u001b[39mpos)\n",
      "\u001b[1;31mJSONDecodeError\u001b[0m: Expecting value: line 1 column 1 (char 0)"
     ]
    }
   ],
   "source": [
    "import json\n",
    "import requests\n",
    "from pprint import pprint\n",
    "\n",
    "params = {\n",
    "    \"amount\" : 5,\n",
    "    \"animal_type\" : \"dog\"\n",
    "}\n",
    "\n",
    "\n",
    "r = requests.get(\"https://cat-fact.herokuapp.com/facts/random\", params)\n",
    "print(r.status_code)\n",
    "print(r.text)\n",
    "\n",
    "try:\n",
    "    content = r.json()\n",
    "except json.decoder.JSONDecodeError:\n",
    "    print(\"Nie poprawny format\")\n",
    "else:\n",
    "    for cat in content:\n",
    "        print(cat[\"text\"])"
   ]
  },
  {
   "cell_type": "code",
   "execution_count": 5,
   "metadata": {},
   "outputs": [
    {
     "name": "stdout",
     "output_type": "stream",
     "text": [
      "Choose which animal you want to get some facts about:\n",
      "1 - cat\n",
      "2 - dog\n",
      "3 - horse\n"
     ]
    },
    {
     "ename": "JSONDecodeError",
     "evalue": "Expecting value: line 1 column 1 (char 0)",
     "output_type": "error",
     "traceback": [
      "\u001b[1;31m---------------------------------------------------------------------------\u001b[0m",
      "\u001b[1;31mJSONDecodeError\u001b[0m                           Traceback (most recent call last)",
      "File \u001b[1;32mc:\\Users\\szczy\\anaconda3\\lib\\site-packages\\requests\\models.py:971\u001b[0m, in \u001b[0;36mResponse.json\u001b[1;34m(self, **kwargs)\u001b[0m\n\u001b[0;32m    970\u001b[0m \u001b[39mtry\u001b[39;00m:\n\u001b[1;32m--> 971\u001b[0m     \u001b[39mreturn\u001b[39;00m complexjson\u001b[39m.\u001b[39mloads(\u001b[39mself\u001b[39m\u001b[39m.\u001b[39mtext, \u001b[39m*\u001b[39m\u001b[39m*\u001b[39mkwargs)\n\u001b[0;32m    972\u001b[0m \u001b[39mexcept\u001b[39;00m JSONDecodeError \u001b[39mas\u001b[39;00m e:\n\u001b[0;32m    973\u001b[0m     \u001b[39m# Catch JSON-related errors and raise as requests.JSONDecodeError\u001b[39;00m\n\u001b[0;32m    974\u001b[0m     \u001b[39m# This aliases json.JSONDecodeError and simplejson.JSONDecodeError\u001b[39;00m\n",
      "File \u001b[1;32mc:\\Users\\szczy\\anaconda3\\lib\\site-packages\\simplejson\\__init__.py:514\u001b[0m, in \u001b[0;36mloads\u001b[1;34m(s, encoding, cls, object_hook, parse_float, parse_int, parse_constant, object_pairs_hook, use_decimal, allow_nan, **kw)\u001b[0m\n\u001b[0;32m    510\u001b[0m \u001b[39mif\u001b[39;00m (\u001b[39mcls\u001b[39m \u001b[39mis\u001b[39;00m \u001b[39mNone\u001b[39;00m \u001b[39mand\u001b[39;00m encoding \u001b[39mis\u001b[39;00m \u001b[39mNone\u001b[39;00m \u001b[39mand\u001b[39;00m object_hook \u001b[39mis\u001b[39;00m \u001b[39mNone\u001b[39;00m \u001b[39mand\u001b[39;00m\n\u001b[0;32m    511\u001b[0m         parse_int \u001b[39mis\u001b[39;00m \u001b[39mNone\u001b[39;00m \u001b[39mand\u001b[39;00m parse_float \u001b[39mis\u001b[39;00m \u001b[39mNone\u001b[39;00m \u001b[39mand\u001b[39;00m\n\u001b[0;32m    512\u001b[0m         parse_constant \u001b[39mis\u001b[39;00m \u001b[39mNone\u001b[39;00m \u001b[39mand\u001b[39;00m object_pairs_hook \u001b[39mis\u001b[39;00m \u001b[39mNone\u001b[39;00m\n\u001b[0;32m    513\u001b[0m         \u001b[39mand\u001b[39;00m \u001b[39mnot\u001b[39;00m use_decimal \u001b[39mand\u001b[39;00m \u001b[39mnot\u001b[39;00m allow_nan \u001b[39mand\u001b[39;00m \u001b[39mnot\u001b[39;00m kw):\n\u001b[1;32m--> 514\u001b[0m     \u001b[39mreturn\u001b[39;00m _default_decoder\u001b[39m.\u001b[39;49mdecode(s)\n\u001b[0;32m    515\u001b[0m \u001b[39mif\u001b[39;00m \u001b[39mcls\u001b[39m \u001b[39mis\u001b[39;00m \u001b[39mNone\u001b[39;00m:\n",
      "File \u001b[1;32mc:\\Users\\szczy\\anaconda3\\lib\\site-packages\\simplejson\\decoder.py:386\u001b[0m, in \u001b[0;36mJSONDecoder.decode\u001b[1;34m(self, s, _w, _PY3)\u001b[0m\n\u001b[0;32m    385\u001b[0m     s \u001b[39m=\u001b[39m \u001b[39mstr\u001b[39m(s, \u001b[39mself\u001b[39m\u001b[39m.\u001b[39mencoding)\n\u001b[1;32m--> 386\u001b[0m obj, end \u001b[39m=\u001b[39m \u001b[39mself\u001b[39;49m\u001b[39m.\u001b[39;49mraw_decode(s)\n\u001b[0;32m    387\u001b[0m end \u001b[39m=\u001b[39m _w(s, end)\u001b[39m.\u001b[39mend()\n",
      "File \u001b[1;32mc:\\Users\\szczy\\anaconda3\\lib\\site-packages\\simplejson\\decoder.py:416\u001b[0m, in \u001b[0;36mJSONDecoder.raw_decode\u001b[1;34m(self, s, idx, _w, _PY3)\u001b[0m\n\u001b[0;32m    415\u001b[0m         idx \u001b[39m+\u001b[39m\u001b[39m=\u001b[39m \u001b[39m3\u001b[39m\n\u001b[1;32m--> 416\u001b[0m \u001b[39mreturn\u001b[39;00m \u001b[39mself\u001b[39;49m\u001b[39m.\u001b[39;49mscan_once(s, idx\u001b[39m=\u001b[39;49m_w(s, idx)\u001b[39m.\u001b[39;49mend())\n",
      "\u001b[1;31mJSONDecodeError\u001b[0m: Expecting value: line 1 column 1 (char 0)",
      "\nDuring handling of the above exception, another exception occurred:\n",
      "\u001b[1;31mJSONDecodeError\u001b[0m                           Traceback (most recent call last)",
      "\u001b[1;32mc:\\Users\\szczy\\Desktop\\STUDIA\\dodat\\publiczne API.ipynb Cell 7\u001b[0m line \u001b[0;36m3\n\u001b[0;32m     <a href='vscode-notebook-cell:/c%3A/Users/szczy/Desktop/STUDIA/dodat/publiczne%20API.ipynb#X11sZmlsZQ%3D%3D?line=29'>30</a>\u001b[0m              \u001b[39mprint\u001b[39m(\u001b[39mstr\u001b[39m(i) \u001b[39m+\u001b[39m \u001b[39m\"\u001b[39m\u001b[39m. \u001b[39m\u001b[39m\"\u001b[39m \u001b[39m+\u001b[39m fact[\u001b[39m\"\u001b[39m\u001b[39mtext\u001b[39m\u001b[39m\"\u001b[39m])\n\u001b[0;32m     <a href='vscode-notebook-cell:/c%3A/Users/szczy/Desktop/STUDIA/dodat/publiczne%20API.ipynb#X11sZmlsZQ%3D%3D?line=30'>31</a>\u001b[0m              i \u001b[39m=\u001b[39m i \u001b[39m+\u001b[39m \u001b[39m1\u001b[39m\n\u001b[1;32m---> <a href='vscode-notebook-cell:/c%3A/Users/szczy/Desktop/STUDIA/dodat/publiczne%20API.ipynb#X11sZmlsZQ%3D%3D?line=32'>33</a>\u001b[0m animal_facts(\u001b[39m5\u001b[39;49m, userAnimalChoice)\n",
      "\u001b[1;32mc:\\Users\\szczy\\Desktop\\STUDIA\\dodat\\publiczne API.ipynb Cell 7\u001b[0m line \u001b[0;36m2\n\u001b[0;32m     <a href='vscode-notebook-cell:/c%3A/Users/szczy/Desktop/STUDIA/dodat/publiczne%20API.ipynb#X11sZmlsZQ%3D%3D?line=19'>20</a>\u001b[0m r \u001b[39m=\u001b[39m requests\u001b[39m.\u001b[39mget(\u001b[39m\"\u001b[39m\u001b[39mhttps://cat-fact.herokuapp.com/facts/random\u001b[39m\u001b[39m\"\u001b[39m, params)\n\u001b[0;32m     <a href='vscode-notebook-cell:/c%3A/Users/szczy/Desktop/STUDIA/dodat/publiczne%20API.ipynb#X11sZmlsZQ%3D%3D?line=20'>21</a>\u001b[0m \u001b[39mtry\u001b[39;00m:\n\u001b[1;32m---> <a href='vscode-notebook-cell:/c%3A/Users/szczy/Desktop/STUDIA/dodat/publiczne%20API.ipynb#X11sZmlsZQ%3D%3D?line=21'>22</a>\u001b[0m     content \u001b[39m=\u001b[39m r\u001b[39m.\u001b[39;49mjson()\n\u001b[0;32m     <a href='vscode-notebook-cell:/c%3A/Users/szczy/Desktop/STUDIA/dodat/publiczne%20API.ipynb#X11sZmlsZQ%3D%3D?line=22'>23</a>\u001b[0m \u001b[39mexcept\u001b[39;00m json\u001b[39m.\u001b[39mdecoder\u001b[39m.\u001b[39mJSONDecodeError:\n\u001b[0;32m     <a href='vscode-notebook-cell:/c%3A/Users/szczy/Desktop/STUDIA/dodat/publiczne%20API.ipynb#X11sZmlsZQ%3D%3D?line=23'>24</a>\u001b[0m     \u001b[39mprint\u001b[39m(\u001b[39m\"\u001b[39m\u001b[39mSomething went wrong, we\u001b[39m\u001b[39m'\u001b[39m\u001b[39mre sorry :(\u001b[39m\u001b[39m\"\u001b[39m)\n",
      "File \u001b[1;32mc:\\Users\\szczy\\anaconda3\\lib\\site-packages\\requests\\models.py:975\u001b[0m, in \u001b[0;36mResponse.json\u001b[1;34m(self, **kwargs)\u001b[0m\n\u001b[0;32m    971\u001b[0m     \u001b[39mreturn\u001b[39;00m complexjson\u001b[39m.\u001b[39mloads(\u001b[39mself\u001b[39m\u001b[39m.\u001b[39mtext, \u001b[39m*\u001b[39m\u001b[39m*\u001b[39mkwargs)\n\u001b[0;32m    972\u001b[0m \u001b[39mexcept\u001b[39;00m JSONDecodeError \u001b[39mas\u001b[39;00m e:\n\u001b[0;32m    973\u001b[0m     \u001b[39m# Catch JSON-related errors and raise as requests.JSONDecodeError\u001b[39;00m\n\u001b[0;32m    974\u001b[0m     \u001b[39m# This aliases json.JSONDecodeError and simplejson.JSONDecodeError\u001b[39;00m\n\u001b[1;32m--> 975\u001b[0m     \u001b[39mraise\u001b[39;00m RequestsJSONDecodeError(e\u001b[39m.\u001b[39mmsg, e\u001b[39m.\u001b[39mdoc, e\u001b[39m.\u001b[39mpos)\n",
      "\u001b[1;31mJSONDecodeError\u001b[0m: Expecting value: line 1 column 1 (char 0)"
     ]
    }
   ],
   "source": [
    "import requests\n",
    "import json\n",
    " \n",
    "print(\"\"\"Choose which animal you want to get some facts about:\n",
    "1 - cat\n",
    "2 - dog\n",
    "3 - horse\"\"\")\n",
    " \n",
    "userNumberChoice = int(input(\"Give me the chosen number: \"))\n",
    " \n",
    "menu = {1: \"cat\", 2: \"dog\", 3: \"horse\"}\n",
    " \n",
    "userAnimalChoice = menu[userNumberChoice]\n",
    " \n",
    "def animal_facts(amount, userAnimalChoice):\n",
    "    params = {\n",
    "          \"amount\": amount,\n",
    "          \"animal_type\": userAnimalChoice\n",
    "          }\n",
    "    r = requests.get(\"https://cat-fact.herokuapp.com/facts/random\", params)\n",
    "    try:\n",
    "        content = r.json()\n",
    "    except json.decoder.JSONDecodeError:\n",
    "        print(\"Something went wrong, we're sorry :(\")\n",
    "    else:\n",
    "        print()\n",
    "        print(\"These are the facts about\" + userAnimalChoice + \"s:\")\n",
    "        i = 1\n",
    "        for fact in content:\n",
    "             print(str(i) + \". \" + fact[\"text\"])\n",
    "             i = i + 1\n",
    " \n",
    "animal_facts(5, userAnimalChoice)"
   ]
  },
  {
   "cell_type": "markdown",
   "metadata": {},
   "source": [
    "## Funkcja pobierająca z API randomowe zdjęcia psów i wyświetlająca je w przeglądarce"
   ]
  },
  {
   "cell_type": "code",
   "execution_count": 4,
   "metadata": {},
   "outputs": [],
   "source": [
    "import json\n",
    "import requests\n",
    "from pprint import pprint\n",
    "import webbrowser\n",
    "\n",
    "\n",
    "userNumberChoice = int(input(\"Give me the number of dog images u want to see: \"))\n",
    "\n",
    "def number_of_dog_images(amount):\n",
    "\n",
    "\n",
    "    r = requests.get(\"https://dog.ceo/api/breeds/image/random/\" +  str(amount))\n",
    "\n",
    "\n",
    "    try:\n",
    "        content = r.json()\n",
    "    except json.decoder.JSONDecodeError:\n",
    "        print(\"Nie poprawny format\")\n",
    "    else:\n",
    "        for image in content[\"message\"]:\n",
    "            webbrowser.open_new_tab(image)\n",
    "\n",
    "number_of_dog_images(userNumberChoice)"
   ]
  },
  {
   "cell_type": "code",
   "execution_count": 49,
   "metadata": {},
   "outputs": [],
   "source": [
    "import requests\n",
    "import json\n",
    "import webbrowser\n",
    " \n",
    "catBreed = input(\"What cat breed do you want to see?\")\n",
    "amountPicture = int(input(\"How many picture you want see?\"))\n",
    " \n",
    "params = {\n",
    "    \"breed_ids\" : catBreed,\n",
    "    \"limit\" : amountPicture} #We need API KEY to work\n",
    " \n",
    " \n",
    "response = requests.get(\"https://api.thecatapi.com/v1/images/search\", params)\n",
    " \n",
    "try:\n",
    "    cats = response.json()\n",
    "except json.decoder.JSONDecodeError:\n",
    "    print(\"Nieprawidłowy format\")\n",
    "else:\n",
    "    for cat in cats:\n",
    "        webbrowser.open_new_tab(cat[\"url\"])"
   ]
  }
 ],
 "metadata": {
  "kernelspec": {
   "display_name": "base",
   "language": "python",
   "name": "python3"
  },
  "language_info": {
   "codemirror_mode": {
    "name": "ipython",
    "version": 3
   },
   "file_extension": ".py",
   "mimetype": "text/x-python",
   "name": "python",
   "nbconvert_exporter": "python",
   "pygments_lexer": "ipython3",
   "version": "3.9.15"
  }
 },
 "nbformat": 4,
 "nbformat_minor": 2
}
