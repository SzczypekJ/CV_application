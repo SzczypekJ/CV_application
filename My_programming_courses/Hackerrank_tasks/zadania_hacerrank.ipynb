{
 "cells": [
  {
   "cell_type": "code",
   "execution_count": 6,
   "metadata": {},
   "outputs": [
    {
     "name": "stdout",
     "output_type": "stream",
     "text": [
      "0\n",
      "1\n",
      "4\n",
      "9\n",
      "16\n"
     ]
    }
   ],
   "source": [
    "\n",
    "n = 5\n",
    "\n",
    "if n >= 0 and n <= 20:\n",
    "    for i in range(0, n):\n",
    "        print(i**2)"
   ]
  },
  {
   "cell_type": "code",
   "execution_count": 18,
   "metadata": {},
   "outputs": [
    {
     "name": "stdout",
     "output_type": "stream",
     "text": [
      "False\n"
     ]
    }
   ],
   "source": [
    "year = 1992\n",
    "\n",
    "def is_leap(year):\n",
    "    leap = False\n",
    "    \n",
    "    # Write your logic here\n",
    "    if year % 4 == 0:\n",
    "        leap = True\n",
    "        if year % 100 == 0:\n",
    "            leap = False\n",
    "            if year % 400 == 0:\n",
    "                leap = True\n",
    "    else:\n",
    "        leap = False\n",
    "    \n",
    "    return leap\n",
    "\n",
    "true_or_not = is_leap(year)\n",
    "print(true_or_not)"
   ]
  },
  {
   "cell_type": "code",
   "execution_count": 23,
   "metadata": {},
   "outputs": [
    {
     "name": "stdout",
     "output_type": "stream",
     "text": [
      "123\n"
     ]
    }
   ],
   "source": [
    "n = 3\n",
    "\n",
    "lst = []\n",
    "if n >=1 and n<= 150:\n",
    "    for i in range(1, n+1):\n",
    "        lst.append(i)\n",
    "\n",
    "mystring = ''.join(map(str, lst))\n",
    "print(mystring)\n"
   ]
  },
  {
   "cell_type": "code",
   "execution_count": 38,
   "metadata": {},
   "outputs": [
    {
     "name": "stdout",
     "output_type": "stream",
     "text": [
      "21\n",
      "2.23606797749979\n",
      "1.1071487177940904\n"
     ]
    }
   ],
   "source": [
    "from cmath import phase\n",
    "\n",
    "zmienna = input()\n",
    "print(zmienna)\n",
    "\n",
    "z = complex(1, 2)\n",
    "print(abs(z))\n",
    "print(phase(z))"
   ]
  },
  {
   "cell_type": "code",
   "execution_count": 4,
   "metadata": {},
   "outputs": [
    {
     "name": "stdout",
     "output_type": "stream",
     "text": [
      "31\n"
     ]
    }
   ],
   "source": [
    "from math import atan, degrees\n",
    "\n",
    "\n",
    "AB = input()\n",
    "BC = input()\n",
    "AB = int(AB)\n",
    "BC = int(BC)\n",
    "\n",
    "if AB > 0 and AB <= 100:\n",
    "    if BC > 0 and BC <= 100:\n",
    "        # x = (np.sqrt((AB**2) + (BC**2)))/4\n",
    "        rad_angle = atan((AB/2)/(BC/2))\n",
    "        degree_angle = degrees(rad_angle)\n",
    "        degree_angle = round(degree_angle)\n",
    "        print(degree_angle)"
   ]
  },
  {
   "cell_type": "code",
   "execution_count": 12,
   "metadata": {},
   "outputs": [
    {
     "name": "stdout",
     "output_type": "stream",
     "text": [
      "Counter({4: 4})\n"
     ]
    }
   ],
   "source": [
    "from collections import Counter\n",
    "\n",
    "def calculate_earnings():\n",
    "    # Read input\n",
    "    num_shoes = int(input())\n",
    "    shoe_sizes = Counter(map(int, input().split()))\n",
    "    num_customers = int(input())\n",
    "    \n",
    "    total_earnings = 0\n",
    "    \n",
    "    # Process each customer's request\n",
    "    for _ in range(num_customers):\n",
    "        size, price = map(int, input().split())\n",
    "        \n",
    "        if shoe_sizes[size] > 0:\n",
    "            # Shoe size is available, sell it to the customer\n",
    "            total_earnings += price\n",
    "            shoe_sizes[size] -= 1\n",
    "    \n",
    "    return total_earnings\n",
    "\n",
    "# Calculate and print the earnings\n",
    "earnings = calculate_earnings()\n",
    "print(earnings)"
   ]
  },
  {
   "cell_type": "code",
   "execution_count": 12,
   "metadata": {},
   "outputs": [
    {
     "name": "stdout",
     "output_type": "stream",
     "text": [
      "[[0, 0, 0], [0, 0, 1], [0, 0, 2], [0, 1, 0], [0, 1, 1], [0, 1, 2], [1, 0, 0], [1, 0, 1], [1, 0, 2], [1, 1, 0], [1, 1, 1], [1, 1, 2]]\n"
     ]
    }
   ],
   "source": [
    "def coordinates():\n",
    "    x = int(input())\n",
    "    y = int(input())\n",
    "    z = int(input())\n",
    "    n = int(input())\n",
    "    \n",
    "\n",
    "    new_list = []\n",
    "    main_list = []\n",
    "    \n",
    "    if x >= 0 and y >= 0 and z >= 0 and n >= 0:\n",
    "        for i in range(0, x + 1):\n",
    "            for j in range(0, y + 1):\n",
    "                for k in range(0, z + 1):\n",
    "                    new_list = [i, j, k]\n",
    "                    if sum(new_list) != n:\n",
    "                        main_list.append(new_list)\n",
    "    if n < 0 and x >= 0 and y >= 0 and z >= 0:\n",
    "        for i in range(0, x + 1):\n",
    "            for j in range(0, y + 1):\n",
    "                for k in range(0, z + 1):\n",
    "                    new_list = [i, j, k]\n",
    "                    main_list.append(new_list)\n",
    "\n",
    "    print(main_list)\n",
    "\n",
    "\n",
    "coordinates()"
   ]
  },
  {
   "cell_type": "code",
   "execution_count": 20,
   "metadata": {},
   "outputs": [
    {
     "name": "stdout",
     "output_type": "stream",
     "text": [
      "[[0, 0, 0], [0, 0, 1], [0, 0, 2], [0, 1, 0], [0, 1, 1], [1, 0, 0], [1, 0, 1], [1, 1, 0], [1, 1, 2]]\n"
     ]
    }
   ],
   "source": [
    "def coordinates_comprehension():\n",
    "    x = int(input())\n",
    "    y = int(input())\n",
    "    z = int(input())\n",
    "    n = int(input())\n",
    "\n",
    "    main_list = []\n",
    "\n",
    "    if n >= 0:\n",
    "        main_list = [[i ,j, k] for i in range(0, x + 1) for j in range(0, y + 1) for k in range(0, z + 1) if (i + j + k) != n]\n",
    "    else:\n",
    "        main_list = [[i ,j, k] for i in range(0, x + 1) for j in range(0, y + 1) for k in range(0, z + 1)]\n",
    "    print(main_list)\n",
    "\n",
    "coordinates_comprehension()"
   ]
  },
  {
   "cell_type": "code",
   "execution_count": 32,
   "metadata": {},
   "outputs": [
    {
     "name": "stdout",
     "output_type": "stream",
     "text": [
      "5\n"
     ]
    }
   ],
   "source": [
    "def second_player():\n",
    "    n = int(input())\n",
    "    arr = map(int, input().split())\n",
    "    \n",
    "    list_arr = list(arr)\n",
    "\n",
    "    sorted_list = sorted(list_arr, reverse=True)\n",
    "    \n",
    "    for i in range(len(sorted_list) - 1):\n",
    "        if sorted_list[i] > sorted_list[i + 1]:\n",
    "            second_best_score = sorted_list[i + 1]\n",
    "            print(second_best_score)\n",
    "            return\n",
    "    \n",
    "second_player()"
   ]
  },
  {
   "cell_type": "code",
   "execution_count": 3,
   "metadata": {},
   "outputs": [
    {
     "ename": "TypeError",
     "evalue": "object of type 'NoneType' has no len()",
     "output_type": "error",
     "traceback": [
      "\u001b[1;31m---------------------------------------------------------------------------\u001b[0m",
      "\u001b[1;31mTypeError\u001b[0m                                 Traceback (most recent call last)",
      "\u001b[1;32mc:\\Users\\szczy\\Desktop\\STUDIA\\dodat\\zadania_hacerrank.ipynb Cell 10\u001b[0m line \u001b[0;36m2\n\u001b[0;32m     <a href='vscode-notebook-cell:/c%3A/Users/szczy/Desktop/STUDIA/dodat/zadania_hacerrank.ipynb#X12sZmlsZQ%3D%3D?line=14'>15</a>\u001b[0m                 \u001b[39mif\u001b[39;00m \u001b[39many\u001b[39m(second_worst_score \u001b[39m==\u001b[39m sorted_list_score[j] \u001b[39mfor\u001b[39;00m second_worst_score \u001b[39min\u001b[39;00m sorted_list_score):\n\u001b[0;32m     <a href='vscode-notebook-cell:/c%3A/Users/szczy/Desktop/STUDIA/dodat/zadania_hacerrank.ipynb#X12sZmlsZQ%3D%3D?line=15'>16</a>\u001b[0m                     \u001b[39mprint\u001b[39m(sorted_list_score[j][\u001b[39m0\u001b[39m])\n\u001b[1;32m---> <a href='vscode-notebook-cell:/c%3A/Users/szczy/Desktop/STUDIA/dodat/zadania_hacerrank.ipynb#X12sZmlsZQ%3D%3D?line=21'>22</a>\u001b[0m the_worst_student()\n",
      "\u001b[1;32mc:\\Users\\szczy\\Desktop\\STUDIA\\dodat\\zadania_hacerrank.ipynb Cell 10\u001b[0m line \u001b[0;36m1\n\u001b[0;32m      <a href='vscode-notebook-cell:/c%3A/Users/szczy/Desktop/STUDIA/dodat/zadania_hacerrank.ipynb#X12sZmlsZQ%3D%3D?line=7'>8</a>\u001b[0m nested_list\u001b[39m.\u001b[39mappend(\u001b[39mlist\u001b[39m)\n\u001b[0;32m     <a href='vscode-notebook-cell:/c%3A/Users/szczy/Desktop/STUDIA/dodat/zadania_hacerrank.ipynb#X12sZmlsZQ%3D%3D?line=9'>10</a>\u001b[0m sorted_list_score \u001b[39m=\u001b[39m nested_list\u001b[39m.\u001b[39msort(key\u001b[39m=\u001b[39m\u001b[39mlambda\u001b[39;00m x:x[\u001b[39m1\u001b[39m])\n\u001b[1;32m---> <a href='vscode-notebook-cell:/c%3A/Users/szczy/Desktop/STUDIA/dodat/zadania_hacerrank.ipynb#X12sZmlsZQ%3D%3D?line=11'>12</a>\u001b[0m \u001b[39mfor\u001b[39;00m j \u001b[39min\u001b[39;00m \u001b[39mrange\u001b[39m(\u001b[39mlen\u001b[39;49m(sorted_list_score) \u001b[39m-\u001b[39m \u001b[39m1\u001b[39m):\n\u001b[0;32m     <a href='vscode-notebook-cell:/c%3A/Users/szczy/Desktop/STUDIA/dodat/zadania_hacerrank.ipynb#X12sZmlsZQ%3D%3D?line=12'>13</a>\u001b[0m     \u001b[39mif\u001b[39;00m sorted_list_score[j] \u001b[39m<\u001b[39m sorted_list_score[j \u001b[39m+\u001b[39m \u001b[39m1\u001b[39m]:\n\u001b[0;32m     <a href='vscode-notebook-cell:/c%3A/Users/szczy/Desktop/STUDIA/dodat/zadania_hacerrank.ipynb#X12sZmlsZQ%3D%3D?line=13'>14</a>\u001b[0m         second_worst_score \u001b[39m=\u001b[39m sorted_list_score[j \u001b[39m+\u001b[39m \u001b[39m1\u001b[39m]\n",
      "\u001b[1;31mTypeError\u001b[0m: object of type 'NoneType' has no len()"
     ]
    }
   ],
   "source": [
    "def the_worst_student():\n",
    "    nested_list = []\n",
    "    for i in range(int(input())):\n",
    "        name = input()\n",
    "        score = float(input())\n",
    "\n",
    "        list = [name, score]\n",
    "        nested_list.append(list)\n",
    "\n",
    "        sorted_list_score = nested_list.sort(key=lambda x:x[1])\n",
    "        \n",
    "        for j in range(len(sorted_list_score) - 1):\n",
    "            if sorted_list_score[j] < sorted_list_score[j + 1]:\n",
    "                second_worst_score = sorted_list_score[j + 1]\n",
    "                if any(second_worst_score == sorted_list_score[j] for second_worst_score in sorted_list_score):\n",
    "                    print(sorted_list_score[j][0])\n",
    "\n",
    "        \n",
    "        \n",
    "\n",
    "\n",
    "the_worst_student()\n",
    "        "
   ]
  },
  {
   "cell_type": "code",
   "execution_count": 9,
   "metadata": {},
   "outputs": [
    {
     "name": "stdout",
     "output_type": "stream",
     "text": [
      "None\n"
     ]
    }
   ],
   "source": [
    "def actions_on_the_list(list):\n",
    "    number_of_moves = int(input(\"Choose how many actions do you want to do with the list:\"))\n",
    "\n",
    "    move = 0\n",
    "    while move < number_of_moves:\n",
    "        actions = int(input(\"\"\"Choose action you would like to do. The actions you can do are:\n",
    "                    1 - insert integer e at position i\n",
    "                    2 - print the list\n",
    "                    3 - remove \n",
    "                    4 - append \n",
    "                    5 - sort\n",
    "                    6 - pop\n",
    "                    7 - reverse\n",
    "                    \"\"\"))\n",
    "        if actions == 1:\n",
    "            integer = int(input(\"Choose the integer you want to add to the list:\"))\n",
    "            position = int(input(\"Choose the position of the list where you want to put your integer:\"))\n",
    "            list.insert(position, integer)\n",
    "            move += 1\n",
    "            continue\n",
    "        elif actions == 2:\n",
    "            print(list)\n",
    "            move += 1\n",
    "            continue\n",
    "        elif actions == 3:\n",
    "            number_remove = int(input(\"Choose the number you want to remove from the list:\"))\n",
    "            list.remove(number_remove)\n",
    "            move += 1\n",
    "            continue\n",
    "        elif actions == 4:\n",
    "            number_append = int(input(\"Choose the number you want to append to the list\"))\n",
    "            list.append(number_append)\n",
    "            move += 1\n",
    "            continue\n",
    "        elif actions == 5:\n",
    "            list.sort()\n",
    "            move += 1\n",
    "            continue\n",
    "        elif actions == 6:\n",
    "            list.pop()\n",
    "            move += 1\n",
    "            continue\n",
    "        elif actions == 7:\n",
    "            list.reverse()\n",
    "            move += 1\n",
    "            continue\n",
    "        else:\n",
    "            print(\"You choose the wrong action - the action you choose doesnt exist\")\n",
    "            move += 1\n",
    "            continue\n",
    "\n",
    "\n",
    "\n",
    "list = []\n",
    "actions_on_the_list(list)"
   ]
  }
 ],
 "metadata": {
  "kernelspec": {
   "display_name": "Python 3",
   "language": "python",
   "name": "python3"
  },
  "language_info": {
   "codemirror_mode": {
    "name": "ipython",
    "version": 3
   },
   "file_extension": ".py",
   "mimetype": "text/x-python",
   "name": "python",
   "nbconvert_exporter": "python",
   "pygments_lexer": "ipython3",
   "version": "3.9.15"
  },
  "orig_nbformat": 4
 },
 "nbformat": 4,
 "nbformat_minor": 2
}
