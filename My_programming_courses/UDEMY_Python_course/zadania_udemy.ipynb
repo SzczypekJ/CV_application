{
 "cells": [
  {
   "attachments": {},
   "cell_type": "markdown",
   "metadata": {},
   "source": [
    "## Program, który prosi użytkownika o podanie imienia, wieku i ulubiony kolor. Wypisz ile lat ma użytkownik oraz ile lat będzie miał za rok."
   ]
  },
  {
   "cell_type": "code",
   "execution_count": 3,
   "metadata": {},
   "outputs": [
    {
     "name": "stdout",
     "output_type": "stream",
     "text": [
      "Podaj swoje imię: 12\n",
      "Podaj swój wiek: 12\n",
      "Podaj swój ulubiony kolor: 12\n",
      "Hej 12,Twój ulubiony kolor to 12.\n",
      "Masz 12 lat.\n",
      "Za rok będziesz miał 13 lat.\n"
     ]
    }
   ],
   "source": [
    "#Data input\n",
    "\n",
    "name = input()\n",
    "name_big_letter = name.capitalize()\n",
    "print(\"Podaj swoje imię:\", name_big_letter)\n",
    "\n",
    "age = int(input())\n",
    "print(\"Podaj swój wiek:\", age)\n",
    "\n",
    "color = input()\n",
    "print(\"Podaj swój ulubiony kolor:\", color)\n",
    "\n",
    "print(\"Hej \"+ name_big_letter + \",Twój ulubiony kolor to \" + color + \".\")\n",
    "print(\"Masz\", age, \"lat.\")\n",
    "print(\"Za rok będziesz miał\", age + 1,\"lat.\")"
   ]
  },
  {
   "attachments": {},
   "cell_type": "markdown",
   "metadata": {},
   "source": [
    "## Prosty kalkulator"
   ]
  },
  {
   "cell_type": "code",
   "execution_count": 4,
   "metadata": {},
   "outputs": [
    {
     "name": "stdout",
     "output_type": "stream",
     "text": [
      "Wynik dodawania to: 24\n"
     ]
    }
   ],
   "source": [
    "wybor = input(\"Wybierz + jeśli chcesz dodawać, - jeśli chcesz odejmować, * jeśli chcesz mnożyć, / jeśli chcesz dzielić, ** jeśli chcesz potęgować, % jeśli chcesz otrzymać resztę z dzielenia\")\n",
    "\n",
    "if wybor != \"+\" and wybor != \"-\" and wybor != \"*\" and wybor != \"/\" and wybor != \"**\" and wybor != \"%\":\n",
    "    print(\"Wybrałeś niepoprawną opcję\")\n",
    "    pass\n",
    "\n",
    "a = int(input(\"Podaj pierwszą liczbę: \"))\n",
    "b = int(input(\"Podaj drugą liczbę: \"))\n",
    "\n",
    "\n",
    "if wybor == \"+\":\n",
    "    print(\"Wynik dodawania to:\", a + b)\n",
    "elif wybor == \"-\":\n",
    "    print(\"Wynik odejmowania to:\", a - b)\n",
    "elif wybor == \"*\":\n",
    "    print(\"Wynik mnożenia to:\", a * b)\n",
    "elif wybor == \"/\":\n",
    "    if b == 0:\n",
    "        print(\"Nie wolno dzielić przez zero\")\n",
    "    else:\n",
    "        print(\"Wynik dzielenia to:\", a / b)\n",
    "elif wybor == \"**\":\n",
    "    print(\"Wynik potęgowania to:\", a ** b)\n",
    "elif wybor == \"%\":\n",
    "    print(\"Reszta z dzielenia to:\", a % b)\n",
    "# else:\n",
    "#     print(\"Wybrałeś niepoprawną opcję\")"
   ]
  },
  {
   "attachments": {},
   "cell_type": "markdown",
   "metadata": {},
   "source": [
    "## Oblicz wartość bezwzględną z liczby tzn. spraw, aby liczba ujemna stała się dodatnią.\n",
    "\n",
    "## Wartość bezwzględna usuwa 'minus' liczbie ujemnej. Wartość dodatnią i zerową pozostawia bez zmian."
   ]
  },
  {
   "cell_type": "code",
   "execution_count": 5,
   "metadata": {},
   "outputs": [
    {
     "name": "stdout",
     "output_type": "stream",
     "text": [
      "Wartość bezwzględna z liczby 12 to: 12\n"
     ]
    }
   ],
   "source": [
    "def absolute(a = int(input())):\n",
    "    absolute_number = abs(a)\n",
    "    print(\"Wartość bezwzględna z liczby\", a, \"to:\", absolute_number)\n",
    "\n",
    "absolute()"
   ]
  },
  {
   "cell_type": "markdown",
   "metadata": {},
   "source": [
    "## Pętla wypisującca liczby od 150 do 0"
   ]
  },
  {
   "cell_type": "code",
   "execution_count": 6,
   "metadata": {},
   "outputs": [
    {
     "name": "stdout",
     "output_type": "stream",
     "text": [
      "150\n",
      "149\n",
      "148\n",
      "147\n",
      "146\n",
      "145\n",
      "144\n",
      "143\n",
      "142\n",
      "141\n",
      "140\n",
      "139\n",
      "138\n",
      "137\n",
      "136\n",
      "135\n",
      "134\n",
      "133\n",
      "132\n",
      "131\n",
      "130\n",
      "129\n",
      "128\n",
      "127\n",
      "126\n",
      "125\n",
      "124\n",
      "123\n",
      "122\n",
      "121\n",
      "120\n",
      "119\n",
      "118\n",
      "117\n",
      "116\n",
      "115\n",
      "114\n",
      "113\n",
      "112\n",
      "111\n",
      "110\n",
      "109\n",
      "108\n",
      "107\n",
      "106\n",
      "105\n",
      "104\n",
      "103\n",
      "102\n",
      "101\n",
      "100\n",
      "99\n",
      "98\n",
      "97\n",
      "96\n",
      "95\n",
      "94\n",
      "93\n",
      "92\n",
      "91\n",
      "90\n",
      "89\n",
      "88\n",
      "87\n",
      "86\n",
      "85\n",
      "84\n",
      "83\n",
      "82\n",
      "81\n",
      "80\n",
      "79\n",
      "78\n",
      "77\n",
      "76\n",
      "75\n",
      "74\n",
      "73\n",
      "72\n",
      "71\n",
      "70\n",
      "69\n",
      "68\n",
      "67\n",
      "66\n",
      "65\n",
      "64\n",
      "63\n",
      "62\n",
      "61\n",
      "60\n",
      "59\n",
      "58\n",
      "57\n",
      "56\n",
      "55\n",
      "54\n",
      "53\n",
      "52\n",
      "51\n",
      "50\n",
      "49\n",
      "48\n",
      "47\n",
      "46\n",
      "45\n",
      "44\n",
      "43\n",
      "42\n",
      "41\n",
      "40\n",
      "39\n",
      "38\n",
      "37\n",
      "36\n",
      "35\n",
      "34\n",
      "33\n",
      "32\n",
      "31\n",
      "30\n",
      "29\n",
      "28\n",
      "27\n",
      "26\n",
      "25\n",
      "24\n",
      "23\n",
      "22\n",
      "21\n",
      "20\n",
      "19\n",
      "18\n",
      "17\n",
      "16\n",
      "15\n",
      "14\n",
      "13\n",
      "12\n",
      "11\n",
      "10\n",
      "9\n",
      "8\n",
      "7\n",
      "6\n",
      "5\n",
      "4\n",
      "3\n",
      "2\n",
      "1\n",
      "0\n"
     ]
    }
   ],
   "source": [
    "start  = 150\n",
    "\n",
    "while start >= 0:\n",
    "    print(start)\n",
    "    start -= 1"
   ]
  },
  {
   "cell_type": "markdown",
   "metadata": {},
   "source": [
    "## Liczby podzielne przez 5 ale nie podzielne przez 2"
   ]
  },
  {
   "cell_type": "code",
   "execution_count": 7,
   "metadata": {},
   "outputs": [
    {
     "name": "stdout",
     "output_type": "stream",
     "text": [
      "Liczba 5 jest podzielna przez 5, ale nie jest podzielna przez 2\n",
      "Liczba 15 jest podzielna przez 5, ale nie jest podzielna przez 2\n",
      "Liczba 25 jest podzielna przez 5, ale nie jest podzielna przez 2\n",
      "Liczba 35 jest podzielna przez 5, ale nie jest podzielna przez 2\n",
      "Liczba 45 jest podzielna przez 5, ale nie jest podzielna przez 2\n",
      "Liczba 55 jest podzielna przez 5, ale nie jest podzielna przez 2\n",
      "Liczba 65 jest podzielna przez 5, ale nie jest podzielna przez 2\n",
      "Liczba 75 jest podzielna przez 5, ale nie jest podzielna przez 2\n",
      "Liczba 85 jest podzielna przez 5, ale nie jest podzielna przez 2\n",
      "Liczba 95 jest podzielna przez 5, ale nie jest podzielna przez 2\n",
      "Liczba 105 jest podzielna przez 5, ale nie jest podzielna przez 2\n",
      "Liczba 115 jest podzielna przez 5, ale nie jest podzielna przez 2\n",
      "Liczba 125 jest podzielna przez 5, ale nie jest podzielna przez 2\n",
      "Liczba 135 jest podzielna przez 5, ale nie jest podzielna przez 2\n",
      "Liczba 145 jest podzielna przez 5, ale nie jest podzielna przez 2\n",
      "Liczba 155 jest podzielna przez 5, ale nie jest podzielna przez 2\n",
      "Liczba 165 jest podzielna przez 5, ale nie jest podzielna przez 2\n",
      "Liczba 175 jest podzielna przez 5, ale nie jest podzielna przez 2\n",
      "Liczba 185 jest podzielna przez 5, ale nie jest podzielna przez 2\n",
      "Liczba 195 jest podzielna przez 5, ale nie jest podzielna przez 2\n",
      "Liczba 205 jest podzielna przez 5, ale nie jest podzielna przez 2\n",
      "Liczba 215 jest podzielna przez 5, ale nie jest podzielna przez 2\n",
      "Liczba 225 jest podzielna przez 5, ale nie jest podzielna przez 2\n",
      "Liczba 235 jest podzielna przez 5, ale nie jest podzielna przez 2\n",
      "Liczba 245 jest podzielna przez 5, ale nie jest podzielna przez 2\n",
      "Liczba 255 jest podzielna przez 5, ale nie jest podzielna przez 2\n",
      "Liczba 265 jest podzielna przez 5, ale nie jest podzielna przez 2\n",
      "Liczba 275 jest podzielna przez 5, ale nie jest podzielna przez 2\n",
      "Liczba 285 jest podzielna przez 5, ale nie jest podzielna przez 2\n",
      "Liczba 295 jest podzielna przez 5, ale nie jest podzielna przez 2\n",
      "Liczba 305 jest podzielna przez 5, ale nie jest podzielna przez 2\n",
      "Liczba 315 jest podzielna przez 5, ale nie jest podzielna przez 2\n",
      "Liczba 325 jest podzielna przez 5, ale nie jest podzielna przez 2\n",
      "Liczba 335 jest podzielna przez 5, ale nie jest podzielna przez 2\n",
      "Liczba 345 jest podzielna przez 5, ale nie jest podzielna przez 2\n",
      "Liczba 355 jest podzielna przez 5, ale nie jest podzielna przez 2\n",
      "Liczba 365 jest podzielna przez 5, ale nie jest podzielna przez 2\n",
      "Liczba 375 jest podzielna przez 5, ale nie jest podzielna przez 2\n",
      "Liczba 385 jest podzielna przez 5, ale nie jest podzielna przez 2\n",
      "Liczba 395 jest podzielna przez 5, ale nie jest podzielna przez 2\n",
      "Liczba 405 jest podzielna przez 5, ale nie jest podzielna przez 2\n",
      "Liczba 415 jest podzielna przez 5, ale nie jest podzielna przez 2\n",
      "Liczba 425 jest podzielna przez 5, ale nie jest podzielna przez 2\n",
      "Liczba 435 jest podzielna przez 5, ale nie jest podzielna przez 2\n",
      "Liczba 445 jest podzielna przez 5, ale nie jest podzielna przez 2\n",
      "Liczba 455 jest podzielna przez 5, ale nie jest podzielna przez 2\n",
      "Liczba 465 jest podzielna przez 5, ale nie jest podzielna przez 2\n",
      "Liczba 475 jest podzielna przez 5, ale nie jest podzielna przez 2\n",
      "Liczba 485 jest podzielna przez 5, ale nie jest podzielna przez 2\n",
      "Liczba 495 jest podzielna przez 5, ale nie jest podzielna przez 2\n",
      "Liczba 505 jest podzielna przez 5, ale nie jest podzielna przez 2\n",
      "Liczba 515 jest podzielna przez 5, ale nie jest podzielna przez 2\n",
      "Liczba 525 jest podzielna przez 5, ale nie jest podzielna przez 2\n",
      "Liczba 535 jest podzielna przez 5, ale nie jest podzielna przez 2\n",
      "Liczba 545 jest podzielna przez 5, ale nie jest podzielna przez 2\n",
      "Liczba 555 jest podzielna przez 5, ale nie jest podzielna przez 2\n",
      "Liczba 565 jest podzielna przez 5, ale nie jest podzielna przez 2\n",
      "Liczba 575 jest podzielna przez 5, ale nie jest podzielna przez 2\n",
      "Liczba 585 jest podzielna przez 5, ale nie jest podzielna przez 2\n",
      "Liczba 595 jest podzielna przez 5, ale nie jest podzielna przez 2\n",
      "Liczba 605 jest podzielna przez 5, ale nie jest podzielna przez 2\n",
      "Liczba 615 jest podzielna przez 5, ale nie jest podzielna przez 2\n",
      "Liczba 625 jest podzielna przez 5, ale nie jest podzielna przez 2\n",
      "Liczba 635 jest podzielna przez 5, ale nie jest podzielna przez 2\n",
      "Liczba 645 jest podzielna przez 5, ale nie jest podzielna przez 2\n",
      "Liczba 655 jest podzielna przez 5, ale nie jest podzielna przez 2\n",
      "Liczba 665 jest podzielna przez 5, ale nie jest podzielna przez 2\n",
      "Liczba 675 jest podzielna przez 5, ale nie jest podzielna przez 2\n",
      "Liczba 685 jest podzielna przez 5, ale nie jest podzielna przez 2\n",
      "Liczba 695 jest podzielna przez 5, ale nie jest podzielna przez 2\n",
      "Liczba 705 jest podzielna przez 5, ale nie jest podzielna przez 2\n",
      "Liczba 715 jest podzielna przez 5, ale nie jest podzielna przez 2\n",
      "Liczba 725 jest podzielna przez 5, ale nie jest podzielna przez 2\n",
      "Liczba 735 jest podzielna przez 5, ale nie jest podzielna przez 2\n",
      "Liczba 745 jest podzielna przez 5, ale nie jest podzielna przez 2\n",
      "Liczba 755 jest podzielna przez 5, ale nie jest podzielna przez 2\n",
      "Liczba 765 jest podzielna przez 5, ale nie jest podzielna przez 2\n",
      "Liczba 775 jest podzielna przez 5, ale nie jest podzielna przez 2\n",
      "Liczba 785 jest podzielna przez 5, ale nie jest podzielna przez 2\n",
      "Liczba 795 jest podzielna przez 5, ale nie jest podzielna przez 2\n",
      "Liczba 805 jest podzielna przez 5, ale nie jest podzielna przez 2\n",
      "Liczba 815 jest podzielna przez 5, ale nie jest podzielna przez 2\n",
      "Liczba 825 jest podzielna przez 5, ale nie jest podzielna przez 2\n",
      "Liczba 835 jest podzielna przez 5, ale nie jest podzielna przez 2\n",
      "Liczba 845 jest podzielna przez 5, ale nie jest podzielna przez 2\n",
      "Liczba 855 jest podzielna przez 5, ale nie jest podzielna przez 2\n",
      "Liczba 865 jest podzielna przez 5, ale nie jest podzielna przez 2\n",
      "Liczba 875 jest podzielna przez 5, ale nie jest podzielna przez 2\n",
      "Liczba 885 jest podzielna przez 5, ale nie jest podzielna przez 2\n",
      "Liczba 895 jest podzielna przez 5, ale nie jest podzielna przez 2\n",
      "Liczba 905 jest podzielna przez 5, ale nie jest podzielna przez 2\n",
      "Liczba 915 jest podzielna przez 5, ale nie jest podzielna przez 2\n",
      "Liczba 925 jest podzielna przez 5, ale nie jest podzielna przez 2\n",
      "Liczba 935 jest podzielna przez 5, ale nie jest podzielna przez 2\n",
      "Liczba 945 jest podzielna przez 5, ale nie jest podzielna przez 2\n",
      "Liczba 955 jest podzielna przez 5, ale nie jest podzielna przez 2\n",
      "Liczba 965 jest podzielna przez 5, ale nie jest podzielna przez 2\n",
      "Liczba 975 jest podzielna przez 5, ale nie jest podzielna przez 2\n",
      "Liczba 985 jest podzielna przez 5, ale nie jest podzielna przez 2\n",
      "Liczba 995 jest podzielna przez 5, ale nie jest podzielna przez 2\n"
     ]
    }
   ],
   "source": [
    "for i in range(1001):\n",
    "    if (i % 5 == 0) and (i % 2 != 0):\n",
    "        print(\"Liczba\", i, \"jest podzielna przez 5, ale nie jest podzielna przez 2\")"
   ]
  },
  {
   "cell_type": "markdown",
   "metadata": {},
   "source": [
    "##  Program, który dodaje 3 parzyste liczby dodatnie podane przez użytkownika"
   ]
  },
  {
   "cell_type": "code",
   "execution_count": 8,
   "metadata": {},
   "outputs": [
    {
     "name": "stdout",
     "output_type": "stream",
     "text": [
      "Wynik dodawania trzech liczb parzystych dodatnich to: 36\n"
     ]
    }
   ],
   "source": [
    "wynik = 0\n",
    "i = 0\n",
    "while i < 3:\n",
    "    x = int(input())\n",
    "    if x % 2 == 0 and x >= 0:\n",
    "        wynik += x\n",
    "    else:\n",
    "        print(\"wybrałeś nie poprawną liczbę\")\n",
    "        continue\n",
    "    i += 1\n",
    "\n",
    "print(\"Wynik dodawania trzech liczb parzystych dodatnich to:\", wynik)"
   ]
  },
  {
   "cell_type": "markdown",
   "metadata": {},
   "source": [
    "## Szukamy lizby - zgadywanie"
   ]
  },
  {
   "cell_type": "code",
   "execution_count": 9,
   "metadata": {},
   "outputs": [
    {
     "name": "stdout",
     "output_type": "stream",
     "text": [
      "Za mała liczba\n",
      "Za mała liczba\n",
      "Za mała liczba\n",
      "Za mała liczba\n",
      "Za mała liczba\n",
      "Za mała liczba\n",
      "Za mała liczba\n",
      "Za mała liczba\n",
      "Za mała liczba\n",
      "Za mała liczba\n",
      "Za mała liczba\n",
      "Za mała liczba\n",
      "Za duża liczba\n"
     ]
    },
    {
     "ename": "ValueError",
     "evalue": "invalid literal for int() with base 10: ''",
     "output_type": "error",
     "traceback": [
      "\u001b[1;31m---------------------------------------------------------------------------\u001b[0m",
      "\u001b[1;31mValueError\u001b[0m                                Traceback (most recent call last)",
      "\u001b[1;32mc:\\Users\\szczy\\Desktop\\STUDIA\\dodat\\zadania_udemy.ipynb Cell 14\u001b[0m line \u001b[0;36m5\n\u001b[0;32m      <a href='vscode-notebook-cell:/c%3A/Users/szczy/Desktop/STUDIA/dodat/zadania_udemy.ipynb#X16sZmlsZQ%3D%3D?line=1'>2</a>\u001b[0m zgadywanaliczba \u001b[39m=\u001b[39m \u001b[39m0\u001b[39m\n\u001b[0;32m      <a href='vscode-notebook-cell:/c%3A/Users/szczy/Desktop/STUDIA/dodat/zadania_udemy.ipynb#X16sZmlsZQ%3D%3D?line=3'>4</a>\u001b[0m \u001b[39mwhile\u001b[39;00m zgadywanaliczba \u001b[39m!=\u001b[39m szukanaliczba:\n\u001b[1;32m----> <a href='vscode-notebook-cell:/c%3A/Users/szczy/Desktop/STUDIA/dodat/zadania_udemy.ipynb#X16sZmlsZQ%3D%3D?line=4'>5</a>\u001b[0m     zgadywanaliczba \u001b[39m=\u001b[39m \u001b[39mint\u001b[39;49m(\u001b[39minput\u001b[39;49m(\u001b[39m\"\u001b[39;49m\u001b[39mOdgadnij liczbę: \u001b[39;49m\u001b[39m\"\u001b[39;49m))\n\u001b[0;32m      <a href='vscode-notebook-cell:/c%3A/Users/szczy/Desktop/STUDIA/dodat/zadania_udemy.ipynb#X16sZmlsZQ%3D%3D?line=6'>7</a>\u001b[0m     \u001b[39mif\u001b[39;00m zgadywanaliczba \u001b[39m>\u001b[39m szukanaliczba:\n\u001b[0;32m      <a href='vscode-notebook-cell:/c%3A/Users/szczy/Desktop/STUDIA/dodat/zadania_udemy.ipynb#X16sZmlsZQ%3D%3D?line=7'>8</a>\u001b[0m         \u001b[39mprint\u001b[39m(\u001b[39m\"\u001b[39m\u001b[39mZa duża liczba\u001b[39m\u001b[39m\"\u001b[39m)\n",
      "\u001b[1;31mValueError\u001b[0m: invalid literal for int() with base 10: ''"
     ]
    }
   ],
   "source": [
    "szukanaliczba = 40\n",
    "zgadywanaliczba = 0\n",
    "\n",
    "while zgadywanaliczba != szukanaliczba:\n",
    "    zgadywanaliczba = int(input(\"Odgadnij liczbę: \"))\n",
    "\n",
    "    if zgadywanaliczba > szukanaliczba:\n",
    "        print(\"Za duża liczba\")\n",
    "    elif zgadywanaliczba < szukanaliczba:\n",
    "        print(\"Za mała liczba\")\n",
    "    else:\n",
    "        print(\"Brawo\")\n"
   ]
  },
  {
   "cell_type": "markdown",
   "metadata": {},
   "source": [
    "## Lista osób z dostępem do tajnych informacji"
   ]
  },
  {
   "cell_type": "code",
   "execution_count": null,
   "metadata": {},
   "outputs": [
    {
     "name": "stdout",
     "output_type": "stream",
     "text": [
      "Masz dostęp\n"
     ]
    }
   ],
   "source": [
    "imiona = [\"Arkadiusz\", \"Wiola\", \"Antek\"]\n",
    "\n",
    "\n",
    "while True:\n",
    "    imię = input(\"Podaj imię\")\n",
    "    if imię in imiona:\n",
    "        print(\"Masz dostęp\")\n",
    "        break\n",
    "    else:\n",
    "        print(\"Brak dostępu\")"
   ]
  },
  {
   "cell_type": "markdown",
   "metadata": {},
   "source": [
    "## Program, który pozwala użytkownikowi:\n",
    "1) Dodawać nowe definicje\n",
    "2) Szukać istniejących definicji\n",
    "3) Usuwać wybrane przez niego definicje"
   ]
  },
  {
   "cell_type": "markdown",
   "metadata": {},
   "source": [
    "Moje rozwiązanie:"
   ]
  },
  {
   "cell_type": "code",
   "execution_count": null,
   "metadata": {},
   "outputs": [
    {
     "name": "stdout",
     "output_type": "stream",
     "text": [
      "Aktualna lista definicji jest nastepujaca: []\n",
      "Wybrana przez ciebie definicja zostala dodana\n",
      "Aktualna lista definicji jest nastepujaca: ['chuj']\n",
      "Szukana przez ciebie definicja znajduje sie w liscie definicji\n",
      "Aktualna lista definicji jest nastepujaca: ['chuj']\n",
      "Podana przez ciebie definicja nie znajduje sie w liscie definicji\n",
      "Aktualna lista definicji jest nastepujaca: ['chuj']\n",
      "Usunales wybrana przez siebie definicje z listy definicji\n",
      "Aktualna lista definicji jest nastepujaca: []\n",
      "Aktualna lista definicji jest nastepujaca: []\n"
     ]
    }
   ],
   "source": [
    "Lista_definicji = []\n",
    "\n",
    "while True:\n",
    "\n",
    "    print(\"Aktualna lista definicji jest nastepujaca:\", Lista_definicji)\n",
    "\n",
    "    Czy_chcesz_zakonczyc_dzialanie_programu = input(\"Czy chcesz zakonczyc dzialanie programu? Jesli tak napisz: Koniec\")\n",
    "\n",
    "    if Czy_chcesz_zakonczyc_dzialanie_programu == \"Koniec\":\n",
    "        break\n",
    "\n",
    "    Czy_chcesz_dodac_nowa_definicje = input(\"Czy chcesz dodac nowa definicje? Jesli tak napisz: nowa_definicja\")\n",
    "    if Czy_chcesz_dodac_nowa_definicje == \"nowa_definicja\":\n",
    "        Lista_definicji.append(input(\"Podaj definicje, ktora chcesz dodac:\"))\n",
    "        print(\"Wybrana przez ciebie definicja zostala dodana\")\n",
    "        continue\n",
    "\n",
    "    Czy_szukasz_istniejacych_definicji = input(\"Czy szukasz istniejacych definicji? Jesli tak napisz: szukam_definicji\")\n",
    "\n",
    "    if Czy_szukasz_istniejacych_definicji == \"szukam_definicji\":\n",
    "        szukana_definicja = input(\"Podaj definicje, ktorej szukasz:\")\n",
    "        if szukana_definicja in Lista_definicji:\n",
    "            print(\"Szukana przez ciebie definicja znajduje sie w liscie definicji\")\n",
    "            continue\n",
    "        else:\n",
    "            print(\"Szukana przez ciebie definicja nie znajduje sie w liscie definicji\")\n",
    "            continue\n",
    "\n",
    "    Czy_chcesz_usunac_definicje = input (\"Czy chcesz usunac definicje? Jesli tak napisz: usuwam_definicje\")\n",
    "    if Czy_chcesz_usunac_definicje == \"usuwam_definicje\":\n",
    "        usuwana_definicja = input(\"Podaj definicje, ktora chcesz usunac:\")\n",
    "        if usuwana_definicja in Lista_definicji:\n",
    "            Lista_definicji.remove(usuwana_definicja)\n",
    "            print(\"Usunales wybrana przez siebie definicje z listy definicji\")\n",
    "            continue\n",
    "        else:\n",
    "            print(\"Podana przez ciebie definicja nie znajduje sie w liscie definicji\")\n",
    "            continue\n"
   ]
  },
  {
   "cell_type": "markdown",
   "metadata": {},
   "source": [
    "Rozwiązanie z kursu:"
   ]
  },
  {
   "cell_type": "code",
   "execution_count": null,
   "metadata": {},
   "outputs": [
    {
     "name": "stdout",
     "output_type": "stream",
     "text": [
      "1: Dodaj definicje\n",
      "2: Znajdź definicje\n",
      "3: Usuń definicje\n",
      "4: Zakończ\n",
      "Definicja dodana pomyślnie\n"
     ]
    },
    {
     "data": {
      "text/plain": [
       "'test'"
      ]
     },
     "execution_count": 11,
     "metadata": {},
     "output_type": "execute_result"
    }
   ],
   "source": [
    "definicje = {}\n",
    "\n",
    "while True:\n",
    "\n",
    "    print(\"1: Dodaj definicje\")\n",
    "    print(\"2: Znajdź definicje\")\n",
    "    print(\"3: Usuń definicje\")\n",
    "    print(\"4: Zakończ\")\n",
    "\n",
    "    wybor = input(\"Co chcesz zrobić? \")\n",
    "\n",
    "    if wybor == \"1\":\n",
    "        klucz = input(\"Podaj klucz (słowo) do zdefiniowania: \")\n",
    "        definicja = input(\"Podaj definicję: \")\n",
    "        definicje[klucz] = definicja\n",
    "        print(\"Definicja dodana pomyślnie\")\n",
    "    elif wybor == \"2\":\n",
    "        klucz = input(\"Czego szukasz? \")\n",
    "        if klucz in definicje:\n",
    "            print(definicje[klucz])\n",
    "        else:\n",
    "            print(\"Nie znaleziono definicji o nazwie\", klucz)\n",
    "    elif wybor == \"3\":\n",
    "        klucz = input(\"Jaką definicję chcesz usunąć? \") \n",
    "        if klucz in definicje:\n",
    "            del definicje[klucz]\n",
    "            print(\"Usunięto definicję o nazwie:\", klucz)\n",
    "        else:\n",
    "            print(\"Nie znaleziono definicji o nazwie\", klucz)\n",
    "    elif wybor == \"4\":\n",
    "        break\n",
    "    else:\n",
    "        print(\"Podałeś coś z poza zakresu\")\n"
   ]
  },
  {
   "cell_type": "markdown",
   "metadata": {},
   "source": [
    "## Zsujmuj 100 kolejnych liczb od zera podniesionych do kwadratu"
   ]
  },
  {
   "cell_type": "code",
   "execution_count": null,
   "metadata": {},
   "outputs": [
    {
     "name": "stdout",
     "output_type": "stream",
     "text": [
      "338350\n"
     ]
    }
   ],
   "source": [
    "generator = (element**2\n",
    "             for element in range(0, 101)\n",
    "             )\n",
    "\n",
    "print(sum(generator))"
   ]
  },
  {
   "cell_type": "markdown",
   "metadata": {},
   "source": [
    "## Program obliczający ilość liter w imieniu"
   ]
  },
  {
   "cell_type": "code",
   "execution_count": null,
   "metadata": {},
   "outputs": [
    {
     "name": "stdout",
     "output_type": "stream",
     "text": [
      "{'Damian': 6, 'Paweł': 5, 'Karolina': 8, 'Ewa': 3, 'Jakub': 5, 'Łukasz': 6, 'Grażyna': 7}\n"
     ]
    }
   ],
   "source": [
    "names = {\"Jakub\", \"Damian\", \"Ewa\", \"Karolina\", \"Paweł\", \"Łukasz\", \"Grażyna\"}\n",
    "\n",
    "slownikgenerator = {\n",
    "    name : len(name)\n",
    "    for name in names\n",
    "}\n",
    "\n",
    "print(slownikgenerator)"
   ]
  },
  {
   "cell_type": "markdown",
   "metadata": {},
   "source": [
    "## Program zmieniający stopnie celsjusa na farenhaity"
   ]
  },
  {
   "cell_type": "code",
   "execution_count": null,
   "metadata": {},
   "outputs": [
    {
     "name": "stdout",
     "output_type": "stream",
     "text": [
      "{'t1': -4.0, 't2': 5.0, 't3': 32.0, 't4': 53.6, 't5': 75.2}\n"
     ]
    }
   ],
   "source": [
    "celcius = {'t1' : -20, 't2' : -15, 't3' : 0, 't4' : 12, 't5' : 24}\n",
    "\n",
    "fahrenheit = {\n",
    "    key : celcius * 1.8 + 32\n",
    "    for key, celcius in celcius.items()\n",
    "    # Dodatkowe warunki\n",
    "    # if celcius > -5 \n",
    "    # if celcius < 20\n",
    "}\n",
    "\n",
    "print(fahrenheit)"
   ]
  },
  {
   "cell_type": "markdown",
   "metadata": {},
   "source": [
    "## Znajdź liczby od 2 do 470 włącznie, które są podzielne przez 7, ale nie są podzielne przez 5"
   ]
  },
  {
   "cell_type": "code",
   "execution_count": null,
   "metadata": {},
   "outputs": [
    {
     "name": "stdout",
     "output_type": "stream",
     "text": [
      "[7, 14, 21, 28, 42, 49, 56, 63, 77, 84, 91, 98, 112, 119, 126, 133, 147, 154, 161, 168, 182, 189, 196, 203, 217, 224, 231, 238, 252, 259, 266, 273, 287, 294, 301, 308, 322, 329, 336, 343, 357, 364, 371, 378, 392, 399, 406, 413, 427, 434, 441, 448, 462, 469]\n"
     ]
    }
   ],
   "source": [
    "liczby_podzielne_przez_7_ale_nie_przez_5 = [\n",
    "    number\n",
    "    for number in range(2, 471)\n",
    "    if number % 7 == 0\n",
    "    if number % 5 != 0\n",
    "]\n",
    "\n",
    "print(liczby_podzielne_przez_7_ale_nie_przez_5)"
   ]
  },
  {
   "cell_type": "markdown",
   "metadata": {},
   "source": [
    "## Program służący do obliczania powierzchni figur:\n",
    "1) prostokąt\n",
    "2) kwadrat\n",
    "3) trójkąt\n",
    "4) trapez\n",
    "5) koło"
   ]
  },
  {
   "cell_type": "code",
   "execution_count": null,
   "metadata": {},
   "outputs": [
    {
     "name": "stdout",
     "output_type": "stream",
     "text": [
      "Wybierz figurę, której chcesz policzyć pole powierzchni: \n",
      "\n",
      "Jeśli chcesz policzyć pole prostokąta wybierz: 1\n",
      "Jeśli chcesz policzyć pole kwadratu wybierz: 2\n",
      "Jeśli chcesz policzyć pole trójkąta wybierz: 3\n",
      "Jeśli chcesz policzyć pole trapezu wybierz: 4\n",
      "Jeśli chcesz policzyć pole koła wybierz: 5\n",
      "\n",
      "Wybrałeś nie popraną liczbę!\n"
     ]
    }
   ],
   "source": [
    "import math\n",
    "\n",
    "print(\"Wybierz figurę, której chcesz policzyć pole powierzchni: \\n\")\n",
    "\n",
    "print(\"Jeśli chcesz policzyć pole prostokąta wybierz: 1\")\n",
    "print(\"Jeśli chcesz policzyć pole kwadratu wybierz: 2\")\n",
    "print(\"Jeśli chcesz policzyć pole trójkąta wybierz: 3\")\n",
    "print(\"Jeśli chcesz policzyć pole trapezu wybierz: 4\")\n",
    "print(\"Jeśli chcesz policzyć pole koła wybierz: 5\\n\")\n",
    "\n",
    "wybor = input(\"Wybierz swoją figurę:\")\n",
    "\n",
    "def pole_prostokata(a, b):\n",
    "    return a * b\n",
    "\n",
    "def pole_kwadratu(a):\n",
    "    return a**2\n",
    "\n",
    "def pole_trojkata(a, h):\n",
    "    return 1/2 * a * h\n",
    "\n",
    "def pole_trapezu(a, b, h):\n",
    "    return (1/2) * ((a + b) * h)\n",
    "\n",
    "def pole_kola(r):\n",
    "    return math.pi * r**2\n",
    "\n",
    "if wybor == \"1\":\n",
    "    a = int(input(\"Podaj a:\"))\n",
    "    b = int(input(\"Podaj b:\"))\n",
    "    print(\"Pole powierzchni prostokąta to:\", pole_prostokata(a, b))\n",
    "\n",
    "elif wybor == \"2\":\n",
    "    a = int(input(\"Podaj a:\"))\n",
    "    print(\"Pole powierzchni kwadratu to:\", pole_kwadratu(a))\n",
    "\n",
    "elif wybor == \"3\":\n",
    "    a = int(input(\"Podaj a:\"))\n",
    "    h = int(input(\"Podaj b:\"))\n",
    "    print(\"Pole powierzchni trójkąta to:\", pole_trojkata(a, h))\n",
    "\n",
    "elif wybor == \"4\":\n",
    "    a = int(input(\"Podaj a:\"))\n",
    "    b = int(input(\"Podaj b:\"))\n",
    "    h = int(input(\"Podaj b:\"))\n",
    "    print(\"Pole powierzchni trapezu to:\", pole_trapezu(a, b, h))\n",
    "\n",
    "elif wybor == \"5\":\n",
    "    r = int(input(\"Podaj r:\"))\n",
    "    print(\"Pole powierzchni koła to:\", pole_kola(r))\n",
    "\n",
    "else:\n",
    "    print(\"Wybrałeś nie popraną liczbę!\")"
   ]
  },
  {
   "cell_type": "markdown",
   "metadata": {},
   "source": [
    "## Funkcja sumująca liczby dodatnie w liście"
   ]
  },
  {
   "cell_type": "code",
   "execution_count": null,
   "metadata": {},
   "outputs": [
    {
     "data": {
      "text/plain": [
       "29"
      ]
     },
     "execution_count": 47,
     "metadata": {},
     "output_type": "execute_result"
    }
   ],
   "source": [
    "def sumowanie_listy(lst):\n",
    "    suma = 0\n",
    "    for i in lst:\n",
    "        if i > 0:\n",
    "            suma += i\n",
    "        else:\n",
    "            continue\n",
    "    \n",
    "    return suma\n",
    "\n",
    "lst = [10, -6, 5, -5, 4, 10]\n",
    "sumowanie_listy(lst)"
   ]
  },
  {
   "cell_type": "markdown",
   "metadata": {},
   "source": [
    "## Modyfikacja wcześniejszego zadania za pomocą funkcji"
   ]
  },
  {
   "cell_type": "code",
   "execution_count": null,
   "metadata": {},
   "outputs": [
    {
     "name": "stdout",
     "output_type": "stream",
     "text": [
      "1: Dodaj definicje\n",
      "2: Znajdź definicje\n",
      "3: Usuń definicje\n",
      "4: Zakończ\n",
      "Nie znaleziono definicji o nazwie 2\n",
      "1: Dodaj definicje\n",
      "2: Znajdź definicje\n",
      "3: Usuń definicje\n",
      "4: Zakończ\n",
      "Definicja dodana pomyślnie\n",
      "1: Dodaj definicje\n",
      "2: Znajdź definicje\n",
      "3: Usuń definicje\n",
      "4: Zakończ\n"
     ]
    }
   ],
   "source": [
    "def dodaj_definicje(definicje, klucz, definicja):\n",
    "        definicje[klucz] = definicja\n",
    "        print(\"Definicja dodana pomyślnie\")\n",
    "\n",
    "def czego_szukasz(definicje, klucz):\n",
    "    if klucz in definicje:\n",
    "        print(definicje[klucz])\n",
    "    else:\n",
    "        print(\"Nie znaleziono definicji o nazwie\", klucz)\n",
    "\n",
    "def usun(definicje, klucz):\n",
    "    if klucz in definicje:\n",
    "        del definicje[klucz]\n",
    "        print(\"Usunięto definicję o nazwie:\", klucz)\n",
    "    else:\n",
    "        print(\"Nie znaleziono definicji o nazwie\", klucz)\n",
    "\n",
    "definicje = {}\n",
    "\n",
    "while True:\n",
    "\n",
    "    print(\"1: Dodaj definicje\")\n",
    "    print(\"2: Znajdź definicje\")\n",
    "    print(\"3: Usuń definicje\")\n",
    "    print(\"4: Zakończ\")\n",
    "\n",
    "    wybor = input(\"Co chcesz zrobić? \")\n",
    "\n",
    "    if wybor == \"1\":\n",
    "        klucz = input(\"Podaj klucz (słowo) do zdefiniowania: \")\n",
    "        definicja = input(\"Podaj definicję: \")\n",
    "        dodaj_definicje(definicje, klucz, definicja)\n",
    "    elif wybor == \"2\":\n",
    "        klucz = input(\"Czego szukasz? \")\n",
    "        czego_szukasz(definicje, klucz)\n",
    "    elif wybor == \"3\":\n",
    "        klucz = input(\"Jaką definicję chcesz usunąć? \") \n",
    "        usun(definicje, klucz)\n",
    "    elif wybor == \"4\":\n",
    "        break\n",
    "    else:\n",
    "        print(\"Podałeś coś z poza zakresu\")\n"
   ]
  },
  {
   "cell_type": "markdown",
   "metadata": {},
   "source": [
    "## Wykorzystenie Enumarate"
   ]
  },
  {
   "cell_type": "code",
   "execution_count": null,
   "metadata": {},
   "outputs": [
    {
     "name": "stdout",
     "output_type": "stream",
     "text": [
      "Pole powierzchni koła to: 314.1592653589793\n"
     ]
    }
   ],
   "source": [
    "from enum import IntEnum\n",
    "\n",
    "Menu_Figury = IntEnum('Menu_Figury', ' Prostokąt Kwadrat Trójkąt Trapez Koło')\n",
    "\n",
    "wybor = int(input(\"\"\"Wybierz figurę, której pole chcesz obliczyć:\n",
    "              1. Prostokąt\n",
    "              2. Kwadrat\n",
    "              3. Trójkąt\n",
    "              4. Trapez\n",
    "              5. Koło\"\"\"))\n",
    "\n",
    "if wybor == Menu_Figury.Prostokąt:\n",
    "    a = int(input(\"Podaj a:\"))\n",
    "    b = int(input(\"Podaj b:\"))\n",
    "    print(\"Pole powierzchni prostokąta to:\", pole_prostokata(a, b))\n",
    "\n",
    "elif wybor == Menu_Figury.Kwadrat:\n",
    "    a = int(input(\"Podaj a:\"))\n",
    "    print(\"Pole powierzchni kwadratu to:\", pole_kwadratu(a))\n",
    "\n",
    "elif wybor == Menu_Figury.Trójkąt:\n",
    "    a = int(input(\"Podaj a:\"))\n",
    "    h = int(input(\"Podaj b:\"))\n",
    "    print(\"Pole powierzchni trójkąta to:\", pole_trojkata(a, h))\n",
    "\n",
    "elif wybor == Menu_Figury.Trapez:\n",
    "    a = int(input(\"Podaj a:\"))\n",
    "    b = int(input(\"Podaj b:\"))\n",
    "    h = int(input(\"Podaj b:\"))\n",
    "    print(\"Pole powierzchni trapezu to:\", pole_trapezu(a, b, h))\n",
    "\n",
    "elif wybor == Menu_Figury.Koło:\n",
    "    r = int(input(\"Podaj r:\"))\n",
    "    print(\"Pole powierzchni koła to:\", pole_kola(r))\n",
    "\n",
    "else:\n",
    "    print(\"Wybrałeś nie popraną liczbę!\")"
   ]
  },
  {
   "cell_type": "markdown",
   "metadata": {},
   "source": [
    "## Program sumujący kolejne liczby - kilka sposobów\n",
    "\n",
    "## Sprawdzenie wydajności kodu"
   ]
  },
  {
   "cell_type": "code",
   "execution_count": null,
   "metadata": {},
   "outputs": [
    {
     "name": "stdout",
     "output_type": "stream",
     "text": [
      "224998346739375\n",
      "2.233653199999935\n"
     ]
    }
   ],
   "source": [
    "import time \n",
    "\n",
    "def finish_timer(start):\n",
    "    end = time.perf_counter()\n",
    "    return end - start\n",
    "\n",
    "def sum_next_numbers(numbers):\n",
    "    wynik = 0\n",
    "    number = 1\n",
    "    while number <= numbers:\n",
    "        wynik += number\n",
    "        number += 1\n",
    "    \n",
    "    return wynik\n",
    "start = time.perf_counter()\n",
    "print(sum_next_numbers(21213125))\n",
    "print(finish_timer(start))"
   ]
  },
  {
   "cell_type": "code",
   "execution_count": null,
   "metadata": {},
   "outputs": [
    {
     "name": "stdout",
     "output_type": "stream",
     "text": [
      "224998346739375\n",
      "1.1578219000002719\n"
     ]
    }
   ],
   "source": [
    "def sumuj_do(liczba):\n",
    "\n",
    "    suma = 0\n",
    "    for liczba in range(1, liczba + 1):\n",
    "        suma += liczba\n",
    "\n",
    "    return suma\n",
    "start = time.perf_counter()\n",
    "print(sumuj_do(21213125))\n",
    "print(finish_timer(start))"
   ]
  },
  {
   "cell_type": "code",
   "execution_count": null,
   "metadata": {},
   "outputs": [
    {
     "name": "stdout",
     "output_type": "stream",
     "text": [
      "224998346739375\n",
      "2.0074713000003612\n"
     ]
    }
   ],
   "source": [
    "def sumuj_do2(liczba):\n",
    "    return sum([liczba for liczba in range(1, liczba + 1)])\n",
    "\n",
    "start = time.perf_counter()\n",
    "print(sumuj_do2(21213125))\n",
    "print(finish_timer(start))"
   ]
  },
  {
   "cell_type": "code",
   "execution_count": null,
   "metadata": {},
   "outputs": [
    {
     "name": "stdout",
     "output_type": "stream",
     "text": [
      "2.2499834310659195e+82\n",
      "0.0002791999995679362\n"
     ]
    }
   ],
   "source": [
    "def sumuj_do3(liczba):\n",
    "    return (1 + liczba) / 2 * liczba\n",
    "\n",
    "start = time.perf_counter()\n",
    "print(sumuj_do3(212131253287483273872469782346962349823644))\n",
    "print(finish_timer(start))"
   ]
  },
  {
   "cell_type": "code",
   "execution_count": null,
   "metadata": {},
   "outputs": [
    {
     "name": "stdout",
     "output_type": "stream",
     "text": [
      "224998346739375\n",
      "2.278554299999996\n"
     ]
    }
   ],
   "source": [
    "def sumuj_do4(liczba):\n",
    "    return sum({liczba for liczba in range(1, liczba + 1)})\n",
    "\n",
    "start = time.perf_counter()\n",
    "print(sumuj_do4(21213125))\n",
    "print(finish_timer(start))"
   ]
  },
  {
   "cell_type": "code",
   "execution_count": null,
   "metadata": {},
   "outputs": [
    {
     "name": "stdout",
     "output_type": "stream",
     "text": [
      "224998346739375\n",
      "1.9123366000003443\n"
     ]
    }
   ],
   "source": [
    "def sumuj_do5(liczba):\n",
    "    return sum((liczba for liczba in range(1, liczba + 1)))\n",
    " \n",
    "start = time.perf_counter()\n",
    "print(sumuj_do5(21213125))\n",
    "print(finish_timer(start))"
   ]
  },
  {
   "cell_type": "code",
   "execution_count": null,
   "metadata": {},
   "outputs": [
    {
     "name": "stdout",
     "output_type": "stream",
     "text": [
      "0.0036297999995440478\n",
      "0.006564499999512918\n",
      "0.004228300000249874\n",
      "2.3000011424301192e-06\n",
      "0.005513699999937671\n",
      "0.004358899999715504\n"
     ]
    }
   ],
   "source": [
    "def function_performance(func, arg, how_many_times = 1):\n",
    "    sum = 0\n",
    "\n",
    "    for i in range(0, how_many_times):\n",
    "        start = time.perf_counter()\n",
    "        func(arg)\n",
    "        end = time.perf_counter()\n",
    "        sum = sum + (end - start)\n",
    "\n",
    "    return sum\n",
    "\n",
    "print(function_performance(sumuj_do, 50000))\n",
    "print(function_performance(sum_next_numbers, 50000))\n",
    "print(function_performance(sumuj_do2, 50000))\n",
    "print(function_performance(sumuj_do3, 50000))\n",
    "print(function_performance(sumuj_do4, 50000))\n",
    "print(function_performance(sumuj_do5, 50000))"
   ]
  },
  {
   "cell_type": "markdown",
   "metadata": {},
   "source": [
    "## Sprawdzanie czy element znajduje się w kontenerze czy też liście - jeśli tak zwracamy \"znajduje się\" jeśli nie zwracamy \"nie znajduje się\"\n",
    "\n",
    "**Sprawdź czy szybszy jest kontener czy lista**"
   ]
  },
  {
   "cell_type": "code",
   "execution_count": null,
   "metadata": {},
   "outputs": [
    {
     "name": "stdout",
     "output_type": "stream",
     "text": [
      "0.12618949764510035\n",
      "2.6151376998386695\n"
     ]
    }
   ],
   "source": [
    "setContainer = {i for i in range(1000)}\n",
    "listContainer  = [i for i in range(1000)]\n",
    "\n",
    "# print(setContainer)\n",
    "\n",
    "def find_element_in_Container(number):\n",
    "    if number in setContainer:\n",
    "        return True\n",
    "    else:\n",
    "        return False\n",
    "\n",
    "\n",
    "def find_element_in_List(number):\n",
    "    if number in listContainer:\n",
    "        return True\n",
    "    else:\n",
    "        return False\n",
    "\n",
    "print(function_performance(find_element_in_Container, 500, 500000))\n",
    "print(function_performance(find_element_in_List, 500, 500000))"
   ]
  },
  {
   "cell_type": "markdown",
   "metadata": {},
   "source": [
    "## Funckje z argumentami wielowartościowymi"
   ]
  },
  {
   "cell_type": "code",
   "execution_count": null,
   "metadata": {},
   "outputs": [
    {
     "name": "stdout",
     "output_type": "stream",
     "text": [
      "0.11241739971228526\n",
      "0.10657279820225085\n"
     ]
    }
   ],
   "source": [
    "def function_performance2(func, *arg, how_many_times = 1):\n",
    "    sum = 0\n",
    "\n",
    "    for i in range(0, how_many_times):\n",
    "        start = time.perf_counter()\n",
    "        func(*arg)\n",
    "        end = time.perf_counter()\n",
    "        sum = sum + (end - start)\n",
    "\n",
    "    return sum\n",
    "\n",
    "def is_element_in(number, container):\n",
    "    if number in container:\n",
    "        return True\n",
    "    else:\n",
    "        return False\n",
    "    \n",
    "print(function_performance2(is_element_in, 1, setContainer, how_many_times = 500000))\n",
    "print(function_performance2(is_element_in, 1, listContainer, how_many_times = 500000))"
   ]
  },
  {
   "cell_type": "markdown",
   "metadata": {},
   "source": [
    "## Liczenie sumy wszystkich argumentów"
   ]
  },
  {
   "cell_type": "code",
   "execution_count": null,
   "metadata": {},
   "outputs": [
    {
     "name": "stdout",
     "output_type": "stream",
     "text": [
      "28\n"
     ]
    }
   ],
   "source": [
    "def count(*numbers):\n",
    "    wynik = 0\n",
    "    for i in range(len(numbers)):\n",
    "        wynik += numbers[i]\n",
    "    return wynik\n",
    "\n",
    "print(count(2,4,1,2,4,5,10))"
   ]
  },
  {
   "cell_type": "markdown",
   "metadata": {},
   "source": [
    "## Funkcje lambda, funkcje anonimowe"
   ]
  },
  {
   "cell_type": "code",
   "execution_count": 10,
   "metadata": {},
   "outputs": [
    {
     "name": "stdout",
     "output_type": "stream",
     "text": [
      "8\n"
     ]
    }
   ],
   "source": [
    "test = lambda x: x * 2\n",
    "print(test(4))"
   ]
  },
  {
   "cell_type": "code",
   "execution_count": 12,
   "metadata": {},
   "outputs": [
    {
     "name": "stdout",
     "output_type": "stream",
     "text": [
      "[2, 10, 18, 20]\n"
     ]
    }
   ],
   "source": [
    "my_list = [2, 10, 18, 20, 33]\n",
    "\n",
    "my_filtered_list = list(filter(lambda x: x%2 == 0, my_list))\n",
    "\n",
    "print(my_filtered_list)"
   ]
  },
  {
   "cell_type": "markdown",
   "metadata": {},
   "source": [
    "## Sprawdzenie czy list zawiera liczby parzyste"
   ]
  },
  {
   "cell_type": "code",
   "execution_count": 18,
   "metadata": {},
   "outputs": [
    {
     "name": "stdout",
     "output_type": "stream",
     "text": [
      "True\n"
     ]
    }
   ],
   "source": [
    "numbers = [1, 5, 6, 8, 10, 11, 13]\n",
    "\n",
    "def any_even(lista):\n",
    "    return any([nr % 2 == 0 for nr in lista])\n",
    "\n",
    "print(any_even(numbers))\n",
    "\n"
   ]
  },
  {
   "cell_type": "markdown",
   "metadata": {},
   "source": [
    "## Użyj funkcji all() do określenia, czy osoba posiada wymagany zestaw umiejętności."
   ]
  },
  {
   "cell_type": "code",
   "execution_count": 19,
   "metadata": {},
   "outputs": [
    {
     "name": "stdout",
     "output_type": "stream",
     "text": [
      "True\n"
     ]
    }
   ],
   "source": [
    "john = {'name' : 'John Doe', 'age' : '30', 'skills' : ['Python', 'JavaScript', 'C++']}\n",
    "\n",
    "required_skills = ['Python', 'JavaScript']\n",
    "\n",
    "def has_required_skills(person, skills):\n",
    "    return all(skill in person['skills'] for skill in skills)\n",
    "\n",
    "print(has_required_skills(john, required_skills)) "
   ]
  },
  {
   "cell_type": "markdown",
   "metadata": {},
   "source": [
    "## Ponumeruj zadania i pokaż je użytkownikowi | enumerate()"
   ]
  },
  {
   "cell_type": "code",
   "execution_count": 20,
   "metadata": {},
   "outputs": [
    {
     "name": "stdout",
     "output_type": "stream",
     "text": [
      "0 red\n",
      "1 green\n",
      "2 blue\n"
     ]
    }
   ],
   "source": [
    "colors = [\"red\", \"green\", \"blue\"]\n",
    "\n",
    "for i, color in enumerate(colors):\n",
    "    print(i, color)"
   ]
  },
  {
   "cell_type": "code",
   "execution_count": 24,
   "metadata": {},
   "outputs": [
    {
     "name": "stdout",
     "output_type": "stream",
     "text": [
      "1 Clean the kitchen\n",
      "2 Do laundry\n",
      "3 Pay bills\n"
     ]
    }
   ],
   "source": [
    "tasks = [\"clean the kitchen\", \"do laundry\", \"pay bills\"]\n",
    "for i, task in enumerate(tasks, 1):\n",
    "    print(i, task.capitalize())"
   ]
  },
  {
   "cell_type": "markdown",
   "metadata": {},
   "source": [
    "## Losowość"
   ]
  },
  {
   "cell_type": "markdown",
   "metadata": {},
   "source": [
    "**Random** \n",
    "**Randint**\n",
    "**Uniform**\n",
    "**Randrange**"
   ]
  },
  {
   "cell_type": "code",
   "execution_count": 39,
   "metadata": {},
   "outputs": [
    {
     "name": "stdout",
     "output_type": "stream",
     "text": [
      "16.437583068080606\n",
      "75.45245172278095\n",
      "4.6265307802687\n",
      "12.241636670008738\n",
      "16.410687122187596\n",
      "92.942833472955\n",
      "69.67912545446843\n",
      "75.68134860911955\n",
      "8.726928646794342\n",
      "34.03539627030337\n"
     ]
    }
   ],
   "source": [
    "import random\n",
    "x = 0\n",
    "while x < 10:\n",
    "    x += 1\n",
    "    print(random.uniform(0, 100))\n",
    "\n"
   ]
  },
  {
   "cell_type": "code",
   "execution_count": 40,
   "metadata": {},
   "outputs": [
    {
     "data": {
      "text/plain": [
       "'not hit'"
      ]
     },
     "execution_count": 40,
     "metadata": {},
     "output_type": "execute_result"
    }
   ],
   "source": [
    "def will_weapon_hit(weaponChanceToHitPercentage):\n",
    "    isHitChance = random.uniform(0, 100)\n",
    "    # print(isHitChance)\n",
    "    if isHitChance < weaponChanceToHitPercentage:\n",
    "        return 'hit'\n",
    "    else:\n",
    "        return 'not hit'\n",
    "    \n",
    "will_weapon_hit(50)"
   ]
  },
  {
   "cell_type": "code",
   "execution_count": 48,
   "metadata": {},
   "outputs": [
    {
     "name": "stdout",
     "output_type": "stream",
     "text": [
      "49\n",
      "51\n"
     ]
    }
   ],
   "source": [
    "listHit = []\n",
    "x = 0\n",
    "while x < 100:\n",
    "    x += 1\n",
    "    listHit.append(will_weapon_hit(50))\n",
    "print(listHit.count('hit'))\n",
    "print(listHit.count('not hit'))\n",
    "# print(listHit)"
   ]
  },
  {
   "cell_type": "code",
   "execution_count": 50,
   "metadata": {},
   "outputs": [
    {
     "name": "stdout",
     "output_type": "stream",
     "text": [
      "Counter({'not hit': 51, 'hit': 49})\n"
     ]
    }
   ],
   "source": [
    "from collections import Counter\n",
    "\n",
    "dictionaryHit = Counter(listHit)\n",
    "print(dictionaryHit)"
   ]
  },
  {
   "cell_type": "markdown",
   "metadata": {},
   "source": [
    "## Choice\n",
    "## Choices"
   ]
  },
  {
   "cell_type": "code",
   "execution_count": 56,
   "metadata": {},
   "outputs": [
    {
     "name": "stdout",
     "output_type": "stream",
     "text": [
      "tytuł 4\n"
     ]
    }
   ],
   "source": [
    "movielist = [\"tytuł 1\", \"tytuł 2\", \"tytuł 3\", \"tytuł 4\", \"tytuł 5\", \"tytuł 6\"]\n",
    "print(random.choice(movielist))"
   ]
  },
  {
   "cell_type": "code",
   "execution_count": 63,
   "metadata": {},
   "outputs": [
    {
     "name": "stdout",
     "output_type": "stream",
     "text": [
      "Counter({'tytuł 1': 59, 'tytuł 2': 27, 'tytuł 3': 7, 'tytuł 4': 3, 'tytuł 6': 3, 'tytuł 5': 1})\n"
     ]
    }
   ],
   "source": [
    "print(Counter(random.choices(movielist, [50, 25, 10, 5, 3, 2], k = 100)))"
   ]
  },
  {
   "cell_type": "markdown",
   "metadata": {},
   "source": [
    "## Funkcja shuffle"
   ]
  },
  {
   "cell_type": "code",
   "execution_count": 8,
   "metadata": {},
   "outputs": [
    {
     "name": "stdout",
     "output_type": "stream",
     "text": [
      "['Joker', '9', 'Jack', 'Ace', '10', 'Jack', 'Ace', '9', 'Ace', '10', 'Ace', 'Queen', 'Jack', '10', 'Queen', 'King', '10', 'King', '9', 'Queen', 'King', '9', 'King', 'Jack', 'Queen', 'Joker']\n"
     ]
    }
   ],
   "source": [
    "import random\n",
    "\n",
    "cardlist = [\"9\",\"9\",\"9\",\"9\",\n",
    "            \"10\",\"10\",\"10\",\"10\",\n",
    "            \"Jack\",\"Jack\",\"Jack\",\"Jack\",\n",
    "            \"Queen\",\"Queen\",\"Queen\",\"Queen\",\n",
    "            \"King\",\"King\",\"King\",\"King\",\n",
    "            \"Ace\",\"Ace\",\"Ace\",\"Ace\",\n",
    "            \"Joker\", \"Joker\"]\n",
    "\n",
    "random.shuffle(cardlist)\n",
    "\n",
    "print(cardlist)"
   ]
  },
  {
   "cell_type": "markdown",
   "metadata": {},
   "source": [
    "## Funkcja, która zasymuluje jak działa lotto, tzn. wybierz 6 UNIKALNYCH liczb z 49"
   ]
  },
  {
   "cell_type": "markdown",
   "metadata": {},
   "source": [
    "**Moje rozwiązanie**"
   ]
  },
  {
   "cell_type": "code",
   "execution_count": 42,
   "metadata": {},
   "outputs": [
    {
     "name": "stdout",
     "output_type": "stream",
     "text": [
      "[36, 14, 13, 29, 26, 10]\n"
     ]
    }
   ],
   "source": [
    "from collections import Counter\n",
    "empty_container = []\n",
    "\n",
    "def lotto(amount, total_amount):\n",
    "    while len(empty_container) < amount:\n",
    "        chosen_number = random.randint(1, total_amount)\n",
    "        if chosen_number in empty_container:\n",
    "            continue\n",
    "        else:\n",
    "            empty_container.append(chosen_number)\n",
    "    print(empty_container)\n",
    "\n",
    "lotto(6, 49)\n",
    "    "
   ]
  },
  {
   "cell_type": "markdown",
   "metadata": {},
   "source": [
    "**Rozwiązanie z kursu**"
   ]
  },
  {
   "cell_type": "code",
   "execution_count": 43,
   "metadata": {},
   "outputs": [
    {
     "name": "stdout",
     "output_type": "stream",
     "text": [
      "[3, 28, 35, 7, 48, 26]\n"
     ]
    }
   ],
   "source": [
    "def lotto_course(amount, total_amount):\n",
    "    print(random.sample(range(total_amount + 1), amount))\n",
    "\n",
    "lotto_course(6, 49)"
   ]
  },
  {
   "cell_type": "markdown",
   "metadata": {},
   "source": [
    "## Gra w karty"
   ]
  },
  {
   "cell_type": "code",
   "execution_count": 74,
   "metadata": {},
   "outputs": [
    {
     "name": "stdout",
     "output_type": "stream",
     "text": [
      "['9', 'Jack', '10', 'Queen', '10']\n",
      "['Queen', 'King', 'Queen', 'Queen', 'Ace']\n"
     ]
    }
   ],
   "source": [
    "cardlist = [\"9\",\"9\",\"9\",\"9\",\n",
    "            \"10\",\"10\",\"10\",\"10\",\n",
    "            \"Jack\",\"Jack\",\"Jack\",\"Jack\",\n",
    "            \"Queen\",\"Queen\",\"Queen\",\"Queen\",\n",
    "            \"King\",\"King\",\"King\",\"King\",\n",
    "            \"Ace\",\"Ace\",\"Ace\",\"Ace\",\n",
    "            \"Joker\", \"Joker\"]\n",
    "\n",
    "def player1(first_player, amount_of_theirs_cards):\n",
    "    while len(first_player) < amount_of_theirs_cards:\n",
    "        card = cardlist.pop()\n",
    "        first_player.append(card)\n",
    "    return first_player\n",
    "    \n",
    "\n",
    "def player2(second_player, amount_of_theirs_cards):\n",
    "    while len(second_player) < amount_of_theirs_cards:\n",
    "        card = cardlist.pop()\n",
    "        second_player.append(card)\n",
    "    return second_player\n",
    "\n",
    "def players_cards(cardlist, amount_of_theirs_cards):\n",
    "    if amount_of_theirs_cards * 2 <= len(cardlist):\n",
    "        first_player = []\n",
    "        second_player = []\n",
    "        random.shuffle(cardlist)\n",
    "\n",
    "        for i in range(amount_of_theirs_cards):\n",
    "            player1(first_player=first_player, amount_of_theirs_cards=amount_of_theirs_cards)\n",
    "            player2(second_player=second_player, amount_of_theirs_cards=amount_of_theirs_cards)\n",
    "\n",
    "        print(first_player)\n",
    "        print(second_player)\n",
    "    else:\n",
    "        print(\"Chcesz rozdać zbyt dużo kart\")\n",
    "\n",
    "players_cards(cardlist, 5)"
   ]
  },
  {
   "cell_type": "markdown",
   "metadata": {},
   "source": [
    "## Napisz krótką grę, w której masz 5 ruchów w jedną stronę poprzez KOMNATĘ. \n",
    "## Za każdym razem masz szansę spotkać po drodze skrzynkę lub NIC.\n",
    "## Skrzynki mają różne kolory.\n",
    "## Kolor skrzynki oznacza jak rzadka jest ta skrzynka.\n",
    "**Zielona - 75%**\n",
    "**pomarańczowa - 20%**\n",
    "**fioletowa - 4%**\n",
    "**złota (legendarna) - 1%**\n",
    "\n",
    "## Ustaw, że jest 40 % szansy, że nie spotkasz niczego, a 60%, że będzie jakaś skrzynka.\n",
    "## Ustaw złoto, które może wypaść ze skrzynki:\n",
    "**Zielona - 1000**\n",
    "**pomarańczowa - 4000**\n",
    "**fioletowa - 9000**\n",
    "**złota (legendarna) - 16000**"
   ]
  },
  {
   "cell_type": "code",
   "execution_count": 19,
   "metadata": {},
   "outputs": [
    {
     "name": "stdout",
     "output_type": "stream",
     "text": [
      "Its your 1 step\n",
      "You din't find anything\n",
      "\n",
      "After your 1 step you earned 0\n",
      "\n",
      "Its your 2 step\n",
      "You find something!\n",
      "The chest you found is: zielona\n",
      "After your 2 step you earned 926\n",
      "\n",
      "Its your 3 step\n",
      "You din't find anything\n",
      "\n",
      "After your 3 step you earned 926\n",
      "\n",
      "Its your 4 step\n",
      "You find something!\n",
      "The chest you found is: złota\n",
      "After your 4 step you earned 18338\n",
      "\n",
      "Its your 5 step\n",
      "You din't find anything\n",
      "\n",
      "After your 5 step you earned 18338\n",
      "\n",
      "Your total earnings: 18338\n"
     ]
    }
   ],
   "source": [
    "# def chance_to_happen():\n",
    "#     chance = random.random()\n",
    "#     if chance < 0.6:\n",
    "#         print(\"\")\n",
    "import random\n",
    "\n",
    "def game():\n",
    "    your_earnings = 0\n",
    "    for step in range(1, 6):\n",
    "        print(f\"Its your {step} step\")\n",
    "        choice = [\"You din't find anything\", \"You find something!\"]\n",
    "        chance_to_lott = random.choices(choice, [0.4, 0.6])\n",
    "        for string in chance_to_lott:\n",
    "            if string == \"You din't find anything\":\n",
    "                print(\"You din't find anything\\n\")\n",
    "                continue\n",
    "            elif string == \"You find something!\":\n",
    "                print(\"You find something!\")\n",
    "                chest_list = [\"zielona\", \"pomarańczowa\", \"fioletowa\", \"złota\"]\n",
    "                chest_choice = random.choices(chest_list, [0.75, 0.2, 0.04, 0.01])\n",
    "                print(f\"The chest you found is: {chest_choice[0]}\")\n",
    "                for string_in_chest_list in chest_choice:\n",
    "                    if string_in_chest_list == \"zielona\":\n",
    "                        gold_from_chest = random.randint(900, 1100)\n",
    "                        your_earnings += gold_from_chest\n",
    "                    elif string_in_chest_list in \"pomarańczowa\":\n",
    "                        gold_from_chest = random.randint(3600, 4400)\n",
    "                        your_earnings += gold_from_chest\n",
    "                    elif string_in_chest_list in \"fioletowa\":\n",
    "                        gold_from_chest = random.randint(8100, 9900)\n",
    "                        your_earnings += gold_from_chest\n",
    "                    elif string_in_chest_list in \"złota\":\n",
    "                        gold_from_chest = random.randint(14400, 17600)\n",
    "                        your_earnings += gold_from_chest\n",
    "                    else:\n",
    "                        print(\"ERROR\")\n",
    "            else:\n",
    "                print(\"ERROR\")\n",
    "        print(f\"After your {step} step you earned {your_earnings}\\n\")\n",
    "    print(f\"Your total earnings: {your_earnings}\")\n",
    "\n",
    "\n",
    "game()"
   ]
  },
  {
   "cell_type": "markdown",
   "metadata": {},
   "source": [
    "## Rozwiązanie z kursu"
   ]
  },
  {
   "cell_type": "code",
   "execution_count": 6,
   "metadata": {},
   "outputs": [
    {
     "name": "stdout",
     "output_type": "stream",
     "text": [
      "Welcome in my game called KOMNATA\n",
      "You have only 5 steps to make,\n",
      "see yourself how much gold you gonna acquire till the end!\n",
      "Great, let's see what you got...\n",
      "You've drawn a CHEST!\n",
      "The chest color is zielony\n",
      "Great, let's see what you got...\n",
      "You've drawn a CHEST!\n",
      "The chest color is pomarańczowy\n",
      "Great, let's see what you got...\n",
      "You've drawn a CHEST!\n",
      "The chest color is fioletowy\n",
      "Great, let's see what you got...\n",
      "You've drawn nothing, you rae so unlucky!\n",
      "Great, let's see what you got...\n",
      "You've drawn a CHEST!\n",
      "The chest color is zielony\n",
      "Congratulation, you have qcquired: 15077\n"
     ]
    }
   ],
   "source": [
    "import random\n",
    "from enum import Enum\n",
    "\n",
    "def findApproximateValue(value, percentRange):\n",
    "    lowestValue = value - (percentRange / 100) * value\n",
    "    highestValue = value + (percentRange / 100) * value\n",
    "    return random.randint(lowestValue, highestValue)\n",
    "\n",
    "Event = Enum('Event', ['Chest', 'Empty'])\n",
    "# print(Event)\n",
    "\n",
    "eventDictionary = {\n",
    "    Event.Chest: 0.6,\n",
    "    Event.Empty: 0.4\n",
    "}\n",
    "\n",
    "eventList = tuple(eventDictionary.keys())\n",
    "eventProbability = tuple(eventDictionary.values())\n",
    "\n",
    "\n",
    "\n",
    "Colors = Enum('Colors', {'Green': 'zielony',\n",
    "                         'Orange': 'pomarańczowy',\n",
    "                         'Purple': 'fioletowy',\n",
    "                         'Gold': 'złoty'\n",
    "    \n",
    "})\n",
    "chestColorDictionary = {\n",
    "    Colors.Green: 0.75,\n",
    "    Colors.Orange: 0.2,\n",
    "    Colors.Purple: 0.04,\n",
    "    Colors.Gold: 0.01\n",
    "}\n",
    "\n",
    "chestColorList = tuple(chestColorDictionary.keys())\n",
    "chestColorProbability = tuple(chestColorDictionary.values())\n",
    "\n",
    "\n",
    "rewardfromchest = {\n",
    "    chestColorList[reward]: (reward + 1) * (reward + 1) * 1000\n",
    "    for reward in range(len(chestColorList))\n",
    "}\n",
    "\n",
    "\n",
    "gameLenght = 5\n",
    "goldacquired = 0\n",
    "print(\"Welcome in my game called KOMNATA\")\n",
    "print(\"\"\"You have only 5 steps to make,\n",
    "see yourself how much gold you gonna acquire till the end!\"\"\")\n",
    "\n",
    "while gameLenght > 0:\n",
    "    gamerAnswer = input(\"Do you want to move forward\")\n",
    "    if gamerAnswer == \"yes\":\n",
    "        print(\"Great, let's see what you got...\")\n",
    "        drawnEvent = random.choices(eventList, eventProbability)[0]\n",
    "        if drawnEvent == Event.Chest:\n",
    "            print(\"You've drawn a CHEST!\")\n",
    "            drawnColor = random.choices(chestColorList, chestColorProbability)[0]\n",
    "            print(\"The chest color is\", drawnColor.value)\n",
    "            gamerreward = findApproximateValue(rewardfromchest[drawnColor], 10)\n",
    "            goldacquired = goldacquired + gamerreward\n",
    "        elif drawnEvent == Event.Empty:\n",
    "            print(\"You've drawn nothing, you rae so unlucky!\")\n",
    "    else:\n",
    "        print(\"You can go just straight man, nothing else, this game is dumb\")\n",
    "        continue\n",
    "    gameLenght -= 1\n",
    "\n",
    "print(\"Congratulation, you have qcquired:\", goldacquired)"
   ]
  },
  {
   "cell_type": "markdown",
   "metadata": {},
   "source": [
    "## Kalendarz"
   ]
  },
  {
   "cell_type": "code",
   "execution_count": 1,
   "metadata": {},
   "outputs": [
    {
     "name": "stdout",
     "output_type": "stream",
     "text": [
      "11 - 2023\n",
      "Mon Tue Wed Thu Fri Sat Sun\n",
      "----------------------------\n",
      "           1    2    3    4    5   \n",
      " 6    7    8    9   10   11   12   \n",
      "13   14   15   16   17   18   19   \n",
      "20   21   22   23   24   25   26   \n",
      "27   28   29   30   \n",
      "\n"
     ]
    }
   ],
   "source": [
    "def is_leap_year(year):\n",
    "    if year % 4 == 0:\n",
    "        if year % 100 == 0:\n",
    "            if year % 400 == 0:\n",
    "                return True\n",
    "            return False\n",
    "        return True\n",
    "    return False\n",
    "\n",
    "def generate_calendar(year, month):\n",
    "    days = ['Mon', 'Tue', 'Wed', 'Thu', 'Fri', 'Sat', 'Sun']\n",
    "\n",
    "    month_days = [31, 28, 31, 30, 31, 30, 31, 31, 30, 31, 30, 31]\n",
    "\n",
    "    if is_leap_year(year):\n",
    "        month_days[1] = 29\n",
    "\n",
    "    q = 1\n",
    "    if month in [1, 2]:\n",
    "        month += 12\n",
    "        year -= 1\n",
    "    K = year % 100\n",
    "    J = year // 100\n",
    "    m = month\n",
    "    h = (q + ((13 * (m + 1)) // 5) + K + (K // 4) + (J // 4) - 2 * J) % 7\n",
    "    start_day = (h + 5) % 7\n",
    "\n",
    "    # Print the calendar\n",
    "    print(f\"{month} - {year}\")\n",
    "    print(\" \".join(days))\n",
    "    print(\"----\" * 7)\n",
    "\n",
    "    current_day = 1\n",
    "    for i in range(6):\n",
    "        for j in range(7):\n",
    "            if i == 0 and j < start_day:\n",
    "                print(\"    \", end=\" \")\n",
    "            elif current_day > month_days[month - 1]:\n",
    "                break\n",
    "            else:\n",
    "                print(f\"{current_day:2}\", end=\"   \")\n",
    "                current_day += 1\n",
    "        print()\n",
    "\n",
    "# calendar for November 2023\n",
    "generate_calendar(2023, 11)"
   ]
  }
 ],
 "metadata": {
  "kernelspec": {
   "display_name": "base",
   "language": "python",
   "name": "python3"
  },
  "language_info": {
   "codemirror_mode": {
    "name": "ipython",
    "version": 3
   },
   "file_extension": ".py",
   "mimetype": "text/x-python",
   "name": "python",
   "nbconvert_exporter": "python",
   "pygments_lexer": "ipython3",
   "version": "3.9.15"
  },
  "orig_nbformat": 4
 },
 "nbformat": 4,
 "nbformat_minor": 2
}
