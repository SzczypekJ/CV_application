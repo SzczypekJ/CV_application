{
 "cells": [
  {
   "cell_type": "markdown",
   "metadata": {},
   "source": [
    "## Zapisywanie danych do pliku w formacie JSON"
   ]
  },
  {
   "cell_type": "markdown",
   "metadata": {},
   "source": [
    "dumps() - zapisuje dane do postaci stringowej"
   ]
  },
  {
   "cell_type": "code",
   "execution_count": 2,
   "metadata": {},
   "outputs": [
    {
     "name": "stdout",
     "output_type": "stream",
     "text": [
      "{\"title\": \"Ale ja nie będę tego robił!\", \"realease_year\": 1969, \"Won_Oscar\": true, \"actors\": [\"Arkadiusz Włodarczyk\", \"Wiolleta Włodarczyk\"], \"Budget\": null, \"credits\": {\"director\": \"Arkadiusz Włodarczyk\", \"writer\": \"Alan Burger\", \"animator\": \"Anime Matrix\"}}\n"
     ]
    }
   ],
   "source": [
    "import json\n",
    "\n",
    "film = {\n",
    "    \"title\" : \"Ale ja nie będę tego robił!\",\n",
    "    \"realease_year\" : 1969,\n",
    "    \"Won_Oscar\" : True,\n",
    "    \"actors\" : (\"Arkadiusz Włodarczyk\", \"Wiolleta Włodarczyk\"),\n",
    "    \"Budget\" : None,\n",
    "    \"credits\" : {\n",
    "        \"director\" : \"Arkadiusz Włodarczyk\",\n",
    "        \"writer\" : \"Alan Burger\",\n",
    "        \"animator\" : \"Anime Matrix\"\n",
    "    }\n",
    "}\n",
    "print(json.dumps(film, ensure_ascii=False))"
   ]
  },
  {
   "cell_type": "code",
   "execution_count": 3,
   "metadata": {},
   "outputs": [],
   "source": [
    "with open(\"sample.json\", \"w\", encoding=\"UTF-8\") as file:\n",
    "\n",
    "    json.dump(film, file, ensure_ascii=False)   "
   ]
  },
  {
   "cell_type": "markdown",
   "metadata": {},
   "source": [
    "## Odczytywanie danych typu JSON"
   ]
  },
  {
   "cell_type": "code",
   "execution_count": 4,
   "metadata": {},
   "outputs": [
    {
     "name": "stdout",
     "output_type": "stream",
     "text": [
      "{'title': 'Ale ja nie będę tego robił!', 'realease_year': 1969, 'Won_Oscar': True, 'actors': ['Arkadiusz Włodarczyk', 'Wiolleta Włodarczyk'], 'Budget': None, 'credits': {'director': 'Arkadiusz Włodarczyk', 'writer': 'Alan Burger', 'animator': 'Anime Matrix'}}\n"
     ]
    }
   ],
   "source": [
    "encodedRetrievedMovie = '{\"title\": \"Ale ja nie będę tego robił!\", \"realease_year\": 1969, \"Won_Oscar\": true, \"actors\": [\"Arkadiusz Włodarczyk\", \"Wiolleta Włodarczyk\"], \"Budget\": null, \"credits\": {\"director\": \"Arkadiusz Włodarczyk\", \"writer\": \"Alan Burger\", \"animator\": \"Anime Matrix\"}}'\n",
    "decodedMovie = json.loads(encodedRetrievedMovie)\n",
    "print(decodedMovie)"
   ]
  },
  {
   "cell_type": "code",
   "execution_count": 5,
   "metadata": {},
   "outputs": [
    {
     "name": "stdout",
     "output_type": "stream",
     "text": [
      "{'title': 'Ale ja nie będę tego robił!', 'realease_year': 1969, 'Won_Oscar': True, 'actors': ['Arkadiusz Włodarczyk', 'Wiolleta Włodarczyk'], 'Budget': None, 'credits': {'director': 'Arkadiusz Włodarczyk', 'writer': 'Alan Burger', 'animator': 'Anime Matrix'}}\n"
     ]
    }
   ],
   "source": [
    "with open(\"sample.json\", encoding=\"UTF-8\") as file:\n",
    "    wynik = json.load(file)\n",
    "\n",
    "print(wynik)"
   ]
  },
  {
   "cell_type": "markdown",
   "metadata": {},
   "source": [
    "## Pretty printer - ładniejsze odczytywanie/zapisywanie kodu w JSON"
   ]
  },
  {
   "cell_type": "code",
   "execution_count": 6,
   "metadata": {},
   "outputs": [
    {
     "name": "stdout",
     "output_type": "stream",
     "text": [
      "{\n",
      "    \"title\": \"Ale ja nie będę tego robił!\",\n",
      "    \"realease_year\": 1969,\n",
      "    \"Won_Oscar\": true,\n",
      "    \"actors\": [\n",
      "        \"Arkadiusz Włodarczyk\",\n",
      "        \"Wiolleta Włodarczyk\"\n",
      "    ],\n",
      "    \"Budget\": null,\n",
      "    \"credits\": {\n",
      "        \"director\": \"Arkadiusz Włodarczyk\",\n",
      "        \"writer\": \"Alan Burger\",\n",
      "        \"animator\": \"Anime Matrix\"\n",
      "    }\n",
      "}\n"
     ]
    }
   ],
   "source": [
    "encodedFilm = json.dumps(film, ensure_ascii=False, indent=4)\n",
    "\n",
    "with open(\"sample.json\", \"w\", encoding=\"UTF-8\") as file:\n",
    "\n",
    "    json.dump(film, file, ensure_ascii=False, indent=4)\n",
    "\n",
    "print(encodedFilm)\n"
   ]
  },
  {
   "cell_type": "code",
   "execution_count": 7,
   "metadata": {},
   "outputs": [
    {
     "name": "stdout",
     "output_type": "stream",
     "text": [
      "{'Budget': None,\n",
      " 'Won_Oscar': True,\n",
      " 'actors': ['Arkadiusz Włodarczyk', 'Wiolleta Włodarczyk'],\n",
      " 'credits': {'animator': 'Anime Matrix',\n",
      "             'director': 'Arkadiusz Włodarczyk',\n",
      "             'writer': 'Alan Burger'},\n",
      " 'realease_year': 1969,\n",
      " 'title': 'Ale ja nie będę tego robił!'}\n"
     ]
    }
   ],
   "source": [
    "import pprint\n",
    "\n",
    "with open(\"sample.json\", encoding=\"UTF-8\") as file:\n",
    "    wynik = json.load(file)\n",
    "\n",
    "pprint.pprint(wynik)"
   ]
  },
  {
   "cell_type": "markdown",
   "metadata": {},
   "source": [
    "## REQUEST"
   ]
  },
  {
   "cell_type": "code",
   "execution_count": 19,
   "metadata": {},
   "outputs": [
    {
     "name": "stdout",
     "output_type": "stream",
     "text": [
      "['https://www.udemy.com/course/python-od-podstaw-dla-poczatkujacych/learn/lecture/16023044#questions', 'https://ogladajanime.pl/anime/grisaia-no-kajitsu/8', 'https://www.facebook.com', 'https://www.youtube.com/watch?v=kOPfx8UxPiE', 'https://chat.openai.com/c/499c871d-56d3-4b3b-bcdf-b5adbc687cd7/asdasf083e7']\n",
      "['https://ogladajanime.pl/anime/grisaia-no-kajitsu/8', 'https://www.facebook.com', 'https://www.youtube.com/watch?v=kOPfx8UxPiE']\n"
     ]
    }
   ],
   "source": [
    "import requests\n",
    "\n",
    "lista_stron = [\"https://www.udemy.com/course/python-od-podstaw-dla-poczatkujacych/learn/lecture/16023044#questions\", \n",
    "               \"https://ogladajanime.pl/anime/grisaia-no-kajitsu/8\",\n",
    "               \"https://www.facebook.com\",\n",
    "               \"https://www.youtube.com/watch?v=kOPfx8UxPiE\",\n",
    "               \"https://chat.openai.com/c/499c871d-56d3-4b3b-bcdf-b5adbc687cd7/asdasf083e7\"]\n",
    "\n",
    "with open(\"lista_stron.txt\", \"w\", encoding=\"UTF-8\") as file:\n",
    "    for i in lista_stron:\n",
    "        file.write(i + \"\\n\")\n",
    "\n",
    "def file_reader(file):\n",
    "    try:\n",
    "        with open(file, \"r\", encoding=\"UTF-8\") as file:\n",
    "            filewithwebs = file.readlines()\n",
    "            filewithwebs = [x.replace(\"\\n\", \"\") for x in filewithwebs]\n",
    "            return filewithwebs\n",
    "    except FileNotFoundError:\n",
    "        print(\"Plik o podanej nazwie nie istnieje\")\n",
    "\n",
    "def web_checker(url):\n",
    "    try:\n",
    "        website = requests.get(url)\n",
    "        if website.status_code == 200:\n",
    "            return True\n",
    "        else:\n",
    "            return False\n",
    "    except:\n",
    "        return False\n",
    "\n",
    "def good_web_filter(websites):\n",
    "    goodWebs = []\n",
    "    for web in websites:\n",
    "        if web_checker(web) == True:\n",
    "            goodWebs.append(web)\n",
    "    return goodWebs\n",
    "\n",
    "def save_good_webs(websites, fileName):\n",
    "    with open(fileName, \"w+\", encoding=\"UTF-8\") as file:\n",
    "        for website in websites:\n",
    "            file.write(website)\n",
    "\n",
    "webFile = file_reader(\"lista_stron.txt\")\n",
    "print(webFile)\n",
    "goodWebList = good_web_filter(webFile)\n",
    "print(goodWebList)\n",
    "save_good_webs(goodWebList, \"Finalna Lista.txt\")"
   ]
  },
  {
   "cell_type": "markdown",
   "metadata": {},
   "source": [
    "## Łączenie się z zewnetrzną stroną JSON"
   ]
  },
  {
   "cell_type": "code",
   "execution_count": 1,
   "metadata": {},
   "outputs": [
    {
     "name": "stdout",
     "output_type": "stream",
     "text": [
      "Wręczamy ciasteczko mistrzunia dyscypliny do użytkowników o imieniu: Chelsey Dietrich\n",
      "Wręczamy ciasteczko mistrzunia dyscypliny do użytkowników o imieniu: Clementina DuBuque\n"
     ]
    }
   ],
   "source": [
    "import json\n",
    "import requests\n",
    "\n",
    "def count_task_frequency(tasks):\n",
    "    completed_task_frequency_by_user = {}\n",
    "    for entry in tasks:\n",
    "        if entry[\"completed\"] == True:\n",
    "            try:\n",
    "                completed_task_frequency_by_user[entry[\"userId\"]] += 1\n",
    "            except KeyError:\n",
    "                completed_task_frequency_by_user[entry[\"userId\"]] = 1\n",
    "\n",
    "    return completed_task_frequency_by_user\n",
    "\n",
    "def get_users_with_top_completed_taks(completed_task_frequency_by_user):\n",
    "    users_with_max_completed_task = []\n",
    "    max_amount_of_completed_task = max(completed_task_frequency_by_user.values())\n",
    "    for userId, number_of_completed_task in completed_task_frequency_by_user.items():\n",
    "        if number_of_completed_task == max_amount_of_completed_task:\n",
    "            users_with_max_completed_task.append(userId)\n",
    "\n",
    "    return users_with_max_completed_task\n",
    "\n",
    "r = requests.get(\"https://jsonplaceholder.typicode.com/todos\")\n",
    "\n",
    "#tasks = json.loads(r.text) - nie sprawdza czy na stronie faktycznie znajdują się pliki typu JSON\n",
    "\n",
    "try:\n",
    "    tasks = r.json()  #sprawdza czy pliki są typu JSON\n",
    "except json.decoder.JSONDecodeError:\n",
    "    print(\"Nie poprawny format\")\n",
    "else:\n",
    "    completed_task_frequency_by_user = count_task_frequency(tasks)\n",
    "    users_with_top_completed_taks_values = get_users_with_top_completed_taks(completed_task_frequency_by_user) \n",
    "\n",
    "\n",
    "# sposób 1\n",
    "r = requests.get(\"https://jsonplaceholder.typicode.com/users\")\n",
    "\n",
    "def find_name_of_user(users):\n",
    "    for user in users:\n",
    "        if user[\"id\"] in users_with_top_completed_taks_values:\n",
    "            print(\"Wręczamy ciasteczko mistrzunia dyscypliny do użytkowników o imieniu:\", user[\"name\"])\n",
    "\n",
    "try:\n",
    "    users = r.json() #sprawdza czy pliki są typu JSON\n",
    "except json.decoder.JSONDecodeError:\n",
    "    print(\"Nie poprawny format\")\n",
    "else:\n",
    "    user_name_which_completed_the_most_tasks = find_name_of_user(users)"
   ]
  },
  {
   "cell_type": "code",
   "execution_count": 2,
   "metadata": {},
   "outputs": [
    {
     "name": "stdout",
     "output_type": "stream",
     "text": [
      "Wręczamy ciasteczko mistrzunia dyscypliny do użytkowników o imieniu: Chelsey Dietrich\n",
      "Wręczamy ciasteczko mistrzunia dyscypliny do użytkowników o imieniu: Clementina DuBuque\n"
     ]
    }
   ],
   "source": [
    "# sposób 2\n",
    "for userId in users_with_top_completed_taks_values:\n",
    "    r = requests.get(\"https://jsonplaceholder.typicode.com/users/\" + str(userId)) #dajemy /5 na koniec co oznacza odwołanie się do konkretnej osoby o id = 5\n",
    "    user = r.json()\n",
    "    print(\"Wręczamy ciasteczko mistrzunia dyscypliny do użytkowników o imieniu:\", user[\"name\"])"
   ]
  },
  {
   "cell_type": "code",
   "execution_count": 11,
   "metadata": {},
   "outputs": [
    {
     "name": "stdout",
     "output_type": "stream",
     "text": [
      "Wręczamy ciasteczko mistrzunia dyscypliny do użytkowników o imieniu: Chelsey Dietrich\n",
      "Wręczamy ciasteczko mistrzunia dyscypliny do użytkowników o imieniu: Clementina DuBuque\n"
     ]
    }
   ],
   "source": [
    "# sposób 3\n",
    "\n",
    "def change_list_into_conj_of_param (my_list, key= \"id\"):\n",
    "    conj_param = key + \"=\"\n",
    "    lastIteration= len(my_list)\n",
    "    i = 0\n",
    "    for item in my_list:\n",
    "        i += 1\n",
    "        if (i == lastIteration):\n",
    "            conj_param += str(item)\n",
    "        else:\n",
    "            conj_param += str(item) + \"&\" + key + \"=\"\n",
    "    return conj_param\n",
    "\n",
    "conj_param = change_list_into_conj_of_param(users_with_top_completed_taks_values)\n",
    "\n",
    "r = requests.get(\"https://jsonplaceholder.typicode.com/users\", params=conj_param)\n",
    "users = r.json()\n",
    "for user in users:\n",
    "    print(\"Wręczamy ciasteczko mistrzunia dyscypliny do użytkowników o imieniu:\", user[\"name\"])"
   ]
  }
 ],
 "metadata": {
  "kernelspec": {
   "display_name": "base",
   "language": "python",
   "name": "python3"
  },
  "language_info": {
   "codemirror_mode": {
    "name": "ipython",
    "version": 3
   },
   "file_extension": ".py",
   "mimetype": "text/x-python",
   "name": "python",
   "nbconvert_exporter": "python",
   "pygments_lexer": "ipython3",
   "version": "3.9.15"
  }
 },
 "nbformat": 4,
 "nbformat_minor": 2
}
