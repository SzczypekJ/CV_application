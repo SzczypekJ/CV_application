{
 "cells": [
  {
   "cell_type": "code",
   "execution_count": null,
   "metadata": {},
   "outputs": [],
   "source": [
    "try:\n",
    "    file = open(\"test\", \"w\")\n",
    "    file.write(\"sample\")\n",
    "    file.write(\"sample\")\n",
    "finally:\n",
    "    file.close()"
   ]
  },
  {
   "cell_type": "code",
   "execution_count": null,
   "metadata": {},
   "outputs": [],
   "source": [
    "with open(\"test.txt\", \"w\") as file:\n",
    "    file.write(\"sample\")\n",
    "    a = 5\n",
    "    file.write(\"sample\")"
   ]
  },
  {
   "cell_type": "code",
   "execution_count": null,
   "metadata": {},
   "outputs": [],
   "source": [
    "with open(\"Oceany.txt\", \"r\", encoding=\"UTF-8\") as file:\n",
    "    oceany = file.read().splitlines()\n",
    "    print(oceany)"
   ]
  },
  {
   "cell_type": "code",
   "execution_count": null,
   "metadata": {},
   "outputs": [],
   "source": [
    "with open(\"Oceany.txt\", \"r\", encoding=\"UTF-8\") as file:\n",
    "    print(file.readline())\n",
    "    print(file.tell())\n",
    "    print(file.readline())\n",
    "    print(file.tell())\n",
    "    file.seek(0)\n",
    "    print(file.tell())\n",
    "    print(file.readline())\n",
    "    print(file.tell())"
   ]
  },
  {
   "cell_type": "code",
   "execution_count": null,
   "metadata": {},
   "outputs": [],
   "source": [
    "with open(\"Oceany.txt\", \"a\", encoding=\"UTF-8\") as file:\n",
    "    file.write(\"\\nNowy Ocean\")\n"
   ]
  },
  {
   "cell_type": "markdown",
   "metadata": {},
   "source": [
    "## Ćwiczenie:\n",
    "Wczytaj imiona i nazwiska z pliku o nazwie:\n",
    "imionanazwiska.txt\n",
    "\n",
    "1) rozdziel je tak, aby powstała lista krotek, gdzie wewnętrzne krotki to pary imiona/nazwiska\n",
    "2) zapisz imiona do pliku imiona.txt\n",
    "3) zapisz nazwiska do pliku nazwiska.txt\n",
    "\n",
    "Zastananów się jak rozwiązać problem, gdy nie ma podanego nazwiska w pliku imionanazwiska.txt, gdy będziesz zapisywał nazwiska do pliku nazwiska.txt"
   ]
  },
  {
   "cell_type": "code",
   "execution_count": 41,
   "metadata": {},
   "outputs": [
    {
     "name": "stdout",
     "output_type": "stream",
     "text": [
      "[('Jakub', 'Szczypek')]\n",
      "[('Jakub', 'Szczypek'), ('Michał', 'Bąk')]\n",
      "[('Jakub', 'Szczypek'), ('Michał', 'Bąk'), ('Daria', 'Ścisłowska')]\n",
      "[('Jakub', 'Szczypek'), ('Michał', 'Bąk'), ('Daria', 'Ścisłowska'), ('Łukasz',)]\n"
     ]
    }
   ],
   "source": [
    "listakrotek = []\n",
    "with open(\"imionanazwiska.txt\", \"r\", encoding=\"UTF-8\") as file:\n",
    "    for line in file:\n",
    "        listakrotek.append(tuple(line.replace(\"\\n\", \"\").split(\" \")))\n",
    "        print(listakrotek)\n",
    "\n",
    "with open(\"imiona.txt\", \"w\", encoding=\"UTF-8\") as file:\n",
    "    for item in listakrotek:\n",
    "        file.write(item[0] + \"\\n\")\n",
    "\n",
    "with open(\"nazwiska.txt\", \"w\", encoding=\"UTF-8\") as file:\n",
    "    for item in listakrotek:\n",
    "        if len(item) == 2:\n",
    "            file.write(item[1] + \"\\n\")\n",
    "        else:\n",
    "            file.write(\"\\n\")\n",
    "\n",
    "# Opcja 2 - Wersja bardziej profesjonalna\n",
    "# with open(\"nazwiska.txt\", \"w\", encoding=\"UTF-8\") as file:\n",
    "#     for item in listakrotek:\n",
    "#         try:\n",
    "#             file.write(item[1] + \"\\n\")\n",
    "#         except IndexError:\n",
    "#             file.write(\"\\n\")"
   ]
  },
  {
   "cell_type": "markdown",
   "metadata": {},
   "source": [
    "Stwórz funkcję, która obsługuje otwieranie pliku do wczytywania danych.\n",
    "\n",
    "Zapytaj się użytkownika o nazwę pliku, który chce otworzyć do wczytania.\n",
    "\n",
    "Jeśli plik nie istnieje wypisz mu odpowiedni komunikat.\n",
    "\n",
    "Jeśli plik istnieje wczytaj całą jego zawartość i zwróć jako wynik funkcji.\n",
    "\n",
    "Podpowiedź: skorzystaj z wiedzy dotyczącej obsługi wyjątków z poprzedniej lekcji:\n",
    "\n",
    "except FileNotFoundError:"
   ]
  },
  {
   "cell_type": "code",
   "execution_count": 46,
   "metadata": {},
   "outputs": [
    {
     "data": {
      "text/plain": [
       "'Przeczytaj to zdanie.'"
      ]
     },
     "execution_count": 46,
     "metadata": {},
     "output_type": "execute_result"
    }
   ],
   "source": [
    "def open_file(name_of_file):\n",
    "    try:\n",
    "        with open(name_of_file, \"r\", encoding=\"UTF-8\") as file:\n",
    "            return file.read()\n",
    "    except FileNotFoundError:\n",
    "          print(\"Taki plik nie istenieje\")\n",
    "\n",
    "name_of_file = input(\"Podaj nazwę pliku którą chcesz otworzyć:\")\n",
    "open_file(name_of_file)"
   ]
  },
  {
   "cell_type": "markdown",
   "metadata": {},
   "source": [
    "ĆWICZENIE: Częstotliwość występowania słowa w pliku\n",
    "1) Napisz kod, który sprawdzi, jak często słowo \"kot\" występuje w pliku \"tekst.txt\".\n",
    "\n",
    "Dane wejściowe:\n",
    "\n",
    "Ścieżka do pliku: \"tekst.txt\"\n",
    "\n",
    "Słowo do wyszukania: \"kot\"\n",
    "\n",
    "Dane wyjściowe:\n",
    "\n",
    "Liczba wystąpień słowa \"kot\" w pliku \"tekst.txt\":\n",
    "\n",
    "Przykład:\n",
    "\n",
    "Jeśli w pliku \"tekst.txt\" znajduje się tekst \"Kot jest bardzo fajnym zwierzęciem\", to kod powinien wyświetlić \"Słowo 'kot' wystąpiło 1 razy w pliku 'tekst.txt'.\"\n",
    "\n",
    "Wskazówki:\n",
    "\n",
    "Otwórz plik w trybie odczytu i za pomocą metody count zlicz wystąpienia słowa w całym pliku.\n",
    "\n",
    "Wyświetl wynik za pomocą instrukcji print.\n",
    "\n",
    "2) Pamiętaj o obsłudze wyjątków!\n",
    "\n",
    "FileNotFoundError występuje, gdy plik o podanej ścieżce nie zostanie znaleziony.\n",
    "\n",
    "PermissionError występuje, gdy brak jest uprawnień do odczytu pliku.\n",
    "\n",
    "3) Gdy wypiszesz dane skorzystaj z formatted stringa\n",
    "\n",
    "Przykład:\n",
    "\n",
    "imie = \"Jan\"\n",
    "wiek = 30\n",
    " \n",
    "print(f\"Cześć, nazywam się {imie} i mam {wiek} lat.\")  # wyświetli \"Cześć, nazywam się Jan i mam 30 lat.\"\n",
    "\"f\" na początku ciągu znaków oznacza, że jest to tzw. f-string (ang. formatted string).\n",
    "\n",
    "F-string to nowa wersja ciągów znaków w Pythonie, która pozwala na szybkie i łatwe formatowanie ciągów znaków za pomocą zmiennych i wyrażeń.\n",
    "\n",
    "F-string pozwala na oszczędzenie czasu i linii kodu, ponieważ nie trzeba już używać operatora \"+\" do połączenia ciągów znaków ze zmiennymi.\n",
    "\n",
    "Uwaga: f-string dostępny jest od Python 3.6. Jeśli używasz starszej wersji Pythona, możesz użyć operatora \"+\" do formatowania ciągów znaków."
   ]
  },
  {
   "cell_type": "code",
   "execution_count": 95,
   "metadata": {},
   "outputs": [
    {
     "name": "stdout",
     "output_type": "stream",
     "text": [
      "Słowo kot nie występuje w tym pliku\n"
     ]
    }
   ],
   "source": [
    "ile_razy_wystapil_kot = 0\n",
    "try:\n",
    "    with open(\"tekst.txt\", \"r\", encoding=\"UTF-8\") as file:\n",
    "        tekst_w_pliku = file.read()\n",
    "\n",
    "        podziel_wyrazy = tekst_w_pliku.split()\n",
    "\n",
    "        zmien_litery = [string.lower() for string in podziel_wyrazy]\n",
    "        for word in zmien_litery:\n",
    "            if word == \"kot\":\n",
    "                ile_razy_wystapil_kot += 1\n",
    "\n",
    "        if ile_razy_wystapil_kot == 0:\n",
    "            print(\"Słowo kot nie występuje w tym pliku\")\n",
    "        elif ile_razy_wystapil_kot > 0:\n",
    "            print(f\"Słowo kot w tym pliku występuje {ile_razy_wystapil_kot} razy\")\n",
    "except FileNotFoundError:\n",
    "    print(\"Taki plik nie istenieje\")\n",
    "except PermissionError:\n",
    "    print(\"Brak uprawnień do odczytu\")"
   ]
  },
  {
   "cell_type": "markdown",
   "metadata": {},
   "source": [
    "## Rozwiązanie zadanie z UDEMY - jest znacznie sprytniejsze i szybsze niż moje"
   ]
  },
  {
   "cell_type": "code",
   "execution_count": 94,
   "metadata": {},
   "outputs": [
    {
     "name": "stdout",
     "output_type": "stream",
     "text": [
      "kkot jest bardzo fajnym zwierzęciem\n",
      "Liczba wystąpień 'kot' w pliku tekst.txt to 1.\n"
     ]
    }
   ],
   "source": [
    "sciezka = \"tekst.txt\"\n",
    "slowo = \"kot\"\n",
    " \n",
    " \n",
    "try:\n",
    "    with open(sciezka, 'r') as f:\n",
    "        tekst = f.read()\n",
    "        litery = tekst.lower()\n",
    "        print(litery)\n",
    "        wystapienia = litery.count(slowo)\n",
    " \n",
    "    # Wyświetl wynik\n",
    "    print(f\"Liczba wystąpień '{slowo}' w pliku {sciezka} to {wystapienia}.\")\n",
    "except FileNotFoundError:\n",
    "    print(f\"Plik o ścieżce {sciezka} nie został znaleziony.\")\n",
    "except PermissionError:\n",
    "    print(f\"Brak uprawnień do odczytu pliku {sciezka}.\")"
   ]
  }
 ],
 "metadata": {
  "kernelspec": {
   "display_name": "base",
   "language": "python",
   "name": "python3"
  },
  "language_info": {
   "codemirror_mode": {
    "name": "ipython",
    "version": 3
   },
   "file_extension": ".py",
   "mimetype": "text/x-python",
   "name": "python",
   "nbconvert_exporter": "python",
   "pygments_lexer": "ipython3",
   "version": "3.9.15"
  }
 },
 "nbformat": 4,
 "nbformat_minor": 2
}
