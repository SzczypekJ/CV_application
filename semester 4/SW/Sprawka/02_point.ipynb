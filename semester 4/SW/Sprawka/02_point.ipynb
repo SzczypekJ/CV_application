{
  "cells": [
    {
      "cell_type": "markdown",
      "metadata": {
        "id": "DQOnKdGoXdKl"
      },
      "source": [
        "# Przekształcenia punktowe"
      ]
    },
    {
      "cell_type": "markdown",
      "metadata": {
        "id": "pR9q-yrqXdKn"
      },
      "source": [
        "W trakcie niniejszego ćwiczenia zapoznamy się z podstawowymi operacjami punktowymi (bezkontekstowymi) przeprowadzanymi na obrazach cyfrowych:\n",
        "- typu LUT (operacja jednoargumentowa),\n",
        "- arytmetycznymi (operacje dwuargumentowe): dodawanie, odejmowanie, mnożenie, dzielenie,\n",
        "- logicznymi (operacje jedno i dwuargumentowe): AND, OR, XOR, NOT."
      ]
    },
    {
      "cell_type": "markdown",
      "metadata": {
        "id": "a33h1N_uXdKo"
      },
      "source": [
        "Na początku zaimportuj potrzebne biblioteki."
      ]
    },
    {
      "cell_type": "code",
      "execution_count": null,
      "metadata": {
        "id": "uHeofJ4aXdKp"
      },
      "outputs": [],
      "source": [
        "import cv2\n",
        "import numpy as np\n",
        "import matplotlib.pyplot as plt\n",
        "import os"
      ]
    },
    {
      "cell_type": "markdown",
      "metadata": {
        "id": "TdZx6jDqXdKq"
      },
      "source": [
        "## Operacja LUT\n",
        "\n",
        "**Operacja LUT** polega na przekształcaniu wartości poszczególnych pikseli obrazu przy użyciu z góry przygotowanych tabel przekodowań (tabel korekcji).\n",
        "\n",
        "W przetwarzaniu obrazów najczęściej wykorzystuje się następujące funkcje:\n",
        "- typu kwadratowa, pierwiastek kwadratowy\n",
        "- typu logarytm, odwrócony logarytm\n",
        "- typu wykładnicza,\n",
        "- inne (np. piłokształtna)."
      ]
    },
    {
      "cell_type": "markdown",
      "metadata": {
        "id": "pm7Y4bLwXdKq"
      },
      "source": [
        "W tym zadaniu zostały dla Państwa przygotowane tablice przekodowania.\n",
        "Proszę pobrać je z githuba `https://raw.githubusercontent.com/vision-agh/poc_sw/master/02_Point/lut.py` (można użyć znanego polecenia !wget), a następnie zaimportować je poleceniem `import lut`.\n",
        "Od tego momentu można się do nich odwoływać w następujący sposób: `lut.log` itd."
      ]
    },
    {
      "cell_type": "code",
      "execution_count": null,
      "metadata": {
        "id": "eLRUSwwNXdKr"
      },
      "outputs": [],
      "source": [
        "if not os.path.exists(\"lut.py\") :\n",
        "    !wget https://raw.githubusercontent.com/vision-agh/poc_sw/master/02_Point/lut.py"
      ]
    },
    {
      "cell_type": "markdown",
      "metadata": {
        "id": "thMBsfacXdKr"
      },
      "source": [
        "Wyświetl przykładowe przekodowanie wykorzystując funkcję `plt.plot(lut.kwadratowa)`."
      ]
    },
    {
      "cell_type": "code",
      "execution_count": null,
      "metadata": {
        "id": "2pTKamfEXdKr"
      },
      "outputs": [],
      "source": [
        "import lut\n",
        "plt.plot(lut.kwadratowa)\n",
        "plt.title(\"Tablica LUT kwadratowa\")"
      ]
    },
    {
      "cell_type": "markdown",
      "metadata": {
        "id": "ZRLqVwWUXdKr"
      },
      "source": [
        "Wybierz jeden z obrazów: _lena.bmp_ lub _jet.bmp_ (w razie potrzeby pobierz go z githuba):\n",
        "- https://raw.githubusercontent.com/vision-agh/poc_sw/master/02_Point/lena.bmp\n",
        "- https://raw.githubusercontent.com/vision-agh/poc_sw/master/02_Point/jet.bmp\n",
        "\n",
        "Wczytaj go i wyświetl."
      ]
    },
    {
      "cell_type": "code",
      "execution_count": null,
      "metadata": {
        "id": "p67t2-1qXdKs"
      },
      "outputs": [],
      "source": [
        "if not os.path.exists(\"jet.bmp\") :\n",
        "    !wget https://raw.githubusercontent.com/vision-agh/poc_sw/master/02_Point/jet.bmp\n",
        "\n",
        "Img = cv2.imread('jet.bmp')\n",
        "plt.imshow(Img)\n",
        "plt.xticks([]), plt.yticks([])\n",
        "plt.show()"
      ]
    },
    {
      "cell_type": "markdown",
      "metadata": {
        "id": "F6H_e640XdKs"
      },
      "source": [
        "Na wybranym obrazie wykonaj operację LUT.\n",
        "Służy do tego funkcja `cv2.LUT` przyjmująca dwa argumenty: obraz oraz tablicę przekodowania.\n",
        "Wybierz dowolną z zaimportowanych tablic i wyświetl wynikowy obraz."
      ]
    },
    {
      "cell_type": "code",
      "execution_count": null,
      "metadata": {
        "id": "nwWfr3bRXdKs"
      },
      "outputs": [],
      "source": [
        "Img_lut=cv2.LUT(Img, lut.wykladnicza)\n",
        "plt.imshow(Img_lut)\n",
        "plt.xticks([]), plt.yticks([])\n",
        "plt.show()"
      ]
    },
    {
      "cell_type": "markdown",
      "metadata": {
        "id": "ZuzQLpvYXdKs"
      },
      "source": [
        "Aby lepiej zobaczyć w jaki sposób działają różne przekodowania LUT, skonstruujemy funkcję, która jako argumenty pobierać będzie obrazek oryginalny oraz tablicę przekodowania, a następnie na wspólnym rysunku będzie wyświetlać: funkcję, obraz wejściowy oraz wynik przekodowania.\n",
        "\n",
        "Przypomnienie składni tworzenia funkcji w pythonie:\n",
        "```{python}\n",
        "  def nazwa_funkcji(para, metry):\n",
        "  \t# cialo funkcji\n",
        "```"
      ]
    },
    {
      "cell_type": "markdown",
      "metadata": {
        "id": "iU3v5u7cXdKt"
      },
      "source": [
        "  - Stwórz nową funkcję i nazwij ją LUT.\n",
        "  - Funkcja powinna przyjmować dwa parametry: obraz oraz tablicę przekodowania.\n",
        "  - W ciele funkcji wykonaj przekodowanie LUT, podobnie jak wcześniej w przykładzie.\n",
        "  - Funkcja powinna wyświetlić wykres składający się z 3 umieszczonych obok siebie pól: wykres przekodowania, obraz oryginalny oraz obraz przekształcony.\n",
        "    Każdy z wykresów powinien być podpisany.\n",
        "    _(W razie problemów można przypomnieć sobie te zagadnienia z laboratorium wprowadzającego)_\n",
        "  - Jeśli wykres przekodowania jest zbyt rozciągnięty, można go wyrównać, np. `ax2.set_aspect('equal')`."
      ]
    },
    {
      "cell_type": "code",
      "execution_count": null,
      "metadata": {
        "id": "-HxvlzllXdKt"
      },
      "outputs": [],
      "source": [
        "def LUT(image, recoding_table):\n",
        "  finally_image = cv2.LUT(image, recoding_table)\n",
        "  fig , (ax1, ax2, ax3) = plt.subplots(1, 3)\n",
        "  fig.suptitle(\"Obraz w wyniku przekodowania tablicą\")\n",
        "  ax1.plot(recoding_table)\n",
        "  ax1.set_aspect('equal')\n",
        "  ax2.imshow(image)\n",
        "  ax2.set_xticks([])\n",
        "  ax2.set_yticks([])\n",
        "  ax3.imshow(finally_image)\n",
        "  ax3.set_xticks([])\n",
        "  ax3.set_yticks([])"
      ]
    },
    {
      "cell_type": "markdown",
      "metadata": {
        "id": "nOYpBhdeXdKt"
      },
      "source": [
        "Wywołaj przygotowaną funkcję dla każdego z przekształceń.\n",
        "W wyniku powinno powstać 7 wykresów."
      ]
    },
    {
      "cell_type": "code",
      "execution_count": null,
      "metadata": {
        "id": "rDxuMpfMXdKu"
      },
      "outputs": [],
      "source": [
        "for recoding_table in (lut.kwadratowa, lut.log, lut.odwlog, lut.pila, lut.wykladnicza, lut.pierwiastkowa, lut.odwrotna):\n",
        "  LUT(Img, recoding_table)\n"
      ]
    },
    {
      "cell_type": "markdown",
      "metadata": {
        "id": "-s-CnW1hXdKu"
      },
      "source": [
        "## Operacja arytmetyczne\n",
        "\n",
        "### Dodawanie\n",
        "\n",
        "Wczytaj dwa obrazy _lena.bmp_ i _jet.bmp_ i wyświetl je."
      ]
    },
    {
      "cell_type": "code",
      "execution_count": null,
      "metadata": {
        "id": "4Gff92W7XdKu"
      },
      "outputs": [],
      "source": [
        "if not os.path.exists(\"jet.bmp\") :\n",
        "    !wget https://raw.githubusercontent.com/vision-agh/poc_sw/master/02_Point/jet.bmp\n",
        "if not os.path.exists(\"lena.bmp\") :\n",
        "    !wget https://raw.githubusercontent.com/vision-agh/poc_sw/master/02_Point/lena.bmp\n",
        "Jet=cv2.imread(\"jet.bmp\")\n",
        "Lena=cv2.imread(\"lena.bmp\")\n",
        "\n",
        "\n",
        "\n",
        "plt.imshow(Jet)\n",
        "plt.xticks([]), plt.yticks([])\n",
        "plt.show()\n",
        "plt.imshow(Lena)\n",
        "plt.xticks([]), plt.yticks([])\n",
        "plt.show()"
      ]
    },
    {
      "cell_type": "markdown",
      "metadata": {
        "id": "PbQ7Q5lKXdKu"
      },
      "source": [
        "Dodaj obrazy _lena_ i _jet_, wykorzystaj funkcję `cv2.add`.\n",
        "Uzyskany wynik wyświetl."
      ]
    },
    {
      "cell_type": "code",
      "execution_count": null,
      "metadata": {
        "id": "b_Wc_UREXdKv"
      },
      "outputs": [],
      "source": [
        "image_add = cv2.add(Jet, Lena)\n",
        "plt.imshow(image_add)\n",
        "plt.xticks([]), plt.yticks([])\n",
        "plt.show()"
      ]
    },
    {
      "cell_type": "markdown",
      "source": [
        "Obraz nie spełnia naszych oczekiwań, ponieważ dużo wartości przekracza wartość 255 i są one wyświetlane jako biały piksel"
      ],
      "metadata": {
        "id": "Z_xM6Sm9q8jv"
      }
    },
    {
      "cell_type": "markdown",
      "metadata": {
        "id": "oYZ8RptFXdKv"
      },
      "source": [
        "Czy wynik sumowania jest satysfakcjonujący?\n",
        "Co może niekorzystnie wpływać na rezultat operacji?\n",
        "Spróbuj wykonać dodawanie ponownie wykorzystując typ uint16 (`jet.astype('uint16')`).\n",
        "Wynikowy obraz należy przeskalować do zakresu 0-255, zamienić na typ uint8 i wyświetlić. _\n",
        "Uwaga: operacja ta jest użyteczna w przypadku, gdy dane do wyświetlenia wykraczają poza zakres 0-255, w przeciwnym przypadku jej wykorzystanie może zniekształcić wyniki._"
      ]
    },
    {
      "cell_type": "code",
      "execution_count": null,
      "metadata": {
        "id": "GgWSKH5WXdKv"
      },
      "outputs": [],
      "source": [
        "jet_16 = Jet.astype('uint16')\n",
        "lena_16 = Lena.astype('uint16')\n",
        "image_add16 = cv2.add(jet_16, lena_16)\n",
        "\n",
        "image_normalized = cv2.normalize(image_add16, image_add16, 0, 255, cv2.NORM_MINMAX)\n",
        "image_add8 = image_normalized.astype('uint8')\n",
        "plt.imshow(image_add8)\n",
        "plt.xticks([]), plt.yticks([])\n",
        "plt.show()"
      ]
    },
    {
      "cell_type": "markdown",
      "metadata": {
        "id": "CKhYzCDaXdKv"
      },
      "source": [
        "### Kombinacja liniowa\n",
        "\n",
        "Do wykonywania operacji kombinacji liniowej służy funkcja `cv2.addWeighted`.\n",
        "Zapoznaj się z dokumentacją tej funkcji i przetestuj kilka kombinacji liniowych obrazów _lena_ i _jet_.\n",
        "Wyświetl wynik dowolnej z nich."
      ]
    },
    {
      "cell_type": "code",
      "execution_count": null,
      "metadata": {
        "id": "2Ikci3fgXdKv"
      },
      "outputs": [],
      "source": [
        "Sum1 = cv2.addWeighted(Lena, 0.5, Jet, 0.5, 0) #bez parametru gamma\n",
        "plt.imshow(Sum1)\n",
        "plt.xticks([]), plt.yticks([])\n",
        "plt.show()\n",
        "Sum2 = cv2.addWeighted(Lena, 1, Jet, 1, 0.0)\n",
        "plt.imshow(Sum2)\n",
        "plt.xticks([]), plt.yticks([])\n",
        "plt.show()"
      ]
    },
    {
      "cell_type": "markdown",
      "metadata": {
        "id": "-8FPY78yXdKv"
      },
      "source": [
        "### Odejmowanie\n",
        "\n",
        "Wykorzystując funkcję `cv2.subtract` odejmij obrazy _lena_ i _jet_."
      ]
    },
    {
      "cell_type": "code",
      "execution_count": null,
      "metadata": {
        "id": "nyb0liRDXdKw"
      },
      "outputs": [],
      "source": [
        "Sub = cv2.subtract(Lena, Jet)\n",
        "plt.imshow(Sub)\n",
        "plt.xticks([]), plt.yticks([])\n",
        "plt.show()"
      ]
    },
    {
      "cell_type": "markdown",
      "source": [
        "Obraz ponownie nie spełnia naszych oczekiwań. W tym wypadku większość obrazu została zastąpiona zerami (kolorem czarnym), ponieważ wartości po odejmowaniu były mniejsze od 0 co jest nie dozwolone. W poniższym zadaniu dzięki funkcji abs powinniśmy uniknąć takiej sytuacji"
      ],
      "metadata": {
        "id": "wfaVLw2QujT-"
      }
    },
    {
      "cell_type": "markdown",
      "metadata": {
        "id": "gYGHXmeiXdKw"
      },
      "source": [
        "Czy wynik odejmowania jest satysfakcjonujący?\n",
        "Co może niekorzystnie wpływać na rezultat operacji?\n",
        "Często zamiast zwykłego odejmowania wykorzystuje się operację wartość bezwzględna z różnicy (pozwala to między innymi uniknąć pokazanych powyżej problemów).\n",
        "Zamień typ obrazów _lena_ i _jet_ z uint8 na **int16**, odejmij je od siebie, a następnie wykorzystując funkcję `np.abs` wykonaj operację wartość bezwzględna z różnicy.\n",
        "Wyświetl ten obraz.\n",
        "Zastanów się, dlaczego ta zmiana poprawia wynik odejmowania?"
      ]
    },
    {
      "cell_type": "markdown",
      "source": [
        ""
      ],
      "metadata": {
        "id": "WS1Tqs2U7vwY"
      }
    },
    {
      "cell_type": "code",
      "execution_count": null,
      "metadata": {
        "id": "0uPOxTJOXdKw"
      },
      "outputs": [],
      "source": [
        "jet_16=Jet.astype('int16')\n",
        "lena_16=Lena.astype('int16')\n",
        "Sub16 = cv2.subtract(lena_16, jet_16)\n",
        "Sub_abs = np.abs(Sub16)\n",
        "plt.imshow(Sub_abs)\n",
        "plt.xticks([]), plt.yticks([])\n",
        "plt.show()"
      ]
    },
    {
      "cell_type": "markdown",
      "metadata": {
        "id": "YFhj1caNXdKw"
      },
      "source": [
        "### Mnożenie\n",
        "\n",
        "Mnożenie dwóch obrazów pozwala wykonać funkcja `cv2.multiply`.\n",
        "Wykonaj mnożenie obrazów _lena_ i _jet_.\n",
        "Czy wynik takiej operacji zawiera jakąś istotną informację?\n",
        "Dlaczego?"
      ]
    },
    {
      "cell_type": "code",
      "execution_count": null,
      "metadata": {
        "id": "wDmgRx-1XdKw"
      },
      "outputs": [],
      "source": [
        "Multi = cv2.multiply(Lena, Jet)\n",
        "plt.imshow(Multi)\n",
        "plt.xticks([]), plt.yticks([])\n",
        "plt.show()"
      ]
    },
    {
      "cell_type": "markdown",
      "metadata": {
        "id": "f6vvwHyMXdKx"
      },
      "source": [
        "Mnożenie częściej wykorzystuje się jako:\n",
        "  + mnożenie przez stałą $-$ co powoduje ogólne rozjaśnienie albo ściemnienie obrazu,\n",
        "  + mnożenie przez maskę $-$ czyli obraz binarny."
      ]
    },
    {
      "cell_type": "markdown",
      "metadata": {
        "id": "CmiiPfYXXdKx"
      },
      "source": [
        "Wczytaj maskę _kolo.bmp_ (https://raw.githubusercontent.com/vision-agh/poc_sw/master/02_Point/kolo.bmp).\n",
        "Przemnóż wybrany obraz przez maskę i wyświetl wynik.\n",
        "Mnożenie przez maskę można zrealizować za pomocą funkcji `cv2.multiply`, ale maskę należy należy najpierw przekształcić z zakresu 0-255 do 0-1, na przykład `(maska).astype('bool').astype('uint8')`."
      ]
    },
    {
      "cell_type": "code",
      "execution_count": null,
      "metadata": {
        "id": "Cnk0UlTFXdKx"
      },
      "outputs": [],
      "source": [
        "if not os.path.exists(\"kolo.bmp\"):\n",
        "    !wget https://raw.githubusercontent.com/vision-agh/poc_sw/master/02_Point/kolo.bmp\n",
        "\n",
        "kolo = cv2.imread(\"kolo.bmp\")\n",
        "kolo_maska = kolo.astype('bool').astype('uint8')\n",
        "lena_maska = cv2.multiply(Lena, kolo_maska)\n",
        "\n",
        "#mnożenie przez maskę\n",
        "plt.imshow(lena_maska)\n",
        "plt.xticks([]), plt.yticks([])\n",
        "plt.show()\n",
        "\n",
        "#mnożenie przez kolor\n",
        "jet_kol = cv2.multiply(Jet, (5,2,7,12))\n",
        "plt.imshow(jet_kol)\n",
        "plt.xticks([]), plt.yticks([])\n",
        "plt.show()"
      ]
    },
    {
      "cell_type": "markdown",
      "metadata": {
        "id": "Tp-Z557VXdKx"
      },
      "source": [
        "### Negatyw\n",
        "\n",
        "Negatyw obrazu uzyskuje się za pomocą funkcji `cv2.bitwise_not(img)`\n",
        "Negatyw obrazu można również uzyskać wykorzystując przekodowanie LUT.\n",
        "Można w tym celu posłużyć się przygotowaną wcześniej tablicą `lut.odwrotna`.\n",
        "Przetestuj działanie tych funkcji i wykonaj negatyw obrazu _lena_ dowolnym sposobem."
      ]
    },
    {
      "cell_type": "code",
      "execution_count": null,
      "metadata": {
        "id": "FObmilIEXdKx"
      },
      "outputs": [],
      "source": [
        "neg = cv2.bitwise_not(Lena)\n",
        "plt.imshow(neg)\n",
        "plt.xticks([]), plt.yticks([])\n",
        "plt.show()\n",
        "neg2 = cv2.LUT(Lena, lut.odwrotna)\n",
        "plt.imshow(Lena)\n",
        "plt.xticks([]), plt.yticks([])  \n",
        "plt.show()\n",
        "\n",
        "#LUT(Lena, lut.odwrotna)"
      ]
    },
    {
      "cell_type": "markdown",
      "metadata": {
        "id": "_BtATodwXdKy"
      },
      "source": [
        "## Operacje logiczne\n",
        "\n",
        "Na poszczególnych punktach obrazu (najczęściej binarnego $-$ czyli składającego się z dwóch kolorów: czarnego i białego) można wykonywać operacje logiczne: NOT, AND, OR, XOR itp.\n",
        "Wczytaj dwa obrazy: _kolo.bmp_ i _kwadrat.bmp_ (https://raw.githubusercontent.com/vision-agh/poc_sw/master/02_Point/kwadrat.bmp), następnie wyświetl je."
      ]
    },
    {
      "cell_type": "code",
      "execution_count": null,
      "metadata": {
        "id": "aD_UmsTLXdKy"
      },
      "outputs": [],
      "source": [
        "if not os.path.exists(\"kolo.bmp\"):\n",
        "    !wget https://raw.githubusercontent.com/vision-agh/poc_sw/master/02_Point/kolo.bmp\n",
        "\n",
        "if not os.path.exists(\"kwadrat.bmp\"):\n",
        "    !wget https://raw.githubusercontent.com/vision-agh/poc_sw/master/02_Point/kwadrat.bmp\n",
        "\n",
        "kolo = cv2.imread(\"kolo.bmp\")\n",
        "kwadrat = cv2.imread(\"kwadrat.bmp\")\n",
        "\n",
        "plt.imshow(kolo)\n",
        "plt.xticks([]), plt.yticks([])\n",
        "plt.show()\n",
        "plt.imshow(kwadrat)\n",
        "plt.xticks([]), plt.yticks([])\n",
        "plt.show()"
      ]
    },
    {
      "cell_type": "markdown",
      "metadata": {
        "id": "HoCCC9sxXdKy"
      },
      "source": [
        "Na wczytanych obrazach wykonaj wybrane operacje logiczne: NOT (operator `~`), AND (`&`), OR (`|`), XOR (`^`).\n",
        "Operator `~` jest jednoargumentowy, wszystkie pozostałe są dwuargumentowe.\n",
        "Alternatywnym sposobem jest wykorzystanie funkcji z biblioteki opencv: `cv2.bitwise_not`, `cv2.bitwise_and`, `cv2.bitwise_or`, `cv2.bitwise_xor`.\n",
        "Wyświetl rezultaty."
      ]
    },
    {
      "cell_type": "code",
      "execution_count": null,
      "metadata": {
        "pycharm": {
          "name": "#%%\n"
        },
        "id": "Ha6YTaAUXdKy"
      },
      "outputs": [],
      "source": [
        "Not = ~kolo\n",
        "Not1 = ~kwadrat\n",
        "And = kolo&kwadrat\n",
        "Or = kolo|kwadrat\n",
        "Xor = kolo^kwadrat\n",
        "\n",
        "f, (ax1, ax2, ax3, ax4, ax5) = plt.subplots(1, 5)\n",
        "ax1.set_title('Operacja NOT kolo')\n",
        "ax2.set_title('Operacja Not kwadrat')\n",
        "ax3.set_title('Operacja AND')\n",
        "ax4.set_title('Operacja OR')\n",
        "ax5.set_title('Operacja XOR')\n",
        "ax1.imshow(Not)\n",
        "ax2.imshow(Not1)\n",
        "ax3.imshow(And)\n",
        "ax4.imshow(Or)\n",
        "ax5.imshow(Xor)\n",
        "ax1.set_xticks([]), ax1.set_yticks([])\n",
        "ax2.set_xticks([]), ax2.set_yticks([])\n",
        "ax3.set_xticks([]), ax3.set_yticks([])\n",
        "ax4.set_xticks([]), ax4.set_yticks([])\n",
        "ax5.set_xticks([]), ax5.set_yticks([])\n",
        "f.set_size_inches(18.5, 10.5)\n",
        "plt.show"
      ]
    }
  ],
  "metadata": {
    "kernelspec": {
      "display_name": "Python 3",
      "language": "python",
      "name": "python3"
    },
    "language_info": {
      "codemirror_mode": {
        "name": "ipython",
        "version": 3
      },
      "file_extension": ".py",
      "mimetype": "text/x-python",
      "name": "python",
      "nbconvert_exporter": "python",
      "pygments_lexer": "ipython3",
      "version": "3.8.5"
    },
    "colab": {
      "name": "02_point.ipynb",
      "provenance": [],
      "collapsed_sections": []
    }
  },
  "nbformat": 4,
  "nbformat_minor": 0
}