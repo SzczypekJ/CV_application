{
  "cells": [
    {
      "cell_type": "markdown",
      "metadata": {
        "id": "IFsKy0LdzLuM"
      },
      "source": [
        "# Przekształcenia morfologiczne\n",
        "\n",
        "## Cel:\n",
        "- zapoznanie z podstawowymi przekształceniami morfologicznymi – erozją, dylatacją, otwarciem, zamknieciem, transformacją trafi, nie trafi,\n",
        "- zapoznanie ze złożonymi operacjami morfologicznymi wykorzystującymi rekonstrukcję morfologiczną,\n",
        "- zapoznanie z operacjami morfologicznym dla obrazów w odcieniach szarości – erozją, dylatacją, otwarciem, zamknieciem, filtrami top-hat i bottom-hat,\n",
        "- zapoznanie z wykorzystaniem złożonych operacji morfologicznych przy rozwiązywaniu konkretnego problemu,\n",
        "- zadanie domowe: wykorzystanie morfologii do implementacji ,,gry w życie''."
      ]
    },
    {
      "cell_type": "markdown",
      "metadata": {
        "id": "OqOGmGazzLuP"
      },
      "source": [
        "## Przypomnienie teorii\n",
        "\n",
        "### Element strukturalny\n",
        "\n",
        "Element strukturalny obrazu jest to pewien wycinek obrazu (przy dyskretnej reprezentacji obrazu – pewien podzbiór jego elementów). Najcześciej stosowanym elementem strukturalnym jest kwadratowa maska o rozmiarze 3×3 lub 5×5. Niekiedy pożądane są maski o innym kształcie, np. zbliżonym do elipsy.\n",
        "\n",
        "### Erozja\n",
        "\n",
        "Erozja (ang. _erosion_) jest podstawowym przekształceniem morfologicznym. Zakładamy, że obraz wyjściowy zawiera pewien obszar (figurę) X, wyróżniający się pewną charakterystyczną cechą (np. odróżniającą się od tła jasnością). Figura X po wykonaniu operacji erozji to zbiór punktów centralnych wszystkich elementów strukturalnych, które w całości mieszczą się we wnetrzu obszaru X. Miarą stopnia erozji jest wielkość elementu strukturalnego.\n",
        "\n",
        "Erozje można traktować jako filtr minimalny, tj. z danego otoczenia piksela (określanego przez maskę) do obrazu wynikowego wybierana jest wartość minimalna.\n",
        "\n",
        "### Dylatacja\n",
        "\n",
        "Dylatacja (ang. _dilation_): Zakładamy, że obraz wejściowy zawiera obszar X wyróżniający się pewną charakterystyczną cechą (np. jasnością). Figura przekształcona przez dylatacje to zbiór punktów centralnych wszystkich elementów strukturalnych, których którykolwiek punkt mieści sie we wnetrzu obszaru X. Miarą  dylatacji jest wielkość elementu strukturalnego.\n",
        "\n",
        "Dylatacje można traktować jako filtr maksymalny, tj. z danego otoczenia piksela (określanego\n",
        "przez maske) do obrazu wynikowego wybierana jest wartość maksymalna.\n",
        "\n",
        "### Otwarcie i zamknięcie\n",
        "\n",
        "Otwarcie (ang. _opening_) polega na wykonaniu najpierw operacji erozji, a nastepnie dylatacji.\n",
        "\n",
        "> Otwarcie = erozja + dylatacja\n",
        "\n",
        "Zamkniecie (ang. _closing_) polega na wykonaniu najpierw operacji dylatacji, a nastepnie erozji.\n",
        "\n",
        "> Zamkniecie = dylatacja + erozja\n",
        "\n",
        "### Obrazy w odcieniu szarości\n",
        "\n",
        "Obrazy w odcieniu szarości – detekcja dolin i szczytów (top-hat, bottom-hat):\n",
        "\n",
        "Aby wyodrebnić z obrazu lokalne ekstrema można wykorzystać zdefiniowane wcześniej przekształcenia: otwarcie i zamkniecie. W celu wyszukania lokalnych maksimów (szczytów) należy od wyniku otwarcia danego obrazu odjąć obraz wyjściowy. Analogicznie, aby wyodrebnić lokalne minima obrazu, należy dokonać podobnej operacji, z tym że pierwszą operacją bedzie zamkniecie. Uwaga! Należy zwrócić uwagę, że poniższe metody służą do detekcji (pokreślenia) tylko lokalnych ekstremów!"
      ]
    },
    {
      "cell_type": "markdown",
      "metadata": {
        "id": "yYskiCZ_zLuR"
      },
      "source": [
        "## Podstawowe operacje morfologiczne: erozja, dylatacja, otwarcie, zamknięcie, trafi nie trafi\n",
        "\n",
        "1. Wczytaj obraz ertka.bmp\n",
        "2. Wykonaj operację erozji `cv2.erode`. Parametrami funkcji są obraz oraz element strukturalny. Element można stworzyć samodzielnie jako tablicę składającą się z 0 i 1 `np.ones((3,3))` lub posłużyć się funkcją `cv2.getStructuringElement`, do której należy podać kształt `cv2.MORPH_RECT` oraz wielkość elementu `(3,3)`. Na początku użyj kwadratu o rozmiarze 3 pikseli.\n",
        "3. Wyświetl obraz oryginalny oraz po wykonaniu erozji – najlepiej na wspólnym wykresie. Upewnij się, że rozumiesz, jak działa erozja.\n",
        "4. Zmień element strukturalny (inny kształt – koło, diament lub inny rozmiar). Ponownie wykonaj erozję, sprawdź rezultat działania operacji.\n",
        "5. Oprócz zmiany elementu strukturalnego na rezultat erozji można wpłynąć zwiększając liczbę iteracji (np. wykonać erozję trzykrotnie). Ustal element strukturalny na kwadrat o boku 3 piksele. Wykonaj erozję obrazu _ertka_ dwukrotnie, a następnie trzykrotnie. Zaobserwuj rezultaty. Wskazówka: warto zajrzeć do dokumentacji funkcji `erode`.\n",
        "6. Wczytaj obraz buzka.bmp. Dobierz element strukturalny (zdefiniuj go ręcznie jako macierz 0 i 1) w taki sposób, aby usunąć włosy o określonej orientacji (ukośnie lewo lub prawo).\n",
        "7. Uwaga: pokazane metody wpływania na rezultaty erozji wykorzystuje się identycznie dla pozostałych operacji morfologicznych – dylatacji, otwarcia i zamknięcia.\n",
        "8. Operacją odwrotną do erozji jest dylatacja `cv2.dilate`. Ustal element strukturalny na kwadrat o boku 3 piksele. Wykonaj dylatację obrazu _ertka_. Zapoznaj się z rezultatem działania.\n",
        "9. Na wspólnym wykresie wyświetl obraz oryginalny oraz obrazy po operacjach morfologicznych: erozja, dylatacja, otwarcie i zamkniecie. Otwarcie i zamknięcie można uzyskać za pomocą `cv2.morphologyEx(img, operacja, element_strukturalny)`, gdzie typem operacji jest `cv2.MORPH_OPEN` lub `cv2.MORPH_CLOSE`.\n",
        "10. Zmień obraz _ertka_ na _wyspa_, a następnie na _kolka_. Wykonaj na każdym cztery przedstawione operacje morfologiczne. Zaobserwuj rezultaty.\n",
        "11. Minizadanko: wykorzystując poznane operacje morfologiczne spowoduj, że na obrazie _ertka_ pozostanie tylko napis RT (bez wypustek i dziur).\n",
        "12. Niekiedy potrzebne jest wykrycie konkretnych konfiguracji pikseli na obrazie – przydaje się do tego transformacja trafi, nie trafi (ang. _hit-or-miss_). Pozwala ona wykryć na obrazie obecność elementów, które dokładnie odpowiadają masce.\n",
        "13. Wczytaj obraz hom.bmp. Wyświetl go. Załóżmy, że chcemy wykryć na obrazie krzyżyki 3x3. Zdefiniuj następujący element strukturalny:\n",
        "```\n",
        "[0,1,0]\n",
        "[1,1,1]\n",
        "[0,1,0]\n",
        "```\n",
        "Wykonaj transformację trafi, nie trafi – `cv2.morphologyEx(hom, cv2.MORPH_HITMISS, se1)`. Rezultat operacji wyświetl. Czy udało się zrealizować zadanie? Jeżeli pojawiają się u Państwa błędy związane z typem danych, należy obraz wejściowy przekonwertować na skalę szarości: `cv2.cvtColor(hom, cv2.COLOR_BGR2GRAY)`.\n"
      ]
    },
    {
      "cell_type": "code",
      "execution_count": null,
      "metadata": {
        "id": "wU3IHEaKzLuT"
      },
      "outputs": [],
      "source": [
        "import matplotlib.pyplot as plt\n",
        "import cv2\n",
        "import numpy as np\n",
        "import os\n",
        "\n",
        "if not os.path.exists(\"buzka.bmp\") :\n",
        "    !wget https://raw.githubusercontent.com/vision-agh/poc_sw/master/10_Morphology/buzka.bmp --no-check-certificate\n",
        "if not os.path.exists(\"calculator.bmp\") :\n",
        "    !wget https://raw.githubusercontent.com/vision-agh/poc_sw/master/10_Morphology/calculator.bmp --no-check-certificate\n",
        "if not os.path.exists(\"ertka.bmp\") :\n",
        "    !wget https://raw.githubusercontent.com/vision-agh/poc_sw/master/10_Morphology/ertka.bmp --no-check-certificate\n",
        "if not os.path.exists(\"ferrari.bmp\") :\n",
        "    !wget https://raw.githubusercontent.com/vision-agh/poc_sw/master/10_Morphology/ferrari.bmp --no-check-certificate\n",
        "if not os.path.exists(\"fingerprint.bmp\") :\n",
        "    !wget https://raw.githubusercontent.com/vision-agh/poc_sw/master/10_Morphology/fingerprint.bmp --no-check-certificate\n",
        "if not os.path.exists(\"hom.bmp\") :\n",
        "    !wget https://raw.githubusercontent.com/vision-agh/poc_sw/master/10_Morphology/hom.bmp --no-check-certificate\n",
        "if not os.path.exists(\"kolka.bmp\") :\n",
        "    !wget https://raw.githubusercontent.com/vision-agh/poc_sw/master/10_Morphology/kolka.bmp --no-check-certificate\n",
        "if not os.path.exists(\"kosc.bmp\") :\n",
        "    !wget https://raw.githubusercontent.com/vision-agh/poc_sw/master/10_Morphology/kosc.bmp --no-check-certificate\n",
        "if not os.path.exists(\"szkielet.bmp\") :\n",
        "    !wget https://raw.githubusercontent.com/vision-agh/poc_sw/master/10_Morphology/szkielet.bmp --no-check-certificate\n",
        "if not os.path.exists(\"text.bmp\") :\n",
        "    !wget https://raw.githubusercontent.com/vision-agh/poc_sw/master/10_Morphology/text.bmp --no-check-certificate\n",
        "if not os.path.exists(\"wyspa.bmp\") :\n",
        "    !wget https://raw.githubusercontent.com/vision-agh/poc_sw/master/10_Morphology/wyspa.bmp --no-check-certificate\n",
        "if not os.path.exists(\"rice.png\") :\n",
        "    !wget https://raw.githubusercontent.com/vision-agh/poc_sw/master/10_Morphology/rice.png --no-check-certificate"
      ]
    },
    {
      "cell_type": "code",
      "source": [
        "ertka = cv2.imread(\"ertka.bmp\", cv2.IMREAD_GRAYSCALE)\n",
        "\n",
        "ertka_erosion = cv2.erode(ertka, np.ones((3,3)))\n",
        "\n",
        "f, (ax1, ax2) = plt.subplots(1, 2, figsize = (15, 5))\n",
        "ax1.set_title(\"Obraz oryginalny\")\n",
        "ax1.imshow(ertka, 'gray')\n",
        "ax1.axis('off')\n",
        "ax2.set_title(\"Obraz po wykonaniu erozji\")\n",
        "ax2.imshow(ertka_erosion, 'gray')\n",
        "ax2.axis('off')"
      ],
      "metadata": {
        "id": "h2wIj9rvzsYQ"
      },
      "execution_count": null,
      "outputs": []
    },
    {
      "cell_type": "code",
      "source": [
        "diament = cv2.getStructuringElement(cv2.MORPH_ELLIPSE,(5,5))\n",
        "ertka_erosion2 = cv2.erode(ertka, diament)\n",
        "plt.imshow(ertka_erosion2, 'gray')\n",
        "plt.title(\"Obraz po erozji za pomocą diamentu\")\n",
        "plt.axis('off')\n",
        "plt.show()"
      ],
      "metadata": {
        "id": "PVjebAge1lMQ"
      },
      "execution_count": null,
      "outputs": []
    },
    {
      "cell_type": "code",
      "source": [
        "kwadrat = np.ones((3,3))\n",
        "ertka_erosion3 = cv2.erode(ertka, kwadrat, iterations = 2)\n",
        "plt.imshow(ertka_erosion3, 'gray')\n",
        "plt.title(\"Obraz po erozji za pomocą kwadratu i 2 iteracji\")\n",
        "plt.axis('off')\n",
        "plt.show()"
      ],
      "metadata": {
        "id": "JUEAxGnI2Lsh"
      },
      "execution_count": null,
      "outputs": []
    },
    {
      "cell_type": "code",
      "source": [
        "kwadrat = np.ones((3,3))\n",
        "ertka_erosion3 = cv2.erode(ertka, kwadrat, iterations = 3)\n",
        "plt.imshow(ertka_erosion3, 'gray')\n",
        "plt.title(\"Obraz po erozji za pomocą kwadratu i 3 iteracji\")\n",
        "plt.axis('off')\n",
        "plt.show()"
      ],
      "metadata": {
        "id": "2eR7wIvE2gP9"
      },
      "execution_count": null,
      "outputs": []
    },
    {
      "cell_type": "markdown",
      "source": [
        "Dla erozji z diamentem uzyskano grubsze linie wewnątrz liter. Kolejne wykonywanie erozji powoduje również pogrubianie tych lini"
      ],
      "metadata": {
        "id": "Lssknrrys4hv"
      }
    },
    {
      "cell_type": "code",
      "source": [
        "buzka = cv2.imread(\"buzka.bmp\", cv2.IMREAD_GRAYSCALE)\n",
        "\n",
        "A = np.array([[1,0,0],[0,1,0],[0,0,1]], np.uint8)\n",
        "buzka_erosion = cv2.erode(buzka, A)\n",
        "\n",
        "f, (ax1, ax2) = plt.subplots(1, 2, figsize = (15, 5))\n",
        "ax1.set_title(\"Obraz oryginalny\")\n",
        "ax1.imshow(buzka, 'gray')\n",
        "ax1.axis('off')\n",
        "ax2.set_title(\"Obraz po wykonaniu erozji\")\n",
        "ax2.imshow(buzka_erosion, 'gray')\n",
        "ax2.axis('off')"
      ],
      "metadata": {
        "id": "4_T5S0Lf2pui"
      },
      "execution_count": null,
      "outputs": []
    },
    {
      "cell_type": "markdown",
      "source": [
        "Nos, oczy i usta uległy przechylweniu o ten sam kąt co włosy."
      ],
      "metadata": {
        "id": "Bw86qIN3tT-K"
      }
    },
    {
      "cell_type": "code",
      "source": [
        "kwadrat = np.ones((3,3))\n",
        "dylatacja = cv2.dilate(ertka, kwadrat)\n",
        "\n",
        "plt.imshow(dylatacja, 'gray')\n",
        "plt.title(\"Obraz po dylatacji\")\n",
        "plt.axis('off')\n",
        "plt.show()"
      ],
      "metadata": {
        "id": "e4DiYLEY3Pkt"
      },
      "execution_count": null,
      "outputs": []
    },
    {
      "cell_type": "code",
      "source": [
        "ertka = cv2.imread(\"ertka.bmp\", cv2.IMREAD_GRAYSCALE)\n",
        "\n",
        "ertka_erosion = cv2.erode(ertka, np.ones((3,3)))\n",
        "ertka_dylatacja = cv2.dilate(ertka, np.ones((3,3)))\n",
        "ertka_open = cv2.morphologyEx(ertka, cv2.MORPH_OPEN, np.ones((3,3)))\n",
        "ertka_close = cv2.morphologyEx(ertka, cv2.MORPH_CLOSE, np.ones((3,3)))\n",
        "\n",
        "f, (ax1, ax2, ax3, ax4, ax5) = plt.subplots(1, 5, figsize = (23, 10))\n",
        "ax1.set_title(\"Obraz oryginalny\")\n",
        "ax1.imshow(ertka, 'gray')\n",
        "ax1.axis('off')\n",
        "ax2.set_title(\"Obraz po wykonaniu erozji\")\n",
        "ax2.imshow(ertka_erosion, 'gray')\n",
        "ax2.axis('off')\n",
        "ax3.set_title(\"Obraz po wykonaniu dylatacji\")\n",
        "ax3.imshow(ertka_dylatacja, 'gray')\n",
        "ax3.axis('off')\n",
        "ax4.set_title(\"Obraz po operacji otwarcia\")\n",
        "ax4.imshow(ertka_open, 'gray')\n",
        "ax4.axis('off')\n",
        "ax5.set_title(\"Obraz po operacji zamknięcia\")\n",
        "ax5.imshow(ertka_close, 'gray')\n",
        "ax5.axis('off')"
      ],
      "metadata": {
        "id": "Yrex-YWI31C5"
      },
      "execution_count": null,
      "outputs": []
    },
    {
      "cell_type": "code",
      "source": [
        "wyspa = cv2.imread(\"wyspa.bmp\", cv2.IMREAD_GRAYSCALE)\n",
        "\n",
        "wyspa_erosion = cv2.erode(wyspa, np.ones((3,3)))\n",
        "wyspa_dylatacja = cv2.dilate(wyspa, np.ones((3,3)))\n",
        "wyspa_open = cv2.morphologyEx(wyspa, cv2.MORPH_OPEN, np.ones((3,3)))\n",
        "wyspa_close = cv2.morphologyEx(wyspa, cv2.MORPH_CLOSE, np.ones((3,3)))\n",
        "\n",
        "f, (ax1, ax2, ax3, ax4, ax5) = plt.subplots(1, 5, figsize = (23, 10))\n",
        "ax1.set_title(\"Obraz oryginalny\")\n",
        "ax1.imshow(wyspa, 'gray')\n",
        "ax1.axis('off')\n",
        "ax2.set_title(\"Obraz po wykonaniu erozji\")\n",
        "ax2.imshow(wyspa_erosion, 'gray')\n",
        "ax2.axis('off')\n",
        "ax3.set_title(\"Obraz po wykonaniu dylatacji\")\n",
        "ax3.imshow(wyspa_dylatacja, 'gray')\n",
        "ax3.axis('off')\n",
        "ax4.set_title(\"Obraz po operacji otwarcia\")\n",
        "ax4.imshow(wyspa_open, 'gray')\n",
        "ax4.axis('off')\n",
        "ax5.set_title(\"Obraz po operacji zamknięcia\")\n",
        "ax5.imshow(wyspa_close, 'gray')\n",
        "ax5.axis('off')"
      ],
      "metadata": {
        "id": "qogKNUBD5HmM"
      },
      "execution_count": null,
      "outputs": []
    },
    {
      "cell_type": "markdown",
      "source": [
        "Erozja powoduje zmniejszenie się powierzchni wyspy. Wszystkie przekrztałcenia usuwają czarną plamę, która występuje na środku obrazu."
      ],
      "metadata": {
        "id": "V4o0XyOjtkmy"
      }
    },
    {
      "cell_type": "code",
      "source": [
        "kolka = cv2.imread(\"kolka.bmp\", cv2.IMREAD_GRAYSCALE)\n",
        "\n",
        "kolka_erosion = cv2.erode(kolka, np.ones((3,3)))\n",
        "kolka_dylatacja = cv2.dilate(kolka, np.ones((3,3)))\n",
        "kolka_open = cv2.morphologyEx(kolka, cv2.MORPH_OPEN, np.ones((3,3)))\n",
        "kolka_close = cv2.morphologyEx(kolka, cv2.MORPH_CLOSE, np.ones((3,3)))\n",
        "\n",
        "f, (ax1, ax2, ax3, ax4, ax5) = plt.subplots(1, 5, figsize = (23, 10))\n",
        "ax1.set_title(\"Obraz oryginalny\")\n",
        "ax1.imshow(kolka, 'gray')\n",
        "ax1.axis('off')\n",
        "ax2.set_title(\"Obraz po wykonaniu erozji\")\n",
        "ax2.imshow(kolka_erosion, 'gray')\n",
        "ax2.axis('off')\n",
        "ax3.set_title(\"Obraz po wykonaniu dylatacji\")\n",
        "ax3.imshow(kolka_dylatacja, 'gray')\n",
        "ax3.axis('off')\n",
        "ax4.set_title(\"Obraz po operacji otwarcia\")\n",
        "ax4.imshow(kolka_open, 'gray')\n",
        "ax4.axis('off')\n",
        "ax5.set_title(\"Obraz po operacji zamknięcia\")\n",
        "ax5.imshow(kolka_close, 'gray')\n",
        "ax5.axis('off')"
      ],
      "metadata": {
        "id": "rE68b7HT5gbD"
      },
      "execution_count": null,
      "outputs": []
    },
    {
      "cell_type": "code",
      "source": [
        "ertka_open = cv2.morphologyEx(ertka, cv2.MORPH_OPEN, np.ones((3,3)))\n",
        "ertka_czysta = cv2.morphologyEx(ertka_open, cv2.MORPH_CLOSE, np.ones((3,3)))\n",
        "plt.imshow(ertka_czysta, 'gray')\n",
        "plt.axis('off')\n",
        "plt.show()"
      ],
      "metadata": {
        "id": "tdzGtE5d55BX"
      },
      "execution_count": null,
      "outputs": []
    },
    {
      "cell_type": "code",
      "source": [
        "hom = cv2.imread(\"hom.bmp\", cv2.IMREAD_GRAYSCALE)\n",
        "plt.imshow(hom, 'gray')\n",
        "plt.axis('off')\n",
        "plt.show()\n",
        "\n",
        "A = np.array([[0,1,0], [1,1,1], [0,1,0]], np.uint8)\n",
        "hit_miss_hom=cv2.morphologyEx(hom, cv2.MORPH_HITMISS, A)\n",
        "plt.imshow(hit_miss_hom, 'gray')\n",
        "plt.axis('off')\n",
        "plt.show()"
      ],
      "metadata": {
        "id": "5A7taie_6KCB"
      },
      "execution_count": null,
      "outputs": []
    },
    {
      "cell_type": "markdown",
      "source": [
        "Uzyskano oczekiwany wynik."
      ],
      "metadata": {
        "id": "qcW5E83gt3xr"
      }
    },
    {
      "cell_type": "markdown",
      "metadata": {
        "id": "bEWTuAarzLuV"
      },
      "source": [
        "## Inne operacje morfologiczne\n",
        "Do innych operacji morfologicznych należą między innymi ścienianie (ang. _thinning_), szkieletyzacja (ang. _skeletonization_), rekonstrukcja morfologiczna (ang. _morphological reconstruction_), czyszczenie brzegu (ang. _clearing border_) i uzupełnianie dziur (ang. _filling holes_). W tym rozdziale zostanie zaprezentowana rekonstrukcja morfologiczna.\n",
        "\n",
        "Rekonstrukcja morfologiczna jest operacją trójargumentową. Wymaga podania markera (obrazu, od którego zacznie się transformacja), maski (ograniczenia transformacji) oraz elementu strukturalnego. Operacja polega na wykonywaniu kroków (dopóki w dwóch kolejnych iteracjach nic się nie zmieni):\n",
        "- dylatacja obrazu markera (z danym elementem strukturalnym),\n",
        "- nowy marker = część wspólna dylatacji starego markera i maski.\n",
        "\n",
        "Trzy operacje, które wykorzystują schemat rekonstrukcji to: \n",
        "- otwarcie poprzez rekonstrukcję,\n",
        "- wypełnianie dziur,\n",
        "- czyszczenie brzegu.\n",
        "\n",
        "### Otwarcie poprzez rekonstrukcję:\n",
        "- Wczytaj obraz text.bmp, wyświetl go.\n",
        "- Załóżmy, że chcemy wykryć na obrazie litery, które zawierają długie pionowe fragmenty. W pierwszym podejściu stosujemy morfologiczne otwarcie z maską pionową o wysokości 51 pikseli (taka jest średnia wysokość liter na obrazie – `np.ones((51,1))`. Sprawdź rezultat takiej operacji.\n",
        "- Detekcja wprawdzie sie udała, ale otrzymujemy tylko pionowe kreski.\n",
        "- Rozwiązaniem jest rekonstrukcja – jako marker wybieramy obraz oryginalny poddany erozji. Maskę stanowi obraz oryginalny. Samodzielnie dobierz element strukturalny.\n",
        "- Zaimplementuj rekonstrukcję i porównaj efekt otwarcia i rekonstrukcji.\n"
      ]
    },
    {
      "cell_type": "code",
      "execution_count": null,
      "metadata": {
        "id": "pHgAlr6gzLuW"
      },
      "outputs": [],
      "source": [
        "text = cv2.imread(\"text.bmp\", cv2.IMREAD_GRAYSCALE)\n",
        "plt.imshow(text, 'gray')\n",
        "plt.axis('off')\n",
        "plt.show()\n",
        "\n",
        "text_open = cv2.morphologyEx(text, cv2.MORPH_OPEN, np.ones((51,1)))\n",
        "plt.imshow(text_open, 'gray')\n",
        "plt.axis('off')\n",
        "plt.show()\n",
        "\n",
        "marker = cv2.erode(text, np.ones((51,1)))\n",
        "\n",
        "while True:\n",
        "  text_delat = cv2.dilate(src = marker, kernel = np.ones((3,3)))\n",
        "  text_delat = cv2.bitwise_and(src1 = text_delat, src2 = text)\n",
        "\n",
        "  if (marker == text_delat).all():\n",
        "    marker = text_delat\n",
        "    break\n",
        "\n",
        "  marker = text_delat\n",
        "\n",
        "plt.imshow(marker, 'gray')\n",
        "plt.axis('off')\n",
        "plt.show()"
      ]
    },
    {
      "cell_type": "markdown",
      "source": [
        "Rekonstrukcja powiodła się."
      ],
      "metadata": {
        "id": "JuGsdDXQuCSu"
      }
    },
    {
      "cell_type": "markdown",
      "metadata": {
        "id": "qBG8e7TezLuX"
      },
      "source": [
        "## Operacje morfologiczne dla obrazów w skali szarości\n",
        "\n",
        "Wszystkie dotychczasowe operacje (oprócz transformacji trafi, nie trafi) mają swoje odpowieniki dla obrazów w skali szarości. Konieczne jest tylko podanie definicji erozji i dylatacji w nieco innej formie:\n",
        "- Erozja – filtr minimalny.\n",
        "- Dylatacja – filtr maksymalny.\n",
        "\n",
        "\n",
        "1. Wczytaj obraz ferrari.bmp i wykonaj operacje morfologiczne: erozję i dylatację. Element strukturalny ustal na kwadrat 3×3. Oblicz też różnicę pomiędzy obrazem po dylatacji a po erozji – czyli tzw. gradient morfologiczny. Rezultaty wyświetl na wspólnym wykresie.\n",
        "2. Otwarcie to tłumienie jasnych detali na obrazie. Zamkniecie to tłumienie ciemnych detali na obrazie. Potwierdź powyższe stwierdzenia wykonując obie operacje na obrazie _ferrari_.\n",
        "3. Wykonaj operacje top-hat i bottom-hat `cv2.morphologyEx(img, cv2.MORPH_TOPHAT, strel)` oraz `cv2.morphologyEx(img, cv2.MORPH_BLACKHAT, strel)` na obrazie _ferrari_. Jakie obszary udało sie wykryć za pomocą tej operacji? Z jakich operacji składa sie filtr top-hat?\n",
        "4. Wczytaj obraz rice.png (z laboratorium o binaryzacji). Wyświetl go. Zwróć uwage na niejednorodne oświetlenie. Wykonaj operacje top-hat z dużym elementem strukturalnym (np. koło o rozmiarze 10) na tym obrazie. Wynik wyświetl. Co stało się z niejednorodnością oświetlenia?"
      ]
    },
    {
      "cell_type": "code",
      "execution_count": null,
      "metadata": {
        "pycharm": {
          "name": "#%%\n"
        },
        "id": "qUtN9ux9zLuY"
      },
      "outputs": [],
      "source": [
        "ferrari = cv2.imread(\"ferrari.bmp\", cv2.IMREAD_GRAYSCALE)\n",
        "\n",
        "ferrari_erosion = cv2.erode(ferrari, np.ones((3, 3)))\n",
        "ferrari_dylatacja = cv2.dilate(ferrari, np.ones((3, 3)))\n",
        "\n",
        "diff = ferrari_dylatacja - ferrari_erosion\n",
        "\n",
        "f, (ax1, ax2, ax3, ax4) = plt.subplots(1, 4, figsize = (23, 10))\n",
        "ax1.set_title(\"Obraz oryginalny\")\n",
        "ax1.imshow(ferrari, 'gray')\n",
        "ax1.axis('off')\n",
        "ax2.set_title(\"Obraz po wykonaniu erozji\")\n",
        "ax2.imshow(ferrari_erosion, 'gray')\n",
        "ax2.axis('off')\n",
        "ax3.set_title(\"Obraz po wykonaniu dylatacji\")\n",
        "ax3.imshow(ferrari_dylatacja, 'gray')\n",
        "ax3.axis('off')\n",
        "ax4.set_title(\"Obraz po wykonaniu różnicy\")\n",
        "ax4.imshow(diff, 'gray')\n",
        "ax4.axis('off')"
      ]
    },
    {
      "cell_type": "code",
      "source": [
        "ferrari_open = cv2.morphologyEx(ferrari, cv2.MORPH_OPEN, np.ones((3, 3)))\n",
        "ferrari_close = cv2.morphologyEx(ferrari, cv2.MORPH_CLOSE, np.ones((3, 3)))\n",
        "\n",
        "f, (ax1, ax2) = plt.subplots(1, 2, figsize = (23, 10))\n",
        "ax1.set_title(\"Obraz po wykonaniu otwarcia\")\n",
        "ax1.imshow(ferrari_open, 'gray')\n",
        "ax1.axis('off')\n",
        "ax2.set_title(\"Obraz po wykonaniu zamknięcia\")\n",
        "ax2.imshow(ferrari_close, 'gray')\n",
        "ax2.axis('off')"
      ],
      "metadata": {
        "id": "jgm9Ven3vLym"
      },
      "execution_count": null,
      "outputs": []
    },
    {
      "cell_type": "markdown",
      "source": [
        "Patrząc na koła samochodu możemy zobaczyć, że po wykonaniu otwarcia są one dużo ciemniejsze niż po wykonaniu zamknięcia. Może to świadczyć o tłumieniu jasnych barw przez tą funkcję."
      ],
      "metadata": {
        "id": "57IwGf0uvsiB"
      }
    },
    {
      "cell_type": "code",
      "source": [
        "ferrari_TOPHAT = cv2.morphologyEx(ferrari, cv2.MORPH_TOPHAT, np.ones((3, 3)))\n",
        "ferrari_BOTTOMHAT = cv2.morphologyEx(ferrari, cv2.MORPH_BLACKHAT, np.ones((3, 3)))\n",
        "\n",
        "f, (ax1, ax2) = plt.subplots(1, 2, figsize = (23, 10))\n",
        "ax1.set_title(\"Obraz ferrari_TOPHAT\")\n",
        "ax1.imshow(ferrari_TOPHAT, 'gray')\n",
        "ax1.axis('off')\n",
        "ax2.set_title(\"Obraz ferrari_BOTTOMHAT\")\n",
        "ax2.imshow(ferrari_BOTTOMHAT, 'gray')\n",
        "ax2.axis('off')"
      ],
      "metadata": {
        "id": "fjHmrNT8-JuS"
      },
      "execution_count": null,
      "outputs": []
    },
    {
      "cell_type": "markdown",
      "source": [
        "Udało się wykryć jasne krawędzie samochodu."
      ],
      "metadata": {
        "id": "DvzXGpaOucpX"
      }
    },
    {
      "cell_type": "code",
      "source": [
        "rice = cv2.imread(\"rice.png\", cv2.IMREAD_GRAYSCALE)\n",
        "\n",
        "struct = cv2.getStructuringElement(cv2.MORPH_ELLIPSE,(10,10))\n",
        "\n",
        "rice_TOPHAT = cv2.morphologyEx(rice, cv2.MORPH_TOPHAT, struct)\n",
        "\n",
        "f, (ax1, ax2) = plt.subplots(1, 2, figsize = (15, 5))\n",
        "ax1.set_title(\"Obraz oryginalny\")\n",
        "ax1.imshow(rice, 'gray')\n",
        "ax1.axis('off')\n",
        "ax2.set_title(\"Obraz rice_TOPHAT\")\n",
        "ax2.imshow(rice_TOPHAT, 'gray')\n",
        "ax2.axis('off')"
      ],
      "metadata": {
        "id": "j7S2Orzq_J4g"
      },
      "execution_count": null,
      "outputs": []
    },
    {
      "cell_type": "markdown",
      "source": [
        "Udało się ujednolić oświetlenie obrazu."
      ],
      "metadata": {
        "id": "PSHMUaoNwC4K"
      }
    },
    {
      "cell_type": "markdown",
      "metadata": {
        "id": "_TbstX0vzLuY"
      },
      "source": [
        "## Przykład zastosowania morfologii\n",
        "\n",
        "1. Wczytaj obraz calculator.bmp. Wyświetl go. Zadanie do realizacji: wyizolować tekst na klawiszach kalkulatora.\n",
        "2. W pierwszym kroku usunięte zostaną poziome odbicia znajdujące się na górnej krawędzi każdego z klawiszy. Wykorzystamy fakt, że odbicie jest dłuższe niż jakikolwiek pojedynczy znak. Wykonujemy otwarcie przez rekonstrukcję (można wykorzystać kod z wcześniejszego zadania, ale tym razem mamy do czynienia z obrazem w skali szarości zamiast z binarnym – proszę się zastanowić, jaka operacja jest odpowiednikiem operacji AND?):\n",
        "  - początkowo wykonujemy erozję z elementem strukturalnym w postaci poziomej linii — `np.ones((1,71))`,\n",
        "  - następnie dokonujemy rekonstrukcji: marker – obraz po erozji, maska – obraz oryginalny,\n",
        "  - wynik operacji wyświetl. Dla porównania wyświetl wynik klasycznego otwarcia z takim samym elementem strukturalnym. W czym otwarcie przez rekonstrukcję jest lepsze od klasycznego?\n",
        "3. W poprzednim kroku (tj. w wyniku otwarcia przez rekonstrukcję) uzyskaliśmy obraz tła. Należy go teraz odjąć od obrazu oryginalnego. Ten rodzaj operacji można nazwać top-hat poprzez rekonstrukcję. Wynik wyświetl. Dla porównania wyświetl wynik klasycznej operacji top-hat – różnicy miedzy obrazem oryginalnym a obrazem po klasycznym otwarciu.\n",
        "4. W podobny sposób należy zlikwidować odblaski pionowe:\n",
        "  - erozja z elementem strukturalnym w postaci poziomej linii – `np.ones((1,11))` – zostaną zachowane wszystkie znaki (bo prawie wszystkie są szersze). Uwaga. Operacje wykonujemy na uzyskanym w kroku 3 rezultacie odjęcia od obrazu oryginalnego, obrazu po rekonstrukcji.\n",
        "  - rekonstrukcja: marker – obraz po erozji, maska – obraz z punktu 3 (różnica oryginalnego i tła),\n",
        "  - wynik wyświetl.\n",
        "5. Rezultat jest niemal satysfakcjonujący, ale wystąpił problem z cienkimi pionowymi elementami napisów – np. I na klawiszu ASIN. Wykorzystując fakt, że usunięte znaki znajdują się w bezpośrednim sąsiedztwie istniejących znaków wykonujemy następujące operacje:\n",
        "  - dylatacja z elementem `np.ones((1,21))`,\n",
        "  - rekonstrukcja z markerem w postaci – minimum(obraz po dylatacji z punktu powyżej, obraz uzyskany w punkcie 3, tj. różnica oryginalnego i tła) oraz maską – obraz z pkt. 3.\n",
        "6. Rezultat wyświetl. Czy za pomocą zaproponowanych operacji udało się uzyskać zamierzony efekt – ekstrakcję napisów?\n"
      ]
    },
    {
      "cell_type": "code",
      "execution_count": null,
      "metadata": {
        "pycharm": {
          "name": "#%%\n"
        },
        "id": "yrX3lcuvzLuZ"
      },
      "outputs": [],
      "source": [
        "def rekon(img, kernel, marker=None):\n",
        "  mask = img\n",
        "  if marker is None:\n",
        "    marker = cv2.erode(img, kernel)\n",
        "  while True:\n",
        "    text_delat = cv2.dilate(src=marker, kernel=np.ones((3,3)))\n",
        "    text_delat = np.min((text_delat, mask), axis=0)\n",
        "    if (marker == text_delat).all():\n",
        "      return marker\n",
        "    marker = text_delat"
      ]
    },
    {
      "cell_type": "code",
      "source": [
        "calculator = cv2.imread(\"calculator.bmp\", cv2.IMREAD_GRAYSCALE)\n",
        "\n",
        "plt.imshow(calculator, 'gray')\n",
        "plt.axis('off')\n",
        "plt.show()"
      ],
      "metadata": {
        "id": "iE5Q8EgfAkMs"
      },
      "execution_count": null,
      "outputs": []
    },
    {
      "cell_type": "code",
      "source": [
        "result = rekon(calculator, np.ones((1,71)))\n",
        "\n",
        "plt.imshow(result, 'gray')\n",
        "plt.axis('off')\n",
        "plt.show()\n",
        "\n",
        "calc_otw=cv2.morphologyEx(calculator, cv2.MORPH_OPEN,np.ones((1,71)))\n",
        "plt.imshow(calc_otw, 'gray')\n",
        "plt.axis('off')\n",
        "plt.show()"
      ],
      "metadata": {
        "id": "jaKoV4LLA7Xa"
      },
      "execution_count": null,
      "outputs": []
    },
    {
      "cell_type": "code",
      "source": [
        "top_hat_rek = calculator - result\n",
        "top_hat = cv2.morphologyEx(calculator, cv2.MORPH_TOPHAT, np.ones((1,71)))\n",
        "\n",
        "plt.imshow(top_hat_rek, 'gray')\n",
        "plt.axis('off')\n",
        "plt.show()\n",
        "\n",
        "plt.imshow(top_hat, 'gray')\n",
        "plt.axis('off')\n",
        "plt.show()"
      ],
      "metadata": {
        "id": "_eqKlrWmo1qB"
      },
      "execution_count": null,
      "outputs": []
    },
    {
      "cell_type": "code",
      "source": [
        "ele_pion = rekon(top_hat_rek, np.ones((1,11)))\n",
        "\n",
        "calc_bez_pion = ele_pion\n",
        "\n",
        "plt.imshow(ele_pion, 'gray')\n",
        "plt.axis('off')\n",
        "plt.show()\n",
        "\n",
        "\n",
        "dylata = cv2.dilate(calc_bez_pion, np.ones((1,21)))\n",
        "\n",
        "marker = np.min((dylata, top_hat_rek), axis=0)\n",
        "\n",
        "last_rekon = rekon(top_hat_rek, np.ones((1,21)), marker=marker)\n",
        "\n",
        "plt.imshow(last_rekon, 'gray')\n",
        "plt.axis('off')\n",
        "plt.show()"
      ],
      "metadata": {
        "id": "_g3_EnMqpLXV"
      },
      "execution_count": null,
      "outputs": []
    },
    {
      "cell_type": "markdown",
      "source": [
        "Jak widać udało się otrzymać zamierzony wynik - czyli ekstraktację napisów."
      ],
      "metadata": {
        "id": "ESvahuappqgI"
      }
    }
  ],
  "metadata": {
    "celltoolbar": "Raw Cell Format",
    "kernelspec": {
      "display_name": "Python 3",
      "language": "python",
      "name": "python3"
    },
    "language_info": {
      "codemirror_mode": {
        "name": "ipython",
        "version": 3
      },
      "file_extension": ".py",
      "mimetype": "text/x-python",
      "name": "python",
      "nbconvert_exporter": "python",
      "pygments_lexer": "ipython3",
      "version": "3.9.10"
    },
    "colab": {
      "name": "10_morphology.ipynb",
      "provenance": [],
      "collapsed_sections": []
    }
  },
  "nbformat": 4,
  "nbformat_minor": 0
}