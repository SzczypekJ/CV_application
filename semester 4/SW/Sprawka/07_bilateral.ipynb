{
  "cells": [
    {
      "cell_type": "markdown",
      "metadata": {
        "pycharm": {
          "name": "#%% md\n"
        },
        "id": "3Mpq2ByYbNDj"
      },
      "source": [
        "# Filtracja bilateralna"
      ]
    },
    {
      "cell_type": "markdown",
      "metadata": {
        "collapsed": false,
        "pycharm": {
          "name": "#%% md\n"
        },
        "id": "MNT33lfZbNDl"
      },
      "source": [
        "## Konwolucja obrazu z filtrem o zadanych współczynnikach\n",
        "\n",
        "Splot (konwolucję) obrazu wejściowego $I$ z filtrem $\\psi$ dla ustalonego punktu obrazu $\\mathbf{x}$ można przedstawić następująco:\n",
        "\n",
        "\\begin{equation}\n",
        "\\hat{I}(\\mathbf{x}) = \\frac{1}{W_N}\\sum_{\\mathbf{p} \\in \\eta(\\mathbf{x})} \\psi(||\\mathbf{p}-\\mathbf{x}||)I(\\mathbf{p})\n",
        "\\tag{1}\n",
        "\\end{equation}\n",
        "\n",
        "gdzie:\n",
        "- $\\hat{I}$ jest obrazem wynikowym (przefiltrowanym),\n",
        "- $W_N = \\sum_y \\psi(y)$ jest parametrem normalizującym współczynniki filtra $\\psi$,\n",
        "- $||\\cdot||$ jest odległością między punktami obrazu $\\mathbf{x}$ i $\\mathbf{p}$ według ustalonej metryki (np. norma $L_2$). Uwaga, proszę pamiętać, że zarówno $\\mathbf{x}$, jak i $\\mathbf{p}$ to współrzędne przestrzenne,\n",
        "- $\\eta(\\mathbf{x})$ jest otoczeniem punktu $\\mathbf{x}$.\n",
        "\n",
        "Funkcja $\\psi$ decyduje o charakterze filtracji. Dla filtru Gaussowskiego:\n",
        "\n",
        "\\begin{equation}\n",
        "\\psi(y) = G_{\\delta_s}(y)\n",
        "\\tag{2}\n",
        "\\end{equation}\n",
        "\n",
        "gdzie: $G_{\\delta_s}(y)$ jest funkcją Gaussa z parametrem skali $\\delta_s$.\n",
        "\n",
        "Opisaną powyżej filtrację realizowaliśmy w ramach ćwiczenia \"Przetwarzanie wstępne. Filtracja kontekstowa.\""
      ]
    },
    {
      "cell_type": "markdown",
      "metadata": {
        "collapsed": false,
        "pycharm": {
          "name": "#%% md\n"
        },
        "id": "WzRg_3OPbNDn"
      },
      "source": [
        "## Filtracja bilateralna\n",
        "\n",
        "Wadą klasycznego splotu jest brak adaptacji współczynników filtra do lokalnego otoczenia $\\eta(\\mathbf{x})$ filtrowanego punktu $\\mathbf{x}$.\n",
        "Oznacza to wykorzystanie tych samych współczynników filtra $\\psi$ niezależnie od tego czy otoczenie jest względnie jednorodne lub zawiera krawędzie obiektów (w tym przypadku dochodzi do \"rozmywania\" krawędzi).\n",
        "Filtracja bilateralna uwzględnia lokalne otoczenie filtrowanego punktu, w ten sposób, że parametry filtra zmieniają się w zależności od \"wyglądu\" otoczenia.\n",
        "\n",
        "\n",
        "Współczynniki filtra obliczane są na podstawie odległości filtrowanego punktu $\\mathbf{x}$ od każdego punktu otoczenia $\\mathbf{p}$ w dziedzinie przestrzennej obrazu (tak jak przy typowym filtrze np. Gaussa) oraz odległości punktów w przeciwdziedzinie obrazu (np. na podstawie różnicy w jasności pikseli dla obrazu w odcieniach szarości):\n",
        "\n",
        "\\begin{equation}\n",
        "\\hat{I}(\\mathbf{x}) = \\frac{1}{W_N}\\sum_{\\mathbf{p} \\in \\eta(\\mathbf{x})} \\psi(||\\mathbf{p}-\\mathbf{x}||) \\gamma(|I(\\mathbf{p}) - I(\\mathbf{x})|) I(\\mathbf{p})\n",
        "\\tag{3}\n",
        "\\end{equation}\n",
        "gdzie:\n",
        "- $W_N$ jest współczynnikiem normalizującym filtr,\n",
        "- $\\gamma$ jest funkcją odległości w przeciwdziedzinie obrazu, np. $\\gamma(y)=\\exp(-\\frac{y^2}{2\\delta_r^2})$\n",
        "- parametr $\\delta_r$ jest utożsamiany z poziomem szumu w obrazie i należy go dobrać w sposób empiryczny.\n",
        "\n",
        "Proszę chwilę zastanowić się nad powyższym równaniem, w szczególności nad funkcją $\\gamma$. Proszę wyznaczyć, jaka będzie wartość funkcji dla pikseli podobnych (różnica 0, 1, 2), a skrajnie różnych (255, 200).\n",
        "\n",
        "##  Realizacja ćwiczenia\n",
        "\n",
        "### Wczytanie danych\n",
        "\n",
        "1. Wczytaj dane z pliku *MR_data.mat*. W tym celu wykorzystaj funkcję `loadmat` z pakietu scipy:\n",
        "        from scipy.io import loadmat\n",
        "        mat = loadmat('MR_data.mat')\n",
        "\n",
        "2. Wczytany plik zawiera 5 obrazów: *I_noisefree*, *I_noisy1*, *I_noisy2*, *I_noisy3* oraz *I_noisy4*. Odczytać je można w następujący sposób:\n",
        "        Input = mat['I_noisy1']\n",
        "\n",
        "3. Wyświetl wybrany obraz z pliku *MR_data.mat*. Zagadka - co to za obrazowanie medyczne?"
      ]
    },
    {
      "cell_type": "code",
      "execution_count": null,
      "metadata": {
        "pycharm": {
          "name": "#%% Zadanie 1 - wyświetlanie\n"
        },
        "id": "OndRJuEDbNDo"
      },
      "outputs": [],
      "source": [
        "from IPython.core.pylabtools import figsize\n",
        "from matplotlib import pyplot as plt\n",
        "import numpy as np\n",
        "from scipy.io import loadmat\n",
        "import math\n",
        "import os\n",
        "\n",
        "\n",
        "if not os.path.exists(\"MR_data.mat\") :\n",
        "    !wget https://raw.githubusercontent.com/vision-agh/poc_sw/master/07_Bilateral/MR_data.mat --no-check-certificate\n",
        "\n",
        "#TODO Samodzielna\n",
        "\n",
        "mat = loadmat('MR_data.mat')\n",
        "\n",
        "Input1 = mat['I_noisy1']\n",
        "Input2 = mat['I_noisy2']\n",
        "Input3 = mat['I_noisy3']\n",
        "Input4 = mat['I_noisy4']\n",
        "Input_0 = mat['I_noisefree']\n",
        "\n",
        "plt.imshow(Input3, 'gray')\n",
        "plt.axis('off')\n",
        "plt.show()"
      ]
    },
    {
      "cell_type": "markdown",
      "metadata": {
        "collapsed": false,
        "pycharm": {
          "name": "#%% md\n"
        },
        "id": "JmxJNVXibNDp"
      },
      "source": [
        "### \"Klasyczna\" konwolucja\n",
        "\n",
        "1. Zdefiniuj parametry filtra Gaussowskiego: rozmiar okna i wariancję $\\delta_S$.\n",
        "2. Oblicz współczynniki filtra na podstawie zdefiniowanych parametrów (najprościej w ramach podwójnej pętli for).\n",
        "2. Sprawdź ich poprawność i zwizualizuj filtr (tak jak w ćwiczeniu pt. \"Przetwarzanie wstępne. Filtracja kontekstowa.\").\n",
        "3. Wykonaj kopię obrazu wejściowego: `IConv = Input.copy()`\n",
        "4. Wykonaj podwójną pętlę po obrazie. Pomiń ramkę, dla której nie jest zdefiniowany kontekst o wybranej wielkości.\n",
        "5. W każdej iteracji stwórz dwuwymiarową tablicę zawierającą aktualny kontekst.\n",
        "6. Napisz funkcję, która będzie obliczała nową wartość piksela.\n",
        "Argumentem tej funkcji są aktualnie przetwarzane okno i współczynniki filtra.\n",
        "7. Obliczoną wartość przypisz do odpowiedniego piksela kopii obrazu wejściowego.\n",
        "8. Wyświetl wynik filtracji.\n",
        "9. Porównaj wynik z obrazem oryginalnym."
      ]
    },
    {
      "cell_type": "code",
      "execution_count": null,
      "metadata": {
        "pycharm": {
          "name": "#%% Zadanie 2 - konwolucja\n"
        },
        "id": "dNbNP6QqbNDp"
      },
      "outputs": [],
      "source": [
        "#TODO Samodzielna\n",
        "\n",
        "def fgaussian(size, sigma):\n",
        "  m = n = size\n",
        "  h, k = m//2, n//2\n",
        "  x, y = np.mgrid[-h:h+1, -k:k+1]\n",
        "  g = np.exp(-(x**2 + y**2)/(2*sigma**2))\n",
        "  return g\n",
        "\n",
        "\n",
        "def mesh(fun, size):\n",
        "  fig = plt.figure()\n",
        "  ax = fig.gca(projection='3d')\n",
        "  \n",
        "\n",
        "  X = np.arange(-size//2, size//2, 1)\n",
        "  Y = np.arange(-size//2, size//2, 1)\n",
        "  X, Y = np.meshgrid(X, Y)\n",
        "  Z = fun\n",
        "  \n",
        "  ax.plot_surface(X, Y, Z)\n",
        "  \n",
        "  plt.show()\n",
        "\n",
        "maska = fgaussian(5,0.5)\n",
        "mesh(maska,5)"
      ]
    },
    {
      "cell_type": "code",
      "source": [
        "def new_pixel_value(window, size, sigma):\n",
        "  mask = fgaussian(size, sigma)\n",
        "  A,B = window.shape\n",
        "  pixel = 0\n",
        "  x = A//2\n",
        "  y = B//2\n",
        "  for i in range(A):\n",
        "    for j in range(B):\n",
        "      dst = np.sqrt((x - i)**2 + (y - j)**2)\n",
        "      gaus = np.exp(-(dst**2)/(2*(sigma**2)))\n",
        "      pixel = pixel + gaus*window[i,j]\n",
        "  return pixel/mask.sum()"
      ],
      "metadata": {
        "id": "EySs0iZC0pG-"
      },
      "execution_count": null,
      "outputs": []
    },
    {
      "cell_type": "code",
      "source": [
        "def convol(image, size, sigma):\n",
        "  IConv = image.copy()\n",
        "  (X,Y) = IConv.shape\n",
        "  var = size//2\n",
        "  for i in range(0 + var, X - var):\n",
        "    for j in range(0 + var, Y - var):\n",
        "      window = IConv[i-var:i+var+1, j-var:j+var+1]\n",
        "      new_pixel = new_pixel_value(window, size, sigma)\n",
        "      IConv[i,j] = new_pixel\n",
        "  return IConv\n",
        "\n",
        "f, (ax1, ax2) = plt.subplots(1,2,figsize=(16,16))\n",
        "ax1.imshow(Input1,'gray')\n",
        "ax1.set_title(\"Onraz oryginalny\")\n",
        "ax1.axis('off')\n",
        "ax2.imshow(convol(Input1,7, 0.7), 'gray')\n",
        "ax2.set_title(\"Obraz w wyniku konwolucji\")\n",
        "ax2.axis('off')"
      ],
      "metadata": {
        "id": "Ibe_jUjA1FzS"
      },
      "execution_count": null,
      "outputs": []
    },
    {
      "cell_type": "markdown",
      "source": [
        "W wyniku konwulcji obraz stał się odrobinę mniej przejrzysty. Krawędzie są bardziej rozmyte. Możemy zauważyć także występujące białe kropki. "
      ],
      "metadata": {
        "id": "kPdEyzWJMSZY"
      }
    },
    {
      "cell_type": "markdown",
      "metadata": {
        "collapsed": false,
        "pycharm": {
          "name": "#%% md\n"
        },
        "id": "AFFJO_A3bNDq"
      },
      "source": [
        "### Filtracja bilateralna\n",
        "\n",
        "1. Zdefiniuj dodatkowy parametr: wariancję $\\delta_R$.\n",
        "3. Wykonaj kopię obrazu wejściowego: `IBilateral = Input.copy()`\n",
        "4. Wykonaj podwójną pętlę po obrazie. Pomiń ramkę, dla której nie jest zdefiniowany kontekst o wybranej wielkości.\n",
        "5. W każdej iteracji stwórz dwuwymiarową tablicę zawierającą aktualny kontekst.\n",
        "6. Napisz funkcję, która będzie obliczała nową wartość piksela.\n",
        "Argumentami funkcji są aktualnie przetwarzane okno, współczynniki filtra gaussowskiego (takie same jak wcześniej) i wariancja $\\delta_R$.\n",
        "7. Oblicz odległość w przeciwdziedzinie (dla wartości pikseli).\n",
        "8. Oblicz funkcję Gaussa dla obliczonych odległości z zadanym parametrem.\n",
        "9. Wykonaj normalizację obliczonych współczynników.\n",
        "10. Obliczoną wartość przypisz do odpowiedniego piksela kopii obrazu wejściowego.\n",
        "11. Wyświetl wynik filtracji.\n",
        "12. Porównaj wynik z obrazem oryginalnym."
      ]
    },
    {
      "cell_type": "code",
      "execution_count": null,
      "metadata": {
        "pycharm": {
          "name": "#%%\n"
        },
        "id": "rkLgYdz6bNDq"
      },
      "outputs": [],
      "source": [
        "def new_pixel_value_2(window, sigma, delta_r):\n",
        "  A,B = window.shape\n",
        "  pixel = 0\n",
        "  x = A//2\n",
        "  y = B//2\n",
        "  normalization = 0\n",
        "  for i in range(A):\n",
        "    for j in range(B):\n",
        "      dst = np.sqrt((x - i)**2 + (y - j)**2)\n",
        "      gaus = np.exp(-(dst**2)/(2*(sigma**2)))\n",
        "\n",
        "      diff = np.abs(window[x, y] - window[i,j])\n",
        "      gaus_diff = np.exp(-(diff**2)/(2*(delta_r**2)))\n",
        "\n",
        "      pixel = pixel + gaus*gaus_diff*window[i,j]\n",
        "      normalization +=gaus*gaus_diff\n",
        "  pixel=pixel/(normalization)\n",
        "  return pixel"
      ]
    },
    {
      "cell_type": "code",
      "source": [
        "def bilateral(image, window, sigma, delta_r):\n",
        "  IConv = image.copy()\n",
        "  (X,Y) = IConv.shape\n",
        "  var = window//2\n",
        "  for i in range(0 + var, X - var):\n",
        "    for j in range(0 + var, Y - var):\n",
        "      window = IConv[i-var:i+var+1, j-var:j+var+1]\n",
        "      new_pixel = new_pixel_value_2(window, sigma, delta_r)\n",
        "      IConv[i,j] = new_pixel\n",
        "  return IConv"
      ],
      "metadata": {
        "id": "1WLXYIgkGtOT"
      },
      "execution_count": null,
      "outputs": []
    },
    {
      "cell_type": "code",
      "source": [
        "size=5\n",
        "sigma=0.7\n",
        "delta_r=20\n",
        "convolucja = convol(Input1, size, sigma)\n",
        "bilateralne = bilateral(Input1, size, sigma, delta_r)\n",
        "\n",
        "f, (ax1, ax2, ax3) = plt.subplots(1,3,figsize=(16,16))\n",
        "ax1.imshow(Input1,'gray')\n",
        "ax1.set_title(\"Onraz oryginalny\")\n",
        "ax1.axis('off')\n",
        "ax2.imshow(convolucja, 'gray')\n",
        "ax2.set_title(\"Obraz w wyniku konwolucji\")\n",
        "ax2.axis('off')\n",
        "ax3.imshow(bilateralne, 'gray')\n",
        "ax3.set_title('Obraz w wyniku filtracji bilateralnej')\n",
        "ax3.axis('off')"
      ],
      "metadata": {
        "id": "PKRw399jIMyJ"
      },
      "execution_count": null,
      "outputs": []
    },
    {
      "cell_type": "markdown",
      "source": [
        "Obraz w wyniku filtracji bilateralnej stał się bardziej wygładzony, białe kropki, które wcześniej występowały nie są już widoczne."
      ],
      "metadata": {
        "id": "blB4mV_cNBpN"
      }
    },
    {
      "cell_type": "code",
      "source": [
        "size=5\n",
        "sigma=0.7\n",
        "delta_r=20\n",
        "convolucja = convol(Input2, size, sigma)\n",
        "bilateralne = bilateral(Input2, size, sigma, delta_r)\n",
        "\n",
        "f, (ax1, ax2, ax3) = plt.subplots(1,3,figsize=(16,16))\n",
        "ax1.imshow(Input2,'gray')\n",
        "ax1.set_title(\"Onraz oryginalny\")\n",
        "ax1.axis('off')\n",
        "ax2.imshow(convolucja, 'gray')\n",
        "ax2.set_title(\"Obraz w wyniku konwolucji\")\n",
        "ax2.axis('off')\n",
        "ax3.imshow(bilateralne, 'gray')\n",
        "ax3.set_title('Obraz w wyniku filtracji bilateralnej')\n",
        "ax3.axis('off')"
      ],
      "metadata": {
        "id": "84jX_DbGK6hp"
      },
      "execution_count": null,
      "outputs": []
    },
    {
      "cell_type": "code",
      "source": [
        "size=5\n",
        "sigma=0.7\n",
        "delta_r=20\n",
        "convolucja = convol(Input3, size, sigma)\n",
        "bilateralne = bilateral(Input3, size, sigma, delta_r)\n",
        "\n",
        "f, (ax1, ax2, ax3) = plt.subplots(1,3,figsize=(16,16))\n",
        "ax1.imshow(Input3,'gray')\n",
        "ax1.set_title(\"Onraz oryginalny\")\n",
        "ax1.axis('off')\n",
        "ax2.imshow(convolucja, 'gray')\n",
        "ax2.set_title(\"Obraz w wyniku konwolucji\")\n",
        "ax2.axis('off')\n",
        "ax3.imshow(bilateralne, 'gray')\n",
        "ax3.set_title('Obraz w wyniku filtracji bilateralnej')\n",
        "ax3.axis('off')"
      ],
      "metadata": {
        "id": "YxsIa3ohK_M6"
      },
      "execution_count": null,
      "outputs": []
    },
    {
      "cell_type": "code",
      "source": [
        "size=5\n",
        "sigma=0.7\n",
        "delta_r=20\n",
        "convolucja = convol(Input4, size, sigma)\n",
        "bilateralne = bilateral(Input4, size, sigma, delta_r)\n",
        "\n",
        "f, (ax1, ax2, ax3) = plt.subplots(1,3,figsize=(16,16))\n",
        "ax1.imshow(Input4,'gray')\n",
        "ax1.set_title(\"Onraz oryginalny\")\n",
        "ax1.axis('off')\n",
        "ax2.imshow(convolucja, 'gray')\n",
        "ax2.set_title(\"Obraz w wyniku konwolucji\")\n",
        "ax2.axis('off')\n",
        "ax3.imshow(bilateralne, 'gray')\n",
        "ax3.set_title('Obraz w wyniku filtracji bilateralnej')\n",
        "ax3.axis('off')"
      ],
      "metadata": {
        "id": "CTBGVpHSLDJm"
      },
      "execution_count": null,
      "outputs": []
    },
    {
      "cell_type": "code",
      "source": [
        "size=5\n",
        "sigma=0.7\n",
        "delta_r=20\n",
        "convolucja = convol(Input_0, size, sigma)\n",
        "bilateralne = bilateral(Input_0, size, sigma, delta_r)\n",
        "\n",
        "f, (ax1, ax2, ax3) = plt.subplots(1,3,figsize=(16,16))\n",
        "ax1.imshow(Input_0,'gray')\n",
        "ax1.set_title(\"Onraz oryginalny\")\n",
        "ax1.axis('off')\n",
        "ax2.imshow(convolucja, 'gray')\n",
        "ax2.set_title(\"Obraz w wyniku konwolucji\")\n",
        "ax2.axis('off')\n",
        "ax3.imshow(bilateralne, 'gray')\n",
        "ax3.set_title('Obraz w wyniku filtracji bilateralnej')\n",
        "ax3.axis('off')"
      ],
      "metadata": {
        "id": "xlDT9fZKLJpO"
      },
      "execution_count": null,
      "outputs": []
    },
    {
      "cell_type": "markdown",
      "source": [
        "Konwlucja powoduje powstanie mniej ostrych krawędzi , natomiast filtracja bilateralna wygładza obrazy i eliminuje niedoskonałości."
      ],
      "metadata": {
        "id": "JMzOPdt8NUPE"
      }
    }
  ],
  "metadata": {
    "kernelspec": {
      "display_name": "Python 3",
      "language": "python",
      "name": "python3"
    },
    "language_info": {
      "codemirror_mode": {
        "name": "ipython",
        "version": 3
      },
      "file_extension": ".py",
      "mimetype": "text/x-python",
      "name": "python",
      "nbconvert_exporter": "python",
      "pygments_lexer": "ipython3",
      "version": "3.8.3"
    },
    "colab": {
      "name": "07_bilateral.ipynb",
      "provenance": [],
      "collapsed_sections": []
    }
  },
  "nbformat": 4,
  "nbformat_minor": 0
}