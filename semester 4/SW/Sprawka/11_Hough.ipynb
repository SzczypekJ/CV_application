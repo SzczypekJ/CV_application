{
  "cells": [
    {
      "cell_type": "markdown",
      "metadata": {
        "id": "fWdwH_Hm5TEV"
      },
      "source": [
        "# Instrukcja - Transformacja Hougha\n",
        "\n",
        "### Cel:\n",
        "- zapoznanie z transformacją Hougha dla pojedynczego punktu,\n",
        "- kilku punktów, prostych figur\n",
        "- wykorzystanie transformacji Hougha do detekcji linii prostych na rzeczywistym obrazie\n",
        "- transformacja Hougha w przestrzeni ab\n",
        "\n",
        "### Transformacja Hougha\n",
        "\n",
        "Transformacja Hougha dla prostych jest metodą detekcji współliniowych punktów. Każda prosta może być jednoznacznie przedstawiona za pomocą dwóch parametrów. Przestrzeń tych parametrów to przestrzeń Hougha. Najczęściej wykorzystywanymi parametrami w tej metodzie są współczynniki ρ,θ\n",
        "\n",
        "opisujące równanie prostej w postaci normalnej:\n",
        "\n",
        "ρ=x⋅cos(θ)+y⋅sin(θ)\n",
        "\n",
        "gdzie: ρ - promień wodzący, θ - kąt pomiędzy ρ a osią OX.\n",
        "\n",
        "Własności transformacji Hougha:\n",
        "- prostej w przestrzeni kartezjańskiej odpowiada punkt w przestrzeni Hougha\n",
        "- pękowi prostych przechdzących przez punkt w przestrzeni kartezjańskiej odpowiada krzywa sinusoidalna w przestrzeni Hougha\n",
        "- punkty leżące na tej samej prostej (w przestrzeni kartezjańskiej) korespondują z sinusoidami przechodzącymi przez wspólny punkt w przestrzeni Hougha.\n",
        "\n",
        "Metoda wyliczania transformacji Hougha składa się z następujących kroków:\n",
        "- przez każdy badany (różny od zera) punkt obrazu prowadzony jest pęk prostych, przechodzących przez ten punkt\n",
        "- każda z tych prostych transformowana jest do przestrzeni Hougha i tworzy tam punkt o współrzędnych ρ,θ\n",
        "- w ten sposób, każdy punkt obrazu pierwotnego (pęk prostych) jest odwzorowany w sinusoidalną krzywą w przestrzeni Hougha\n",
        "\n",
        "Przestrzeń Hougha jest przestrzenią akumulacyjną tzn. punkty sinusoidalnych krzywych, wygenerowanych dla punktów obrazu pierwotnego dodają się w miejscach, w których krzywe te przecinają się. Powstałe w ten sposób (w przestrzeni Hougha) maksima odpowiadają zbiorom punktów, należących do jednej prostej. Współrzędne ρ,θ\n",
        "tego maksimum jednoznacznie określają położenie prostej na obrazie pierwotnym.\n",
        "\n",
        "### Transformacja Hougha dla małej liczby punktów.\n",
        "   1. Uruchom poniższy kod. W tablicy `im` wskaż jeden punkt, dla którego ma zostać obliczona transformata."
      ]
    },
    {
      "cell_type": "code",
      "execution_count": null,
      "metadata": {
        "id": "rSqNEwiM5TEb"
      },
      "outputs": [],
      "source": [
        "import matplotlib.pyplot as plt\n",
        "import cv2\n",
        "import numpy as np\n",
        "from skimage.transform import hough_line, hough_line_peaks\n",
        "import os\n",
        "\n",
        "if not os.path.exists(\"kwadraty.png\") :\n",
        "    !wget https://raw.githubusercontent.com/vision-agh/poc_sw/master/11_Hough/kwadraty.png --no-check-certificate\n",
        "if not os.path.exists(\"lab112.png\") :\n",
        "    !wget https://raw.githubusercontent.com/vision-agh/poc_sw/master/11_Hough/lab112.png --no-check-certificate\n",
        "if not os.path.exists(\"dom.png\") :\n",
        "    !wget https://raw.githubusercontent.com/vision-agh/poc_sw/master/11_Hough/dom.png --no-check-certificate\n",
        "\n",
        "im = np.zeros((64,64), dtype=np.uint8)\n",
        "\n",
        "im[50, 45] = 1\n",
        "\n",
        "fig, ax = plt.subplots()\n",
        "fig.set_size_inches(4, 4)\n",
        "ax.imshow(im, 'gray')\n",
        "ax.axis('off')\n"
      ]
    },
    {
      "cell_type": "markdown",
      "metadata": {
        "id": "g-GzlI395TEe"
      },
      "source": [
        "3. Wykonaj transformację Hougha obazu im. Wykorzystaj funkcję *hough_line* z modułu _skimage.transform_. Funkcja zwraca: macierz H (przestrzeń Hougha) oraz dwa wektory theta i rho dla kolejnych \n",
        "4. Wyświetl przestrzeń Hougha za pomocą funkcji _plt.imshow_ (można też wykorzystać poniższą funkcję *show_hough*). Jak \"wygląda\" pojedynczy punkt w przestrzeni Hougha?"
      ]
    },
    {
      "cell_type": "code",
      "execution_count": null,
      "metadata": {
        "id": "wAycIIDk5TEg"
      },
      "outputs": [],
      "source": [
        "def show_hough(h, image):\n",
        "    # Generating figure 1\n",
        "    fig, axes = plt.subplots(1, 2, figsize=(15, 6))\n",
        "    ax = axes.ravel()\n",
        "\n",
        "    ax[0].imshow(image, 'gray')\n",
        "    ax[0].set_title('Input image')\n",
        "    ax[0].set_axis_off()\n",
        "\n",
        "    ax[1].imshow(h, 'gray')\n",
        "    ax[1].set_title('Hough transform')\n",
        "    ax[1].set_xlabel('Angles (degrees)')\n",
        "    ax[1].set_ylabel('Distance (pixels)')\n",
        "    ax[1].axis('image')\n",
        "    \n",
        "    plt.tight_layout()\n",
        "    plt.show()\n",
        "\n",
        "im = np.zeros((64,64), dtype=np.uint8)\n",
        "im[50, 45] = 1\n",
        "matrix_H, theta, rho = hough_line(im)\n",
        "\n",
        "show_hough(matrix_H, im)"
      ]
    },
    {
      "cell_type": "markdown",
      "source": [
        "Pojedyńczy punkt przedstawiony jest w postaci fali."
      ],
      "metadata": {
        "id": "y9LLilPkLSk0"
      }
    },
    {
      "cell_type": "markdown",
      "metadata": {
        "id": "r5pWGUik5TEi"
      },
      "source": [
        "5. Powtórz punkty 1-4, ale tym razem klinkij dwa punkty. Jak zmienia się przestrzeń Hougha?\n",
        "6. Powtórz punkty 1-4, ale tym razem kliknij kilka punktów starając się aby były współliniowe. Zaobserwuj zmiany w przestrzeni Hougha\n",
        "7. Poeksperymentuj z różnymi układami punktów"
      ]
    },
    {
      "cell_type": "code",
      "source": [
        "im1 = np.zeros((64,64), dtype=np.uint8)\n",
        "im1[50, 45] = 1\n",
        "im1[20, 15] = 1\n",
        "hough = hough_line(im1)\n",
        "show_hough(hough[0], im1)"
      ],
      "metadata": {
        "id": "mYHl4G837mQN"
      },
      "execution_count": null,
      "outputs": []
    },
    {
      "cell_type": "code",
      "source": [
        "im2 = np.zeros((64,64), dtype=np.uint8)\n",
        "im2[50, 15] = 1\n",
        "im2[20, 15] = 1\n",
        "im2[37, 15] = 1\n",
        "im2[10, 15] = 1\n",
        "hough = hough_line(im2)\n",
        "show_hough(hough[0], im2)"
      ],
      "metadata": {
        "id": "nJZHOa1d8Zee"
      },
      "execution_count": null,
      "outputs": []
    },
    {
      "cell_type": "code",
      "source": [
        "im3 = np.zeros((64,64), dtype=np.uint8)\n",
        "im3[15, 15] = 1\n",
        "im3[15, 23] = 1\n",
        "im3[15, 40] = 1\n",
        "im3[15, 55] = 1\n",
        "hough = hough_line(im3)\n",
        "show_hough(hough[0], im3)"
      ],
      "metadata": {
        "id": "Zg5xebRm8rib"
      },
      "execution_count": null,
      "outputs": []
    },
    {
      "cell_type": "code",
      "source": [
        "im4 = np.zeros((64,64), dtype=np.uint8)\n",
        "im4[5, 17] = 1\n",
        "im4[23, 23] = 1\n",
        "im4[30, 40] = 1\n",
        "im4[15, 55] = 1\n",
        "hough = hough_line(im4)\n",
        "show_hough(hough[0], im4)"
      ],
      "metadata": {
        "id": "IxfMhRrt9Ar2"
      },
      "execution_count": null,
      "outputs": []
    },
    {
      "cell_type": "markdown",
      "metadata": {
        "id": "GP6NQWTg5TEj"
      },
      "source": [
        "### Transformata Hougha dla pojedynczego obiektu\n",
        "\n",
        "W tym podpunkcie pokazane zostanie praktycznie wykorzystanie transformaty Hougha - do detekcji prostych na sztucznym rysunku.\n",
        "\n",
        "   1. Wczytaj obraz \"kwadraty.png\". Wyświetl go.\n",
        "   2. Wykonaj detekcję krawędzi jedną z metod gradientowych. Ważne aby obraz krawędzi był jak najlepszej jakości - co oznacza cienkie (nawet niekoniecznie ciągłe) krawędzie - dla tego przypadku nie powinno być trudne do uzyskania. Wyświetl obraz po detekcji krawędzi.\n",
        "   3. Wykonaj transformatę Hougha obrazu krawędziowego. Wykorzystaj funkcję *hough\\_line*.\n",
        "   4. Wyświetl macierz H. Czy widoczna jest taka liczba maksimów jakiej się spodziewamy?"
      ]
    },
    {
      "cell_type": "code",
      "execution_count": null,
      "metadata": {
        "id": "xyD3kMWZ5TEl"
      },
      "outputs": [],
      "source": [
        "kwadrat = cv2.imread(\"kwadraty.png\", cv2.IMREAD_GRAYSCALE)\n",
        "plt.imshow(kwadrat, 'gray')\n",
        "plt.title(\"Obraz oryginalny\")\n",
        "plt.axis('off')\n",
        "plt.show()\n",
        "\n",
        "kwadrat_can = cv2.Canny(kwadrat, 5, 10, None, 3, 1)\n",
        "hough_kwadrat = hough_line(kwadrat_can)\n",
        "show_hough(hough_kwadrat[0], kwadrat_can)"
      ]
    },
    {
      "cell_type": "markdown",
      "source": [
        "Na otrzymanym obrazie ciężko zauważyć odpowiednią ilość maksimów."
      ],
      "metadata": {
        "id": "WoFjdTLZMIzj"
      }
    },
    {
      "cell_type": "markdown",
      "metadata": {
        "id": "gXLdtWIw5TEr"
      },
      "source": [
        " 5. W module skimage.transform dostępna jest funkcja do automatycznej analizy przestrzeni Hougha - wyszukiwania maksimów - *hough\\_line\\_peaks*. Jako parametry przyjmuje ona wyniki funkcji *hough\\_line* (macierz H, theta i rho). Dodatkowo można podać próg powyżej którego punkt uznawany jest za maksimum (_threshold_ - domyslnie jest to połowa maksimum w przestrzeni H) oraz liczbę poszukiwanych maksimów (*num_peaks*). Funkcja zwraca współrzędne maksimów. Wykorzystaj funkcję *hough\\_line\\_peaks* do znalezienia maksimów odpowiadających krawędziom kwadratów.\n",
        " 6. Wyświetl macierz H używając konstrukcji:"
      ]
    },
    {
      "cell_type": "code",
      "source": [
        "h, angles, distances  = hough_line_peaks(hough_kwadrat[0],hough_kwadrat[1],hough_kwadrat[2])\n",
        "print(angles, distances)"
      ],
      "metadata": {
        "id": "FhMc75_VBBEz"
      },
      "execution_count": null,
      "outputs": []
    },
    {
      "cell_type": "code",
      "execution_count": null,
      "metadata": {
        "id": "vxfFXSX85TEv"
      },
      "outputs": [],
      "source": [
        "angles = (angles*(180/np.pi))\n",
        "angles += 90\n",
        "distances += 363\n",
        "circle = []\n",
        "for i in range(len(angles)):\n",
        "    circle.append(plt.Circle((angles[i], distances[i]), 10, color='r', fill=False))\n",
        "\n",
        "    \n",
        "fig,ax = plt.subplots(1, figsize=(20,15))\n",
        "ax.set_aspect('equal')\n",
        "ax.imshow(hough_kwadrat[0], 'gray') # gdzie H jest przestrzenią Hougha\n",
        "for j in range(len(circle)):\n",
        "    ax.add_patch(circle[j])"
      ]
    },
    {
      "cell_type": "markdown",
      "metadata": {
        "id": "ZhG_j9-65TEz"
      },
      "source": [
        "Taki zapis pozwoli na dołożenie annotacji (okręgów) w miejscach znalezionych maksimów. Wyrysowanie okręgu w punkcie x, y (o rozmiarze 10, w czerwonym kolorze, bez wypełnienia środka) realizuje wywołanie: \n",
        "\n",
        "**circle = plt.Circle((x, y), 10, color='r', fill=False)**\n",
        "\n",
        "natomiast dołożenie takiego okręgu do obrazu to:\n",
        "\n",
        "**ax.add_patch(circle)**\n",
        "\n",
        "Zaznacz maksima na obrazie wykorzystując rezultat funkcji *hough\\_line\\_peaks* biorąc pod uwagę, że zwraca ona kąty w radianach z przedziału od -pi/2 do pi/2, a rho z przedziału od -r/2 do r/2 gdzie r to pionowy rozmiar przestrzeni Hougha. "
      ]
    },
    {
      "cell_type": "markdown",
      "metadata": {
        "id": "agjzo7qY5TE6"
      },
      "source": [
        "7. Istnieje też możliwość przeprowadzenia transformacji Hougha z użyciem biblioteki OpenCV. W bibliotece znajdują się dwie wersje funkcji wyszukującej linie proste - 'klasyczna' - _HoughLines_ oraz probabilistyczna _HoughLinesP_. Zadna z nich nie zwraca przestrzeni Hougha. Wynikiem działania pierwszej jest lista parametrów prostych (krotki zawierające rho, theta). Druga zwraca krotki 4-ro elementowe ze współrzędnymi końców odcinków wykorzystanych do wylicznia parametrów (czyli znalezienia prostej). \n",
        "8. Wyznacz linie obecne na obrazie za pomocą funkcji _HoughLines_. Wykryte linie wyrysuj na obrazie początkowym (UWAGA: wczytanym bez konwersji na graylevel). Do wyświetlania linii wykorzystaj przykładowy kod:"
      ]
    },
    {
      "cell_type": "code",
      "execution_count": null,
      "metadata": {
        "id": "fySpbDqP5TE9"
      },
      "outputs": [],
      "source": [
        "I_kwadraty = cv2.imread('kwadraty.png')\n",
        "edges = cv2.Canny(I_kwadraty, 70, 150, apertureSize = 3)\n",
        "lines = cv2.HoughLines(edges, 1, np.pi/180,65)\n",
        "\n",
        "for line in lines:\n",
        "  rho,theta = line[0]\n",
        "  a = np.cos(theta)\n",
        "  b = np.sin(theta)\n",
        "  x0 = a*rho\n",
        "  y0 = b*rho\n",
        "  x1 = int(x0 + 1000*(-b))\n",
        "  y1 = int(y0 + 1000*(a))\n",
        "  x2 = int(x0 - 1000*(-b))\n",
        "  y2 = int(y0 - 1000*(a))\n",
        "  cv2.line(I_kwadraty,(x1,y1),(x2,y2),(0,0,255),2)\n",
        "\n",
        "plt.imshow(I_kwadraty, 'gray')\n",
        "plt.axis('off')\n",
        "plt.show()\n"
      ]
    },
    {
      "cell_type": "markdown",
      "metadata": {
        "id": "NkNv8POl5TFB"
      },
      "source": [
        "9. Wyznacz odcinki obecne na obrazie za pomocą funkcji _HoughLinesP_. Wykryte odcinki wyrysuj na obrazie początkowym (UWAGA: wczytanym bez konwersji na graylevel). "
      ]
    },
    {
      "cell_type": "code",
      "execution_count": null,
      "metadata": {
        "id": "stDFPGWU5TFE"
      },
      "outputs": [],
      "source": [
        "I_kwadraty_2 = cv2.imread('kwadraty.png')\n",
        "edges = cv2.Canny(I_kwadraty_2,70,150)\n",
        "lines_P = cv2.HoughLinesP(edges,1,np.pi/180,50,50,10)\n",
        "for line in lines_P:\n",
        "    x1,y1,x2,y2 = line[0]\n",
        "    cv2.line(I_kwadraty_2,(x1,y1),(x2,y2),(0,255,0),2)\n",
        "\n",
        "plt.imshow(I_kwadraty_2, 'gray')\n",
        "plt.axis('off')\n",
        "plt.show()"
      ]
    },
    {
      "cell_type": "markdown",
      "metadata": {
        "id": "Vwz10lPC5TFF"
      },
      "source": [
        "### Transformata Hougha dla obrazu rzeczywistego.\n",
        "\n",
        "Bazując na kodzie stworzonym w punkcie B wyszukamy linie na obrazie rzeczywistym.\n",
        "   1. Wczytaj obraz \"lab112.png\". Wyświetl go.\n",
        "   2. Wykorzystując wszystkie poznane techniki przetwarzania obrazów (filtracja, przekształcenia morfologiczne, binaryzację, detekcję krawędzi) wyodrębnij krawędzie samych kwadratów - tak aby były jak najlepszej jakości (cienkie) - jednocześnie eliminując z obrazu zakłócenia.\n",
        "   3. Wykorzystaj funkcje *hough_line* i *hough_line_peaks* do detekcji linii na obrazie, a następnie np. wykorzystując kod z punktu 8 poprzedniego ustępu wyrysuj na oryginalnym obrazie znalezione linie."
      ]
    },
    {
      "cell_type": "code",
      "execution_count": null,
      "metadata": {
        "id": "Qfyym5H65TFG"
      },
      "outputs": [],
      "source": [
        "lab112 = cv2.imread(\"lab112.png\", cv2.IMREAD_GRAYSCALE)\n",
        "\n",
        "plt.imshow(lab112, 'gray')\n",
        "plt.axis('off')\n",
        "plt.show()"
      ]
    },
    {
      "cell_type": "code",
      "source": [
        "lab112 = cv2.imread('lab112.png',cv2.IMREAD_GRAYSCALE)\n",
        "plt.imshow(lab112,'gray')\n",
        "lab112[:,475:]=0\n",
        "\n",
        "def binaryzacja(image,thre):\n",
        "  for i in range(np.shape(image)[0]):\n",
        "    for j in range(np.shape(image)[1]):\n",
        "      if image[i][j] < thre:\n",
        "        image[i][j] = 0\n",
        "      else:\n",
        "        image[i][j] = 1\n",
        "  return image\n",
        "\n",
        "lab112_bin = binaryzacja(lab112,50)\n",
        "\n",
        "def crossing(LoG, thr):\n",
        "  X,Y = np.shape(LoG)\n",
        "  result = np.zeros((X,Y))\n",
        "  for i in range(0,X-2):\n",
        "    for j in range(0,Y-2):\n",
        "      extract = LoG[i:i+3,j:j+3]\n",
        "      max = extract.max()\n",
        "      min = extract.min()\n",
        "      if np.sign(max) != np.sign(min):\n",
        "        if LoG[i][j] >0:\n",
        "          result[i][j]= LoG[i][j]+np.abs(min)\n",
        "        else:\n",
        "          result[i][j]= np.abs(LoG[i][j])+ max\n",
        "\n",
        "  result_norm=cv2.normalize(result,None,0,255,cv2.NORM_MINMAX)\n",
        "  for i in range(X):\n",
        "    for j in range(Y):\n",
        "      if result_norm[i][j] < thr:\n",
        "        result_norm[i][j] = 0\n",
        "      else:\n",
        "        result_norm[i][j] = 1*255 \n",
        "          \n",
        "  final_result = cv2.medianBlur(result_norm.astype('uint8'),3)\n",
        "  return final_result\n",
        "\n",
        "edges = cv2.Canny(crossing(lab112_bin,40),50,150,apertureSize = 3)\n",
        "\n",
        "\n",
        "H, theta, rho = hough_line(edges)\n",
        "H_2, theta_2, rho_2 = hough_line_peaks(H, theta, rho)\n",
        "lab112_color = cv2.cvtColor(lab112, cv2.COLOR_GRAY2BGR)\n",
        "\n",
        "for i in range(0,len(theta_2)):\n",
        "  rho = rho_2[i]\n",
        "  theta = theta_2[i]\n",
        "  a = np.cos(theta)\n",
        "  b = np.sin(theta)\n",
        "  x0 = a*rho\n",
        "  y0 = b*rho\n",
        "  x1 = int(x0 + 1000*(-b))\n",
        "  y1 = int(y0 + 1000*(a))\n",
        "  x2 = int(x0 - 1000*(-b))\n",
        "  y2 = int(y0 - 1000*(a))\n",
        "\n",
        "  cv2.line(lab112_color, (x1, y1), (x2, y2), (255,0,0), 2, cv2.LINE_AA)\n",
        "\n",
        "plt.imshow(lab112_color)\n",
        "plt.title('Linie na podstawie krawędzi')"
      ],
      "metadata": {
        "id": "iZbUTpVsNQ5j"
      },
      "execution_count": null,
      "outputs": []
    },
    {
      "cell_type": "markdown",
      "source": [
        "Na podstawie lini jestem wstanie zrekonstruować krztałt kwadratów - rekonstrukcja powiodła się."
      ],
      "metadata": {
        "id": "V5_jOOGaS_ej"
      }
    },
    {
      "cell_type": "markdown",
      "metadata": {
        "id": "3-Po6mOb5TFK"
      },
      "source": [
        "4. Wczytaj obraz \"dom.png\". Wypróbuj działanie transformacji Hougha na tym obrazie z wykorzystaniem funkcji _cv2.HoughLinesP_  (oczywiście po odpowiednich przekształceniach). Postaraj się tak przygotować obraz z krawędziami i dobrać parametry aby wyrysować na oryginalnym obrazie odcinki obejmujące zarysy domu. Weź pod uwage dodatkowe parametry funkcji, takie jak:   minLineLength, maxLineGap."
      ]
    },
    {
      "cell_type": "code",
      "execution_count": null,
      "metadata": {
        "id": "nHZlj_b-5TFL"
      },
      "outputs": [],
      "source": [
        "dom_col = cv2.imread('dom.png')\n",
        "dom = cv2.imread('dom.png',cv2.IMREAD_GRAYSCALE)\n",
        "plt.imshow(dom,'gray')\n",
        "plt.title('Dom-obraz oryginalny')\n",
        "plt.axis('off')\n",
        "plt.show()"
      ]
    },
    {
      "cell_type": "code",
      "source": [
        "blur = cv2.GaussianBlur(dom,(7,7),2)\n",
        "lap_blur = cv2.Laplacian(blur,cv2.CV_32F)\n",
        "house_cross = crossing(lap_blur,40)\n",
        "\n",
        "dom_can = cv2.Canny(house_cross,10,30,None,3,1)\n",
        "lines = cv2.HoughLinesP(dom_can,1,np.pi/180,40, minLineLength=35, maxLineGap=5)\n",
        "for line in lines:\n",
        "    x1,y1,x2,y2 = line[0]\n",
        "    cv2.line(dom_col,(x1,y1),(x2,y2),(255,0,0),2)\n",
        "    \n",
        "plt.imshow(dom_col,'gray')\n",
        "plt.title('Obraz dom wraz z zaznaczonymi zarysami')\n",
        "plt.axis('off')\n",
        "plt.show()"
      ],
      "metadata": {
        "id": "6ESW6AbAQ5xH"
      },
      "execution_count": null,
      "outputs": []
    }
  ],
  "metadata": {
    "celltoolbar": "Raw Cell Format",
    "kernelspec": {
      "display_name": "Python 3",
      "language": "python",
      "name": "python3"
    },
    "language_info": {
      "codemirror_mode": {
        "name": "ipython",
        "version": 3
      },
      "file_extension": ".py",
      "mimetype": "text/x-python",
      "name": "python",
      "nbconvert_exporter": "python",
      "pygments_lexer": "ipython3",
      "version": "3.9.1"
    },
    "colab": {
      "name": "11_Hough.ipynb",
      "provenance": [],
      "collapsed_sections": []
    }
  },
  "nbformat": 4,
  "nbformat_minor": 0
}