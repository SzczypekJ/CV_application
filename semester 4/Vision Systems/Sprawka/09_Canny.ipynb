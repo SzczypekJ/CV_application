{
  "cells": [
    {
      "cell_type": "markdown",
      "metadata": {
        "pycharm": {
          "name": "#%% md\n"
        },
        "id": "2UHjMpLEv0gO"
      },
      "source": [
        "# Detekcja krawędzi"
      ]
    },
    {
      "cell_type": "markdown",
      "source": [
        "## Cel ćwiczenia\n",
        "\n",
        "- Zapoznanie z metodami detekcji krawędzi:\n",
        "    - Sobel, Prewitt, Roberts - przypomnienie,\n",
        "    - Laplasjan z Gaussa (LoG – ang. Laplacian of Gaussian),\n",
        "    - Canny.\n",
        "\n",
        "Detekcja krawędzi przez wiele lat była podstawą algorytmów segmentacji.\n",
        "Krawędzie wykrywane są najczęściej z wykorzystaniem pierwszej (gradient) i drugiej (Laplasjan) pochodnej przestrzennej.\n",
        "Wykorzystanie obu metod zaprezentowane zostało w ćwiczeniu *Przetwarzanie wstępne. Filtracja kontekstowa*.\n",
        "\n",
        "W niniejszym ćwiczeniu poznane detektory krawędzi zostaną porównane z bardziej zaawansowanymi: Laplasjan z funkcji Gaussa (LoG), Zero Crossing i Canny."
      ],
      "metadata": {
        "collapsed": false,
        "pycharm": {
          "name": "#%% md\n"
        },
        "id": "wTy9phkxv0gR"
      }
    },
    {
      "cell_type": "markdown",
      "source": [
        "## Laplasjan z Gaussa (LoG)\n",
        "\n",
        "Funkcja Gaussa:<br>\n",
        "\\begin{equation}\n",
        "h(r) = e^{\\frac{-r^2}{2 \\sigma^2}}\n",
        "\\end{equation}<br>\n",
        "gdzie:\n",
        "- $r^2 = x^2 + y^2$\n",
        "- $\\sigma$ to odchylenie standardowe.\n",
        "\n",
        "Działanie filtracji Gaussowskiej zostało przedstawione w ćwiczeniu \"Przetwarzanie wstępne\". W jej wyniku następuje rozmazanie obrazu.\n",
        "Laplasjan tej funkcji dany jest wzorem:\n",
        "\n",
        "\\begin{equation}\n",
        "\\nabla^2 h(r) = \\frac{r^2 - 2\\sigma^2}{\\sigma^4} e^{-\\frac{r^2}{2\\sigma^2}}\n",
        "\\end{equation}\n",
        "\n",
        "Funkcję (z oczywistych powodów) nazywamy Laplasjan z Gaussa (LoG).\n",
        "Ponieważ druga pochodna jest operacją liniową, konwolucja obrazu z $\\nabla^2 h(r)$ daje taki sam efekt jak zastosowanie filtracji Gaussa na obrazie, a następnie obliczenie Laplasjanu z wyniku.\n",
        "Lokalizacja krawędzi polega na znalezieniu miejsca, gdzie po filtracji LoG następuje zmiana znaku.\n",
        "\n",
        "1. Wczytaj obraz *house.png*.\n",
        "2. Wykonaj rozmycie Gaussowskie obrazu wejściowego.\n",
        "W tym celu wykorzysaj funkcję `cv2.GaussianBlur(img, kSize, sigma)`.\n",
        "Pierwszy argument jest obrazem wejśćiowym.\n",
        "Drugi jest rozmiarem filtru (podanym w nawiasach okrągłych, np. *(3, 3)*).\n",
        "Trzecim argumentem jest odchylenie standardowe. Wartość jest dobrana automatycznie, jeśli zosanie podana wartość `0` (będą równe rozmiarowi).\n",
        "3. Oblicz laplasjan obrazu rozmytego.\n",
        "W tym celu wykorzysaj funkcję `cv2.Laplacian(img, ddepth)`.\n",
        "Pierszym argumentem jest obraz wejściowy.\n",
        "Drugim argumentem jest typ danych wejściowych. Użyj `cv2.CV_32F`.\n",
        "4. Wyznacz miejsca zmiany znaku.\n",
        "Zaimplementuj funkcję `crossing(LoG, thr)`:\n",
        "    - Najpierw stwórz tablicę, do której zostanie zapisany wynik.\n",
        "    Jej rozmiar jest taki sam jak przetwarzanego obrazu.\n",
        "    - Następnie wykonaj pętle po obrazie (bez ramki jednopikselowej).\n",
        "    W każdej iteracji stwórz otoczenie o rozmiarze $3 \\times 3$.\n",
        "    Dla otoczenia oblicz wartość maksymalną i minimalną.\n",
        "    - Jeśli wartości te mają przeciwne znaki, to do danego miejsca tablicy przypisz wartość:\n",
        "        - jeśli piksel wejściowy > 0, to dodaj do niego wartość bezwzględną minimum.\n",
        "        - jeśli piksel wejściowy < 0, to do jego wartości bezwzględnej dodaj maksimum.\n",
        "    - Zmień zakres wykonanej tablicy do $<0, 255>$.\n",
        "    - Wykonaj progowanie tablicy. Próg jest argumentem wejściowym.\n",
        "    - Przeskaluj dane binarne do wartości `[0, 255]`.\n",
        "    - Wykonaj konwersję do typu *uint8*.\n",
        "    - Wykonaj rozmycie medianowe wyniku.\n",
        "    Wykorzystaj funkcję `cv2.medianBlur(img, kSize)`.\n",
        "    Pierwszym argumentem jest obraz wejśćiowy, a drugim rozmiar filtra.\n",
        "    - Zwróć wyznaczoną tablicę.\n",
        "5. Wyświetl obraz wynikowy.\n",
        "6. Dobierz parametry (rozmiar filtru Gaussa, odchylenie standardowe, próg binaryzacji) tak, by widoczne były kontury domu, ale nie dachówki."
      ],
      "metadata": {
        "collapsed": false,
        "pycharm": {
          "name": "#%% md\n"
        },
        "id": "mKm70IKGv0gT"
      }
    },
    {
      "cell_type": "code",
      "source": [
        "import cv2\n",
        "from matplotlib import pyplot as plt\n",
        "import numpy as np\n",
        "import math\n",
        "import os\n",
        "\n",
        "if not os.path.exists(\"dom.png\") :\n",
        "    !wget https://raw.githubusercontent.com/vision-agh/poc_sw/master/09_Canny/dom.png --no-check-certificate\n",
        "\n",
        "dom = cv2.imread(\"dom.png\", cv2.IMREAD_GRAYSCALE)\n",
        "\n",
        "\n",
        "\n",
        "\n",
        "Gaussian_blur = cv2.GaussianBlur(dom, (3,3), 0)\n",
        "laplasjan_blurry_image = cv2.Laplacian(Gaussian_blur, cv2.CV_32F)\n",
        "\n",
        "\n",
        "\n",
        "f, (ax1, ax2, ax3) = plt.subplots(1, 3, figsize = (15,5))\n",
        "ax1.set_title(\"Obraz oryginalny\")\n",
        "ax1.imshow(dom, 'gray')\n",
        "ax1.axis('off')\n",
        "ax2.set_title(\"Obraz po rozmyciu Guasoowskim \")\n",
        "ax2.imshow(Gaussian_blur, 'gray')\n",
        "ax2.axis('off')\n",
        "ax3.set_title(\"Laplajsan obrazu rozmytego\")\n",
        "ax3.imshow(laplasjan_blurry_image, 'gray')\n",
        "ax3.axis('off')\n",
        "plt.show()"
      ],
      "metadata": {
        "pycharm": {
          "name": "#%% Zadanie 1 - LoG\n"
        },
        "id": "GAxmiBkfv0gX"
      },
      "execution_count": null,
      "outputs": []
    },
    {
      "cell_type": "code",
      "source": [
        "def crossing(LoG, thr):\n",
        "  X,Y = LoG.shape\n",
        "  copy = np.zeros((X,Y))\n",
        "  for i in range(1, X - 1):\n",
        "    for j in range(1, Y - 1):\n",
        "      surroundings = LoG[i-1:i+2, j-1:j+2]\n",
        "      max = surroundings.max()\n",
        "      min = surroundings.min()\n",
        "      if (max*min < 0):\n",
        "        if(LoG[i, j] > 0):\n",
        "          copy[i, j] = LoG[i, j] + np.abs(min)\n",
        "        if(LoG[i, j] < 0):\n",
        "          copy[i, j] = np.abs(LoG[i, j]) + max\n",
        "\n",
        "  copy_norma = cv2.normalize(copy, None, 0, 255, cv2.NORM_MINMAX)\n",
        "  copy_bin = np.where(copy_norma < thr, 0, 1)\n",
        "  copy_bn = copy_bin * 255\n",
        "  copy_bn = copy_bn.astype('uint8')\n",
        "  copy_blured = cv2.medianBlur(copy_bn, 5)\n",
        "  return copy_blured"
      ],
      "metadata": {
        "id": "v2D1VxV9z4y-"
      },
      "execution_count": null,
      "outputs": []
    },
    {
      "cell_type": "code",
      "source": [
        "Gaussian_blur = cv2.GaussianBlur(dom, (3, 3), 1)\n",
        "laplasjan_blurry_image = cv2.Laplacian(Gaussian_blur, cv2.CV_32F)\n",
        "\n",
        "dom_cross = crossing(laplasjan_blurry_image, 50)\n",
        "\n",
        "plt.imshow(dom_cross, 'gray', vmin=0, vmax=256)\n",
        "plt.axis('off')\n",
        "plt.show()"
      ],
      "metadata": {
        "id": "VvvXAfwC2kf2"
      },
      "execution_count": null,
      "outputs": []
    },
    {
      "cell_type": "markdown",
      "source": [
        "## Algorytm Canny'ego\n",
        "\n",
        "> Algorytm Canny'ego to często wykorzystywana metoda detekcji krawędzi.\n",
        "> Zaproponowana została w~1986r. przez Johna F. Cannego.\n",
        "> Przy jego projektowaniu założono trzy cele:\n",
        "> - niska liczba błędów - algorytm powinien znajdywać wszystkie krawędzie oraz generować jak najmniej fałszywych detekcji,\n",
        "> - punkty krawędziowe powinny być poprawnie lokalizowane - wykryte punkty powinny być jak najbardziej zbliżone do rzeczywistych,\n",
        "> - krawędzie o szerokości 1 piksela - algorytm powinien zwrócić jeden punkt dla każdej rzeczywistej krawędzi.\n",
        "\n",
        "Zaimplementuj pierwszą część algorytmu detekcji krawędzi Canny'ego:\n",
        "1. W pierwszym kroku obraz przefiltruj dwuwymiarowym filtrem Gaussa.\n",
        "2. Następnie oblicz gradient pionowy i poziomy ($g_x $ i $g_y$).\n",
        "Jedną z metod jest filtracja Sobela.\n",
        "3. Dalej oblicz amplitudę:\n",
        "$M(x,y)  = \\sqrt{g_x^2+g_y^2}$ oraz kąt:\n",
        "$\\alpha(x,y) = arctan(\\frac{g_y}{g_x})$.\n",
        "Do obliczenia kąta wykorzystaj funkcję `np.arctan2(x1, x2)`.\n",
        "Wynik jest w radianach.\n",
        "4. W kolejnym etapie wykonaj kwantyzację kątów gradientu.\n",
        "Kąty od $-180^\\circ$ do $180^\\circ$ można podzielić na 8 przedziałów:\n",
        "[$-22.5^\\circ, 22.5^\\circ$], [$22.5^\\circ, 67.5^\\circ$],\n",
        "[$67.5^\\circ, 112.5^\\circ$], [$112.5^\\circ, 157.5^\\circ$],\n",
        "[$157.5^\\circ, -157.5^\\circ$], [$-157.5^\\circ, -112.5^\\circ$],\n",
        "[$-112.5^\\circ, -67.5^\\circ$], [$-67.5^\\circ, -22.5^\\circ$].\n",
        "Przy czym należy rozpatrywać tylko 4 kierunki:\n",
        "    - pionowy ($d_1$),\n",
        "    - poziomy ($d_2$),\n",
        "    - skośny lewy ($d_3$),\n",
        "    - skośny prawy ($d_4$).\n",
        "5. Dalej przeprowadź eliminację pikseli, które nie mają wartości maksymalnej (ang. *nonmaximal suppresion*).\n",
        "Celem tej operacji jest redukcja szerokości krawędzi do rozmiaru 1 piksela.\n",
        "Algorytm przebiega następująco.\n",
        "W rozpatrywanym otoczeniu o rozmiarze $3 \\times 3$:\n",
        "    - określ do którego przedziału należy kierunek gradientu piksela centralnego ($d_1, d_2, d_3, d_4$).\n",
        "    - przeanalizuje sąsiadów leżących na tym kierunku.\n",
        "Jeśli choć jeden z nich ma amplitudę większą niż piksel centralny, to należy uznać, że nie jest lokalnym maksimum i do wyniku przypisać $g_N(x,y) = 0$.\n",
        "W przeciwnym przypadku $g_N(x,y) = M(x,y)$.\n",
        "Przez $g_N$ rozumiemy obraz detekcji lokalnych maksimów.\n",
        "Zaimplementuj funkcję `nonmax`.\n",
        "Pierwszym argementem jest macierz kierunków (po kwantyzacji).\n",
        "Drugim argumentem jest macierz amplitudy.\n",
        "6. Ostatnią operacją jest binaryzacja obrazu $g_N$.\n",
        "Stosuje się tutaj tzw. binaryzację z histerezą.\n",
        "Wykorzystuje się w niej dwa progi: $T_L$ i $T_H$, przy czym $T_L < T_H$.\n",
        "Canny zaproponował, aby stosunek progu wyższego do niższego był jak 3 lub 2 do 1.\n",
        "Rezultaty binaryzacji można opisać jako:<br>\n",
        "$g_{NH}(x,y) = g_N(x,y) \\geq TH $<br>\n",
        "$g_{NL}(x,y) = TH > g_N(x,y) \\geq TL $<br>\n",
        "Można powiedzieć, że na obrazie $g_{NH}$ są \"pewne\" krawędzie.\n",
        "Natomiast na $g_{NL}$ \"potencjalne\".\n",
        "7. Na jednym obrazie zaznacz piksele należące do obrazu $g_{NH}$ jako czerwone oraz należące do obrazu $g_{NL}$ jako niebieskie.\n",
        "Wyświetl obraz."
      ],
      "metadata": {
        "collapsed": false,
        "pycharm": {
          "name": "#%% md\n"
        },
        "id": "0eVKG1i-v0gZ"
      }
    },
    {
      "cell_type": "code",
      "execution_count": null,
      "outputs": [],
      "source": [
        "def canny(image, thr, tl):\n",
        "  X, Y = image.shape\n",
        "  img_blur = cv2.GaussianBlur(image, (5, 5), 0)\n",
        "\n",
        "  S1 = np.array([[-1,0,1],[-2,0,2],[-1,0,1]])\n",
        "  S2 = np.array([[-1,-2,-1],[0,0,0],[1,2,1]])\n",
        "\n",
        "  Gx = cv2.filter2D(img_blur, -1, S1)\n",
        "  Gy = cv2.filter2D(img_blur, -1, S2)\n",
        "  amplitude = np.sqrt(Gx**2 + Gy**2)\n",
        "\n",
        "  alfa = np.arctan2(Gy, Gx)\n",
        "  alfa_deg = np.degrees(alfa)\n",
        "  A, B = alfa_deg.shape\n",
        "  for i in range(A):\n",
        "    for j in range(B):\n",
        "      if alfa_deg[i][j] < 0:\n",
        "        alfa_deg[i][j] + 180\n",
        "\n",
        "  kier = np.zeros((X,Y))\n",
        "\n",
        "  for i in range (X):\n",
        "    for j in range (Y):\n",
        "      if (0 <= alfa_deg[i,j] < 22.5) or (157.5 <= alfa_deg[i,j] <= 180):\n",
        "        kier[i,j] = 1\n",
        "      elif (22.5 <= alfa_deg[i,j] < 67.5):\n",
        "        kier[i,j] = 2\n",
        "      elif (67.5 <= alfa_deg[i,j] < 112.5):\n",
        "        kier[i,j] = 3\n",
        "      elif (112.5 <= alfa_deg[i,j] < 157.5):\n",
        "        kier[i,j] = 4\n",
        "    \n",
        "  gn = nonmax(kier, amplitude)\n",
        "  gnh = gn>=thr\n",
        "  gnl = np.where(np.logical_and(thr > gn, gn >= tl),1,0)\n",
        "  return gnh, gnl\n",
        "\n",
        "\n",
        "def nonmax(kier,amplitude):\n",
        "    X,Y = kier.shape\n",
        "    gn = np.zeros((X,Y))\n",
        "    \n",
        "    for i in range (1, X-1):\n",
        "      for j in range (1, Y-1):\n",
        "        if(kier[i,j] == 1):\n",
        "          if(amplitude[i,j-1] > amplitude[i,j] or amplitude[i,j+1] > amplitude[i,j]):\n",
        "            gn[i,j] = 0\n",
        "          else:\n",
        "            gn[i,j] = amplitude[i,j]\n",
        "        elif(kier[i,j] == 2):\n",
        "          if(amplitude[i+1,j-1] > amplitude[i,j] or amplitude[i-1,j+1] > amplitude[i,j]):\n",
        "            gn[i,j] = 0\n",
        "          else:\n",
        "            gn[i,j]=amplitude[i,j]\n",
        "        elif(kier[i,j] == 3):\n",
        "          if(amplitude[i+1,j] > amplitude[i,j] or amplitude[i-1,j] > amplitude[i,j]):\n",
        "            gn[i,j]=0\n",
        "          else:\n",
        "            gn[i,j] = amplitude[i,j]\n",
        "        elif(kier[i,j] == 4):\n",
        "          if(amplitude[i-1,j-1] > amplitude[i,j] or amplitude[i+1,j+1] > amplitude[i,j]):\n",
        "            gn[i,j] = 0\n",
        "          else:\n",
        "            gn[i,j] = amplitude[i,j]\n",
        "    return gn"
      ],
      "metadata": {
        "pycharm": {
          "name": "#%% Zadanie 2 - Canny\n"
        },
        "id": "NSO0DUPPv0ga"
      }
    },
    {
      "cell_type": "code",
      "source": [
        "gnh, gnl = canny(dom, 10, 5)\n",
        "\n",
        "plt.imshow(gnh, 'gray', vmin=0, vmax=1)\n",
        "plt.axis('off')\n",
        "plt.title(\"Obraz gnh\")\n",
        "plt.show()\n",
        "\n",
        "plt.imshow(gnl, 'gray', vmin=0, vmax=1)\n",
        "plt.axis('off')\n",
        "plt.title(\"Obraz gnl\")\n",
        "plt.show()"
      ],
      "metadata": {
        "id": "OCVvCDu2-S-Q"
      },
      "execution_count": null,
      "outputs": []
    },
    {
      "cell_type": "code",
      "source": [
        "X,Y = gnh.shape\n",
        "obraz = np.zeros((X,Y,3))\n",
        "for i in range(0, X):\n",
        "    for j in range(0, Y):\n",
        "        if(gnh[i,j] == 1):\n",
        "            obraz[i,j] = [255,0,0]\n",
        "        elif(gnl[i,j] == 1):\n",
        "            obraz[i,j] = [0,0,255]\n",
        "plt.imshow(obraz)\n",
        "plt.axis('off')\n",
        "plt.title(\"Obraz z niebieskimi i czerwonymi pikselami\")\n",
        "plt.show()"
      ],
      "metadata": {
        "id": "KALrhZcu_cJE"
      },
      "execution_count": null,
      "outputs": []
    },
    {
      "cell_type": "markdown",
      "source": [
        "## Algorytm Canny'ego - OpenCV\n",
        "\n",
        "1. Wykonaj dektekcję krawędzi metodą Canny'ego wykorzystując funkcję `cv2.Canny`.\n",
        "    - Pierwszym argumentem funkcji jest obraz wejściowy.\n",
        "    - Drugim argumentem jest mniejszy próg.\n",
        "    - Trzecim argumentem jest większy próg.\n",
        "    - Czwarty argument to tablica, do której wpisany zostanie wynik.\n",
        "    Można zwrócić go przez wartość i podać wartość `None`.\n",
        "    - Piąty argument to rozmiar operatora Sobela (w naszym przypadku 3).\n",
        "    - Szósty argument to rodzaj używanej normy.\n",
        "    0 oznacza normę $L_1$, 1 oznacza normę $L_2$. Użyj $L_2$.\n",
        "2. Wynik wyświetl i porównaj z wykonaną częściową implementacją w poprzednim ćwiczeniu.\n",
        "Na czym polegają różnice?"
      ],
      "metadata": {
        "collapsed": false,
        "pycharm": {
          "name": "#%% md\n"
        },
        "id": "lTeZp7VPv0gb"
      }
    },
    {
      "cell_type": "code",
      "execution_count": null,
      "outputs": [],
      "source": [
        "canny = cv2.Canny(dom, 5, 10, None, 3, 1)\n",
        "plt.imshow(canny, 'gray')\n",
        "plt.axis('off')\n",
        "plt.title(\"Obraz otrzymany za pomocą wbudowanej funkcji cv2.Canny\")\n",
        "plt.show()"
      ],
      "metadata": {
        "pycharm": {
          "name": "#%% Zadanie 3 - Canny opencv\n"
        },
        "id": "VwbRTwP1v0gd"
      }
    },
    {
      "cell_type": "markdown",
      "source": [
        "Obraz jest bardziej rozmyty - gorsza widoczność konturów, jednakże można zauważyć, że dachówki są lepiej widoczne. Występują także białe plamki ponad domem."
      ],
      "metadata": {
        "id": "sfCGEPFWe8Io"
      }
    }
  ],
  "metadata": {
    "kernelspec": {
      "display_name": "Python 3",
      "language": "python",
      "name": "python3"
    },
    "language_info": {
      "codemirror_mode": {
        "name": "ipython",
        "version": 3
      },
      "file_extension": ".py",
      "mimetype": "text/x-python",
      "name": "python",
      "nbconvert_exporter": "python",
      "pygments_lexer": "ipython3",
      "version": "3.8.3"
    },
    "colab": {
      "name": "09_Canny.ipynb",
      "provenance": [],
      "collapsed_sections": []
    }
  },
  "nbformat": 4,
  "nbformat_minor": 0
}