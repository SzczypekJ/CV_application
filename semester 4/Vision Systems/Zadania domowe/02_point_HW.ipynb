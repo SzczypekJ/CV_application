{
  "cells": [
    {
      "cell_type": "markdown",
      "source": [
        "# Zadanie domowe\n",
        "\n",
        "W przypadku obrazów w odcieniach szarości pojedynczy piksel z zakresu [0; 255] reprezentowany jest jako 8-bitowa liczba bez znaku.\n",
        "Pewnym rozszerzeniem analizy sposobu reprezentacji obrazu może być następujący eksperyment.\n",
        "Załóżmy, że z każdego z 8 bitów możemy stworzyć pojedynczy obraz binarny (ang. _bit-plane slicing_).\n",
        "Dla obrazka _100zloty.jpg_ (https://raw.githubusercontent.com/vision-agh/poc_sw/master/02_Point/100zloty.jpg) stwórz 8 obrazów, z których każdy powinien zawierać jedną płaszczyznę bitową.\n",
        "Podpowiedź $-$ warto sprawdzić, jak realizuje się bitowe operacje logiczne.\n",
        "Zastosowanie takiej dekompozycji obrazu pozwala na analizę ,,ważności'' poszczególnych bitów.\n",
        "Jest to użyteczne w kwantyzacji, ale także w kompresji.\n",
        "\n",
        "W drugim etapie zadania proszę spróbować odtworzyć obraz oryginalny z mniejszej liczby obrazów binarnych.\n",
        "Warto zacząć od dwóch najbardziej znaczących bitów, a później dodawać kolejne.\n",
        "Należy utworzyć co najmniej trzy wersje zrekonstruowanych obrazów.\n",
        "Podpowiedź $-$ rekonstrukcja obrazu to mnożenie przez odpowiednią potęgę liczby 2 (przesunięcie bitowe) oraz dodawanie."
      ],
      "metadata": {
        "collapsed": false,
        "id": "2LDMGq151CDG"
      }
    },
    {
      "cell_type": "code",
      "source": [
        "import cv2\n",
        "import numpy as np\n",
        "import matplotlib.pyplot as plt\n",
        "import os"
      ],
      "metadata": {
        "id": "IGrE7yZj1Trf"
      },
      "execution_count": null,
      "outputs": []
    },
    {
      "cell_type": "code",
      "source": [
        "if not os.path.exists(\"100zloty.jpg\") :\n",
        "    !wget https://raw.githubusercontent.com/vision-agh/poc_sw/master/02_Point/100zloty.jpg\n",
        "zloty=cv2.imread(\"100zloty.jpg\")\n",
        "\n",
        "zloty = cv2.cvtColor(zloty, cv2.COLOR_BGR2RGB)\n",
        "zloty = cv2.cvtColor(zloty, cv2.COLOR_RGB2GRAY)\n",
        "\n",
        "size = np.shape(zloty)\n",
        "tab_of_bits = [0,1,2,3,4,5,6,7]\n",
        "tab_ones = np.ones(size)\n",
        "set_of_planes = []\n",
        "\n",
        "for x in tab_of_bits:\n",
        "    tab2 = tab_ones * 2**x\n",
        "    tab3 = tab2.astype('uint8')\n",
        "    image = cv2.bitwise_and(zloty, tab3)\n",
        "    set_of_planes.append(image)\n",
        "    plt.xticks([]), plt.yticks([])\n",
        "    plt.imshow(image)\n",
        "    plt.gray()\n",
        "    plt.show()\n",
        "\n",
        "\n",
        "rek_1 = cv2.add(set_of_planes[3],set_of_planes[2])\n",
        "rek_2 = cv2.add(set_of_planes[7],set_of_planes[6])\n",
        "rek_3 = cv2.add(set_of_planes[7],set_of_planes[0])\n",
        "f, (ax1,ax2,ax3) = plt.subplots(1,3)\n",
        "ax1.set_title('4 i 3 bit')\n",
        "ax2.set_title('8 i 7 bit')\n",
        "ax3.set_title('8 i 0 bit')\n",
        "ax1.imshow(rek_1)\n",
        "ax2.imshow(rek_2)\n",
        "ax3.imshow(rek_3)\n",
        "for ax in (ax1,ax2,ax3):\n",
        "    ax.set_xticks([])\n",
        "    ax.set_yticks([])\n",
        "plt.show()"
      ],
      "metadata": {
        "id": "xwZ9A-691c8X"
      },
      "execution_count": null,
      "outputs": []
    }
  ],
  "metadata": {
    "kernelspec": {
      "display_name": "Python 3",
      "language": "python",
      "name": "python3"
    },
    "language_info": {
      "codemirror_mode": {
        "name": "ipython",
        "version": 2
      },
      "file_extension": ".py",
      "mimetype": "text/x-python",
      "name": "python",
      "nbconvert_exporter": "python",
      "pygments_lexer": "ipython2",
      "version": "2.7.6"
    },
    "colab": {
      "name": "02_point_HW.ipynb",
      "provenance": [],
      "collapsed_sections": []
    }
  },
  "nbformat": 4,
  "nbformat_minor": 0
}