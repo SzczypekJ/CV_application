{
  "cells": [
    {
      "cell_type": "markdown",
      "source": [
        "## Zadanie domowe - Algorytm Canny'ego\n",
        "\n",
        "Celem zadania domowego jest wykonanie pełnej implementacji algorytmu Canny'ego.\n",
        "\n",
        "W ramach ćwiczenia w trakcie laboratorium wyznaczono obrazy $g_{NH}$ i $g_{NL}$.\n",
        "Dla przypomnienia:\n",
        "Można powiedzieć, że na obrazie $g_{NH}$ są \"pewne\" krawędzie.\n",
        "Natomiast na $g_{NL}$ \"potencjalne\".\n",
        "Często krawędzie \"pewne\" nie są ciągłe.\n",
        "Wykorzystuje się więc krawędzie \"potencjalne\", aby uzupełnić nieciągłości.\n",
        "Procedura wygląda następująco:\n",
        "1. Stwórz stos zawierający wszystkie piksele zaznaczone na obrazie $g_{NH}$.\n",
        "W tym celu wykorzystaj listę współrzędnych `[row, col]`.\n",
        "Do pobrania elementu z początku służy metoda `list.pop()`.\n",
        "Do dodania elementu na koniec listy służy metoda `list.append(new)`.\n",
        "2. Stwórz obraz, który będzie zawierał informację czy dany piksel został już odwiedzony.\n",
        "3. Stwórz obraz, który zawierać będzie wynikowe krawędzie.\n",
        "Jej rozmiar jest równy rozmiarowi obrazu.\n",
        "4. Wykonaj pętlę, która będzie pobierać elementy z listy, dopóki ta nie będzie pusta.\n",
        "W tym celu najlepiej sprawdzi się pętla `while`.\n",
        "    - W każdej iteracji pobierz element ze stosu.\n",
        "    - Sprawdź, czy dany element został już odwiedzony.\n",
        "    - Jeśli nie został, to:\n",
        "        - Oznacz go jako odwiedzony,\n",
        "        - Oznacz piksel jako krawędź w wyniku,\n",
        "        - Sprawdź otoczenie piksela w obrazie $g_{NL}$,\n",
        "        - Dodaj do stosu współrzędne otoczenia, które zawierają krawędź.\n",
        "        Można to wykonać np. pętlą po stworzonym otoczeniu.\n",
        "7. Wyświetl obraz oryginalny, obraz $g_{NH}$ oraz obraz wynikowy.\n",
        "8. Porównaj wynik algorytmu z wynikiem OpenCV.\n",
        "\n",
        "Pomocnicze obrazy $g_{NH}$ i $g_{NL}$ zostały wprowadzone dla uproszczenia opisu.\n",
        "Algorytm można zaimplementować w bardziej \"zwarty\" sposób.\n",
        "\n",
        "Na podstawie powyższego opisu zaimplementuj pełny algorytm Canny'ego."
      ],
      "metadata": {
        "collapsed": false,
        "pycharm": {
          "name": "#%% md\n"
        },
        "id": "H2jSx92fGKdN"
      }
    },
    {
      "cell_type": "code",
      "execution_count": null,
      "outputs": [],
      "source": [
        "import cv2\n",
        "from matplotlib import pyplot as plt\n",
        "import numpy as np\n",
        "import math\n",
        "import os\n",
        "\n",
        "if not os.path.exists(\"dom.png\") :\n",
        "    !wget https://raw.githubusercontent.com/vision-agh/poc_sw/master/09_Canny/dom.png --no-check-certificate\n",
        "\n",
        "dom = cv2.imread(\"dom.png\", cv2.IMREAD_GRAYSCALE)"
      ],
      "metadata": {
        "pycharm": {
          "name": "#%% Zadanie domowe - Canny\n"
        },
        "id": "tKuhZ7nfGKdQ"
      }
    },
    {
      "cell_type": "code",
      "source": [
        "def full_canny(gnh, gnl, image):\n",
        "  X, Y = image.shape\n",
        "  lista = []\n",
        "\n",
        "  for i in range(1, X - 1):\n",
        "    for j in range(1, Y - 1):\n",
        "      if(gnh[i, j] == 1):\n",
        "        lista.append([i, j])\n",
        "\n",
        "  visited = np.zeros((X, Y))\n",
        "  edges = np.zeros((X, Y))\n",
        "\n",
        "  while(lista):\n",
        "    element = lista.pop()\n",
        "    x = element[0]\n",
        "    y = element[1]\n",
        "    if(visited[x, y] == 0):\n",
        "      visited[x, y] = 1\n",
        "      edges[x, y] = 1\n",
        "      for m in range(x - 1, x + 2):\n",
        "        for n in range(y - 1, y + 2):\n",
        "          if(gnl[m, n] == 1):\n",
        "            lista.append([m, n])\n",
        "\n",
        "  return edges"
      ],
      "metadata": {
        "id": "jgAN6CbRIpnn"
      },
      "execution_count": null,
      "outputs": []
    },
    {
      "cell_type": "code",
      "source": [
        "def canny(image, thr, tl):\n",
        "  X, Y = image.shape\n",
        "  img_blur = cv2.GaussianBlur(image, (5, 5), 0)\n",
        "\n",
        "  S1 = np.array([[-1,0,1],[-2,0,2],[-1,0,1]])\n",
        "  S2 = np.array([[-1,-2,-1],[0,0,0],[1,2,1]])\n",
        "\n",
        "  Gx = cv2.filter2D(img_blur, -1, S1)\n",
        "  Gy = cv2.filter2D(img_blur, -1, S2)\n",
        "  amplitude = np.sqrt(Gx**2 + Gy**2)\n",
        "\n",
        "  alfa = np.arctan2(Gy, Gx)\n",
        "  alfa_deg = np.degrees(alfa)\n",
        "  A, B = alfa_deg.shape\n",
        "  for i in range(A):\n",
        "    for j in range(B):\n",
        "      if alfa_deg[i][j] < 0:\n",
        "        alfa_deg[i][j] + 180\n",
        "\n",
        "  kier = np.zeros((X,Y))\n",
        "\n",
        "  for i in range (X):\n",
        "    for j in range (Y):\n",
        "      if (0 <= alfa_deg[i,j] < 22.5) or (157.5 <= alfa_deg[i,j] <= 180):\n",
        "        kier[i,j] = 1\n",
        "      elif (22.5 <= alfa_deg[i,j] < 67.5):\n",
        "        kier[i,j] = 2\n",
        "      elif (67.5 <= alfa_deg[i,j] < 112.5):\n",
        "        kier[i,j] = 3\n",
        "      elif (112.5 <= alfa_deg[i,j] < 157.5):\n",
        "        kier[i,j] = 4\n",
        "    \n",
        "  gn = nonmax(kier, amplitude)\n",
        "  gnh = gn>=thr\n",
        "  gnl = np.where(np.logical_and(thr > gn, gn >= tl),1,0)\n",
        "  return gnh, gnl\n",
        "\n",
        "\n",
        "def nonmax(kier,amplitude):\n",
        "    X,Y = kier.shape\n",
        "    gn = np.zeros((X,Y))\n",
        "    \n",
        "    for i in range (1, X-1):\n",
        "      for j in range (1, Y-1):\n",
        "        if(kier[i,j] == 1):\n",
        "          if(amplitude[i,j-1] > amplitude[i,j] or amplitude[i,j+1] > amplitude[i,j]):\n",
        "            gn[i,j] = 0\n",
        "          else:\n",
        "            gn[i,j] = amplitude[i,j]\n",
        "        elif(kier[i,j] == 2):\n",
        "          if(amplitude[i+1,j-1] > amplitude[i,j] or amplitude[i-1,j+1] > amplitude[i,j]):\n",
        "            gn[i,j] = 0\n",
        "          else:\n",
        "            gn[i,j]=amplitude[i,j]\n",
        "        elif(kier[i,j] == 3):\n",
        "          if(amplitude[i+1,j] > amplitude[i,j] or amplitude[i-1,j] > amplitude[i,j]):\n",
        "            gn[i,j]=0\n",
        "          else:\n",
        "            gn[i,j] = amplitude[i,j]\n",
        "        elif(kier[i,j] == 4):\n",
        "          if(amplitude[i-1,j-1] > amplitude[i,j] or amplitude[i+1,j+1] > amplitude[i,j]):\n",
        "            gn[i,j] = 0\n",
        "          else:\n",
        "            gn[i,j] = amplitude[i,j]\n",
        "    return gn"
      ],
      "metadata": {
        "id": "gt2etj31J0SP"
      },
      "execution_count": null,
      "outputs": []
    },
    {
      "cell_type": "code",
      "source": [
        "gnh, gnl = canny(dom, tl = 5, thr = 10)\n",
        "img_full_canny = full_canny(gnh = gnh, gnl = gnl, image = dom)\n",
        "img_cv2_canny = cv2.Canny(dom, 5, 10, None, 3, 1)\n",
        "\n",
        "f, (ax1, ax2, ax3, ax4) = plt.subplots(1, 4, figsize = (23, 6))\n",
        "ax1.set_title(\"Obraz oryginalny\")\n",
        "ax1.imshow(dom, 'gray')\n",
        "ax1.axis('off')\n",
        "ax2.set_title(\"Obraz GNH\")\n",
        "ax2.imshow(gnh, 'gray')\n",
        "ax2.axis('off')\n",
        "ax3.set_title(\"Obraz po pełnym Cannym\")\n",
        "ax3.imshow(img_full_canny, 'gray')\n",
        "ax3.axis('off')\n",
        "ax4.set_title(\"Obraz po Cannym wbudowanym\")\n",
        "ax4.imshow(img_cv2_canny, 'gray')\n",
        "ax4.axis('off')"
      ],
      "metadata": {
        "id": "YM145cShJ6xd"
      },
      "execution_count": null,
      "outputs": []
    },
    {
      "cell_type": "markdown",
      "source": [
        "W obrazie funkcji wbudowanej można zauważyć białe plamy ponad domem oraz dokładniej widac dachówki. Na wszystkich wynikach (oprócz obrazu oryginalnego) słabo widoczne są okna z lewej strony domu."
      ],
      "metadata": {
        "id": "KoCvKpzPTY5v"
      }
    }
  ],
  "metadata": {
    "kernelspec": {
      "display_name": "Python 3",
      "language": "python",
      "name": "python3"
    },
    "language_info": {
      "codemirror_mode": {
        "name": "ipython",
        "version": 3
      },
      "file_extension": ".py",
      "mimetype": "text/x-python",
      "name": "python",
      "nbconvert_exporter": "python",
      "pygments_lexer": "ipython3",
      "version": "3.8.3"
    },
    "colab": {
      "name": "09_Canny_HW.ipynb",
      "provenance": [],
      "collapsed_sections": []
    }
  },
  "nbformat": 4,
  "nbformat_minor": 0
}