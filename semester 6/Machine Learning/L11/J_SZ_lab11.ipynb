{
 "cells": [
  {
   "attachments": {},
   "cell_type": "markdown",
   "metadata": {},
   "source": [
    "## Klasyfikacja z wykorzystaniem sieci neuronowych"
   ]
  },
  {
   "cell_type": "code",
   "execution_count": 3,
   "metadata": {},
   "outputs": [],
   "source": [
    "import numpy as np\n",
    "import keras\n",
    "from keras.datasets import mnist\n",
    "from keras import layers\n",
    "from sklearn.metrics import classification_report, confusion_matrix"
   ]
  },
  {
   "attachments": {},
   "cell_type": "markdown",
   "metadata": {},
   "source": [
    "**Wczytanie i konwersja danych**"
   ]
  },
  {
   "cell_type": "code",
   "execution_count": 4,
   "metadata": {},
   "outputs": [
    {
     "name": "stdout",
     "output_type": "stream",
     "text": [
      "Downloading data from https://storage.googleapis.com/tensorflow/tf-keras-datasets/mnist.npz\n",
      "11490434/11490434 [==============================] - 1s 0us/step\n"
     ]
    }
   ],
   "source": [
    "training_set, test_set = mnist.load_data()"
   ]
  },
  {
   "cell_type": "code",
   "execution_count": 5,
   "metadata": {},
   "outputs": [],
   "source": [
    "X_train, y_train = training_set\n",
    "X_test, y_test = test_set"
   ]
  },
  {
   "cell_type": "code",
   "execution_count": 6,
   "metadata": {},
   "outputs": [
    {
     "name": "stdout",
     "output_type": "stream",
     "text": [
      "(60000, 28, 28)\n"
     ]
    },
    {
     "data": {
      "text/plain": [
       "(60000, 28, 28)"
      ]
     },
     "execution_count": 6,
     "metadata": {},
     "output_type": "execute_result"
    }
   ],
   "source": [
    "print(X_train.shape)\n",
    "(60000, 28, 28)"
   ]
  },
  {
   "cell_type": "code",
   "execution_count": 7,
   "metadata": {},
   "outputs": [],
   "source": [
    "X_train = np.expand_dims(X_train, -1)\n",
    "X_test = np.expand_dims(X_test, -1)"
   ]
  },
  {
   "cell_type": "code",
   "execution_count": 8,
   "metadata": {},
   "outputs": [
    {
     "name": "stdout",
     "output_type": "stream",
     "text": [
      "(60000, 28, 28, 1)\n"
     ]
    },
    {
     "data": {
      "text/plain": [
       "(60000, 28, 28, 1)"
      ]
     },
     "execution_count": 8,
     "metadata": {},
     "output_type": "execute_result"
    }
   ],
   "source": [
    "print(X_train.shape)\n",
    "(60000, 28, 28, 1)"
   ]
  },
  {
   "cell_type": "code",
   "execution_count": 9,
   "metadata": {},
   "outputs": [
    {
     "name": "stderr",
     "output_type": "stream",
     "text": [
      "C:\\Users\\szczy\\AppData\\Local\\Temp\\ipykernel_21576\\1404525770.py:1: DeprecationWarning: `np.float` is a deprecated alias for the builtin `float`. To silence this warning, use `float` by itself. Doing this will not modify any behavior and is safe. If you specifically wanted the numpy scalar type, use `np.float64` here.\n",
      "Deprecated in NumPy 1.20; for more details and guidance: https://numpy.org/devdocs/release/1.20.0-notes.html#deprecations\n",
      "  X_train = X_train.astype(np.float) / 255.0\n",
      "C:\\Users\\szczy\\AppData\\Local\\Temp\\ipykernel_21576\\1404525770.py:2: DeprecationWarning: `np.float` is a deprecated alias for the builtin `float`. To silence this warning, use `float` by itself. Doing this will not modify any behavior and is safe. If you specifically wanted the numpy scalar type, use `np.float64` here.\n",
      "Deprecated in NumPy 1.20; for more details and guidance: https://numpy.org/devdocs/release/1.20.0-notes.html#deprecations\n",
      "  X_test = X_test.astype(np.float) / 255.0\n"
     ]
    }
   ],
   "source": [
    "X_train = X_train.astype(np.float) / 255.0  \n",
    "X_test = X_test.astype(np.float) / 255.0"
   ]
  },
  {
   "attachments": {},
   "cell_type": "markdown",
   "metadata": {},
   "source": [
    "**Przygotowanie eksperymentu**"
   ]
  },
  {
   "cell_type": "code",
   "execution_count": 10,
   "metadata": {},
   "outputs": [],
   "source": [
    "num_classes = 10\n",
    "input_shape = (28, 28, 1)\n",
    "batch_size = 128\n",
    "epochs = 30"
   ]
  },
  {
   "cell_type": "code",
   "execution_count": 11,
   "metadata": {},
   "outputs": [],
   "source": [
    "model = keras.Sequential(\n",
    "        [\n",
    "            keras.Input(shape=input_shape),\n",
    "            keras.layers.Flatten(),\n",
    "            layers.Dense(num_classes, activation=\"softmax\")\n",
    "        ]\n",
    "    )"
   ]
  },
  {
   "cell_type": "code",
   "execution_count": 12,
   "metadata": {},
   "outputs": [
    {
     "name": "stdout",
     "output_type": "stream",
     "text": [
      "Model: \"sequential\"\n",
      "_________________________________________________________________\n",
      " Layer (type)                Output Shape              Param #   \n",
      "=================================================================\n",
      " flatten (Flatten)           (None, 784)               0         \n",
      "                                                                 \n",
      " dense (Dense)               (None, 10)                7850      \n",
      "                                                                 \n",
      "=================================================================\n",
      "Total params: 7,850\n",
      "Trainable params: 7,850\n",
      "Non-trainable params: 0\n",
      "_________________________________________________________________\n"
     ]
    }
   ],
   "source": [
    "model.summary()"
   ]
  },
  {
   "cell_type": "code",
   "execution_count": 13,
   "metadata": {},
   "outputs": [],
   "source": [
    "model.compile(loss=\"sparse_categorical_crossentropy\", optimizer=\"adam\", metrics=[\"accuracy\"])"
   ]
  },
  {
   "attachments": {},
   "cell_type": "markdown",
   "metadata": {},
   "source": [
    "**Uczenie modelu**"
   ]
  },
  {
   "cell_type": "code",
   "execution_count": 14,
   "metadata": {},
   "outputs": [
    {
     "name": "stdout",
     "output_type": "stream",
     "text": [
      "Epoch 1/30\n",
      "375/375 [==============================] - 3s 6ms/step - loss: 0.7459 - accuracy: 0.8215 - val_loss: 0.4085 - val_accuracy: 0.8962\n",
      "Epoch 2/30\n",
      "375/375 [==============================] - 1s 4ms/step - loss: 0.3895 - accuracy: 0.8962 - val_loss: 0.3352 - val_accuracy: 0.9098\n",
      "Epoch 3/30\n",
      "375/375 [==============================] - 1s 3ms/step - loss: 0.3383 - accuracy: 0.9079 - val_loss: 0.3075 - val_accuracy: 0.9140\n",
      "Epoch 4/30\n",
      "375/375 [==============================] - 1s 3ms/step - loss: 0.3145 - accuracy: 0.9135 - val_loss: 0.2919 - val_accuracy: 0.9194\n",
      "Epoch 5/30\n",
      "375/375 [==============================] - 1s 3ms/step - loss: 0.3007 - accuracy: 0.9165 - val_loss: 0.2851 - val_accuracy: 0.9218\n",
      "Epoch 6/30\n",
      "375/375 [==============================] - 1s 3ms/step - loss: 0.2909 - accuracy: 0.9197 - val_loss: 0.2773 - val_accuracy: 0.9240\n",
      "Epoch 7/30\n",
      "375/375 [==============================] - 1s 3ms/step - loss: 0.2835 - accuracy: 0.9206 - val_loss: 0.2729 - val_accuracy: 0.9252\n",
      "Epoch 8/30\n",
      "375/375 [==============================] - 1s 3ms/step - loss: 0.2783 - accuracy: 0.9226 - val_loss: 0.2700 - val_accuracy: 0.9256\n",
      "Epoch 9/30\n",
      "375/375 [==============================] - 1s 3ms/step - loss: 0.2739 - accuracy: 0.9237 - val_loss: 0.2692 - val_accuracy: 0.9253\n",
      "Epoch 10/30\n",
      "375/375 [==============================] - 1s 3ms/step - loss: 0.2701 - accuracy: 0.9252 - val_loss: 0.2673 - val_accuracy: 0.9274\n",
      "Epoch 11/30\n",
      "375/375 [==============================] - 1s 3ms/step - loss: 0.2670 - accuracy: 0.9249 - val_loss: 0.2666 - val_accuracy: 0.9258\n",
      "Epoch 12/30\n",
      "375/375 [==============================] - 1s 3ms/step - loss: 0.2640 - accuracy: 0.9260 - val_loss: 0.2639 - val_accuracy: 0.9283\n",
      "Epoch 13/30\n",
      "375/375 [==============================] - 1s 3ms/step - loss: 0.2616 - accuracy: 0.9267 - val_loss: 0.2621 - val_accuracy: 0.9287\n",
      "Epoch 14/30\n",
      "375/375 [==============================] - 1s 4ms/step - loss: 0.2595 - accuracy: 0.9275 - val_loss: 0.2619 - val_accuracy: 0.9282\n",
      "Epoch 15/30\n",
      "375/375 [==============================] - 1s 4ms/step - loss: 0.2574 - accuracy: 0.9286 - val_loss: 0.2628 - val_accuracy: 0.9287\n",
      "Epoch 16/30\n",
      "375/375 [==============================] - 1s 4ms/step - loss: 0.2562 - accuracy: 0.9282 - val_loss: 0.2608 - val_accuracy: 0.9293\n",
      "Epoch 17/30\n",
      "375/375 [==============================] - 1s 3ms/step - loss: 0.2542 - accuracy: 0.9290 - val_loss: 0.2601 - val_accuracy: 0.9293\n",
      "Epoch 18/30\n",
      "375/375 [==============================] - 1s 3ms/step - loss: 0.2529 - accuracy: 0.9293 - val_loss: 0.2610 - val_accuracy: 0.9300\n",
      "Epoch 19/30\n",
      "375/375 [==============================] - 2s 5ms/step - loss: 0.2516 - accuracy: 0.9296 - val_loss: 0.2598 - val_accuracy: 0.9298\n",
      "Epoch 20/30\n",
      "375/375 [==============================] - 2s 5ms/step - loss: 0.2503 - accuracy: 0.9306 - val_loss: 0.2609 - val_accuracy: 0.9288\n",
      "Epoch 21/30\n",
      "375/375 [==============================] - 1s 3ms/step - loss: 0.2491 - accuracy: 0.9308 - val_loss: 0.2598 - val_accuracy: 0.9311\n",
      "Epoch 22/30\n",
      "375/375 [==============================] - 2s 5ms/step - loss: 0.2480 - accuracy: 0.9312 - val_loss: 0.2592 - val_accuracy: 0.9298\n",
      "Epoch 23/30\n",
      "375/375 [==============================] - 1s 3ms/step - loss: 0.2469 - accuracy: 0.9310 - val_loss: 0.2583 - val_accuracy: 0.9303\n",
      "Epoch 24/30\n",
      "375/375 [==============================] - 1s 4ms/step - loss: 0.2463 - accuracy: 0.9312 - val_loss: 0.2601 - val_accuracy: 0.9303\n",
      "Epoch 25/30\n",
      "375/375 [==============================] - 2s 5ms/step - loss: 0.2451 - accuracy: 0.9318 - val_loss: 0.2595 - val_accuracy: 0.9308\n",
      "Epoch 26/30\n",
      "375/375 [==============================] - 2s 5ms/step - loss: 0.2447 - accuracy: 0.9320 - val_loss: 0.2585 - val_accuracy: 0.9303\n",
      "Epoch 27/30\n",
      "375/375 [==============================] - 1s 3ms/step - loss: 0.2439 - accuracy: 0.9326 - val_loss: 0.2599 - val_accuracy: 0.9311\n",
      "Epoch 28/30\n",
      "375/375 [==============================] - 1s 3ms/step - loss: 0.2430 - accuracy: 0.9325 - val_loss: 0.2577 - val_accuracy: 0.9304\n",
      "Epoch 29/30\n",
      "375/375 [==============================] - 1s 3ms/step - loss: 0.2422 - accuracy: 0.9327 - val_loss: 0.2580 - val_accuracy: 0.9317\n",
      "Epoch 30/30\n",
      "375/375 [==============================] - 1s 3ms/step - loss: 0.2416 - accuracy: 0.9329 - val_loss: 0.2584 - val_accuracy: 0.9322\n"
     ]
    },
    {
     "data": {
      "text/plain": [
       "<keras.callbacks.History at 0x2081e113310>"
      ]
     },
     "execution_count": 14,
     "metadata": {},
     "output_type": "execute_result"
    }
   ],
   "source": [
    "model.fit(X_train, y_train, batch_size=batch_size, epochs=epochs, validation_split=0.2)"
   ]
  },
  {
   "attachments": {},
   "cell_type": "markdown",
   "metadata": {},
   "source": [
    "**Ocena modelu**"
   ]
  },
  {
   "cell_type": "code",
   "execution_count": 15,
   "metadata": {},
   "outputs": [],
   "source": [
    "from sklearn.metrics import classification_report, confusion_matrix"
   ]
  },
  {
   "cell_type": "code",
   "execution_count": 16,
   "metadata": {},
   "outputs": [
    {
     "name": "stdout",
     "output_type": "stream",
     "text": [
      "313/313 [==============================] - 2s 7ms/step\n"
     ]
    }
   ],
   "source": [
    "y_probab = model.predict(X_test)\n",
    "y_pred = np.argmax(y_probab, axis=1)"
   ]
  },
  {
   "cell_type": "code",
   "execution_count": 17,
   "metadata": {},
   "outputs": [
    {
     "name": "stdout",
     "output_type": "stream",
     "text": [
      "              precision    recall  f1-score   support\n",
      "\n",
      "           0       0.95      0.98      0.97       980\n",
      "           1       0.97      0.98      0.97      1135\n",
      "           2       0.93      0.90      0.92      1032\n",
      "           3       0.91      0.91      0.91      1010\n",
      "           4       0.94      0.93      0.93       982\n",
      "           5       0.92      0.87      0.89       892\n",
      "           6       0.95      0.95      0.95       958\n",
      "           7       0.93      0.92      0.93      1028\n",
      "           8       0.87      0.90      0.89       974\n",
      "           9       0.90      0.92      0.91      1009\n",
      "\n",
      "    accuracy                           0.93     10000\n",
      "   macro avg       0.93      0.93      0.93     10000\n",
      "weighted avg       0.93      0.93      0.93     10000\n",
      "\n",
      "[[ 963    0    1    2    0    6    5    2    1    0]\n",
      " [   0 1113    3    3    0    1    3    2   10    0]\n",
      " [   5   10  926   16    6    3   12    9   42    3]\n",
      " [   3    0   17  921    0   22    2   11   25    9]\n",
      " [   1    1    7    1  910    0    8    4   10   40]\n",
      " [   8    2    2   36    7  774   14    9   33    7]\n",
      " [  12    3    9    1    7   13  910    1    2    0]\n",
      " [   1    6   19    8    6    1    0  950    3   34]\n",
      " [   7    7    6   16    8   20    7   11  880   12]\n",
      " [  11    7    1    8   21    5    0   21    6  929]]\n"
     ]
    }
   ],
   "source": [
    "print(classification_report(y_test, y_pred))\n",
    "print(confusion_matrix(y_test, y_pred))"
   ]
  },
  {
   "attachments": {},
   "cell_type": "markdown",
   "metadata": {},
   "source": [
    "**Uczenie modeli nieliniowych**"
   ]
  },
  {
   "cell_type": "code",
   "execution_count": 18,
   "metadata": {},
   "outputs": [],
   "source": [
    "model = keras.Sequential(\n",
    "        [\n",
    "            keras.Input(shape=input_shape),\n",
    "            keras.layers.Flatten(),\n",
    "            layers.Dense(64, activation=\"tanh\"),\n",
    "            layers.Dense(128, activation=\"tanh\"),\n",
    "            layers.Dense(num_classes, activation=\"softmax\")\n",
    "        ]\n",
    "    )"
   ]
  },
  {
   "cell_type": "code",
   "execution_count": 19,
   "metadata": {},
   "outputs": [
    {
     "name": "stdout",
     "output_type": "stream",
     "text": [
      "Model: \"sequential_1\"\n",
      "_________________________________________________________________\n",
      " Layer (type)                Output Shape              Param #   \n",
      "=================================================================\n",
      " flatten_1 (Flatten)         (None, 784)               0         \n",
      "                                                                 \n",
      " dense_1 (Dense)             (None, 64)                50240     \n",
      "                                                                 \n",
      " dense_2 (Dense)             (None, 128)               8320      \n",
      "                                                                 \n",
      " dense_3 (Dense)             (None, 10)                1290      \n",
      "                                                                 \n",
      "=================================================================\n",
      "Total params: 59,850\n",
      "Trainable params: 59,850\n",
      "Non-trainable params: 0\n",
      "_________________________________________________________________\n"
     ]
    }
   ],
   "source": [
    "model.summary()"
   ]
  },
  {
   "cell_type": "code",
   "execution_count": 20,
   "metadata": {},
   "outputs": [],
   "source": [
    "model.compile(loss=\"sparse_categorical_crossentropy\", optimizer=\"adam\", metrics=[\"accuracy\"])"
   ]
  },
  {
   "cell_type": "code",
   "execution_count": 21,
   "metadata": {},
   "outputs": [
    {
     "name": "stdout",
     "output_type": "stream",
     "text": [
      "Epoch 1/30\n",
      "375/375 [==============================] - 3s 6ms/step - loss: 0.4085 - accuracy: 0.8855 - val_loss: 0.2345 - val_accuracy: 0.9304\n",
      "Epoch 2/30\n",
      "375/375 [==============================] - 2s 4ms/step - loss: 0.1961 - accuracy: 0.9425 - val_loss: 0.1700 - val_accuracy: 0.9503\n",
      "Epoch 3/30\n",
      "375/375 [==============================] - 2s 4ms/step - loss: 0.1397 - accuracy: 0.9587 - val_loss: 0.1390 - val_accuracy: 0.9600\n",
      "Epoch 4/30\n",
      "375/375 [==============================] - 2s 4ms/step - loss: 0.1078 - accuracy: 0.9680 - val_loss: 0.1256 - val_accuracy: 0.9616\n",
      "Epoch 5/30\n",
      "375/375 [==============================] - 2s 5ms/step - loss: 0.0861 - accuracy: 0.9743 - val_loss: 0.1097 - val_accuracy: 0.9682\n",
      "Epoch 6/30\n",
      "375/375 [==============================] - 2s 5ms/step - loss: 0.0707 - accuracy: 0.9790 - val_loss: 0.1052 - val_accuracy: 0.9686\n",
      "Epoch 7/30\n",
      "375/375 [==============================] - 2s 6ms/step - loss: 0.0583 - accuracy: 0.9824 - val_loss: 0.0985 - val_accuracy: 0.9707\n",
      "Epoch 8/30\n",
      "375/375 [==============================] - 3s 7ms/step - loss: 0.0488 - accuracy: 0.9853 - val_loss: 0.1025 - val_accuracy: 0.9704\n",
      "Epoch 9/30\n",
      "375/375 [==============================] - 3s 7ms/step - loss: 0.0403 - accuracy: 0.9883 - val_loss: 0.1050 - val_accuracy: 0.9699\n",
      "Epoch 10/30\n",
      "375/375 [==============================] - 2s 6ms/step - loss: 0.0334 - accuracy: 0.9902 - val_loss: 0.1004 - val_accuracy: 0.9708\n",
      "Epoch 11/30\n",
      "375/375 [==============================] - 2s 4ms/step - loss: 0.0277 - accuracy: 0.9921 - val_loss: 0.1044 - val_accuracy: 0.9714\n",
      "Epoch 12/30\n",
      "375/375 [==============================] - 1s 4ms/step - loss: 0.0232 - accuracy: 0.9935 - val_loss: 0.1089 - val_accuracy: 0.9697\n",
      "Epoch 13/30\n",
      "375/375 [==============================] - 2s 5ms/step - loss: 0.0202 - accuracy: 0.9942 - val_loss: 0.1036 - val_accuracy: 0.9721\n",
      "Epoch 14/30\n",
      "375/375 [==============================] - 2s 6ms/step - loss: 0.0153 - accuracy: 0.9960 - val_loss: 0.1124 - val_accuracy: 0.9693\n",
      "Epoch 15/30\n",
      "375/375 [==============================] - 5s 14ms/step - loss: 0.0133 - accuracy: 0.9965 - val_loss: 0.1206 - val_accuracy: 0.9705\n",
      "Epoch 16/30\n",
      "375/375 [==============================] - 4s 12ms/step - loss: 0.0120 - accuracy: 0.9966 - val_loss: 0.1248 - val_accuracy: 0.9700\n",
      "Epoch 17/30\n",
      "375/375 [==============================] - 2s 6ms/step - loss: 0.0099 - accuracy: 0.9976 - val_loss: 0.1156 - val_accuracy: 0.9723\n",
      "Epoch 18/30\n",
      "375/375 [==============================] - 2s 5ms/step - loss: 0.0086 - accuracy: 0.9978 - val_loss: 0.1280 - val_accuracy: 0.9703\n",
      "Epoch 19/30\n",
      "375/375 [==============================] - 2s 5ms/step - loss: 0.0070 - accuracy: 0.9984 - val_loss: 0.1316 - val_accuracy: 0.9702\n",
      "Epoch 20/30\n",
      "375/375 [==============================] - 2s 6ms/step - loss: 0.0057 - accuracy: 0.9989 - val_loss: 0.1288 - val_accuracy: 0.9718\n",
      "Epoch 21/30\n",
      "375/375 [==============================] - 3s 7ms/step - loss: 0.0064 - accuracy: 0.9984 - val_loss: 0.1298 - val_accuracy: 0.9718\n",
      "Epoch 22/30\n",
      "375/375 [==============================] - 3s 7ms/step - loss: 0.0092 - accuracy: 0.9974 - val_loss: 0.1431 - val_accuracy: 0.9702\n",
      "Epoch 23/30\n",
      "375/375 [==============================] - 2s 5ms/step - loss: 0.0053 - accuracy: 0.9987 - val_loss: 0.1304 - val_accuracy: 0.9728\n",
      "Epoch 24/30\n",
      "375/375 [==============================] - 2s 4ms/step - loss: 0.0035 - accuracy: 0.9993 - val_loss: 0.1284 - val_accuracy: 0.9734\n",
      "Epoch 25/30\n",
      "375/375 [==============================] - 1s 4ms/step - loss: 0.0023 - accuracy: 0.9997 - val_loss: 0.1326 - val_accuracy: 0.9733\n",
      "Epoch 26/30\n",
      "375/375 [==============================] - 1s 4ms/step - loss: 0.0013 - accuracy: 0.9999 - val_loss: 0.1317 - val_accuracy: 0.9740\n",
      "Epoch 27/30\n",
      "375/375 [==============================] - 1s 4ms/step - loss: 0.0090 - accuracy: 0.9967 - val_loss: 0.1980 - val_accuracy: 0.9608\n",
      "Epoch 28/30\n",
      "375/375 [==============================] - 1s 4ms/step - loss: 0.0140 - accuracy: 0.9952 - val_loss: 0.1643 - val_accuracy: 0.9666\n",
      "Epoch 29/30\n",
      "375/375 [==============================] - 2s 4ms/step - loss: 0.0026 - accuracy: 0.9995 - val_loss: 0.1395 - val_accuracy: 0.9720\n",
      "Epoch 30/30\n",
      "375/375 [==============================] - 2s 4ms/step - loss: 9.3482e-04 - accuracy: 0.9999 - val_loss: 0.1346 - val_accuracy: 0.9749\n"
     ]
    },
    {
     "data": {
      "text/plain": [
       "<keras.callbacks.History at 0x2082015cfd0>"
      ]
     },
     "execution_count": 21,
     "metadata": {},
     "output_type": "execute_result"
    }
   ],
   "source": [
    "model.fit(X_train, y_train, batch_size=batch_size, epochs=epochs, validation_split=0.2)"
   ]
  },
  {
   "cell_type": "code",
   "execution_count": 22,
   "metadata": {},
   "outputs": [
    {
     "name": "stdout",
     "output_type": "stream",
     "text": [
      "313/313 [==============================] - 1s 4ms/step\n"
     ]
    }
   ],
   "source": [
    "y_probab = model.predict(X_test)\n",
    "y_pred = np.argmax(y_probab, axis=1)"
   ]
  },
  {
   "cell_type": "code",
   "execution_count": 23,
   "metadata": {},
   "outputs": [
    {
     "name": "stdout",
     "output_type": "stream",
     "text": [
      "              precision    recall  f1-score   support\n",
      "\n",
      "           0       0.98      0.99      0.98       980\n",
      "           1       0.99      0.99      0.99      1135\n",
      "           2       0.97      0.98      0.97      1032\n",
      "           3       0.96      0.97      0.97      1010\n",
      "           4       0.97      0.98      0.98       982\n",
      "           5       0.99      0.96      0.97       892\n",
      "           6       0.98      0.98      0.98       958\n",
      "           7       0.97      0.98      0.98      1028\n",
      "           8       0.97      0.96      0.97       974\n",
      "           9       0.98      0.96      0.97      1009\n",
      "\n",
      "    accuracy                           0.98     10000\n",
      "   macro avg       0.98      0.98      0.98     10000\n",
      "weighted avg       0.98      0.98      0.98     10000\n",
      "\n",
      "[[ 966    0    2    2    1    0    3    3    3    0]\n",
      " [   1 1123    3    2    0    1    2    1    2    0]\n",
      " [   3    0 1010    4    1    0    4    6    4    0]\n",
      " [   2    0   10  982    1    3    0    2    5    5]\n",
      " [   0    0    3    1  963    0    4    3    1    7]\n",
      " [   3    0    1   13    2  859    5    1    7    1]\n",
      " [   6    2    2    1    2    5  940    0    0    0]\n",
      " [   2    3    8    4    1    0    0 1004    1    5]\n",
      " [   4    2    6    7    6    2    2    4  939    2]\n",
      " [   3    2    0    8   14    2    0    6    5  969]]\n"
     ]
    }
   ],
   "source": [
    "print(classification_report(y_test, y_pred))\n",
    "print(confusion_matrix(y_test, y_pred))"
   ]
  },
  {
   "cell_type": "code",
   "execution_count": 24,
   "metadata": {},
   "outputs": [],
   "source": [
    "model = keras.Sequential(\n",
    "        [\n",
    "            keras.Input(shape=input_shape),\n",
    "            layers.Conv2D(32, kernel_size=(3, 3), activation=\"relu\"),\n",
    "            layers.MaxPooling2D(pool_size=(2, 2)),\n",
    "            layers.Conv2D(64, kernel_size=(3, 3), activation=\"relu\"),\n",
    "            layers.MaxPooling2D(pool_size=(2, 2)),\n",
    "            layers.Flatten(),\n",
    "            layers.Dropout(0.5),\n",
    "            layers.Dense(num_classes, activation=\"softmax\"),\n",
    "        ]\n",
    "    )"
   ]
  },
  {
   "cell_type": "code",
   "execution_count": 25,
   "metadata": {},
   "outputs": [
    {
     "name": "stdout",
     "output_type": "stream",
     "text": [
      "Model: \"sequential_2\"\n",
      "_________________________________________________________________\n",
      " Layer (type)                Output Shape              Param #   \n",
      "=================================================================\n",
      " conv2d (Conv2D)             (None, 26, 26, 32)        320       \n",
      "                                                                 \n",
      " max_pooling2d (MaxPooling2D  (None, 13, 13, 32)       0         \n",
      " )                                                               \n",
      "                                                                 \n",
      " conv2d_1 (Conv2D)           (None, 11, 11, 64)        18496     \n",
      "                                                                 \n",
      " max_pooling2d_1 (MaxPooling  (None, 5, 5, 64)         0         \n",
      " 2D)                                                             \n",
      "                                                                 \n",
      " flatten_2 (Flatten)         (None, 1600)              0         \n",
      "                                                                 \n",
      " dropout (Dropout)           (None, 1600)              0         \n",
      "                                                                 \n",
      " dense_4 (Dense)             (None, 10)                16010     \n",
      "                                                                 \n",
      "=================================================================\n",
      "Total params: 34,826\n",
      "Trainable params: 34,826\n",
      "Non-trainable params: 0\n",
      "_________________________________________________________________\n"
     ]
    }
   ],
   "source": [
    "model.summary()"
   ]
  },
  {
   "cell_type": "code",
   "execution_count": 26,
   "metadata": {},
   "outputs": [],
   "source": [
    "model.compile(loss=\"sparse_categorical_crossentropy\", optimizer=\"adam\", metrics=[\"accuracy\"])"
   ]
  },
  {
   "cell_type": "code",
   "execution_count": 27,
   "metadata": {},
   "outputs": [
    {
     "name": "stdout",
     "output_type": "stream",
     "text": [
      "Epoch 1/30\n",
      "375/375 [==============================] - 19s 48ms/step - loss: 0.4034 - accuracy: 0.8751 - val_loss: 0.1084 - val_accuracy: 0.9693\n",
      "Epoch 2/30\n",
      "375/375 [==============================] - 22s 59ms/step - loss: 0.1251 - accuracy: 0.9614 - val_loss: 0.0722 - val_accuracy: 0.9802\n",
      "Epoch 3/30\n",
      "375/375 [==============================] - 17s 45ms/step - loss: 0.0922 - accuracy: 0.9718 - val_loss: 0.0595 - val_accuracy: 0.9837\n",
      "Epoch 4/30\n",
      "375/375 [==============================] - 17s 45ms/step - loss: 0.0782 - accuracy: 0.9757 - val_loss: 0.0493 - val_accuracy: 0.9856\n",
      "Epoch 5/30\n",
      "375/375 [==============================] - 28s 75ms/step - loss: 0.0684 - accuracy: 0.9790 - val_loss: 0.0473 - val_accuracy: 0.9862\n",
      "Epoch 6/30\n",
      "375/375 [==============================] - 24s 63ms/step - loss: 0.0620 - accuracy: 0.9803 - val_loss: 0.0420 - val_accuracy: 0.9876\n",
      "Epoch 7/30\n",
      "375/375 [==============================] - 19s 51ms/step - loss: 0.0557 - accuracy: 0.9822 - val_loss: 0.0426 - val_accuracy: 0.9877\n",
      "Epoch 8/30\n",
      "375/375 [==============================] - 17s 45ms/step - loss: 0.0502 - accuracy: 0.9838 - val_loss: 0.0399 - val_accuracy: 0.9881\n",
      "Epoch 9/30\n",
      "375/375 [==============================] - 23s 63ms/step - loss: 0.0482 - accuracy: 0.9843 - val_loss: 0.0408 - val_accuracy: 0.9879\n",
      "Epoch 10/30\n",
      "375/375 [==============================] - 20s 54ms/step - loss: 0.0460 - accuracy: 0.9861 - val_loss: 0.0352 - val_accuracy: 0.9903\n",
      "Epoch 11/30\n",
      "375/375 [==============================] - 18s 48ms/step - loss: 0.0435 - accuracy: 0.9863 - val_loss: 0.0362 - val_accuracy: 0.9892\n",
      "Epoch 12/30\n",
      "375/375 [==============================] - 16s 43ms/step - loss: 0.0406 - accuracy: 0.9869 - val_loss: 0.0358 - val_accuracy: 0.9899\n",
      "Epoch 13/30\n",
      "375/375 [==============================] - 17s 45ms/step - loss: 0.0388 - accuracy: 0.9872 - val_loss: 0.0413 - val_accuracy: 0.9881\n",
      "Epoch 14/30\n",
      "375/375 [==============================] - 15s 41ms/step - loss: 0.0356 - accuracy: 0.9887 - val_loss: 0.0333 - val_accuracy: 0.9910\n",
      "Epoch 15/30\n",
      "375/375 [==============================] - 15s 40ms/step - loss: 0.0354 - accuracy: 0.9888 - val_loss: 0.0305 - val_accuracy: 0.9913\n",
      "Epoch 16/30\n",
      "375/375 [==============================] - 15s 40ms/step - loss: 0.0343 - accuracy: 0.9887 - val_loss: 0.0351 - val_accuracy: 0.9902\n",
      "Epoch 17/30\n",
      "375/375 [==============================] - 15s 41ms/step - loss: 0.0321 - accuracy: 0.9896 - val_loss: 0.0338 - val_accuracy: 0.9909\n",
      "Epoch 18/30\n",
      "375/375 [==============================] - 16s 42ms/step - loss: 0.0309 - accuracy: 0.9901 - val_loss: 0.0306 - val_accuracy: 0.9913\n",
      "Epoch 19/30\n",
      "375/375 [==============================] - 16s 41ms/step - loss: 0.0299 - accuracy: 0.9902 - val_loss: 0.0303 - val_accuracy: 0.9922\n",
      "Epoch 20/30\n",
      "375/375 [==============================] - 15s 40ms/step - loss: 0.0296 - accuracy: 0.9900 - val_loss: 0.0322 - val_accuracy: 0.9918\n",
      "Epoch 21/30\n",
      "375/375 [==============================] - 15s 41ms/step - loss: 0.0303 - accuracy: 0.9905 - val_loss: 0.0332 - val_accuracy: 0.9911\n",
      "Epoch 22/30\n",
      "375/375 [==============================] - 16s 42ms/step - loss: 0.0281 - accuracy: 0.9908 - val_loss: 0.0300 - val_accuracy: 0.9922\n",
      "Epoch 23/30\n",
      "375/375 [==============================] - 16s 41ms/step - loss: 0.0262 - accuracy: 0.9909 - val_loss: 0.0315 - val_accuracy: 0.9915\n",
      "Epoch 24/30\n",
      "375/375 [==============================] - 18s 49ms/step - loss: 0.0254 - accuracy: 0.9916 - val_loss: 0.0297 - val_accuracy: 0.9923\n",
      "Epoch 25/30\n",
      "375/375 [==============================] - 21s 56ms/step - loss: 0.0249 - accuracy: 0.9917 - val_loss: 0.0322 - val_accuracy: 0.9915\n",
      "Epoch 26/30\n",
      "375/375 [==============================] - 24s 65ms/step - loss: 0.0254 - accuracy: 0.9912 - val_loss: 0.0311 - val_accuracy: 0.9912\n",
      "Epoch 27/30\n",
      "375/375 [==============================] - 22s 59ms/step - loss: 0.0248 - accuracy: 0.9916 - val_loss: 0.0284 - val_accuracy: 0.9926\n",
      "Epoch 28/30\n",
      "375/375 [==============================] - 23s 61ms/step - loss: 0.0219 - accuracy: 0.9924 - val_loss: 0.0288 - val_accuracy: 0.9929\n",
      "Epoch 29/30\n",
      "375/375 [==============================] - 17s 45ms/step - loss: 0.0222 - accuracy: 0.9925 - val_loss: 0.0293 - val_accuracy: 0.9922\n",
      "Epoch 30/30\n",
      "375/375 [==============================] - 26s 69ms/step - loss: 0.0229 - accuracy: 0.9924 - val_loss: 0.0301 - val_accuracy: 0.9921\n"
     ]
    },
    {
     "data": {
      "text/plain": [
       "<keras.callbacks.History at 0x208206bb8e0>"
      ]
     },
     "execution_count": 27,
     "metadata": {},
     "output_type": "execute_result"
    }
   ],
   "source": [
    "model.fit(X_train, y_train, batch_size=batch_size, epochs=epochs, validation_split=0.2)"
   ]
  },
  {
   "cell_type": "code",
   "execution_count": 28,
   "metadata": {},
   "outputs": [
    {
     "name": "stdout",
     "output_type": "stream",
     "text": [
      "313/313 [==============================] - 4s 12ms/step\n"
     ]
    }
   ],
   "source": [
    "y_probab = model.predict(X_test)\n",
    "y_pred = np.argmax(y_probab, axis=1)"
   ]
  },
  {
   "cell_type": "code",
   "execution_count": 29,
   "metadata": {},
   "outputs": [
    {
     "name": "stdout",
     "output_type": "stream",
     "text": [
      "              precision    recall  f1-score   support\n",
      "\n",
      "           0       0.99      1.00      1.00       980\n",
      "           1       1.00      1.00      1.00      1135\n",
      "           2       0.99      0.99      0.99      1032\n",
      "           3       0.99      0.99      0.99      1010\n",
      "           4       0.99      1.00      0.99       982\n",
      "           5       0.99      0.99      0.99       892\n",
      "           6       1.00      0.99      0.99       958\n",
      "           7       0.98      0.99      0.99      1028\n",
      "           8       0.99      0.99      0.99       974\n",
      "           9       0.99      0.98      0.99      1009\n",
      "\n",
      "    accuracy                           0.99     10000\n",
      "   macro avg       0.99      0.99      0.99     10000\n",
      "weighted avg       0.99      0.99      0.99     10000\n",
      "\n",
      "[[ 978    0    0    0    0    0    0    1    1    0]\n",
      " [   0 1132    2    0    0    0    0    1    0    0]\n",
      " [   1    1 1022    0    1    0    0    6    1    0]\n",
      " [   0    1    1 1004    0    2    0    1    1    0]\n",
      " [   0    0    0    0  979    0    1    0    0    2]\n",
      " [   1    0    1    5    0  884    1    0    0    0]\n",
      " [   3    2    1    0    1    3  947    0    1    0]\n",
      " [   0    1    3    1    0    0    0 1022    1    0]\n",
      " [   2    0    1    0    1    1    0    2  964    3]\n",
      " [   0    0    1    0    6    6    0    6    1  989]]\n"
     ]
    }
   ],
   "source": [
    "print(classification_report(y_test, y_pred))\n",
    "print(confusion_matrix(y_test, y_pred))"
   ]
  }
 ],
 "metadata": {
  "kernelspec": {
   "display_name": "base",
   "language": "python",
   "name": "python3"
  },
  "language_info": {
   "codemirror_mode": {
    "name": "ipython",
    "version": 3
   },
   "file_extension": ".py",
   "mimetype": "text/x-python",
   "name": "python",
   "nbconvert_exporter": "python",
   "pygments_lexer": "ipython3",
   "version": "3.9.15"
  },
  "orig_nbformat": 4
 },
 "nbformat": 4,
 "nbformat_minor": 2
}
