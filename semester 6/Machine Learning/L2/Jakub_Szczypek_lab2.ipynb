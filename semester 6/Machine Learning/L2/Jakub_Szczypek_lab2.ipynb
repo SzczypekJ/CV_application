{
 "cells": [
  {
   "cell_type": "markdown",
   "id": "c4068ed6",
   "metadata": {},
   "source": [
    "## Sprawozdanie z Uczenia Maszynowego\n",
    "## Jakub Szczypek - lab 2"
   ]
  },
  {
   "cell_type": "code",
   "execution_count": 1,
   "id": "7d0e3dc4",
   "metadata": {},
   "outputs": [],
   "source": [
    "import numpy as np\n",
    "import pandas as pd\n",
    "import matplotlib.pyplot as plt\n",
    "import os\n",
    "\n",
    "path = os.getcwd() + '/ex1data1.txt'\n",
    "data = pd.read_csv(path, header=None, names=['Population', 'Profit'])"
   ]
  },
  {
   "cell_type": "markdown",
   "id": "84399740",
   "metadata": {},
   "source": [
    "**Ex.1 Use the head and describe function to examine the data and display few columns**"
   ]
  },
  {
   "cell_type": "code",
   "execution_count": 2,
   "id": "d528baf5",
   "metadata": {},
   "outputs": [
    {
     "data": {
      "text/html": [
       "<div>\n",
       "<style scoped>\n",
       "    .dataframe tbody tr th:only-of-type {\n",
       "        vertical-align: middle;\n",
       "    }\n",
       "\n",
       "    .dataframe tbody tr th {\n",
       "        vertical-align: top;\n",
       "    }\n",
       "\n",
       "    .dataframe thead th {\n",
       "        text-align: right;\n",
       "    }\n",
       "</style>\n",
       "<table border=\"1\" class=\"dataframe\">\n",
       "  <thead>\n",
       "    <tr style=\"text-align: right;\">\n",
       "      <th></th>\n",
       "      <th>Population</th>\n",
       "      <th>Profit</th>\n",
       "    </tr>\n",
       "  </thead>\n",
       "  <tbody>\n",
       "    <tr>\n",
       "      <th>0</th>\n",
       "      <td>6.1101</td>\n",
       "      <td>17.5920</td>\n",
       "    </tr>\n",
       "    <tr>\n",
       "      <th>1</th>\n",
       "      <td>5.5277</td>\n",
       "      <td>9.1302</td>\n",
       "    </tr>\n",
       "    <tr>\n",
       "      <th>2</th>\n",
       "      <td>8.5186</td>\n",
       "      <td>13.6620</td>\n",
       "    </tr>\n",
       "    <tr>\n",
       "      <th>3</th>\n",
       "      <td>7.0032</td>\n",
       "      <td>11.8540</td>\n",
       "    </tr>\n",
       "    <tr>\n",
       "      <th>4</th>\n",
       "      <td>5.8598</td>\n",
       "      <td>6.8233</td>\n",
       "    </tr>\n",
       "  </tbody>\n",
       "</table>\n",
       "</div>"
      ],
      "text/plain": [
       "   Population   Profit\n",
       "0      6.1101  17.5920\n",
       "1      5.5277   9.1302\n",
       "2      8.5186  13.6620\n",
       "3      7.0032  11.8540\n",
       "4      5.8598   6.8233"
      ]
     },
     "execution_count": 2,
     "metadata": {},
     "output_type": "execute_result"
    }
   ],
   "source": [
    "data.head()"
   ]
  },
  {
   "cell_type": "code",
   "execution_count": 3,
   "id": "a02133df",
   "metadata": {},
   "outputs": [
    {
     "data": {
      "text/html": [
       "<div>\n",
       "<style scoped>\n",
       "    .dataframe tbody tr th:only-of-type {\n",
       "        vertical-align: middle;\n",
       "    }\n",
       "\n",
       "    .dataframe tbody tr th {\n",
       "        vertical-align: top;\n",
       "    }\n",
       "\n",
       "    .dataframe thead th {\n",
       "        text-align: right;\n",
       "    }\n",
       "</style>\n",
       "<table border=\"1\" class=\"dataframe\">\n",
       "  <thead>\n",
       "    <tr style=\"text-align: right;\">\n",
       "      <th></th>\n",
       "      <th>Population</th>\n",
       "      <th>Profit</th>\n",
       "    </tr>\n",
       "  </thead>\n",
       "  <tbody>\n",
       "    <tr>\n",
       "      <th>count</th>\n",
       "      <td>97.000000</td>\n",
       "      <td>97.000000</td>\n",
       "    </tr>\n",
       "    <tr>\n",
       "      <th>mean</th>\n",
       "      <td>8.159800</td>\n",
       "      <td>5.839135</td>\n",
       "    </tr>\n",
       "    <tr>\n",
       "      <th>std</th>\n",
       "      <td>3.869884</td>\n",
       "      <td>5.510262</td>\n",
       "    </tr>\n",
       "    <tr>\n",
       "      <th>min</th>\n",
       "      <td>5.026900</td>\n",
       "      <td>-2.680700</td>\n",
       "    </tr>\n",
       "    <tr>\n",
       "      <th>25%</th>\n",
       "      <td>5.707700</td>\n",
       "      <td>1.986900</td>\n",
       "    </tr>\n",
       "    <tr>\n",
       "      <th>50%</th>\n",
       "      <td>6.589400</td>\n",
       "      <td>4.562300</td>\n",
       "    </tr>\n",
       "    <tr>\n",
       "      <th>75%</th>\n",
       "      <td>8.578100</td>\n",
       "      <td>7.046700</td>\n",
       "    </tr>\n",
       "    <tr>\n",
       "      <th>max</th>\n",
       "      <td>22.203000</td>\n",
       "      <td>24.147000</td>\n",
       "    </tr>\n",
       "  </tbody>\n",
       "</table>\n",
       "</div>"
      ],
      "text/plain": [
       "       Population     Profit\n",
       "count   97.000000  97.000000\n",
       "mean     8.159800   5.839135\n",
       "std      3.869884   5.510262\n",
       "min      5.026900  -2.680700\n",
       "25%      5.707700   1.986900\n",
       "50%      6.589400   4.562300\n",
       "75%      8.578100   7.046700\n",
       "max     22.203000  24.147000"
      ]
     },
     "execution_count": 3,
     "metadata": {},
     "output_type": "execute_result"
    }
   ],
   "source": [
    "data.describe()"
   ]
  },
  {
   "cell_type": "markdown",
   "id": "6539bf20",
   "metadata": {},
   "source": [
    "**Ex. 2. Extract data from pandas structure to new variables of ndarray type**"
   ]
  },
  {
   "cell_type": "code",
   "execution_count": 4,
   "id": "5f880708",
   "metadata": {},
   "outputs": [
    {
     "data": {
      "image/png": "[encoded data removed]",
      "text/plain": [
       "<Figure size 640x480 with 1 Axes>"
      ]
     },
     "metadata": {},
     "output_type": "display_data"
    }
   ],
   "source": [
    "x = data.values[:, 0]\n",
    "y = data.values[:, 1]\n",
    "plt.scatter(x, y)\n",
    "plt.ylabel(\"Prfit in $10 000\")\n",
    "plt.xlabel(\"Population of the city in 10 000\")\n",
    "plt.title(\"Display the data set\")\n",
    "plt.show()"
   ]
  },
  {
   "cell_type": "markdown",
   "id": "31a2de22",
   "metadata": {},
   "source": [
    "**Ex. 3. In order to make the cost function work (intercept value theta0 has to be multiplied by 1) we need to insert a column of ones at the top of x**"
   ]
  },
  {
   "cell_type": "markdown",
   "id": "2608a446",
   "metadata": {},
   "source": [
    "**Ex. 4. We need to separate our data into independent variables X and our dependent variable y. We also need to initialise parameter theta**"
   ]
  },
  {
   "cell_type": "code",
   "execution_count": 5,
   "id": "96a1e7f5",
   "metadata": {},
   "outputs": [],
   "source": [
    "X = np.stack([np.ones(x.shape, dtype=np.float32), x], axis=0)\n",
    "y.shape = [1, y.shape[0]]\n",
    "theta = np.zeros((X.shape[0], 1), dtype=np.float32)"
   ]
  },
  {
   "cell_type": "markdown",
   "id": "223ec2d3",
   "metadata": {},
   "source": [
    "**Ex. 5 The cost function evaluates the quality of our model by calculating the error between our model’s prediction for a data point, using the model parameters, and the actual data point. Please write the cost function based on X, y and parameter theta**"
   ]
  },
  {
   "cell_type": "markdown",
   "id": "30475756",
   "metadata": {},
   "source": [
    "**Ex. 6 Test the function**"
   ]
  },
  {
   "cell_type": "code",
   "execution_count": 6,
   "id": "08aa7786",
   "metadata": {},
   "outputs": [
    {
     "name": "stdout",
     "output_type": "stream",
     "text": [
      "32.072733877455676\n"
     ]
    }
   ],
   "source": [
    "def computeCost(X, y, theta):\n",
    "    # 2-3 code lines as series of matrix operation\n",
    "    diff_sg = (theta.T@X - y)**2\n",
    "    return diff_sg.sum()/X.shape[1]/2\n",
    "\n",
    "print(computeCost(X, y, theta))"
   ]
  },
  {
   "cell_type": "markdown",
   "id": "d034d6f5",
   "metadata": {},
   "source": [
    "**Ex. 7 Implementation the gradient decent algortihm**"
   ]
  },
  {
   "cell_type": "code",
   "execution_count": 7,
   "id": "3f350206",
   "metadata": {},
   "outputs": [],
   "source": [
    "alpha = 0.01\n",
    "it = 1000\n",
    "\n",
    "def h(x,theta):\n",
    "    return theta.T@x\n",
    "def computeCost ( X , y , theta ) :\n",
    "    return ((h(X,theta)-y)**2).sum()/X.shape[1]/2\n",
    "def simple_gradient(X, y, theta, alpha, it):\n",
    "    cost=[]\n",
    "    for i in range(it):\n",
    "        theta = theta - alpha*((h(X,theta)-y)@X.T).T/X.shape[1]\n",
    "        cost.append(computeCost(X,y,theta))\n",
    "    return theta, cost"
   ]
  },
  {
   "cell_type": "markdown",
   "id": "71930128",
   "metadata": {},
   "source": [
    "**Ex. 8 Please calculate the optimal parameters for the dataset.**"
   ]
  },
  {
   "cell_type": "markdown",
   "id": "a0b7eca6",
   "metadata": {},
   "source": [
    "**Ex. 9 Please calculate the cost function for the given θ (Ex.8).**"
   ]
  },
  {
   "cell_type": "markdown",
   "id": "dbf13b0a",
   "metadata": {},
   "source": [
    "**Ex. 10 Plot the regression function and our dataset.**"
   ]
  },
  {
   "cell_type": "code",
   "execution_count": 8,
   "id": "0b3d5ba4",
   "metadata": {},
   "outputs": [
    {
     "name": "stdout",
     "output_type": "stream",
     "text": [
      "[[-3.24140214]\n",
      " [ 1.1272942 ]]\n"
     ]
    }
   ],
   "source": [
    "theta, cost = simple_gradient(X, y, theta, alpha, it)\n",
    "print(theta)"
   ]
  },
  {
   "cell_type": "code",
   "execution_count": 9,
   "id": "c6f21c62",
   "metadata": {},
   "outputs": [
    {
     "name": "stdout",
     "output_type": "stream",
     "text": [
      "4.515955503078913\n"
     ]
    }
   ],
   "source": [
    "print(cost[-1])"
   ]
  },
  {
   "cell_type": "code",
   "execution_count": 10,
   "id": "814b2f5e",
   "metadata": {},
   "outputs": [
    {
     "data": {
      "image/png": "[encoded data removed]",
      "text/plain": [
       "<Figure size 640x480 with 1 Axes>"
      ]
     },
     "metadata": {},
     "output_type": "display_data"
    }
   ],
   "source": [
    "plt.scatter(x, y, label = \"Training data\")\n",
    "plt.plot(x, x*theta[1] + theta[0], 'r', label = \"Linear regression\")\n",
    "plt.title(\"The regression function\")\n",
    "plt.legend(['Linear regression','Training data'])\n",
    "plt.xlabel(\"Population of City in 10.0000s\")\n",
    "plt.ylabel(\"Profit in $10.0000s\")\n",
    "plt.show()"
   ]
  },
  {
   "cell_type": "markdown",
   "id": "72004602",
   "metadata": {},
   "source": [
    "**Ex. 11 Plot the relationship between the cost function and number of iterations.**"
   ]
  },
  {
   "cell_type": "code",
   "execution_count": 11,
   "id": "e5d427a5",
   "metadata": {},
   "outputs": [
    {
     "name": "stdout",
     "output_type": "stream",
     "text": [
      "[6.737190464870007, 5.9315935686049555, 5.901154707081388, 5.895228586444221, 5.8900949431173295, 5.885004158443647, 5.879932480491418, 5.874879094762575, 5.869843911806385, 5.8648268653129305, 5.859827889932181, 5.85484692057229, 5.849883892376587, 5.844938740722034, 5.840011401218361, 5.835101809707226, 5.830209902261388, 5.825335615183863, 5.820478885007099, 5.815639648492154, 5.810817842627869, 5.806013404630044, 5.801226271940628, 5.7964563822269, 5.7917036733806535, 5.7869680835173956, 5.782249550975539, 5.777548014315596, 5.772863412319381, 5.768195683989212, 5.76354476854712, 5.758910605434047, 5.754293134309077, 5.749692295048629, 5.745108027745684, 5.740540272709012, 5.735988970462381, 5.731454061743792, 5.726935487504702, 5.722433188909257, 5.717947107333529, 5.713477184364749, 5.709023361800549, 5.704585581648199, 5.700163786123857, 5.695757917651815, 5.691367918863751, 5.68699373259798, 5.682635301898707, 5.678292570015292, 5.673965480401506, 5.669653976714796, 5.6653580028155535, 5.661077502766379, 5.6568124208313595, 5.6525627014753335, 5.648328289363181, 5.644109129359092, 5.639905166525854, 5.635716346124135, 5.631542613611772, 5.627383914643055, 5.623240195068026, 5.619111400931778, 5.61499747847374, 5.610898374126984, 5.606814034517531, 5.602744406463646, 5.598689436975159, 5.59464907325276, 5.590623262687323, 5.586611952859217, 5.5826150915376225, 5.578632626679853, 5.574664506430678, 5.570710679121644, 5.566771093270403, 5.562845697580051, 5.558934440938442, 5.555037272417543, 5.551154141272754, 5.547284996942256, 5.5434297890463515, 5.539588467386808, 5.535760981946204, 5.531947282887275, 5.5281473205522715, 5.524361045462306, 5.520588408316713, 5.5168293599924025, 5.513083851543225, 5.5093518341993315, 5.5056332593665385, 5.501928078625699, 5.498236243732065, 5.494557706614666, 5.490892419375677, 5.487240334289805, 5.483601403803652, 5.479975580535112, 5.476362817272741, 5.472763066975151, 5.469176282770398, 5.465602417955358, 5.462041425995137, 5.4584932605224585, 5.454957875337047, 5.451435224405051, 5.4479252618584235, 5.444427941994333, 5.440943219274565, 5.437471048324934, 5.434011383934687, 5.430564181055919, 5.427129394802985, 5.423706980451918, 5.420296893439836, 5.416899089364382, 5.413513523983123, 5.410140153212988, 5.406778933129694, 5.403429819967165, 5.400092770116975, 5.396767740127768, 5.393454686704697, 5.390153566708862, 5.386864337156746, 5.383586955219661, 5.380321378223178, 5.37706756364658, 5.373825469122317, 5.37059505243543, 5.367376271523024, 5.364169084473712, 5.360973449527068, 5.357789325073084, 5.354616669651632, 5.3514554419519165, 5.348305600811943, 5.34516710521798, 5.342039914304029, 5.338923987351284, 5.335819283787603, 5.332725763186988, 5.329643385269053, 5.326572109898499, 5.323511897084587, 5.32046270698063, 5.317424499883461, 5.314397236232924, 5.311380876611354, 5.3083753817430726, 5.305380712493861, 5.302396829870465, 5.2994236950200815, 5.296461269229852, 5.29350951392636, 5.290568390675129, 5.287637861180118, 5.284717887283231, 5.281808430963811, 5.278909454338152, 5.276020919659, 5.27314278931507, 5.270275025830544, 5.267417591864593, 5.264570450210885, 5.261733563797111, 5.2589068956844836, 5.256090409067273, 5.253284067272322, 5.250487833758564, 5.2477016721165555, 5.244925546067995, 5.242159419465253, 5.2394032562909025, 5.236657020657251, 5.2339206768058695, 5.2311941891071285, 5.228477522059736, 5.225770640290271, 5.223073508552729, 5.220386091728056, 5.217708354823696, 5.215040262973137, 5.212381781435449, 5.2097328755948435, 5.207093510960208, 5.204463653164672, 5.201843267965149, 5.199232321241896, 5.1966307789980615, 5.194038607359259, 5.191455772573107, 5.188882241008802, 5.1863179791566765, 5.18376295362776, 5.181217131153349, 5.1786804785845755, 5.176152962891967, 5.173634551165022, 5.171125210611782, 5.168624908558404, 5.166133612448731, 5.163651289843875, 5.161177908421789, 5.15871343597685, 5.156257840419434, 5.153811089775505, 5.151373152186197, 5.148943995907395, 5.146523589309322, 5.144111900876139, 5.141708899205515, 5.139314553008234, 5.136928831107778, 5.134551702439933, 5.1321831360523635, 5.129823101104237, 5.127471566865799, 5.12512850271798, 5.122793878152007, 5.120467662768991, 5.118149826279542, 5.115840338503367, 5.113539169368884, 5.111246288912824, 5.108961667279848, 5.10668527472215, 5.104417081599077, 5.102157058376736, 5.099905175627619, 5.097661404030211, 5.095425714368609, 5.093198077532151, 5.09097846451502, 5.088766846415887, 5.086563194437517, 5.084367479886402, 5.082179674172386, 5.079999748808297, 5.0778276754095675, 5.075663425693872, 5.0735069714807555, 5.071358284691267, 5.069217337347596, 5.067084101572705, 5.064958549589968, 5.06284065372281, 5.060730386394342, 5.05862772012701, 5.05653262754223, 5.054445081360036, 5.052365054398719, 5.050292519574479, 5.0482274499010735, 5.046169818489457, 5.044119598547441, 5.042076763379342, 5.040041286385627, 5.038013141062577, 5.035992301001938, 5.033978739890578, 5.031972431510141, 5.029973349736707, 5.027981468540455, 5.025996761985323, 5.024019204228667, 5.022048769520927, 5.020085432205293, 5.018129166717368, 5.016179947584834, 5.01423774942713, 5.012302546955106, 5.010374314970709, 5.008453028366642, 5.006538662126047, 5.004631191322175, 5.002730591118062, 5.0008368367662, 4.998949903608226, 4.997069767074595, 4.995196402684256, 4.993329786044343, 4.991469892849844, 4.989616698883301, 4.987770180014479, 4.98593031220006, 4.984097071483333, 4.982270433993872, 4.9804503759472345, 4.978636873644648, 4.976829903472698, 4.97502944190303, 4.973235465492034, 4.971447950880541, 4.969666874793522, 4.967892214039784, 4.966123945511668, 4.964362046184744, 4.962606493117519, 4.96085726345113, 4.959114334409053, 4.957377683296803, 4.955647287501639, 4.9539231244922695, 4.9522051718185605, 4.95049340711124, 4.948787808081611, 4.9470883525212574, 4.94539501830176, 4.943707783374399, 4.942026625769878, 4.940351523598029, 4.938682455047537, 4.937019398385641, 4.935362331957869, 4.933711234187742, 4.932066083576499, 4.930426858702818, 4.928793538222536, 4.927166100868362, 4.925544525449624, 4.923928790851962, 4.922318876037079, 4.920714760042453, 4.919116421981067, 4.91752384104114, 4.9159369964858515, 4.914355867653077, 4.912780433955111, 4.911210674878409, 4.9096465699833125, 4.908088098903784, 4.9065352413471475, 4.904987977093815, 4.903446285997033, 4.901910147982611, 4.9003795430486665, 4.898854451265366, 4.897334852774657, 4.895820727790016, 4.894312056596192, 4.892808819548944, 4.891310997074789, 4.889818569670749, 4.88833151790409, 4.8868498224120795, 4.885373463901725, 4.883902423149523, 4.88243668100122, 4.880976218371547, 4.879521016243985, 4.878071055670509, 4.876626317771341, 4.875186783734713, 4.87375243481661, 4.872323252340535, 4.870899217697262, 4.869480312344593, 4.868066517807122, 4.866657815675988, 4.865254187608632, 4.863855615328573, 4.862462080625159, 4.861073565353324, 4.859690051433372, 4.858311520850714, 4.856937955655664, 4.855569337963178, 4.854205649952639, 4.852846873867618, 4.85149299201564, 4.850143986767961, 4.8487998405593355, 4.847460535887784, 4.846126055314371, 4.8447963814629675, 4.8434714970200465, 4.842151384734428, 4.8408360274170805, 4.839525407940883, 4.838219509240404, 4.836918314311682, 4.835621806212002, 4.834329968059677, 4.833042783033826, 4.831760234374156, 4.830482305380745, 4.829208979413817, 4.8279402398935405, 4.826676070299799, 4.825416454171979, 4.824161375108761, 4.822910816767897, 4.821664762866011, 4.820423197178371, 4.819186103538688, 4.817953465838902, 4.816725268028977, 4.815501494116686, 4.814282128167402, 4.813067154303901, 4.811856556706141, 4.8106503196110655, 4.809448427312395, 4.808250864160425, 4.807057614561817, 4.805868662979403, 4.804683993931975, 4.80350359199409, 4.802327441795866, 4.80115552802278, 4.799987835415475, 4.798824348769555, 4.7976650529353915, 4.796509932817919, 4.795358973376449, 4.794212159624466, 4.793069476629437, 4.791930909512613, 4.790796443448837, 4.789666063666354, 4.788539755446615, 4.787417504124085, 4.786299295086054, 4.785185113772447, 4.784074945675635, 4.7829687763402395, 4.781866591362954, 4.780768376392351, 4.779674117128695, 4.7785837993237585, 4.777497408780635, 4.776414931353552, 4.775336352947692, 4.774261659519006, 4.773190837074032, 4.772123871669708, 4.771060749413197, 4.770001456461701, 4.768945979022287, 4.767894303351698, 4.7668464157561825, 4.765802302591315, 4.764761950261812, 4.763725345221363, 4.762692473972447, 4.761663323066164, 4.760637879102053, 4.7596161287279255, 4.75859805863968, 4.757583655581141, 4.7565729063438775, 4.755565797767038, 4.7545623167371724, 4.753562450188067, 4.752566185100569, 4.751573508502425, 4.750584407468098, 4.7495988691186195, 4.7486168806214, 4.7476384291900775, 4.7466635020843455, 4.745692086609787, 4.744724170117706, 4.743759740004973, 4.742798783713851, 4.741841288731832, 4.740887242591484, 4.739936632870274, 4.738989447190423, 4.738045673218728, 4.737105298666416, 4.7361683112889725, 4.735234698885989, 4.734304449301005, 4.733377550421342, 4.732453990177952, 4.731533756545261, 4.730616837541011, 4.7297032212260985, 4.7287928957044265, 4.7278858491227505, 4.726982069670518, 4.726081545579717, 4.725184265124721, 4.724290216622143, 4.7233993884306775, 4.722511768950947, 4.721627346625359, 4.7207461099379495, 4.7198680474142325, 4.718993147621053, 4.7181213991664395, 4.717252790699451, 4.716387310910036, 4.715524948528875, 4.7146656923272445, 4.713809531116866, 4.712956453749759, 4.712106449118099, 4.711259506154067, 4.710415613829716, 4.709574761156817, 4.708736937186721, 4.707902131010216, 4.707070331757381, 4.706241528597455, 4.70541571073868, 4.7045928674281745, 4.7037729879517896, 4.702956061633963, 4.70214207783759, 4.701331025963877, 4.700522895452207, 4.699717675780005, 4.698915356462592, 4.6981159270530615, 4.6973193771421275, 4.696525696358007, 4.695734874366266, 4.694946900869703, 4.694161765608201, 4.6933794583586, 4.692599968934568, 4.691823287186457, 4.691049403001182, 4.69027830630208, 4.689509987048791, 4.688744435237113, 4.687981640898881, 4.6872215941018345, 4.686464284949491, 4.685709703581008, 4.684957840171069, 4.684208684929745, 4.683462228102367, 4.682718459969402, 4.681977370846331, 4.681238951083514, 4.680503191066067, 4.679770081213745, 4.679039611980803, 4.678311773855883, 4.677586557361888, 4.676863953055852, 4.676143951528825, 4.675426543405748, 4.674711719345328, 4.6739994700399246, 4.673289786215413, 4.672582658631084, 4.671878078079505, 4.671176035386413, 4.6704765214105874, 4.669779527043733, 4.669085043210365, 4.668393060867689, 4.667703571005477, 4.667016564645957, 4.666332032843698, 4.665649966685489, 4.664970357290219, 4.664293195808771, 4.6636184734239015, 4.662946181350124, 4.6622763108336, 4.661608853152018, 4.660943799614486, 4.660281141561418, 4.659620870364415, 4.65896297742616, 4.658307454180302, 4.657654292091346, 4.657003482654543, 4.6563550173957715, 4.65570888787144, 4.655065085668367, 4.654423602403678, 4.653784429724688, 4.6531475593088025, 4.652512982863399, 4.651880692125735, 4.651250678862817, 4.650622934871314, 4.649997451977443, 4.649374222036858, 4.648753236934556, 4.648134488584754, 4.6475179689308, 4.646903669945062, 4.64629158362882, 4.6456817020121655, 4.645074017153899, 4.644468521141422, 4.6438652060906405, 4.643264064145854, 4.642665087479663, 4.6420682682928565, 4.6414735988143185, 4.6408810713009245, 4.64029067803744, 4.63970241133642, 4.6391162635381065, 4.638532227010339, 4.637950294148439, 4.637370457375125, 4.636792709140407, 4.636217041921488, 4.6356434482226705, 4.635071920575256, 4.634502451537443, 4.633935033694242, 4.633369659657368, 4.632806322065146, 4.632245013582422, 4.63168572690046, 4.63112845473685, 4.630573189835415, 4.630019924966111, 4.6294686529249365, 4.628919366533842, 4.62837205864063, 4.627826722118864, 4.627283349867778, 4.626741934812184, 4.626202469902373, 4.625664948114038, 4.625129362448163, 4.62459570593095, 4.6240639716137135, 4.623534152572803, 4.623006241909502, 4.622480232749945, 4.621956118245025, 4.621433891570306, 4.620913545925933, 4.62039507453654, 4.619878470651173, 4.619363727543187, 4.618850838510172, 4.618339796873855, 4.6178305959800205, 4.617323229198419, 4.616817689922686, 4.61631397157025, 4.61581206758225, 4.61531197142345, 4.6148136765821555, 4.614317176570121, 4.613822464922479, 4.613329535197642, 4.612838380977227, 4.612348995865971, 4.611861373491643, 4.611375507504967, 4.6108913915795355, 4.610409019411731, 4.609928384720636, 4.609449481247963, 4.6089723027579605, 4.608496843037341, 4.608023095895198, 4.60755105516292, 4.60708071469412, 4.606612068364545, 4.606145110072004, 4.605679833736285, 4.605216233299077, 4.60475430272389, 4.604294035995977, 4.603835427122256, 4.603378470131233, 4.60292315907292, 4.602469488018764, 4.602017451061564, 4.6015670423153985, 4.601118255915542, 4.600671086018399, 4.600225526801421, 4.59978157246303, 4.599339217222544, 4.598898455320108, 4.5984592810166065, 4.598021688593604, 4.597585672353254, 4.597151226618241, 4.596718345731694, 4.596287024057118, 4.595857255978325, 4.595429035899349, 4.595002358244384, 4.594577217457711, 4.594153608003618, 4.59373152436633, 4.593310961049945, 4.5928919125783585, 4.592474373495182, 4.592058338363686, 4.591643801766726, 4.591230758306666, 4.590819202605312, 4.590409129303844, 4.590000533062744, 4.589593408561723, 4.5891877504996605, 4.588783553594528, 4.5883808125833205, 4.587979522221995, 4.587579677285392, 4.587181272567177, 4.586784302879765, 4.586388763054259, 4.585994647940378, 4.585601952406392, 4.585210671339057, 4.5848207996435475, 4.584432332243384, 4.584045264080381, 4.5836595901145625, 4.583275305324111, 4.582892404705298, 4.582510883272419, 4.582130736057722, 4.581751958111356, 4.581374544501292, 4.580998490313272, 4.580623790650735, 4.58025044063476, 4.579878435403997, 4.579507770114606, 4.579138439940198, 4.5787704400717635, 4.578403765717619, 4.578038412103337, 4.57767437447169, 4.577311648082583, 4.576950228212997, 4.576590110156924, 4.576231289225308, 4.57587376074598, 4.575517520063601, 4.575162562539603, 4.574808883552121, 4.574456478495943, 4.574105342782438, 4.573755471839511, 4.573406861111529, 4.573059506059272, 4.5727134021598665, 4.572368544906735, 4.572024929809525, 4.571682552394068, 4.5713414082023025, 4.571001492792229, 4.5706628017378454, 4.570325330629095, 4.569989075071803, 4.569654030687624, 4.56932019311398, 4.568987558004012, 4.568656121026514, 4.568325877865882, 4.567996824222056, 4.567668955810466, 4.567342268361973, 4.567016757622818, 4.56669241935456, 4.566369249334026, 4.566047243353257, 4.565726397219448, 4.565406706754898, 4.565088167796951, 4.564770776197949, 4.564454527825168, 4.564139418560777, 4.563825444301772, 4.563512600959929, 4.5632008844617475, 4.562890290748406, 4.562580815775695, 4.562272455513976, 4.561965205948124, 4.561659063077478, 4.561354022915784, 4.56105008149115, 4.560747234845985, 4.56044547903696, 4.560144810134946, 4.559845224224967, 4.559546717406144, 4.559249285791658, 4.558952925508681, 4.558657632698341, 4.558363403515664, 4.558070234129523, 4.557778120722592, 4.557487059491295, 4.557197046645755, 4.556908078409751, 4.556620151020654, 4.556333260729399, 4.556047403800417, 4.5557625765115946, 4.555478775154231, 4.555195996032977, 4.554914235465802, 4.554633489783926, 4.554353755331798, 4.554075028467021, 4.553797305560327, 4.553520582995515, 4.553244857169412, 4.552970124491824, 4.552696381385485, 4.5524236242860185, 4.5521518496418825, 4.551881053914331, 4.551611233577363, 4.551342385117677, 4.551074505034629, 4.550807589840181, 4.55054163605886, 4.550276640227711, 4.550012598896254, 4.549749508626433, 4.549487365992583, 4.549226167581372, 4.5489659099917645, 4.548706589834975, 4.548448203734425, 4.548190748325698, 4.547934220256497, 4.547678616186597, 4.547423932787805, 4.547170166743919, 4.546917314750677, 4.546665373515724, 4.54641433975856, 4.546164210210503, 4.545914981614642, 4.545666650725801, 4.54541921431049, 4.545172669146869, 4.544927012024698, 4.544682239745306, 4.544438349121537, 4.5441953369777215, 4.543953200149624, 4.543711935484408, 4.543471539840591, 4.543232010088012, 4.542993343107778, 4.542755535792234, 4.542518585044917, 4.5422824877805175, 4.5420472409248385, 4.541812841414758, 4.541579286198186, 4.541346572234027, 4.541114696492135, 4.540883655953286, 4.540653447609125, 4.540424068462133, 4.540195515525591, 4.5399677858235385, 4.53974087639073, 4.539514784272604, 4.539289506525238, 4.539065040215319, 4.538841382420095, 4.538618530227342, 4.538396480735327, 4.538175231052767, 4.537954778298796, 4.537735119602923, 4.537516252104996, 4.537298172955165, 4.537080879313848, 4.5368643683516865, 4.536648637249516, 4.536433683198326, 4.536219503399223, 4.536006095063398, 4.535793455412081, 4.535581581676518, 4.535370471097922, 4.53516012092745, 4.53495052842615, 4.534741690864944, 4.534533605524584, 4.534326269695611, 4.5341196806783275, 4.533913835782765, 4.533708732328634, 4.5335043676453095, 4.533300739071782, 4.533097843956623, 4.532895679657961, 4.532694243543436, 4.532493532990172, 4.532293545384737, 4.532094278123115, 4.53189572861067, 4.531697894262111, 4.531500772501458, 4.531304360762013, 4.531108656486318, 4.5309136571261295, 4.530719360142384, 4.53052576300516, 4.530332863193653, 4.530140658196133, 4.529949145509925, 4.52975832264136, 4.529568187105754, 4.529378736427375, 4.529189968139407, 4.5290018797839195, 4.5288144689118335, 4.5286277330828915, 4.528441669865631, 4.528256276837341, 4.528071551584041, 4.527887491700442, 4.527704094789922, 4.527521358464489, 4.527339280344758, 4.527157858059903, 4.52697708924765, 4.526796971554226, 4.52661750263434, 4.526438680151146, 4.526260501776218, 4.526082965189512, 4.525906068079348, 4.525729808142366, 4.525554183083503, 4.5253791906159675, 4.525204828461203, 4.525031094348856, 4.524857986016757, 4.524685501210879, 4.5245136376853194, 4.524342393202259, 4.524171765531945, 4.524001752452653, 4.523832351750661, 4.523663561220222, 4.523495378663532, 4.523327801890707, 4.523160828719747, 4.5229944569765115, 4.522828684494693, 4.52266350911579, 4.522498928689068, 4.522334941071547, 4.52217154412796, 4.522008735730734, 4.521846513759959, 4.521684876103361, 4.521523820656275, 4.521363345321613, 4.521203448009848, 4.52104412663897, 4.520885379134478, 4.520727203429336, 4.520569597463956, 4.520412559186166, 4.52025608655119, 4.520100177521617, 4.51994483006737, 4.519790042165688, 4.5196358118010975, 4.519482136965378, 4.519329015657548, 4.519176445883833, 4.519024425657637, 4.518872952999525, 4.518722025937183, 4.518571642505413, 4.518421800746084, 4.518272498708126, 4.518123734447491, 4.517975506027139, 4.5178278115170025, 4.517680648993969, 4.517534016541851, 4.517387912251361, 4.517242334220096, 4.517097280552497, 4.51695274935984, 4.516808738760196, 4.516665246878423, 4.516522271846126, 4.516379811801645, 4.516237864890023, 4.516096429262984, 4.515955503078913]\n",
      "1000\n"
     ]
    }
   ],
   "source": [
    "print(cost)\n",
    "print(it)"
   ]
  },
  {
   "cell_type": "code",
   "execution_count": 12,
   "id": "4efcb81f",
   "metadata": {},
   "outputs": [
    {
     "data": {
      "image/png": "[encoded data removed]",
      "text/plain": [
       "<Figure size 640x480 with 1 Axes>"
      ]
     },
     "metadata": {},
     "output_type": "display_data"
    }
   ],
   "source": [
    "iterations = range(0, 1000)\n",
    "\n",
    "plt.plot(iterations, cost)\n",
    "plt.title(\"Relation between the cost function and number of iterations\")\n",
    "plt.xlabel(\"Iterations number\")\n",
    "plt.ylabel(\"Cost function value\")\n",
    "plt.show()"
   ]
  },
  {
   "cell_type": "markdown",
   "id": "ab98cba6",
   "metadata": {},
   "source": [
    "## Linear regression with multiple variables"
   ]
  },
  {
   "cell_type": "code",
   "execution_count": 13,
   "id": "5bad8046",
   "metadata": {},
   "outputs": [
    {
     "data": {
      "text/html": [
       "<div>\n",
       "<style scoped>\n",
       "    .dataframe tbody tr th:only-of-type {\n",
       "        vertical-align: middle;\n",
       "    }\n",
       "\n",
       "    .dataframe tbody tr th {\n",
       "        vertical-align: top;\n",
       "    }\n",
       "\n",
       "    .dataframe thead th {\n",
       "        text-align: right;\n",
       "    }\n",
       "</style>\n",
       "<table border=\"1\" class=\"dataframe\">\n",
       "  <thead>\n",
       "    <tr style=\"text-align: right;\">\n",
       "      <th></th>\n",
       "      <th>Size</th>\n",
       "      <th>Bedrooms</th>\n",
       "      <th>Price</th>\n",
       "    </tr>\n",
       "  </thead>\n",
       "  <tbody>\n",
       "    <tr>\n",
       "      <th>0</th>\n",
       "      <td>2104</td>\n",
       "      <td>3</td>\n",
       "      <td>399900</td>\n",
       "    </tr>\n",
       "    <tr>\n",
       "      <th>1</th>\n",
       "      <td>1600</td>\n",
       "      <td>3</td>\n",
       "      <td>329900</td>\n",
       "    </tr>\n",
       "    <tr>\n",
       "      <th>2</th>\n",
       "      <td>2400</td>\n",
       "      <td>3</td>\n",
       "      <td>369000</td>\n",
       "    </tr>\n",
       "    <tr>\n",
       "      <th>3</th>\n",
       "      <td>1416</td>\n",
       "      <td>2</td>\n",
       "      <td>232000</td>\n",
       "    </tr>\n",
       "    <tr>\n",
       "      <th>4</th>\n",
       "      <td>3000</td>\n",
       "      <td>4</td>\n",
       "      <td>539900</td>\n",
       "    </tr>\n",
       "  </tbody>\n",
       "</table>\n",
       "</div>"
      ],
      "text/plain": [
       "   Size  Bedrooms   Price\n",
       "0  2104         3  399900\n",
       "1  1600         3  329900\n",
       "2  2400         3  369000\n",
       "3  1416         2  232000\n",
       "4  3000         4  539900"
      ]
     },
     "execution_count": 13,
     "metadata": {},
     "output_type": "execute_result"
    }
   ],
   "source": [
    "path = os.getcwd() + '/ex1data2.txt'\n",
    "data2 = pd.read_csv(path, header=None, names=['Size', 'Bedrooms', 'Price'])\n",
    "data2.head()"
   ]
  },
  {
   "cell_type": "markdown",
   "id": "8793bbfd",
   "metadata": {},
   "source": [
    "**Ex. 1**"
   ]
  },
  {
   "cell_type": "code",
   "execution_count": 14,
   "id": "6ebf94ed",
   "metadata": {},
   "outputs": [],
   "source": [
    "x0 = data2.values[:,0]\n",
    "x1 = data2.values[:,1]\n",
    "y2 = data2.values[:,2]\n",
    "\n",
    "x1 = (x1-x1.mean())/np.std(x1)\n",
    "x0 = (x0-x0.mean())/np.std(x0)\n",
    "y2 = (y2-y2.mean())/np.std(y2)"
   ]
  },
  {
   "cell_type": "markdown",
   "id": "29277f73",
   "metadata": {},
   "source": [
    "**Ex. 2**"
   ]
  },
  {
   "cell_type": "code",
   "execution_count": 15,
   "id": "49c92819",
   "metadata": {},
   "outputs": [],
   "source": [
    "X2 = np.stack([np.ones(x0.shape, dtype=np.float32), x0, x1], axis=0)\n",
    "y2.shape = [1, y2.shape[0]]\n",
    "theta2 = np.zeros((X2.shape[0], 1), dtype=np.float32)"
   ]
  },
  {
   "cell_type": "code",
   "execution_count": 16,
   "id": "f331ab4e",
   "metadata": {},
   "outputs": [
    {
     "name": "stdout",
     "output_type": "stream",
     "text": [
      "Theta: [[-8.28238187e-17]\n",
      " [ 8.79065699e-01]\n",
      " [-4.74786542e-02]]\n"
     ]
    },
    {
     "data": {
      "text/plain": [
       "0.13354178879075576"
      ]
     },
     "execution_count": 16,
     "metadata": {},
     "output_type": "execute_result"
    }
   ],
   "source": [
    "theta, cost = simple_gradient(X2,y2,theta2,0.01,1000)\n",
    "print(f'Theta: {theta}')\n",
    "computeCost(X2,y2,theta)"
   ]
  },
  {
   "cell_type": "code",
   "execution_count": 17,
   "id": "6bc2689a",
   "metadata": {},
   "outputs": [
    {
     "data": {
      "image/png": "[encoded data removed]",
      "text/plain": [
       "<Figure size 640x480 with 1 Axes>"
      ]
     },
     "metadata": {},
     "output_type": "display_data"
    }
   ],
   "source": [
    "c = theta[0,0]\n",
    "b = theta[1,0]\n",
    "a = theta[2,0]\n",
    "x0Grad = np.linspace(-1, 4, y2.size, endpoint=True)\n",
    "x1Grad = np.linspace(-1, 4, y2.size, endpoint=True)\n",
    "yGradient = (a*x0Grad + b*x1Grad + c)\n",
    "\n",
    "fig = plt.figure(figsize=(8, 6), dpi=80)\n",
    "ax = fig.add_subplot(111, projection='3d')\n",
    "\n",
    "ax.scatter(x0, x1, y2)\n",
    "ax.plot(x0Grad, x1Grad, yGradient,'r')\n",
    "ax.set_title('Linear regression with multiple variables')\n",
    "ax.set_xlabel('Size')\n",
    "ax.set_ylabel('Bedrooms')\n",
    "ax.set_zlabel('Price')\n",
    "ax.view_init(0,-90)\n",
    "plt.show()"
   ]
  },
  {
   "cell_type": "code",
   "execution_count": 18,
   "id": "79070843",
   "metadata": {},
   "outputs": [
    {
     "data": {
      "image/png": "[encoded data removed]",
      "text/plain": [
       "<Figure size 640x480 with 1 Axes>"
      ]
     },
     "metadata": {},
     "output_type": "display_data"
    }
   ],
   "source": [
    "x_cost= np.arange(0, len(cost), 1)\n",
    "plt.plot(x_cost, cost)\n",
    "plt.title(\"Cost vs. Iterations\")\n",
    "plt.xlabel(\"Iterations number\")\n",
    "plt.ylabel(\"Cost function value\")\n",
    "plt.show()"
   ]
  },
  {
   "cell_type": "markdown",
   "id": "d1a29906",
   "metadata": {},
   "source": [
    "## Linear regression - Python packages"
   ]
  },
  {
   "cell_type": "code",
   "execution_count": 19,
   "id": "16532c97",
   "metadata": {},
   "outputs": [
    {
     "data": {
      "text/html": [
       "<div>\n",
       "<style scoped>\n",
       "    .dataframe tbody tr th:only-of-type {\n",
       "        vertical-align: middle;\n",
       "    }\n",
       "\n",
       "    .dataframe tbody tr th {\n",
       "        vertical-align: top;\n",
       "    }\n",
       "\n",
       "    .dataframe thead th {\n",
       "        text-align: right;\n",
       "    }\n",
       "</style>\n",
       "<table border=\"1\" class=\"dataframe\">\n",
       "  <thead>\n",
       "    <tr style=\"text-align: right;\">\n",
       "      <th></th>\n",
       "      <th>sepal length (cm)</th>\n",
       "      <th>sepal width (cm)</th>\n",
       "      <th>petal length (cm)</th>\n",
       "      <th>petal width (cm)</th>\n",
       "    </tr>\n",
       "  </thead>\n",
       "  <tbody>\n",
       "    <tr>\n",
       "      <th>0</th>\n",
       "      <td>5.1</td>\n",
       "      <td>3.5</td>\n",
       "      <td>1.4</td>\n",
       "      <td>0.2</td>\n",
       "    </tr>\n",
       "    <tr>\n",
       "      <th>1</th>\n",
       "      <td>4.9</td>\n",
       "      <td>3.0</td>\n",
       "      <td>1.4</td>\n",
       "      <td>0.2</td>\n",
       "    </tr>\n",
       "    <tr>\n",
       "      <th>2</th>\n",
       "      <td>4.7</td>\n",
       "      <td>3.2</td>\n",
       "      <td>1.3</td>\n",
       "      <td>0.2</td>\n",
       "    </tr>\n",
       "    <tr>\n",
       "      <th>3</th>\n",
       "      <td>4.6</td>\n",
       "      <td>3.1</td>\n",
       "      <td>1.5</td>\n",
       "      <td>0.2</td>\n",
       "    </tr>\n",
       "    <tr>\n",
       "      <th>4</th>\n",
       "      <td>5.0</td>\n",
       "      <td>3.6</td>\n",
       "      <td>1.4</td>\n",
       "      <td>0.2</td>\n",
       "    </tr>\n",
       "    <tr>\n",
       "      <th>...</th>\n",
       "      <td>...</td>\n",
       "      <td>...</td>\n",
       "      <td>...</td>\n",
       "      <td>...</td>\n",
       "    </tr>\n",
       "    <tr>\n",
       "      <th>145</th>\n",
       "      <td>6.7</td>\n",
       "      <td>3.0</td>\n",
       "      <td>5.2</td>\n",
       "      <td>2.3</td>\n",
       "    </tr>\n",
       "    <tr>\n",
       "      <th>146</th>\n",
       "      <td>6.3</td>\n",
       "      <td>2.5</td>\n",
       "      <td>5.0</td>\n",
       "      <td>1.9</td>\n",
       "    </tr>\n",
       "    <tr>\n",
       "      <th>147</th>\n",
       "      <td>6.5</td>\n",
       "      <td>3.0</td>\n",
       "      <td>5.2</td>\n",
       "      <td>2.0</td>\n",
       "    </tr>\n",
       "    <tr>\n",
       "      <th>148</th>\n",
       "      <td>6.2</td>\n",
       "      <td>3.4</td>\n",
       "      <td>5.4</td>\n",
       "      <td>2.3</td>\n",
       "    </tr>\n",
       "    <tr>\n",
       "      <th>149</th>\n",
       "      <td>5.9</td>\n",
       "      <td>3.0</td>\n",
       "      <td>5.1</td>\n",
       "      <td>1.8</td>\n",
       "    </tr>\n",
       "  </tbody>\n",
       "</table>\n",
       "<p>150 rows × 4 columns</p>\n",
       "</div>"
      ],
      "text/plain": [
       "     sepal length (cm)  sepal width (cm)  petal length (cm)  petal width (cm)\n",
       "0                  5.1               3.5                1.4               0.2\n",
       "1                  4.9               3.0                1.4               0.2\n",
       "2                  4.7               3.2                1.3               0.2\n",
       "3                  4.6               3.1                1.5               0.2\n",
       "4                  5.0               3.6                1.4               0.2\n",
       "..                 ...               ...                ...               ...\n",
       "145                6.7               3.0                5.2               2.3\n",
       "146                6.3               2.5                5.0               1.9\n",
       "147                6.5               3.0                5.2               2.0\n",
       "148                6.2               3.4                5.4               2.3\n",
       "149                5.9               3.0                5.1               1.8\n",
       "\n",
       "[150 rows x 4 columns]"
      ]
     },
     "execution_count": 19,
     "metadata": {},
     "output_type": "execute_result"
    }
   ],
   "source": [
    "from sklearn import datasets, linear_model\n",
    "\n",
    "# Data import\n",
    "\n",
    "from sklearn.datasets import load_iris\n",
    "iris = datasets.load_iris()\n",
    "\n",
    "df = pd.DataFrame(data=iris.data, columns=iris.feature_names)\n",
    "\n",
    "df"
   ]
  },
  {
   "cell_type": "code",
   "execution_count": 20,
   "id": "6873cb3a",
   "metadata": {},
   "outputs": [
    {
     "data": {
      "text/html": [
       "<div>\n",
       "<style scoped>\n",
       "    .dataframe tbody tr th:only-of-type {\n",
       "        vertical-align: middle;\n",
       "    }\n",
       "\n",
       "    .dataframe tbody tr th {\n",
       "        vertical-align: top;\n",
       "    }\n",
       "\n",
       "    .dataframe thead th {\n",
       "        text-align: right;\n",
       "    }\n",
       "</style>\n",
       "<table border=\"1\" class=\"dataframe\">\n",
       "  <thead>\n",
       "    <tr style=\"text-align: right;\">\n",
       "      <th></th>\n",
       "      <th>sepal length (cm)</th>\n",
       "      <th>sepal width (cm)</th>\n",
       "      <th>petal length (cm)</th>\n",
       "      <th>petal width (cm)</th>\n",
       "    </tr>\n",
       "  </thead>\n",
       "  <tbody>\n",
       "    <tr>\n",
       "      <th>0</th>\n",
       "      <td>-0.900681</td>\n",
       "      <td>1.019004</td>\n",
       "      <td>-1.340227</td>\n",
       "      <td>-1.315444</td>\n",
       "    </tr>\n",
       "    <tr>\n",
       "      <th>1</th>\n",
       "      <td>-1.143017</td>\n",
       "      <td>-0.131979</td>\n",
       "      <td>-1.340227</td>\n",
       "      <td>-1.315444</td>\n",
       "    </tr>\n",
       "    <tr>\n",
       "      <th>2</th>\n",
       "      <td>-1.385353</td>\n",
       "      <td>0.328414</td>\n",
       "      <td>-1.397064</td>\n",
       "      <td>-1.315444</td>\n",
       "    </tr>\n",
       "    <tr>\n",
       "      <th>3</th>\n",
       "      <td>-1.506521</td>\n",
       "      <td>0.098217</td>\n",
       "      <td>-1.283389</td>\n",
       "      <td>-1.315444</td>\n",
       "    </tr>\n",
       "    <tr>\n",
       "      <th>4</th>\n",
       "      <td>-1.021849</td>\n",
       "      <td>1.249201</td>\n",
       "      <td>-1.340227</td>\n",
       "      <td>-1.315444</td>\n",
       "    </tr>\n",
       "    <tr>\n",
       "      <th>...</th>\n",
       "      <td>...</td>\n",
       "      <td>...</td>\n",
       "      <td>...</td>\n",
       "      <td>...</td>\n",
       "    </tr>\n",
       "    <tr>\n",
       "      <th>145</th>\n",
       "      <td>1.038005</td>\n",
       "      <td>-0.131979</td>\n",
       "      <td>0.819596</td>\n",
       "      <td>1.448832</td>\n",
       "    </tr>\n",
       "    <tr>\n",
       "      <th>146</th>\n",
       "      <td>0.553333</td>\n",
       "      <td>-1.282963</td>\n",
       "      <td>0.705921</td>\n",
       "      <td>0.922303</td>\n",
       "    </tr>\n",
       "    <tr>\n",
       "      <th>147</th>\n",
       "      <td>0.795669</td>\n",
       "      <td>-0.131979</td>\n",
       "      <td>0.819596</td>\n",
       "      <td>1.053935</td>\n",
       "    </tr>\n",
       "    <tr>\n",
       "      <th>148</th>\n",
       "      <td>0.432165</td>\n",
       "      <td>0.788808</td>\n",
       "      <td>0.933271</td>\n",
       "      <td>1.448832</td>\n",
       "    </tr>\n",
       "    <tr>\n",
       "      <th>149</th>\n",
       "      <td>0.068662</td>\n",
       "      <td>-0.131979</td>\n",
       "      <td>0.762758</td>\n",
       "      <td>0.790671</td>\n",
       "    </tr>\n",
       "  </tbody>\n",
       "</table>\n",
       "<p>150 rows × 4 columns</p>\n",
       "</div>"
      ],
      "text/plain": [
       "     sepal length (cm)  sepal width (cm)  petal length (cm)  petal width (cm)\n",
       "0            -0.900681          1.019004          -1.340227         -1.315444\n",
       "1            -1.143017         -0.131979          -1.340227         -1.315444\n",
       "2            -1.385353          0.328414          -1.397064         -1.315444\n",
       "3            -1.506521          0.098217          -1.283389         -1.315444\n",
       "4            -1.021849          1.249201          -1.340227         -1.315444\n",
       "..                 ...               ...                ...               ...\n",
       "145           1.038005         -0.131979           0.819596          1.448832\n",
       "146           0.553333         -1.282963           0.705921          0.922303\n",
       "147           0.795669         -0.131979           0.819596          1.053935\n",
       "148           0.432165          0.788808           0.933271          1.448832\n",
       "149           0.068662         -0.131979           0.762758          0.790671\n",
       "\n",
       "[150 rows x 4 columns]"
      ]
     },
     "execution_count": 20,
     "metadata": {},
     "output_type": "execute_result"
    }
   ],
   "source": [
    "# Normalization\n",
    "\n",
    "from sklearn.preprocessing import StandardScaler\n",
    "\n",
    "scaler = StandardScaler()\n",
    "normalized_data = scaler.fit_transform(df)\n",
    "\n",
    "df_normalized = pd.DataFrame(data=normalized_data, columns=iris.feature_names)\n",
    "df_normalized"
   ]
  },
  {
   "cell_type": "code",
   "execution_count": 21,
   "id": "1b9c5e01",
   "metadata": {},
   "outputs": [
    {
     "data": {
      "text/plain": [
       "((105, 4), (45, 4), (105,), (45,))"
      ]
     },
     "execution_count": 21,
     "metadata": {},
     "output_type": "execute_result"
    }
   ],
   "source": [
    "# Split into train and test sets (70-30%)\n",
    "\n",
    "from sklearn.model_selection import train_test_split\n",
    "\n",
    "X_train, X_test, Y_train, Y_test = train_test_split(df_normalized, iris.target, test_size=0.3, random_state=42)\n",
    "X_train.shape, X_test.shape, Y_train.shape,Y_test.shape"
   ]
  },
  {
   "cell_type": "code",
   "execution_count": 22,
   "id": "bb017d9f",
   "metadata": {},
   "outputs": [],
   "source": [
    "# Creating an object \n",
    "\n",
    "regr = linear_model.LinearRegression()"
   ]
  },
  {
   "cell_type": "code",
   "execution_count": 23,
   "id": "3924913c",
   "metadata": {},
   "outputs": [
    {
     "data": {
      "text/html": [
       "<style>#sk-container-id-1 {color: black;background-color: white;}#sk-container-id-1 pre{padding: 0;}#sk-container-id-1 div.sk-toggleable {background-color: white;}#sk-container-id-1 label.sk-toggleable__label {cursor: pointer;display: block;width: 100%;margin-bottom: 0;padding: 0.3em;box-sizing: border-box;text-align: center;}#sk-container-id-1 label.sk-toggleable__label-arrow:before {content: \"▸\";float: left;margin-right: 0.25em;color: #696969;}#sk-container-id-1 label.sk-toggleable__label-arrow:hover:before {color: black;}#sk-container-id-1 div.sk-estimator:hover label.sk-toggleable__label-arrow:before {color: black;}#sk-container-id-1 div.sk-toggleable__content {max-height: 0;max-width: 0;overflow: hidden;text-align: left;background-color: #f0f8ff;}#sk-container-id-1 div.sk-toggleable__content pre {margin: 0.2em;color: black;border-radius: 0.25em;background-color: #f0f8ff;}#sk-container-id-1 input.sk-toggleable__control:checked~div.sk-toggleable__content {max-height: 200px;max-width: 100%;overflow: auto;}#sk-container-id-1 input.sk-toggleable__control:checked~label.sk-toggleable__label-arrow:before {content: \"▾\";}#sk-container-id-1 div.sk-estimator input.sk-toggleable__control:checked~label.sk-toggleable__label {background-color: #d4ebff;}#sk-container-id-1 div.sk-label input.sk-toggleable__control:checked~label.sk-toggleable__label {background-color: #d4ebff;}#sk-container-id-1 input.sk-hidden--visually {border: 0;clip: rect(1px 1px 1px 1px);clip: rect(1px, 1px, 1px, 1px);height: 1px;margin: -1px;overflow: hidden;padding: 0;position: absolute;width: 1px;}#sk-container-id-1 div.sk-estimator {font-family: monospace;background-color: #f0f8ff;border: 1px dotted black;border-radius: 0.25em;box-sizing: border-box;margin-bottom: 0.5em;}#sk-container-id-1 div.sk-estimator:hover {background-color: #d4ebff;}#sk-container-id-1 div.sk-parallel-item::after {content: \"\";width: 100%;border-bottom: 1px solid gray;flex-grow: 1;}#sk-container-id-1 div.sk-label:hover label.sk-toggleable__label {background-color: #d4ebff;}#sk-container-id-1 div.sk-serial::before {content: \"\";position: absolute;border-left: 1px solid gray;box-sizing: border-box;top: 0;bottom: 0;left: 50%;z-index: 0;}#sk-container-id-1 div.sk-serial {display: flex;flex-direction: column;align-items: center;background-color: white;padding-right: 0.2em;padding-left: 0.2em;position: relative;}#sk-container-id-1 div.sk-item {position: relative;z-index: 1;}#sk-container-id-1 div.sk-parallel {display: flex;align-items: stretch;justify-content: center;background-color: white;position: relative;}#sk-container-id-1 div.sk-item::before, #sk-container-id-1 div.sk-parallel-item::before {content: \"\";position: absolute;border-left: 1px solid gray;box-sizing: border-box;top: 0;bottom: 0;left: 50%;z-index: -1;}#sk-container-id-1 div.sk-parallel-item {display: flex;flex-direction: column;z-index: 1;position: relative;background-color: white;}#sk-container-id-1 div.sk-parallel-item:first-child::after {align-self: flex-end;width: 50%;}#sk-container-id-1 div.sk-parallel-item:last-child::after {align-self: flex-start;width: 50%;}#sk-container-id-1 div.sk-parallel-item:only-child::after {width: 0;}#sk-container-id-1 div.sk-dashed-wrapped {border: 1px dashed gray;margin: 0 0.4em 0.5em 0.4em;box-sizing: border-box;padding-bottom: 0.4em;background-color: white;}#sk-container-id-1 div.sk-label label {font-family: monospace;font-weight: bold;display: inline-block;line-height: 1.2em;}#sk-container-id-1 div.sk-label-container {text-align: center;}#sk-container-id-1 div.sk-container {/* jupyter's `normalize.less` sets `[hidden] { display: none; }` but bootstrap.min.css set `[hidden] { display: none !important; }` so we also need the `!important` here to be able to override the default hidden behavior on the sphinx rendered scikit-learn.org. See: https://github.com/scikit-learn/scikit-learn/issues/21755 */display: inline-block !important;position: relative;}#sk-container-id-1 div.sk-text-repr-fallback {display: none;}</style><div id=\"sk-container-id-1\" class=\"sk-top-container\"><div class=\"sk-text-repr-fallback\"><pre>LinearRegression()</pre><b>In a Jupyter environment, please rerun this cell to show the HTML representation or trust the notebook. <br />On GitHub, the HTML representation is unable to render, please try loading this page with nbviewer.org.</b></div><div class=\"sk-container\" hidden><div class=\"sk-item\"><div class=\"sk-estimator sk-toggleable\"><input class=\"sk-toggleable__control sk-hidden--visually\" id=\"sk-estimator-id-1\" type=\"checkbox\" checked><label for=\"sk-estimator-id-1\" class=\"sk-toggleable__label sk-toggleable__label-arrow\">LinearRegression</label><div class=\"sk-toggleable__content\"><pre>LinearRegression()</pre></div></div></div></div></div>"
      ],
      "text/plain": [
       "LinearRegression()"
      ]
     },
     "execution_count": 23,
     "metadata": {},
     "output_type": "execute_result"
    }
   ],
   "source": [
    "# Learning model on training data\n",
    "\n",
    "regr.fit(X_train, Y_train)"
   ]
  },
  {
   "cell_type": "code",
   "execution_count": 24,
   "id": "86f7a905",
   "metadata": {},
   "outputs": [],
   "source": [
    "# Predicting values using test data\n",
    "\n",
    "Y_predicted = regr.predict(X_test)"
   ]
  },
  {
   "cell_type": "code",
   "execution_count": 25,
   "id": "b70b9ccd",
   "metadata": {},
   "outputs": [
    {
     "name": "stdout",
     "output_type": "stream",
     "text": [
      "Coefficients: \n",
      " [-0.08874883 -0.025391    0.46581225  0.40210087]\n"
     ]
    }
   ],
   "source": [
    "# Regression coefficients (theta)\n",
    "print('Coefficients: \\n', regr.coef_)"
   ]
  },
  {
   "cell_type": "code",
   "execution_count": 26,
   "id": "377e2b2c",
   "metadata": {},
   "outputs": [
    {
     "name": "stdout",
     "output_type": "stream",
     "text": [
      "Residual sum of squares: 0.03866591237825786\n"
     ]
    }
   ],
   "source": [
    "#  Residual sum of squares error\n",
    "error = np.mean((regr.predict(X_test) - Y_test) ** 2)\n",
    "print(\"Residual sum of squares: {}\".format(error))"
   ]
  }
 ],
 "metadata": {
  "kernelspec": {
   "display_name": "Python 3 (ipykernel)",
   "language": "python",
   "name": "python3"
  },
  "language_info": {
   "codemirror_mode": {
    "name": "ipython",
    "version": 3
   },
   "file_extension": ".py",
   "mimetype": "text/x-python",
   "name": "python",
   "nbconvert_exporter": "python",
   "pygments_lexer": "ipython3",
   "version": "3.9.15"
  }
 },
 "nbformat": 4,
 "nbformat_minor": 5
}
