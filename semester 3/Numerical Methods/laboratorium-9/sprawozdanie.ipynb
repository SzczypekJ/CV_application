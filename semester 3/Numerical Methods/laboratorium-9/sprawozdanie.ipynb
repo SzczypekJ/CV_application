{
 "cells": [
  {
   "cell_type": "markdown",
   "metadata": {},
   "source": [
    "# <center>Laboratorium 9<br>Metody Numeryczne</center>"
   ]
  },
  {
   "cell_type": "markdown",
   "metadata": {},
   "source": [
    "Instrukcja:  \n",
    "Na zajęciach należy wykonać poniższe zadania, a następnie sporządzić sprawozdanie zawierające odpowiedzi (w postaci kodu) z komentarzami w środowisku Jupyter Notebook i umieścić je na platformie e-learningowej."
   ]
  },
  {
   "cell_type": "markdown",
   "metadata": {},
   "source": [
    "***Materiały przygotowujące:***\n"
   ]
  },
  {
   "cell_type": "code",
   "execution_count": 12,
   "metadata": {},
   "outputs": [],
   "source": [
    "import main\n",
    "import numpy as np\n",
    "import scipy\n",
    "import matplotlib\n",
    "import matplotlib.pyplot as plt\n",
    "import math\n",
    "from scipy import optimize\n",
    "from scipy.optimize import fsolve"
   ]
  },
  {
   "cell_type": "markdown",
   "metadata": {},
   "source": [
    "***Temat główny:***\n",
    "\n",
    "Znajdź miejsca zerowe funkcji: \n",
    "$$ \n",
    "f(x) = e^{-2x} + x^2 - 1 \n",
    "$$,\n",
    "\n",
    "metodami:\n",
    "* Bisekcji,\n",
    "* Siecznych,\n",
    "* Newtona\n",
    "\n",
    "Funkcja i jej pochodne zostały zaimplementowane w *main.py*"
   ]
  },
  {
   "cell_type": "markdown",
   "metadata": {},
   "source": [
    "***Zadanie 1.***  \n",
    "Wykonaj wykres funckji oraz jej pierwszej i drugiej pochodnej (obliczonej analitycznie) na jednym rysunku w przedziale pozwalającym na zgrubne określenie miejsc zerowych. Wykres powinien być odpowiednio opisany. Określ przedział miejsca zerowego."
   ]
  },
  {
   "cell_type": "code",
   "execution_count": 13,
   "metadata": {},
   "outputs": [
    {
     "data": {
      "image/png": "[encoded data removed]",
      "text/plain": [
       "<Figure size 432x288 with 1 Axes>"
      ]
     },
     "metadata": {
      "needs_background": "light"
     },
     "output_type": "display_data"
    }
   ],
   "source": [
    "x = np.linspace(-1, 2, 1000)\n",
    "x_axis = np.zeros(x.shape)\n",
    "y = main.fun(x)\n",
    "dy = main.dfun(x)\n",
    "ddy = main.ddfun(x)\n",
    "plt.plot(x, y)\n",
    "plt.plot(x,dy)\n",
    "plt.plot(x,ddy)\n",
    "\n",
    "plt.plot(x, x_axis, \"--\", color=\"k\")\n",
    "plt.ylim([-3, 7])\n",
    "plt.xlabel(\"x\")\n",
    "plt.ylabel('f(x)')\n",
    "plt.title(\"f(x)\")\n",
    "plt.legend((\"f(x)\", \"f \\'(x)\", \"f \\'\\'(x)\", \"Oś OX\"))\n",
    "\n",
    "plt.grid()\n",
    "plt.show()\n"
   ]
  },
  {
   "cell_type": "markdown",
   "metadata": {},
   "source": [
    "***Zadanie 2.***  \n",
    "Zaimplementuj [metodę bisekcji](https://en.wikipedia.org/wiki/Bisection_method)\n",
    "\n",
    "Gwarancja zbieżności:\n",
    "\n",
    "1) funkcja jest ciągła na danym przedziale [a,b]\n",
    "\n",
    "2) funkcja na końcach przedziału przyjmuje przeciwne znaki"
   ]
  },
  {
   "cell_type": "markdown",
   "metadata": {},
   "source": [
    "***Zadanie 3.***  \n",
    "Zaimplementuj [metodę siecznych](https://en.wikipedia.org/wiki/Secant_method)\n",
    "\n",
    "Gwarancja zbieżności:\n",
    "\n",
    "1) funkcja jest ciągła na danym przedziale [a,b]\n",
    "\n",
    "2) Pierwsza i druga pochodna istnieją i są ciągłe w przedziale domkniętym [a,b]\n",
    "\n",
    "3) funkcja na końcach przedziału przyjmuje przeciwne znaki\n",
    "\n",
    "4) pierwsza i druga pochodna mają stały znak (brak eksremów lokalnych i punktów przegięcia)\n"
   ]
  },
  {
   "cell_type": "markdown",
   "metadata": {},
   "source": [
    "***Zadanie 4.***  \n",
    "Zaimplementuj [metodę Newtona](https://en.wikipedia.org/wiki/Newton%27s_method)\n",
    "\n",
    "Gwarancja zbieżności:\n",
    "\n",
    "1) funkcja jest ciągła na danym przedziale [a,b]\n",
    "\n",
    "2) Pierwsza i druga pochodna istnieją i są ciągłe w przedziale domkniętym [a,b]\n",
    "\n",
    "3) funkcja na końcach przedziału przyjmuje przeciwne znaki\n",
    "\n",
    "4) pierwsza i druga pochodna mają stały znak (brak eksremów lokalnych i punktów przegięcia)\n"
   ]
  },
  {
   "cell_type": "markdown",
   "metadata": {},
   "source": [
    "***Zadania 5.***  \n",
    "Dla głównej funkcji z zadania 1 znajdź miejsca zerowe przy użyciu:\n",
    "\n",
    "* funkcji root dostępnej w pakiecie scipy.optimize\n",
    "* funkcji fsolve dostępnej w pakiecie scipy.optimize\n"
   ]
  },
  {
   "cell_type": "markdown",
   "metadata": {},
   "source": [
    "1. Funkcja root"
   ]
  },
  {
   "cell_type": "code",
   "execution_count": 14,
   "metadata": {},
   "outputs": [
    {
     "name": "stdout",
     "output_type": "stream",
     "text": [
      "Funkcja root:\n",
      "Pierwiastki: [0.         0.91656258]\n"
     ]
    }
   ],
   "source": [
    "sol1 = optimize.root(main.fun, [0, 1])\n",
    "print(\"Funkcja root:\")\n",
    "print(f\"Pierwiastki: {sol1.x}\")"
   ]
  },
  {
   "cell_type": "markdown",
   "metadata": {},
   "source": [
    "2. Funkcja fsolve"
   ]
  },
  {
   "cell_type": "code",
   "execution_count": 15,
   "metadata": {},
   "outputs": [
    {
     "name": "stdout",
     "output_type": "stream",
     "text": [
      "Funkcja fsolve:\n",
      "Pierwiastki: [0.         0.91656258]\n"
     ]
    }
   ],
   "source": [
    "sol2 = fsolve(main.fun, [0, 1])\n",
    "print(\"Funkcja fsolve:\")\n",
    "print(f\"Pierwiastki: {sol2}\")"
   ]
  },
  {
   "cell_type": "markdown",
   "metadata": {},
   "source": [
    "***Zadanie 6.***  \n",
    "Dla głównej funkcji oraz przedziału zdefiniowanego z zadania 1 znajdź miejsca zerowe przy użyciu:\n",
    "\n",
    "* metody bisekcji\n",
    "* metody siecznych\n",
    "* metody Newtona\n",
    "\n",
    "z tolerancją $10^{-10}$\n",
    "\n",
    "Zbadaj dokładność(względem rozwiązania z zadania 5) i czas obliczeń metod w zależności od liczby iteracji. Wyniki przedstaw na wykresach. "
   ]
  },
  {
   "cell_type": "code",
   "execution_count": 16,
   "metadata": {},
   "outputs": [
    {
     "name": "stdout",
     "output_type": "stream",
     "text": [
      "None\n",
      "None\n",
      "None\n"
     ]
    }
   ],
   "source": [
    "print(main.bisection(-0.25, 1, main.fun, 1e-10, 100))\n",
    "print(main.secant(-0.25, 1, main.fun, 1e-10, 100))\n",
    "print(main.newton(-0.25, 1, main.fun, main.dfun, main.ddfun, 1e-10, 100))"
   ]
  },
  {
   "cell_type": "markdown",
   "metadata": {},
   "source": [
    "Dla metod: bisekcji i siecznych nie jest spełniony warunek o różnych znakach funkcji na krańcu przedziału, a dla metody Newtona nie jest spełniony warunek o stałych znakach pierwszej i dugiej pochodnej. Funckje zwracają None. Aby rozwiązać te problemy dzielimy przedziały na mniejsze."
   ]
  },
  {
   "cell_type": "markdown",
   "metadata": {},
   "source": []
  },
  {
   "cell_type": "markdown",
   "metadata": {},
   "source": [
    "Metoda Bisekcji"
   ]
  },
  {
   "cell_type": "code",
   "execution_count": 7,
   "metadata": {},
   "outputs": [],
   "source": [
    "sol_bis1, it_bis1 = main.bisection(-0.25, 0.5, main.fun, 1e-10, 100)\n",
    "sol_bis2, it_bis2 = main.bisection(0.5, 1, main.fun, 1e-10, 100)"
   ]
  },
  {
   "cell_type": "markdown",
   "metadata": {},
   "source": [
    "Metoda Siecznych"
   ]
  },
  {
   "cell_type": "code",
   "execution_count": 8,
   "metadata": {},
   "outputs": [],
   "source": [
    "sol_sec1, it_sec1 = main.secant(-0.25, 0.5, main.fun, 1e-10, 100)\n",
    "sol_sec2, it_sec2 = main.secant(0.5, 1, main.fun, 1e-10, 100)"
   ]
  },
  {
   "cell_type": "markdown",
   "metadata": {},
   "source": [
    "Metoda Newtona"
   ]
  },
  {
   "cell_type": "code",
   "execution_count": 9,
   "metadata": {},
   "outputs": [],
   "source": [
    "sol_new1, it_new1 = main.newton(main.fun, main.dfun, main.ddfun, -0.25, 0.2, 1e-10, 100)\n",
    "sol_new2, it_new2 = main.newton(main.fun, main.dfun, main.ddfun, 0.5, 1, 1e-10, 100)"
   ]
  },
  {
   "cell_type": "markdown",
   "metadata": {},
   "source": [
    "Badanie dokładności względem zadania 5"
   ]
  },
  {
   "cell_type": "code",
   "execution_count": 10,
   "metadata": {},
   "outputs": [
    {
     "data": {
      "image/png": "[encoded data removed]",
      "text/plain": [
       "<Figure size 432x288 with 1 Axes>"
      ]
     },
     "metadata": {
      "needs_background": "light"
     },
     "output_type": "display_data"
    },
    {
     "name": "stdout",
     "output_type": "stream",
     "text": [
      "Liczba iteracji\n",
      "Metoda bisekcji: 32, 30, metoda siecznych: 19,8, metoda Newtona: 5,4\n"
     ]
    }
   ],
   "source": [
    "err_bis_s1= np.abs(sol1.x[0]-sol_bis1)\n",
    "err_bis_s2 = np.abs(sol1.x[1]-sol_bis2)\n",
    "\n",
    "err_sec_s1 = np.abs(sol1.x[0]-sol_sec1)\n",
    "err_sec_s2 = np.abs(sol1.x[1]-sol_sec2)\n",
    "\n",
    "err_new_s1 = np.abs(sol1.x[0] - sol_new1)\n",
    "err_new_s2 = np.abs(sol1.x[1] - sol_new2)\n",
    "#tworzenie wykresu słupokowego\n",
    "height1 = [err_bis_s1, err_sec_s1, err_new_s1]\n",
    "height2 =  [err_bis_s2, err_sec_s2, err_new_s2]\n",
    "bars = ('Metoda bisekcji', 'Metoda siecznych', 'Metoda Newtona')\n",
    "width = 0.4\n",
    "index = np.arange(len(bars))\n",
    "plt.bar( index - width/2, height1, width, label='r1 = 0')\n",
    "plt.bar( index + width/2, height2, width, label='r2 = 0.91')\n",
    "plt.yscale(\"log\")\n",
    "plt.title('Błąd rozwiązania względem funkcji root()')\n",
    "plt.xticks(index, bars)\n",
    "plt.legend()\n",
    "\n",
    "plt.show()\n",
    "\n",
    "print(\"Liczba iteracji\")\n",
    "print(f\"Metoda bisekcji: {it_bis1}, {it_bis2}, metoda siecznych: {it_sec1},{it_sec2}, metoda Newtona: {it_new1},{it_new2}\")"
   ]
  },
  {
   "cell_type": "markdown",
   "metadata": {},
   "source": [
    "1. Metoda Newtona osiąga najmniejszą wartość błędu, który wynosi około 1e-16, oraz wykonuje najmniejszą liczbę iteracji - zatem wypada zdecydowanie najlepiej na tle pozostałych.\n",
    "2. Metoda Bisekcji i Metoda Siecznych mają podobny błąd na poziomie 1e-10.  może wynikać z ich powolnej zbieżności.\n",
    "3. Wadą bisekcji jest to, że ilość wykonań pętli zależy od tego, w którym miejscu przedziału znajduje się pierwiastek - co może tłumaczyć najgorszy wynik."
   ]
  },
  {
   "cell_type": "markdown",
   "metadata": {},
   "source": [
    "Analizy czasowe"
   ]
  },
  {
   "cell_type": "code",
   "execution_count": 17,
   "metadata": {},
   "outputs": [
    {
     "name": "stdout",
     "output_type": "stream",
     "text": [
      "572 ns ± 109 ns per loop (mean ± std. dev. of 100 runs, 100 loops each)\n",
      "The slowest run took 5.47 times longer than the fastest. This could mean that an intermediate result is being cached.\n",
      "672 ns ± 277 ns per loop (mean ± std. dev. of 100 runs, 100 loops each)\n",
      "562 ns ± 94.6 ns per loop (mean ± std. dev. of 100 runs, 100 loops each)\n",
      "660 ns ± 98.1 ns per loop (mean ± std. dev. of 100 runs, 100 loops each)\n",
      "690 ns ± 140 ns per loop (mean ± std. dev. of 100 runs, 100 loops each)\n",
      "The slowest run took 4.96 times longer than the fastest. This could mean that an intermediate result is being cached.\n",
      "781 ns ± 327 ns per loop (mean ± std. dev. of 100 runs, 100 loops each)\n",
      "587 ns ± 78.7 ns per loop (mean ± std. dev. of 100 runs, 100 loops each)\n",
      "564 ns ± 83.1 ns per loop (mean ± std. dev. of 100 runs, 100 loops each)\n",
      "563 ns ± 116 ns per loop (mean ± std. dev. of 100 runs, 100 loops each)\n",
      "573 ns ± 105 ns per loop (mean ± std. dev. of 100 runs, 100 loops each)\n"
     ]
    },
    {
     "data": {
      "image/png": "[encoded data removed]",
      "text/plain": [
       "<Figure size 432x288 with 1 Axes>"
      ]
     },
     "metadata": {
      "needs_background": "light"
     },
     "output_type": "display_data"
    }
   ],
   "source": [
    "err = []\n",
    "time = []\n",
    "x = np.arange(1, 40, 4)\n",
    "for i in x:\n",
    "    avg_time = %timeit -r 100 -n 100 -o main.bisection(-0.25, 0.5, main.fun, 1e-10, iteration=i)\n",
    "    time.append(avg_time.average)\n",
    "    err.append(avg_time.stdev)\n",
    "    \n",
    "plt.errorbar(x, time, yerr=err, marker=\"o\", linestyle='None')\n",
    "plt.ylabel(\"Czas [s]\")\n",
    "plt.xlabel(\"Liczba iteracji\")\n",
    "plt.title(\"Czas wykonywania metody bisekcji w zależności od liczby iteracji\")\n",
    "plt.grid()\n",
    "plt.show()"
   ]
  },
  {
   "cell_type": "code",
   "execution_count": 19,
   "metadata": {},
   "outputs": [
    {
     "name": "stdout",
     "output_type": "stream",
     "text": [
      "The slowest run took 5.50 times longer than the fastest. This could mean that an intermediate result is being cached.\n",
      "696 ns ± 301 ns per loop (mean ± std. dev. of 100 runs, 100 loops each)\n",
      "594 ns ± 88.9 ns per loop (mean ± std. dev. of 100 runs, 100 loops each)\n",
      "The slowest run took 5.11 times longer than the fastest. This could mean that an intermediate result is being cached.\n",
      "970 ns ± 385 ns per loop (mean ± std. dev. of 100 runs, 100 loops each)\n",
      "The slowest run took 4.02 times longer than the fastest. This could mean that an intermediate result is being cached.\n",
      "685 ns ± 272 ns per loop (mean ± std. dev. of 100 runs, 100 loops each)\n",
      "The slowest run took 9.05 times longer than the fastest. This could mean that an intermediate result is being cached.\n",
      "662 ns ± 472 ns per loop (mean ± std. dev. of 100 runs, 100 loops each)\n",
      "The slowest run took 7.58 times longer than the fastest. This could mean that an intermediate result is being cached.\n",
      "834 ns ± 436 ns per loop (mean ± std. dev. of 100 runs, 100 loops each)\n",
      "The slowest run took 6.27 times longer than the fastest. This could mean that an intermediate result is being cached.\n",
      "665 ns ± 434 ns per loop (mean ± std. dev. of 100 runs, 100 loops each)\n",
      "836 ns ± 302 ns per loop (mean ± std. dev. of 100 runs, 100 loops each)\n",
      "825 ns ± 260 ns per loop (mean ± std. dev. of 100 runs, 100 loops each)\n",
      "The slowest run took 7.31 times longer than the fastest. This could mean that an intermediate result is being cached.\n",
      "736 ns ± 406 ns per loop (mean ± std. dev. of 100 runs, 100 loops each)\n"
     ]
    },
    {
     "data": {
      "image/png": "[encoded data removed]",
      "text/plain": [
       "<Figure size 432x288 with 1 Axes>"
      ]
     },
     "metadata": {
      "needs_background": "light"
     },
     "output_type": "display_data"
    }
   ],
   "source": [
    "err = []\n",
    "time = []\n",
    "x = np.arange(1, 40, 4)\n",
    "for i in x:\n",
    "    avg_time = %timeit -r 100 -n 100 -o main.secant(-0.25, 0.5, main.fun, 1e-10, iteration=i)\n",
    "    time.append(avg_time.average)\n",
    "    err.append(avg_time.stdev)\n",
    "    \n",
    "plt.errorbar(x, time, yerr=err, marker=\"o\", linestyle='None')\n",
    "plt.ylabel(\"Czas \")\n",
    "plt.xlabel(\"Liczba iteracji\")\n",
    "plt.title(\"Czas wykonywania metody siecznych w zależności od liczby iteracji\")\n",
    "plt.grid()\n",
    "plt.show()"
   ]
  },
  {
   "cell_type": "code",
   "execution_count": 20,
   "metadata": {},
   "outputs": [
    {
     "name": "stdout",
     "output_type": "stream",
     "text": [
      "723 ns ± 170 ns per loop (mean ± std. dev. of 100 runs, 100 loops each)\n",
      "859 ns ± 172 ns per loop (mean ± std. dev. of 100 runs, 100 loops each)\n",
      "765 ns ± 53.5 ns per loop (mean ± std. dev. of 100 runs, 100 loops each)\n",
      "925 ns ± 209 ns per loop (mean ± std. dev. of 100 runs, 100 loops each)\n",
      "The slowest run took 6.02 times longer than the fastest. This could mean that an intermediate result is being cached.\n",
      "878 ns ± 398 ns per loop (mean ± std. dev. of 100 runs, 100 loops each)\n",
      "727 ns ± 116 ns per loop (mean ± std. dev. of 100 runs, 100 loops each)\n",
      "The slowest run took 4.16 times longer than the fastest. This could mean that an intermediate result is being cached.\n",
      "864 ns ± 349 ns per loop (mean ± std. dev. of 100 runs, 100 loops each)\n",
      "The slowest run took 11.19 times longer than the fastest. This could mean that an intermediate result is being cached.\n",
      "880 ns ± 655 ns per loop (mean ± std. dev. of 100 runs, 100 loops each)\n",
      "647 ns ± 111 ns per loop (mean ± std. dev. of 100 runs, 100 loops each)\n"
     ]
    },
    {
     "data": {
      "image/png": "[encoded data removed]",
      "text/plain": [
       "<Figure size 432x288 with 1 Axes>"
      ]
     },
     "metadata": {
      "needs_background": "light"
     },
     "output_type": "display_data"
    }
   ],
   "source": [
    "err = []\n",
    "time = []\n",
    "x = np.arange(1, 10, 1)\n",
    "for i in x:\n",
    "    avg_time = %timeit -r 100 -n 100 -o main.newton(main.fun, main.dfun, main.ddfun, -0.25, 0.2, 1e-10, iteration=i)\n",
    "    time.append(avg_time.average)\n",
    "    err.append(avg_time.stdev)\n",
    "    \n",
    "plt.errorbar(x, time, yerr=err, marker=\"o\", linestyle='None')\n",
    "plt.ylabel(\"Czas\")\n",
    "plt.xlabel(\"Liczba iteracji\")\n",
    "plt.title(\"Czas wykonywania metody Newtona w zależności od liczby iteracji\")\n",
    "plt.grid()\n",
    "plt.show()"
   ]
  },
  {
   "cell_type": "markdown",
   "metadata": {},
   "source": [
    "Wszystkie 3 metody wykonują się w podobnym czasie choć można powiedzieć, że najszybsza jest Metoda Biskecji, potem jest Metoda Siecznych, a Najwolniej wykonuje się metoda Newtona. Jendakże różnice te są bardzo nie wielkie i wszystkie metody wykonują się zazwyczaj w czasie kilkuset nanosekund."
   ]
  }
 ],
 "metadata": {
  "kernelspec": {
   "display_name": "Python 3",
   "language": "python",
   "name": "python3"
  },
  "language_info": {
   "codemirror_mode": {
    "name": "ipython",
    "version": 3
   },
   "file_extension": ".py",
   "mimetype": "text/x-python",
   "name": "python",
   "nbconvert_exporter": "python",
   "pygments_lexer": "ipython3",
   "version": "3.8.8"
  }
 },
 "nbformat": 4,
 "nbformat_minor": 2
}
