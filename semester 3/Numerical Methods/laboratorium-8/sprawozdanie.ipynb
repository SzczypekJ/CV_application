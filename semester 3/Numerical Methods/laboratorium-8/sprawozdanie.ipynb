{
 "cells": [
  {
   "cell_type": "markdown",
   "metadata": {},
   "source": [
    "# <center>Rozwiązywanie układów równań</center>\n",
    "# <center>Metody iteracyjne</center>"
   ]
  },
  {
   "cell_type": "markdown",
   "metadata": {},
   "source": [
    "Instrukcja:\n",
    "Na zajęciach należy wykonać poniższe zadania, a następnie sporządzić sprawozdanie zawierające odpowiedzi (w postaci kodu) z komentarzami w środowisku Jupyter Notebook i umieścić je na platformie e-learningowej.   "
   ]
  },
  {
   "cell_type": "code",
   "execution_count": 22,
   "metadata": {},
   "outputs": [],
   "source": [
    "import main\n",
    "import scipy as sp\n",
    "import numpy as np\n",
    "import scipy.sparse.linalg as sp_linalg\n",
    "import numpy.linalg as np_linalg\n",
    "import matplotlib\n",
    "import matplotlib.pyplot as plt"
   ]
  },
  {
   "cell_type": "markdown",
   "metadata": {},
   "source": [
    "**Cel zajęć:**  \n",
    "Celem zajęć jest zapoznanie się z iteracyjnymi metodami rozwiązywania układów równań liniowych w postaci macierzowej. Metody iteracyjne, w przeciwieństwie do analitycznych, nie zwracają dokładnego rozwiązania, a jedynie jego przybliżenie. Przy spełnionych kryteriach, przybliżenia obliczane w kolejnych iteracjach są zbieżne do dokładnego rozwiązania. Metody iteracyjne znajdują swoje zastosowanie szczególnie przy dużych układach równań postaci: \n",
    "   \n",
    "$\n",
    "\\mathbf{Ax}=\\mathbf{b}\n",
    "$ \n",
    "  \n",
    "gdzie $\\mathbf{A}$ to macierz współczynników z lewej strony równania, wektor $\\mathbf{x}$ jest wektorem zmiennych a wektor $\\mathbf{b}$ wyników prawej strony równania.  \n",
    "\n",
    "Do oceny jakości rozwiązania będziemy wykorzystywać residuum (ang. *residual*)\n",
    "$\n",
    "\\mathbf{r}=\\mathbf{b}-\\mathbf{Ax}\n",
    "$ \n",
    "  "
   ]
  },
  {
   "cell_type": "markdown",
   "metadata": {},
   "source": [
    "***Zadanie 1***   \n",
    "Zdefiniuję funkcję *diag_dominant_matrix_A_b*, przyjmującą paramter całkowity $m>0$ która zwróci:\n",
    "- macierz diagonalnie zdominowana $\\mathbf{A}$ o wymiarach $m \\times m$ (wyrazy na przekątnej sa wieksze co do modułu od sumy pozostałych w danej kolumnie i wierszu)\n",
    "- wektor $\\mathbf{b}$ o wymiarach $m \\times 1$ \n",
    " \n",
    "o losowych wartościach całkowitych\n",
    "\n",
    "Dodatkowo zdefiniuj funkcje *is_diag_dominant* sprawdzającą czy zadana macierz jest diagonalnie zdominowana"
   ]
  },
  {
   "cell_type": "markdown",
   "metadata": {},
   "source": [
    "***Zadanie 2***   \n",
    "Zdefiniuję funkcję *symmetric_matrix_A_b*, przyjmującą paramter całkowity $m>0$ która zwróci:\n",
    "- symetryczną macierz $\\mathbf{A}$ o wymiarach $m \\times m$ (wyrazy symetryczne względnej przekątnej są sobie równe)\n",
    "- wektor $\\mathbf{b}$ o wymiarach $m \\times 1$ \n",
    " \n",
    "o losowych wartościach całkowitych\n",
    "\n",
    "Dodatkowo zdefiniuj funkcje is_symmetric sprawdzającą czy zadana macierz jest symetryczna"
   ]
  },
  {
   "cell_type": "markdown",
   "metadata": {},
   "source": [
    "***Zadanie 3***   \n",
    "Zdefiniuję następujące układy równań:\n",
    "\n",
    "a) $\\mathbf{A_1}$, $\\mathbf{b_1}$: gdzie $\\mathbf{A_1}$ jest macierzą o wymiarach $m \\times m$, a $\\mathbf{b_1}$ wektorem $m \\times 1$, $m = 10$\n",
    "\n",
    "b) $\\mathbf{A_2}$, $\\mathbf{b_2}$: gdzie $\\mathbf{A_2}$ jest macierzą **diagonalnie zdominowaną** o wymiarach$m \\times m$, a $\\mathbf{b_2}$ wektorem $m \\times 1$, $m = 10$\n",
    " \n",
    "c) $\\mathbf{A_3}$, $\\mathbf{b_3}$: gdzie $\\mathbf{A_3}$ jest macierzą **symetryczną** o wymiarach $m \\times m$, a $\\mathbf{b_3}$ wektorem $m \\times 1$, $m = 10$   \n",
    " \n",
    "**Wskazówka**: Do generacji macierzy użyj metody *random_matrix_Ab* z lab6 oraz metod *diag_dominant_matrix_A_b* i *symmetric_matrix_A_b*"
   ]
  },
  {
   "cell_type": "markdown",
   "metadata": {},
   "source": [
    "Podpunkt a)"
   ]
  },
  {
   "cell_type": "code",
   "execution_count": 23,
   "metadata": {},
   "outputs": [],
   "source": [
    "m = 10\n",
    "A1 = main.random_matrix_Ab(m)[0]\n",
    "b1 = main.random_matrix_Ab(m)[1]"
   ]
  },
  {
   "cell_type": "markdown",
   "metadata": {},
   "source": [
    "Podpunkt b)"
   ]
  },
  {
   "cell_type": "code",
   "execution_count": 24,
   "metadata": {},
   "outputs": [],
   "source": [
    "A2 = main.diag_dominant_matrix_A_b(m)[0]\n",
    "b2 = main.diag_dominant_matrix_A_b(m)[1]"
   ]
  },
  {
   "cell_type": "markdown",
   "metadata": {},
   "source": [
    "Podpunkt c)"
   ]
  },
  {
   "cell_type": "code",
   "execution_count": 25,
   "metadata": {},
   "outputs": [],
   "source": [
    "A3 = main.symmetric_matrix_A_b(m)[0]\n",
    "b3 = main.symmetric_matrix_A_b(m)[1]"
   ]
  },
  {
   "cell_type": "markdown",
   "metadata": {},
   "source": [
    "***Zadanie 4***   \n",
    "Zaimplementuj iteracyjną metodę *solve_jacobi*, rozwiązującą układ równań metodą Jacobiego zgodnie z dokumentacją w pliku *main.py*.\n",
    "Szczegóły metody zostały przedstawione na wykładzie."
   ]
  },
  {
   "cell_type": "markdown",
   "metadata": {},
   "source": [
    "***Zadanie 5***   \n",
    "Rozwiąż układ równań z Zadania 3 podpunkt a) przy pomocy:\n",
    "\n",
    "- funkcji *[solve](https://docs.scipy.org/doc/numpy-1.15.1/reference/generated/numpy.linalg.solve.html?highlight=solve#numpy.linalg.solve)* z biblioteki numpy\n",
    "\n",
    "- zaimplementowanej iteracyjnej metody *solve_jacobi*\n",
    "\n",
    "- iteracyjnej metody *[gradientów sprzężonych](https://docs.scipy.org/doc/scipy/reference/generated/scipy.sparse.linalg.cg.html)*\n",
    " z biblioteki scipy\n",
    "\n",
    "- iteracyjnej metody *[GMRES](https://docs.scipy.org/doc/scipy/reference/generated/scipy.sparse.linalg.gmres.html)*\n",
    " z biblioteki scipy\n",
    "\n",
    "Przed każdą metodą sprawdź czy warunki dotyczące macierzy dla danej metody są spełnione. Zbadaj dokładność i czas obliczeń metod w zależności od liczby iteracji. Wyniki przedstaw na wykresach."
   ]
  },
  {
   "cell_type": "code",
   "execution_count": 26,
   "metadata": {},
   "outputs": [
    {
     "name": "stdout",
     "output_type": "stream",
     "text": [
      "2.761644904721361e-16\n"
     ]
    }
   ],
   "source": [
    "if A1.shape[0] == A1.shape[1]:\n",
    "    x1 = np.linalg.solve(A1, b1)\n",
    "    error = np.linalg.norm(b1 - A1 @ x1)\n",
    "    print(error)\n",
    "else:\n",
    "    print('warunki dotyczące macierzy dla danej metody nie są spełnione')"
   ]
  },
  {
   "cell_type": "code",
   "execution_count": 27,
   "metadata": {},
   "outputs": [
    {
     "name": "stdout",
     "output_type": "stream",
     "text": [
      "warunki dotyczące macierzy dla danej metody nie są spełnione\n"
     ]
    }
   ],
   "source": [
    "if main.is_diag_dominant(A1):\n",
    "    x_init = np.zeros((m, 1))\n",
    "    tab_iter = [1,5,10,20,50,100,200,500]\n",
    "    tab_error = []\n",
    "    for i in range(len(tab_iter)):\n",
    "        x, maxiter =  main.solve_jacobi(A1, b1, x_init, maxiter=tab_iter[i], epsilon=2.2e-16)\n",
    "        tab_error.append(np.linalg.norm(b1 - A1 @ x))\n",
    "    \n",
    "    plt.scatter(tab_iter, tab_error)\n",
    "    plt.yscale('log')\n",
    "    plt.xlabel(\"ilość iteracji\")\n",
    "    plt.ylabel(\"wartość normy residdum\")\n",
    "    \n",
    "    plt.show()\n",
    "else:\n",
    "     print('warunki dotyczące macierzy dla danej metody nie są spełnione')"
   ]
  },
  {
   "cell_type": "code",
   "execution_count": 28,
   "metadata": {},
   "outputs": [
    {
     "name": "stdout",
     "output_type": "stream",
     "text": [
      "warunki dotyczące macierzy dla danej metody nie są spełnione\n"
     ]
    }
   ],
   "source": [
    "if main.is_symmetric(A1) and np.all(np.linalg.eigvals(A1) > 0):\n",
    "    x_init = np.zeros((m, 1))\n",
    "    tab_iter = [1,5,10,20,50,100,200,500]\n",
    "    tab_error = []\n",
    "    for i in range(len(tab_iter)):\n",
    "        x, maxiter =  sp.sparse.linalg.cg(A1, b1, x_init,maxiter=tab_iter[i])\n",
    "        tab_error.append(np.linalg.norm(b1 - A1 @ x))\n",
    "    plt.scatter(tab_iter, tab_error)\n",
    "    plt.yscale('log')\n",
    "    plt.xlabel(\"ilość iteracji\")\n",
    "    plt.ylabel(\"wartość normy residdum\")\n",
    "    \n",
    "    plt.show()\n",
    "else:\n",
    "    print('warunki dotyczące macierzy dla danej metody nie są spełnione')"
   ]
  },
  {
   "cell_type": "code",
   "execution_count": 29,
   "metadata": {},
   "outputs": [
    {
     "name": "stdout",
     "output_type": "stream",
     "text": [
      "0\n"
     ]
    },
    {
     "data": {
      "image/png": "[encoded data removed]",
      "text/plain": [
       "<Figure size 432x288 with 1 Axes>"
      ]
     },
     "metadata": {
      "needs_background": "light"
     },
     "output_type": "display_data"
    }
   ],
   "source": [
    "error = []\n",
    "def callback_1(xk):\n",
    "    error.append(xk)\n",
    "\n",
    "result, info = sp.sparse.linalg.gmres(A1, b1, maxiter=10, callback=callback_1, atol=2.2e-16, callback_type='pr_norm')\n",
    "\n",
    "print(info)\n",
    "lght = len(error)\n",
    "x = [i + 1 for i in range(lght)]\n",
    "plt.scatter(x, error)\n",
    "plt.yscale('log')\n",
    "plt.grid()\n",
    "plt.title(\"Metoda GRMES\")\n",
    "plt.xlabel(\"Liczba iteracji\")\n",
    "plt.ylabel(\"Norma residuum\")\n",
    "plt.show()"
   ]
  },
  {
   "cell_type": "markdown",
   "metadata": {},
   "source": [
    "Analizy czasowe"
   ]
  },
  {
   "cell_type": "code",
   "execution_count": 36,
   "metadata": {},
   "outputs": [
    {
     "name": "stdout",
     "output_type": "stream",
     "text": [
      "1.43 ms ± 165 µs per loop (mean ± std. dev. of 5 runs, 10 loops each)\n",
      "1.15 ms ± 353 µs per loop (mean ± std. dev. of 5 runs, 10 loops each)\n",
      "841 µs ± 183 µs per loop (mean ± std. dev. of 5 runs, 10 loops each)\n",
      "752 µs ± 53 µs per loop (mean ± std. dev. of 5 runs, 10 loops each)\n",
      "713 µs ± 29.8 µs per loop (mean ± std. dev. of 5 runs, 10 loops each)\n",
      "848 µs ± 89 µs per loop (mean ± std. dev. of 5 runs, 10 loops each)\n",
      "914 µs ± 125 µs per loop (mean ± std. dev. of 5 runs, 10 loops each)\n",
      "842 µs ± 97.7 µs per loop (mean ± std. dev. of 5 runs, 10 loops each)\n"
     ]
    },
    {
     "data": {
      "image/png": "[encoded data removed]",
      "text/plain": [
       "<Figure size 432x288 with 1 Axes>"
      ]
     },
     "metadata": {
      "needs_background": "light"
     },
     "output_type": "display_data"
    }
   ],
   "source": [
    "time = []\n",
    "err = []\n",
    "size = [1,5,10,20,50,100,200,500]\n",
    "for i in size:\n",
    "    avg_time = %timeit -r 5 -n 10 -o sp.sparse.linalg.gmres(A2, b2, maxiter=i, atol=2.2e-16)\n",
    "    time.append(avg_time.average)\n",
    "    err.append(avg_time.stdev)\n",
    "\n",
    "x = [i for i in size]\n",
    "plt.errorbar(x, time, yerr=err, linestyle=\"None\", marker=\"o\")\n",
    "plt.grid()\n",
    "plt.title(\"Metoda GRMES - czas wykonywania\")\n",
    "plt.xlabel(\"Liczba iteracji\")\n",
    "plt.ylabel(\"Czas wykonywania [s]\")\n",
    "\n",
    "plt.show()"
   ]
  },
  {
   "cell_type": "markdown",
   "metadata": {},
   "source": [
    "Macierz z punktu a) spełniała warunki tylko dla metody iteracyjnej - algorytmu GMRES. Dla liczby itreacji [0,9] błąd utrzymywał się na poziomie rzędu 0 i -1. Dopiero przy 10 iteracji sięgnął rzędu 10^-15"
   ]
  },
  {
   "cell_type": "markdown",
   "metadata": {},
   "source": [
    "***Zadanie 6***     \n",
    "Rozwiąż układ równań z Zadania 3 podpunkt b) przy pomocy:\n",
    "\n",
    "- funkcji *[solve](https://docs.scipy.org/doc/numpy-1.15.1/reference/generated/numpy.linalg.solve.html?highlight=solve#numpy.linalg.solve)* z biblioteki numpy\n",
    "\n",
    "- zaimplementowanej iteracyjnej metody *solve_jacobi*\n",
    "\n",
    "- iteracyjnej metody *[gradientów sprzężonych](https://docs.scipy.org/doc/scipy/reference/generated/scipy.sparse.linalg.cg.html)*\n",
    " z biblioteki scipy\n",
    "\n",
    "- iteracyjnej metody *[GMRES](https://docs.scipy.org/doc/scipy/reference/generated/scipy.sparse.linalg.gmres.html)*\n",
    " z biblioteki scipy\n",
    "\n",
    "Przed każdą metodą sprawdź czy warunki dotyczące macierzy dla danej metody są spełnione. Zbadaj dokładność i czas obliczeń metod w zależności od liczby iteracji. Wyniki przedstaw na wykresach."
   ]
  },
  {
   "cell_type": "code",
   "execution_count": 32,
   "metadata": {},
   "outputs": [
    {
     "name": "stdout",
     "output_type": "stream",
     "text": [
      "1.4228624520802642e-15\n"
     ]
    }
   ],
   "source": [
    "if A2.shape[0] == A2.shape[1]:\n",
    "    x1 = np.linalg.solve(A2, b2)\n",
    "    error = np.linalg.norm(b2 - A2 @ x1)\n",
    "    print(error)\n",
    "else:\n",
    "    print('warunki dotyczące macierzy dla danej metody nie są spełnione')"
   ]
  },
  {
   "cell_type": "code",
   "execution_count": 33,
   "metadata": {},
   "outputs": [
    {
     "data": {
      "image/png": "[encoded data removed]",
      "text/plain": [
       "<Figure size 432x288 with 1 Axes>"
      ]
     },
     "metadata": {
      "needs_background": "light"
     },
     "output_type": "display_data"
    }
   ],
   "source": [
    "if main.is_diag_dominant(A2):\n",
    "    x_init = np.zeros((m, 1))\n",
    "    tab_iter = [1,5,10,20,50,100,200,500]\n",
    "    tab_error = []\n",
    "    for i in range(len(tab_iter)):\n",
    "        x, maxiter =  main.solve_jacobi(A2, b2, x_init, maxiter=tab_iter[i], epsilon=2.2e-16)\n",
    "        tab_error.append(np.linalg.norm(b2 - A2 @ x))\n",
    "    \n",
    "    plt.scatter(tab_iter, tab_error)\n",
    "    plt.yscale('log')\n",
    "    plt.xlabel(\"ilość iteracji\")\n",
    "    plt.ylabel(\"wartość normy residdum\")\n",
    "    \n",
    "    plt.show()\n",
    "else:\n",
    "     print('warunki dotyczące macierzy dla danej metody nie są spełnione')"
   ]
  },
  {
   "cell_type": "code",
   "execution_count": 34,
   "metadata": {},
   "outputs": [
    {
     "name": "stdout",
     "output_type": "stream",
     "text": [
      "warunki dotyczące macierzy dla danej metody nie są spełnione\n"
     ]
    }
   ],
   "source": [
    "if main.is_symmetric(A2) and np.all(np.linalg.eigvals(A2) > 0):\n",
    "    x_init = np.zeros((m, 1))\n",
    "    tab_iter = [1,5,10,20,50,100,200,500]\n",
    "    tab_error = []\n",
    "    for i in range(len(tab_iter)):\n",
    "        x, maxiter =  sp.sparse.linalg.cg(A2, b2, x_init,maxiter=tab_iter[i])\n",
    "        tab_error.append(np.linalg.norm(b2 - A2 @ x))\n",
    "    plt.scatter(tab_iter, tab_error)\n",
    "    plt.yscale('log')\n",
    "    plt.xlabel(\"ilość iteracji\")\n",
    "    plt.ylabel(\"wartość normy residdum\")\n",
    "    \n",
    "    plt.show()\n",
    "else:\n",
    "    print('warunki dotyczące macierzy dla danej metody nie są spełnione')"
   ]
  },
  {
   "cell_type": "code",
   "execution_count": 14,
   "metadata": {},
   "outputs": [
    {
     "name": "stdout",
     "output_type": "stream",
     "text": [
      "0\n"
     ]
    },
    {
     "data": {
      "image/png": "[encoded data removed]",
      "text/plain": [
       "<Figure size 432x288 with 1 Axes>"
      ]
     },
     "metadata": {
      "needs_background": "light"
     },
     "output_type": "display_data"
    }
   ],
   "source": [
    "error = []\n",
    "def callback_1(xk):\n",
    "    error.append(xk)\n",
    "\n",
    "result, info = sp.sparse.linalg.gmres(A2, b2, maxiter=10, callback=callback_1, atol=2.2e-16, callback_type='pr_norm')\n",
    "\n",
    "print(info)\n",
    "lght = len(error)\n",
    "x = [i + 1 for i in range(lght)]\n",
    "plt.scatter(x, error)\n",
    "plt.yscale('log')\n",
    "plt.grid()\n",
    "plt.title(\"Metoda GRMES\")\n",
    "plt.xlabel(\"Liczba iteracji\")\n",
    "plt.ylabel(\"Norma residuum\")\n",
    "plt.show()"
   ]
  },
  {
   "cell_type": "markdown",
   "metadata": {},
   "source": [
    "Analizy czasowe"
   ]
  },
  {
   "cell_type": "code",
   "execution_count": 15,
   "metadata": {},
   "outputs": [
    {
     "name": "stdout",
     "output_type": "stream",
     "text": [
      "213 µs ± 49.5 µs per loop (mean ± std. dev. of 5 runs, 10 loops each)\n",
      "586 µs ± 72.2 µs per loop (mean ± std. dev. of 5 runs, 10 loops each)\n",
      "1.28 ms ± 111 µs per loop (mean ± std. dev. of 5 runs, 10 loops each)\n",
      "2.28 ms ± 153 µs per loop (mean ± std. dev. of 5 runs, 10 loops each)\n",
      "3.96 ms ± 110 µs per loop (mean ± std. dev. of 5 runs, 10 loops each)\n",
      "5.74 ms ± 1.41 ms per loop (mean ± std. dev. of 5 runs, 10 loops each)\n",
      "5.28 ms ± 970 µs per loop (mean ± std. dev. of 5 runs, 10 loops each)\n",
      "3.41 ms ± 610 µs per loop (mean ± std. dev. of 5 runs, 10 loops each)\n"
     ]
    },
    {
     "data": {
      "image/png": "[encoded data removed]",
      "text/plain": [
       "<Figure size 432x288 with 1 Axes>"
      ]
     },
     "metadata": {
      "needs_background": "light"
     },
     "output_type": "display_data"
    }
   ],
   "source": [
    "time = []\n",
    "err = []\n",
    "size = [1,5,10,20,50,100,200,500]\n",
    "x_init = np.zeros((m, 1))\n",
    "for i in size:\n",
    "    avg_time = %timeit -r 5 -n 10 -o main.solve_jacobi(A2, b2,x_init, maxiter=i, epsilon=2.2e-16)\n",
    "    time.append(avg_time.average)\n",
    "    err.append(avg_time.stdev)\n",
    "\n",
    "plt.errorbar(size, time, yerr=err, linestyle=\"None\", marker=\"o\")\n",
    "plt.grid()\n",
    "plt.title(\"Metoda  Jacobiego - czas wykonywania\")\n",
    "plt.xlabel(\"Liczba iteracji\")\n",
    "plt.ylabel(\"Czas wykonywania [s]\")\n",
    "\n",
    "plt.show()"
   ]
  },
  {
   "cell_type": "code",
   "execution_count": 16,
   "metadata": {},
   "outputs": [
    {
     "name": "stdout",
     "output_type": "stream",
     "text": [
      "922 µs ± 193 µs per loop (mean ± std. dev. of 5 runs, 10 loops each)\n",
      "753 µs ± 52.9 µs per loop (mean ± std. dev. of 5 runs, 10 loops each)\n",
      "762 µs ± 55 µs per loop (mean ± std. dev. of 5 runs, 10 loops each)\n",
      "928 µs ± 152 µs per loop (mean ± std. dev. of 5 runs, 10 loops each)\n",
      "1.35 ms ± 195 µs per loop (mean ± std. dev. of 5 runs, 10 loops each)\n",
      "1.24 ms ± 158 µs per loop (mean ± std. dev. of 5 runs, 10 loops each)\n",
      "918 µs ± 135 µs per loop (mean ± std. dev. of 5 runs, 10 loops each)\n",
      "955 µs ± 122 µs per loop (mean ± std. dev. of 5 runs, 10 loops each)\n"
     ]
    },
    {
     "data": {
      "image/png": "[encoded data removed]",
      "text/plain": [
       "<Figure size 432x288 with 1 Axes>"
      ]
     },
     "metadata": {
      "needs_background": "light"
     },
     "output_type": "display_data"
    }
   ],
   "source": [
    "time = []\n",
    "err = []\n",
    "size = [1,5,10,20,50,100,200,500]\n",
    "for i in size:\n",
    "    avg_time = %timeit -r 5 -n 10 -o sp.sparse.linalg.gmres(A2, b2, maxiter=i, atol=2.2e-16)\n",
    "    time.append(avg_time.average)\n",
    "    err.append(avg_time.stdev)\n",
    "\n",
    "x = [i for i in size]\n",
    "plt.errorbar(x, time, yerr=err, linestyle=\"None\", marker=\"o\")\n",
    "plt.grid()\n",
    "plt.title(\"Metoda GRMES - czas wykonywania\")\n",
    "plt.xlabel(\"Liczba iteracji\")\n",
    "plt.ylabel(\"Czas wykonywania [s]\")\n",
    "\n",
    "plt.show()"
   ]
  },
  {
   "cell_type": "markdown",
   "metadata": {},
   "source": [
    "***Zadanie 7***   \n",
    "Rozwiąż układ równań z Zadania 3 podpunkt c) przy pomocy:\n",
    "\n",
    "- funkcji *[solve](https://docs.scipy.org/doc/numpy-1.15.1/reference/generated/numpy.linalg.solve.html?highlight=solve#numpy.linalg.solve)* z biblioteki numpy\n",
    "\n",
    "- zaimplementowanej iteracyjnej metody *solve_jacobi*\n",
    "\n",
    "- iteracyjnej metody *[gradientów sprzężonych](https://docs.scipy.org/doc/scipy/reference/generated/scipy.sparse.linalg.cg.html)*\n",
    " z biblioteki scipy\n",
    "\n",
    "- iteracyjnej metody *[GMRES](https://docs.scipy.org/doc/scipy/reference/generated/scipy.sparse.linalg.gmres.html)*\n",
    " z biblioteki scipy\n",
    "\n",
    "Przed każdą metodą sprawdź czy warunki dotyczące macierzy dla danej metody są spełnione. Zbadaj dokładność i czas obliczeń metod w zależności od liczby iteracji. Wyniki przedstaw na wykresach."
   ]
  },
  {
   "cell_type": "code",
   "execution_count": 17,
   "metadata": {},
   "outputs": [
    {
     "name": "stdout",
     "output_type": "stream",
     "text": [
      "8.926082647349967e-15\n"
     ]
    }
   ],
   "source": [
    "if A3.shape[0] == A3.shape[1]:\n",
    "    x1 = np.linalg.solve(A3, b3)\n",
    "    error = np.linalg.norm(b3 - A3 @ x1)\n",
    "    print(error)\n",
    "else:\n",
    "    print('warunki dotyczące macierzy dla danej metody nie są spełnione')"
   ]
  },
  {
   "cell_type": "code",
   "execution_count": 18,
   "metadata": {},
   "outputs": [
    {
     "name": "stdout",
     "output_type": "stream",
     "text": [
      "warunki dotyczące macierzy dla danej metody nie są spełnione\n"
     ]
    }
   ],
   "source": [
    "if main.is_diag_dominant(A3):\n",
    "    x_init = np.zeros((m, 1))\n",
    "    tab_iter = [1,5,10,20,50,100,200,500]\n",
    "    tab_error = []\n",
    "    for i in range(len(tab_iter)):\n",
    "        x, maxiter =  main.solve_jacobi(A3, b3, x_init, maxiter=tab_iter[i], epsilon=2.2e-16)\n",
    "        tab_error.append(np.linalg.norm(b3 - A3 @ x))\n",
    "    \n",
    "    plt.scatter(tab_iter, tab_error)\n",
    "    plt.yscale('log')\n",
    "    plt.xlabel(\"ilość iteracji\")\n",
    "    plt.ylabel(\"wartość normy residdum\")\n",
    "    \n",
    "    plt.show()\n",
    "else:\n",
    "     print('warunki dotyczące macierzy dla danej metody nie są spełnione')"
   ]
  },
  {
   "cell_type": "code",
   "execution_count": 19,
   "metadata": {},
   "outputs": [
    {
     "name": "stdout",
     "output_type": "stream",
     "text": [
      "warunki dotyczące macierzy dla danej metody nie są spełnione\n"
     ]
    }
   ],
   "source": [
    "if main.is_symmetric(A3) and np.all(np.linalg.eigvals(A3) > 0):\n",
    "    x_init = np.zeros((m, 1))\n",
    "    tab_iter = [1,5,10,20,50,100,200,500]\n",
    "    tab_error = []\n",
    "    for i in range(len(tab_iter)):\n",
    "        x, maxiter =  sp.sparse.linalg.cg(A3, b3, x_init,maxiter=tab_iter[i])\n",
    "        tab_error.append(np.linalg.norm(b3 - A3 @ x))\n",
    "    plt.scatter(tab_iter, tab_error)\n",
    "    plt.yscale('log')\n",
    "    plt.xlabel(\"ilość iteracji\")\n",
    "    plt.ylabel(\"wartość normy residdum\")\n",
    "    \n",
    "    plt.show()\n",
    "else:\n",
    "    print('warunki dotyczące macierzy dla danej metody nie są spełnione')"
   ]
  },
  {
   "cell_type": "code",
   "execution_count": 20,
   "metadata": {},
   "outputs": [
    {
     "name": "stdout",
     "output_type": "stream",
     "text": [
      "0\n"
     ]
    },
    {
     "data": {
      "image/png": "[encoded data removed]",
      "text/plain": [
       "<Figure size 432x288 with 1 Axes>"
      ]
     },
     "metadata": {
      "needs_background": "light"
     },
     "output_type": "display_data"
    }
   ],
   "source": [
    "error = []\n",
    "def callback_1(xk):\n",
    "    error.append(xk)\n",
    "\n",
    "result, info = sp.sparse.linalg.gmres(A3, b3, maxiter=10, callback=callback_1, atol=2.2e-16, callback_type='pr_norm')\n",
    "\n",
    "print(info)\n",
    "lght = len(error)\n",
    "x = [i + 1 for i in range(lght)]\n",
    "plt.scatter(x, error)\n",
    "plt.yscale('log')\n",
    "plt.grid()\n",
    "plt.title(\"Metoda GRMES\")\n",
    "plt.xlabel(\"Liczba iteracji\")\n",
    "plt.ylabel(\"Norma residuum\")\n",
    "plt.show()"
   ]
  },
  {
   "cell_type": "markdown",
   "metadata": {},
   "source": [
    "Dla liczby itreacji [0,9] błąd utrzymywał się na poziomie rzędu 0 i -1. Dopiero przy 10 iteracji sięgnął rzędu powyżej 10^-15"
   ]
  },
  {
   "cell_type": "markdown",
   "metadata": {},
   "source": [
    "Analizy czasowe"
   ]
  },
  {
   "cell_type": "code",
   "execution_count": 21,
   "metadata": {},
   "outputs": [
    {
     "name": "stdout",
     "output_type": "stream",
     "text": [
      "899 µs ± 249 µs per loop (mean ± std. dev. of 5 runs, 10 loops each)\n",
      "823 µs ± 67 µs per loop (mean ± std. dev. of 5 runs, 10 loops each)\n",
      "769 µs ± 41.4 µs per loop (mean ± std. dev. of 5 runs, 10 loops each)\n",
      "747 µs ± 47.7 µs per loop (mean ± std. dev. of 5 runs, 10 loops each)\n",
      "792 µs ± 57.3 µs per loop (mean ± std. dev. of 5 runs, 10 loops each)\n",
      "712 µs ± 32.9 µs per loop (mean ± std. dev. of 5 runs, 10 loops each)\n",
      "748 µs ± 70.5 µs per loop (mean ± std. dev. of 5 runs, 10 loops each)\n",
      "733 µs ± 45.9 µs per loop (mean ± std. dev. of 5 runs, 10 loops each)\n"
     ]
    },
    {
     "data": {
      "image/png": "[encoded data removed]",
      "text/plain": [
       "<Figure size 432x288 with 1 Axes>"
      ]
     },
     "metadata": {
      "needs_background": "light"
     },
     "output_type": "display_data"
    }
   ],
   "source": [
    "time = []\n",
    "err = []\n",
    "size = [1,5,10,20,50,100,200,500]\n",
    "for i in size:\n",
    "    avg_time = %timeit -r 5 -n 10 -o sp.sparse.linalg.gmres(A2, b2, maxiter=i, atol=2.2e-16)\n",
    "    time.append(avg_time.average)\n",
    "    err.append(avg_time.stdev)\n",
    "\n",
    "x = [i for i in size]\n",
    "plt.errorbar(x, time, yerr=err, linestyle=\"None\", marker=\"o\")\n",
    "plt.grid()\n",
    "plt.title(\"Metoda GRMES - czas wykonywania\")\n",
    "plt.xlabel(\"Liczba iteracji\")\n",
    "plt.ylabel(\"Czas wykonywania [s]\")\n",
    "\n",
    "plt.show()"
   ]
  },
  {
   "cell_type": "markdown",
   "metadata": {},
   "source": [
    "Materiały uzupełniające:\n",
    "- [Scipy Lecture Notes](http://www.scipy-lectures.org/index.html)\n",
    "- [NumPy for Matlab users](https://docs.scipy.org/doc/numpy/user/numpy-for-matlab-users.html#numpy-for-matlab-users)\n",
    "- [Python Tutorial - W3Schools](https://www.w3schools.com/python/default.asp)\n",
    "- [NumPy](https://www.numpy.org)\n",
    "- [Matplotlib](https://matplotlib.org/)\n",
    "- [Anaconda](https://www.anaconda.com/)\n",
    "- [Learn Python for Data Science](https://www.datacamp.com/learn-python-with-anaconda?utm_source=Anaconda_download&utm_campaign=datacamp_training&utm_medium=banner)\n",
    "- [Learn Python](https://www.learnpython.org/)\n",
    "- [Wujek Google](https://google.pl) i [Ciocia Wikipedia](https://pl.wikipedia.org/wiki/Wikipedia:Strona_g%C5%82%C3%B3wna)"
   ]
  }
 ],
 "metadata": {
  "kernelspec": {
   "display_name": "Python 3",
   "language": "python",
   "name": "python3"
  },
  "language_info": {
   "codemirror_mode": {
    "name": "ipython",
    "version": 3
   },
   "file_extension": ".py",
   "mimetype": "text/x-python",
   "name": "python",
   "nbconvert_exporter": "python",
   "pygments_lexer": "ipython3",
   "version": "3.8.8"
  }
 },
 "nbformat": 4,
 "nbformat_minor": 2
}
