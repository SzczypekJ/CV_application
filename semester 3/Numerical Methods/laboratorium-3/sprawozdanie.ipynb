{
 "cells": [
  {
   "cell_type": "markdown",
   "metadata": {},
   "source": [
    "# <center>Laboratorium 3<br>Metody Numeryczne</center>"
   ]
  },
  {
   "cell_type": "markdown",
   "metadata": {},
   "source": [
    "Instrukcja:  \n",
    "Na zajęciach należy wykonać poniższe zadania, dokonać testu na platformie github, a następnie sporządzić sprawozdanie zawierające odpowiedzi z komentarzami."
   ]
  },
  {
   "cell_type": "markdown",
   "metadata": {},
   "source": [
    "Biblioteki niezbędne do wykonania zadania:\n",
    "\n",
    "(instalacja: \"pip install numpy scipy matplotlib memory_profiler\")"
   ]
  },
  {
   "cell_type": "code",
   "execution_count": 17,
   "metadata": {},
   "outputs": [
    {
     "name": "stdout",
     "output_type": "stream",
     "text": [
      "Requirement already satisfied: memory_profiler in c:\\users\\szczy\\anaconda3\\lib\\site-packages (0.58.0)\n",
      "Requirement already satisfied: psutil in c:\\users\\szczy\\anaconda3\\lib\\site-packages (from memory_profiler) (5.8.0)\n",
      "The memory_profiler extension is already loaded. To reload it, use:\n",
      "  %reload_ext memory_profiler\n"
     ]
    }
   ],
   "source": [
    "import main\n",
    "\n",
    "import numpy as np\n",
    "import scipy\n",
    "import matplotlib\n",
    "import matplotlib.pyplot as plt\n",
    "import numbers\n",
    "import math\n",
    "import random\n",
    "\n",
    "!pip install memory_profiler\n",
    "%load_ext memory_profiler"
   ]
  },
  {
   "cell_type": "markdown",
   "metadata": {},
   "source": [
    "***Materiały przygotowujące:***\n",
    "- Standard IEEE 754 [PL](https://pl.wikipedia.org/wiki/IEEE_754) [EN](https://en.wikipedia.org/wiki/IEEE_754)\n",
    "- Liczba zmiennoprzecinkowa [PL](https://pl.wikipedia.org/wiki/Liczba_zmiennoprzecinkowa) [EN](https://en.wikipedia.org/wiki/Floating-point_arithmetic)\n",
    "- Arytmetyka zmiennoprzecinkowa [Python](https://docs.python.org/3.7/tutorial/floatingpoint.html)"
   ]
  },
  {
   "cell_type": "markdown",
   "metadata": {},
   "source": [
    "***Profilowanie kodu:***\n",
    "- [timeit](https://docs.python.org/2/library/timeit.html) - profilowanie czasu wykonywania kodu \n",
    "- [memit](https://pypi.org/project/memory-profiler/) - profilowanie pamięci zużywanej przez kod\n",
    "\n",
    "Zarówno timeit jak i memit wspierają magic command w Jupyter notebook, co obrazuje poniższy przykład:"
   ]
  },
  {
   "cell_type": "code",
   "execution_count": 2,
   "metadata": {},
   "outputs": [
    {
     "name": "stdout",
     "output_type": "stream",
     "text": [
      "SIZE:  100\n",
      "Timing: \n",
      "346 µs ± 73.1 µs per loop (mean ± std. dev. of 5 runs, 10 loops each)\n",
      "Memory usage: \n",
      "peak memory: 78.95 MiB, increment: 0.40 MiB\n",
      "\n",
      "\n",
      "SIZE:  1000\n",
      "Timing: \n",
      "28.6 ms ± 1.34 ms per loop (mean ± std. dev. of 5 runs, 10 loops each)\n",
      "Memory usage: \n",
      "peak memory: 93.92 MiB, increment: 14.88 MiB\n",
      "\n",
      "\n",
      "SIZE:  10000\n",
      "Timing: \n",
      "2.92 s ± 51.2 ms per loop (mean ± std. dev. of 5 runs, 10 loops each)\n",
      "Memory usage: \n",
      "peak memory: 2279.29 MiB, increment: 2200.30 MiB\n",
      "\n",
      "\n"
     ]
    }
   ],
   "source": [
    "def func(size):\n",
    "    a = np.random.random((size,size))\n",
    "    b = np.random.random((size,size))\n",
    "    c = a + b\n",
    "    return c\n",
    "\n",
    "for size in [100, 1000, 10000]:\n",
    "    print('SIZE: ', size)\n",
    "    print('Timing: ')\n",
    "    saved_timing = %timeit -r 5 -n 10 -o func(size)\n",
    "    saved_timing.average   # średni czas próby\n",
    "    saved_timing.stdev     # odchylenie standardowe\n",
    "    print('Memory usage: ')\n",
    "    %memit func(size)\n",
    "    print('\\n')"
   ]
  },
  {
   "cell_type": "markdown",
   "metadata": {},
   "source": [
    "***Zadanie 1.***  \n",
    "Zaimplementuj funkcje obliczające błąd względny i bezwzględny (*relative_error* i *absolut_error*).\n",
    "Funkcje przyjmują 2 argumenty: wartość dokładną oraz wartość przybliżoną, zwracając wartość błędu.\n",
    "Implementacja powinna obsługiwać zarówno wartości skalarne, listy oraz wektory i macierze typu np.array z zachowaniem zasad [broadcastingu](https://numpy.org/doc/stable/user/basics.broadcasting.html).\n",
    "\n",
    "**Wskazówka** Wykorzystuj funkcje *relative_error* i *absolut_error* w dalszej części laboratorium do analizy błędów."
   ]
  },
  {
   "cell_type": "code",
   "execution_count": null,
   "metadata": {},
   "outputs": [],
   "source": []
  },
  {
   "cell_type": "markdown",
   "metadata": {},
   "source": []
  },
  {
   "cell_type": "markdown",
   "metadata": {},
   "source": [
    "***Zadanie 2.***  \n",
    "Zaimplementuj funkcje *p_diff*, która przyjmuje jako parametry wartości całkowite $n$ i rzeczywiste $c$ oraz zwraca różnicę (co do wartości bezwzględnej)   dwóch wyrażeń $P_1$ oraz $P_2$:  \n",
    "  \n",
    "a) $P_1 = b - b + c $  \n",
    "b) $P_2 = b + c - b $  \n",
    "  \n",
    "gdzie $b = 2^n$\n",
    "\n",
    "Analizując różnicę w otrzymanych wynikach zastosuj warotści:  \n",
    "- $n \\in \\{1,2,3... 50\\}$\n",
    "- $c \\in \\{0.1, 0.125, 0.25, 0.33, 0.5, 0.6\\}$\n",
    " \n",
    "Następnie odpowiedź i zilustruj wykresami pytania:\n",
    "\n",
    "1. Jaki wynik powinniśmy otrzymać?\n",
    "2. Które z liczb mają skończoną a które nieskończoną reprezentację?    \n",
    "3. Dlaczego wyniki się od siebie różnią?    \n",
    "4. Jaki typ błędu tutaj występuje?\n",
    "5. Czy istnieje możliwość poprawy działania tych wyrażeń, jeżeli tak to w jaki sposób?  \n"
   ]
  },
  {
   "cell_type": "code",
   "execution_count": 3,
   "metadata": {},
   "outputs": [
    {
     "name": "stdout",
     "output_type": "stream",
     "text": [
      "Dla n = 2, c = 0.1 wynik wynosi 3.608224830031759e-16\n",
      "Dla n = 34, c = 0.125 wynik wynosi 0.0\n",
      "Dla n = 42, c = 0.25 wynik wynosi 0.0\n",
      "Dla n = 19, c = 0.33 wynik wynosi 4.190953140081888e-11\n",
      "Dla n = 43, c = 0.5 wynik wynosi 0.0\n",
      "Dla n = 41, c = 0.6 wynik wynosi 9.76562500000222e-05\n"
     ]
    }
   ],
   "source": [
    "c = [0.1, 0.125, 0.25, 0.33, 0.5, 0.6]\n",
    "for x in range(len(c)):\n",
    "    n = random.randint(1,50)\n",
    "    print(f\"Dla n = {n}, c = {c[x]} wynik wynosi {main.p_diff(n, c[x])}\")\n",
    "    \n",
    "\n",
    "    \n",
    "# Zad1. We wszystkich przypadkach wynik powinien wynieść 0, a ja otrzymałem 3 wyniki niezerowe, ale bardzo małe.\n",
    "# Zad2. Nieskończoną reprezentację posiadają liczby niebędące ujemną potęgą dwójki, u nas w zadaniu odpowiednio: 0.1 , 0.33 , 0.6.\n",
    "# Zad3. Wyniki różnią się od siebie, ponieważ ilość bitów do zapisania danej liczby jest ograniczona.\n",
    "# Zad4. W tym zadaniu występuję błąd reprezentacji.\n",
    "# Zad5. Błędy te można zniwelować bądź zmniejszyć poprzez umiejętne stosowanie sposobu i kolejności wykonywanych działań."
   ]
  },
  {
   "cell_type": "markdown",
   "metadata": {},
   "source": [
    "***Zadanie 3.***  \n",
    "Wartości funkcji $\\mathrm{e}^{x}$ można obliczyć w przybliżeniu z szeregu Taylora w następujący sposób:  \n",
    "  \n",
    "$\\mathrm{e}^{x} \\approx \\sum\\limits_{i=0}^{N}{\\cfrac{1}{i!}x^{i}}$ \n",
    "  \n",
    "na podstawie przedstawionych informacji zaimplementuj funkcje *exponential* która oblicza $\\mathrm{e}^{x}$ z zadaną dokładnością $N$. Porównaj działanie utworzonej funkcji z [numpy.exp](https://docs.scipy.org/doc/numpy-1.15.1/reference/generated/numpy.exp.html). Odpowiedz na pytania:  \n",
    "\n",
    "1. Jaki typ błędu obrazuje omawiany przykład?\n",
    "2. Dokonaj analizy błędów bezwzględnych i względnych w zależności od wartości $n$."
   ]
  },
  {
   "cell_type": "code",
   "execution_count": 4,
   "metadata": {},
   "outputs": [
    {
     "name": "stdout",
     "output_type": "stream",
     "text": [
      "Różnica między wynikami dla n = 13 wynosi: błąd względny: 0.02774898986438711, a błąd bezwględny: 29.608846808205044\n",
      "Różnica między wynikami dla n = 14 wynosi: błąd względny: 0.01297765463461131, a błąd bezwględny: 14.049398153882294\n",
      "Różnica między wynikami dla n = 15 wynosi: błąd względny: 0.0057500768461729605, a błąd bezwględny: 6.269673826720918\n",
      "Różnica między wynikami dla n = 16 wynosi: błąd względny: 0.0024123859480109215, a błąd bezwględny: 2.6391358073790343\n",
      "Różnica między wynikami dla n = 17 wynosi: błąd względny: 0.0009591021544498921, a błąd bezwględny: 1.0507754239170026\n",
      "Różnica między wynikami dla n = 18 wynosi: błąd względny: 0.00036191525186448194, a błąd bezwględny: 0.3967446777855912\n"
     ]
    }
   ],
   "source": [
    "x = 7\n",
    "n = 13\n",
    "while n < 19:\n",
    "    #print(f'Dla n = {n} e_power_x = {main.exponential(5,n):.10f}, a e_x_np = {np.exp(x)}')\n",
    "    print(f'Różnica między wynikami dla n = {n} wynosi: błąd względny: {main.relative_error(main.exponential(x, n), np.exp(x))}, a błąd bezwględny: {main.absolut_error(main.exponential(x, n), np.exp(x))}')\n",
    "    n += 1\n",
    "\n",
    "\n",
    "# Zad1. Typ błędu występującego w tym przykładzie to błąd obięcia.\n",
    "# Zad2. Wraz ze wzrostem wartości N maleją wartości błedu względnego i bezwględnego"
   ]
  },
  {
   "cell_type": "markdown",
   "metadata": {},
   "source": [
    "***Zadania 4.***  \n",
    "Zaimplementuj 2 funkcje $coskx1$ i $coskx2$, realizujące rekurencyjnie przybliżanie wartości $cos(kx)$ w następujący sposób:\n",
    "\n",
    "- Metoda 1:         \n",
    "$cos(m+1)x = 2cosx \\cdot cos(mx) - cos(m-1)x$\n",
    "- Metoda 2:     \n",
    "$cos(mx) = cosx \\cdot cos(m-1)x - sinx \\cdot sin(m-1)x$       \n",
    "$sin(mx) = sinx \\cdot cos(m-1)x + cosx \\cdot sin(m-1)x$\n",
    "\n",
    "Następnie przeanalizuj otrzymane rezultaty dla różnych $k$.\n",
    "\n",
    "**Wskazówka** Do wyliczenia wartości $sin(x)$, $cos(x)$ (dla $k=1$) można użyć funkcji biblioteki numpy. \n",
    "Pozostałe wartości dla $k>1$ należy wyznaczyć rekurencyjnie."
   ]
  },
  {
   "cell_type": "code",
   "execution_count": 5,
   "metadata": {},
   "outputs": [
    {
     "name": "stdout",
     "output_type": "stream",
     "text": [
      " W metodzie 1. dla k = 1 cos( 1*1.0471975511965976) = 0.5000000000000001\n",
      " W metodzie 1. dla k = 2 cos( 2*1.0471975511965976) = -0.4999999999999998\n",
      " W metodzie 1. dla k = 3 cos( 3*1.0471975511965976) = -1.0\n",
      " W metodzie 1. dla k = 4 cos( 4*1.0471975511965976) = -0.5000000000000004\n",
      " W metodzie 1. dla k = 5 cos( 5*1.0471975511965976) = 0.49999999999999944\n",
      " W metodzie 1. dla k = 6 cos( 6*1.0471975511965976) = 1.0\n",
      " W metodzie 1. dla k = 7 cos( 7*1.0471975511965976) = 0.5000000000000008\n",
      " W metodzie 1. dla k = 8 cos( 8*1.0471975511965976) = -0.4999999999999991\n",
      " W metodzie 1. dla k = 9 cos( 9*1.0471975511965976) = -1.0\n",
      " W metodzie 1. dla k = 10 cos( 10*1.0471975511965976) = -0.5000000000000011\n",
      " W metodzie 1. dla k = 11 cos( 11*1.0471975511965976) = 0.4999999999999988\n",
      " W metodzie 1. dla k = 12 cos( 12*1.0471975511965976) = 1.0\n",
      " W metodzie 2. dla k = 1 cos( 1*1.0471975511965976 i sin(1*1.0471975511965976) wynoszą : = (0.5000000000000001, 0.8660254037844386)\n",
      " W metodzie 2. dla k = 2 cos( 2*1.0471975511965976 i sin(2*1.0471975511965976) wynoszą : = (-0.4999999999999998, 0.8660254037844388)\n",
      " W metodzie 2. dla k = 3 cos( 3*1.0471975511965976 i sin(3*1.0471975511965976) wynoszą : = (-1.0, 3.885780586188048e-16)\n",
      " W metodzie 2. dla k = 4 cos( 4*1.0471975511965976 i sin(4*1.0471975511965976) wynoszą : = (-0.5000000000000004, -0.8660254037844384)\n",
      " W metodzie 2. dla k = 5 cos( 5*1.0471975511965976 i sin(5*1.0471975511965976) wynoszą : = (0.4999999999999994, -0.866025403784439)\n",
      " W metodzie 2. dla k = 6 cos( 6*1.0471975511965976 i sin(6*1.0471975511965976) wynoszą : = (1.0, -8.881784197001252e-16)\n",
      " W metodzie 2. dla k = 7 cos( 7*1.0471975511965976 i sin(7*1.0471975511965976) wynoszą : = (0.5000000000000009, 0.8660254037844382)\n",
      " W metodzie 2. dla k = 8 cos( 8*1.0471975511965976 i sin(8*1.0471975511965976) wynoszą : = (-0.49999999999999906, 0.8660254037844393)\n",
      " W metodzie 2. dla k = 9 cos( 9*1.0471975511965976 i sin(9*1.0471975511965976) wynoszą : = (-1.0, 1.27675647831893e-15)\n",
      " W metodzie 2. dla k = 10 cos( 10*1.0471975511965976 i sin(10*1.0471975511965976) wynoszą : = (-0.5000000000000012, -0.8660254037844379)\n",
      " W metodzie 2. dla k = 11 cos( 11*1.0471975511965976 i sin(11*1.0471975511965976) wynoszą : = (0.49999999999999867, -0.8660254037844395)\n",
      " W metodzie 2. dla k = 12 cos( 12*1.0471975511965976 i sin(12*1.0471975511965976) wynoszą : = (1.0, -1.7208456881689926e-15)\n"
     ]
    }
   ],
   "source": [
    "k = [1, 2, 3, 4, 5, 6, 7, 8, 9, 10, 11, 12]\n",
    "x = np.pi / 3\n",
    "for el in k:\n",
    "        print(f\" W metodzie 1. dla k = {el} cos( {el}*{x}) = {main.coskx1(el, x)}\")\n",
    "for el in k:\n",
    "        print(f\" W metodzie 2. dla k = {el} cos( {el}*{x} i sin({el}*{x}) wynoszą : = {main.coskx2(el, x)}\")\n",
    "        \n",
    "        \n",
    "# Wraz ze wzrostem wartości k i zarazem wykonania większej ilości obliczeń wyniki różnią się w obu metodach. Jest to spowodowane błędem przybliżenia\n",
    "    "
   ]
  },
  {
   "cell_type": "markdown",
   "metadata": {},
   "source": [
    "***Zadanie 5.***  \n",
    "Wiedząc, że\n",
    "$\\begin{aligned}\n",
    "\\sum_{n=1}^{\\infty} \\cfrac{1}{n^2} = \\cfrac{1}{6} \\pi^2\n",
    "\\end{aligned}$,\n",
    "napisz kod w Pythonie (funkcja *pi*) obliczający przybliżenie liczby pi (nie korzystaj ze stałych <i>numpy.pi</i>, <i>math.pi</i> itp.). \n",
    "\n",
    "1. Z jakimi rodzajami błędów numerycznych mamy tu do czynienia? \n",
    "2. Sporządź wykresy błędów bezwzględnych i względnych w stosunku do stałej numpy.pi w zależności od wartości $n$.  \n",
    "\n",
    "**Wskazówka** Do wizualizacji wyników użyj skali logarytmicznej."
   ]
  },
  {
   "cell_type": "code",
   "execution_count": 7,
   "metadata": {},
   "outputs": [
    {
     "data": {
      "image/png": "[encoded data removed]",
      "text/plain": [
       "<Figure size 432x288 with 1 Axes>"
      ]
     },
     "metadata": {
      "needs_background": "light"
     },
     "output_type": "display_data"
    }
   ],
   "source": [
    "absolut_error = np.zeros(50)\n",
    "relative_error = np.zeros(50)\n",
    "\n",
    "for i in range(50):\n",
    "    absolut_error[i] = main.absolut_error(np.pi, main.pi(i + 1))\n",
    "    relative_error[i] = main.relative_error(np.pi, main.pi(i + 1))\n",
    "\n",
    "plt.semilogy(absolut_error)\n",
    "plt.semilogy(relative_error)\n",
    "plt.legend([\"Błąd bezwględny\", \"Błąd względny\"])\n",
    "plt.show()\n",
    "\n",
    "#Zad1 W tym zadaniu występują błędy obięcia oraz błęy przybliżenia "
   ]
  },
  {
   "cell_type": "markdown",
   "metadata": {},
   "source": [
    "***Zadanie 6.***  \n",
    "Używając funkcji timeit oraz memit zbadaj czas działania oraz zużycie pamięci funkcji z Zadania 4 w zalożności od różnych wartości $n$.     \n",
    "Sporządź wykresy:\n",
    "- czasu obliczenia danego przybliżenia liczby pi w zależności od $n$. \n",
    "W tym celu wykorzystaj funkcje [errorbar](https://matplotlib.org/3.1.1/api/_as_gen/matplotlib.pyplot.errorbar.html) oraz zwracane przez *timeit* wartości średnie oraz ich odchylenie standardowe. \n",
    "- błędu bezwzględnego przybliżenia liczby pi od czasu jego wykonania.\n",
    "\n",
    "\n",
    "\n",
    "**Wskazówka** Użyj opcji -o (output) dla *timeit* aby zapisać wynik do zmiennej. Opcje -r (runs) i -n (ilość pentli) decydują o ilości wykonanych prób.     \n",
    "Do wizualizacji wyników użyj skali logarytmicznej."
   ]
  },
  {
   "cell_type": "code",
   "execution_count": 19,
   "metadata": {},
   "outputs": [
    {
     "name": "stdout",
     "output_type": "stream",
     "text": [
      "1.56 µs ± 419 ns per loop (mean ± std. dev. of 5 runs, 10 loops each)\n",
      "7.74 µs ± 1.4 µs per loop (mean ± std. dev. of 5 runs, 10 loops each)\n",
      "6.95 µs ± 1.36 µs per loop (mean ± std. dev. of 5 runs, 10 loops each)\n",
      "9.52 µs ± 1.24 µs per loop (mean ± std. dev. of 5 runs, 10 loops each)\n",
      "10.3 µs ± 1.47 µs per loop (mean ± std. dev. of 5 runs, 10 loops each)\n",
      "5.34 µs ± 1.13 µs per loop (mean ± std. dev. of 5 runs, 10 loops each)\n",
      "5.69 µs ± 1.07 µs per loop (mean ± std. dev. of 5 runs, 10 loops each)\n",
      "5.94 µs ± 995 ns per loop (mean ± std. dev. of 5 runs, 10 loops each)\n",
      "6.25 µs ± 793 ns per loop (mean ± std. dev. of 5 runs, 10 loops each)\n",
      "7.68 µs ± 1.44 µs per loop (mean ± std. dev. of 5 runs, 10 loops each)\n",
      "6.84 µs ± 921 ns per loop (mean ± std. dev. of 5 runs, 10 loops each)\n",
      "9.59 µs ± 1.82 µs per loop (mean ± std. dev. of 5 runs, 10 loops each)\n",
      "9.05 µs ± 932 ns per loop (mean ± std. dev. of 5 runs, 10 loops each)\n",
      "9.24 µs ± 988 ns per loop (mean ± std. dev. of 5 runs, 10 loops each)\n",
      "9.8 µs ± 1.78 µs per loop (mean ± std. dev. of 5 runs, 10 loops each)\n",
      "9.86 µs ± 1.2 µs per loop (mean ± std. dev. of 5 runs, 10 loops each)\n",
      "9.91 µs ± 464 ns per loop (mean ± std. dev. of 5 runs, 10 loops each)\n",
      "15.2 µs ± 1.51 µs per loop (mean ± std. dev. of 5 runs, 10 loops each)\n",
      "14.9 µs ± 460 ns per loop (mean ± std. dev. of 5 runs, 10 loops each)\n",
      "9.28 µs ± 1.31 µs per loop (mean ± std. dev. of 5 runs, 10 loops each)\n"
     ]
    },
    {
     "data": {
      "image/png": "[encoded data removed]",
      "text/plain": [
       "<Figure size 432x288 with 1 Axes>"
      ]
     },
     "metadata": {
      "needs_background": "light"
     },
     "output_type": "display_data"
    },
    {
     "data": {
      "image/png": "[encoded data removed]",
      "text/plain": [
       "<Figure size 432x288 with 1 Axes>"
      ]
     },
     "metadata": {
      "needs_background": "light"
     },
     "output_type": "display_data"
    }
   ],
   "source": [
    "time = np.zeros(20)\n",
    "stdev = np.zeros(20)\n",
    "absolute_error = np.zeros(20)\n",
    "\n",
    "\n",
    "for i in range(20):\n",
    "    saved_timing = %timeit -r 5 -n 10 -o main.pi(i)\n",
    "    time[i] = saved_timing.average\n",
    "    stdev[i] = saved_timing.stdev\n",
    "    absolute_error[i] = main.absolut_error(main.pi(i), np.pi)\n",
    "    \n",
    "i = np.linspace(1, 20, 20)\n",
    "yerr = stdev\n",
    "plt.errorbar(i, time, yerr , marker = 's', mfc = 'red')\n",
    "plt.title(\"Wykres zależności czasu wykonywania od dokładności N\")\n",
    "plt.xlabel(\"N\")\n",
    "plt.ylabel(\"Czas wykonywania [µs]\")\n",
    "plt.grid()\n",
    "plt.show()\n",
    "\n",
    "plt.semilogy(time, absolute_error, \"o\")\n",
    "plt.title(\"Wykres zależności błędu absolutnego od czasu wykonywania\")\n",
    "plt.xlabel(\"Czas wykonywania [µs]\")\n",
    "plt.ylabel(\"Błąd bezwzględny\")\n",
    "plt.grid()\n",
    "plt.show()\n",
    "\n",
    "\n"
   ]
  },
  {
   "cell_type": "code",
   "execution_count": null,
   "metadata": {},
   "outputs": [],
   "source": []
  }
 ],
 "metadata": {
  "kernelspec": {
   "display_name": "Python 3",
   "language": "python",
   "name": "python3"
  },
  "language_info": {
   "codemirror_mode": {
    "name": "ipython",
    "version": 3
   },
   "file_extension": ".py",
   "mimetype": "text/x-python",
   "name": "python",
   "nbconvert_exporter": "python",
   "pygments_lexer": "ipython3",
   "version": "3.8.8"
  }
 },
 "nbformat": 4,
 "nbformat_minor": 2
}
